{
  "nbformat": 4,
  "nbformat_minor": 0,
  "metadata": {
    "colab": {
      "name": "Dominos_Work_Final.ipynb",
      "provenance": [],
      "collapsed_sections": [],
      "authorship_tag": "ABX9TyOITpD9M7npzgmXUXSPnHRl",
      "include_colab_link": true
    },
    "kernelspec": {
      "name": "python3",
      "display_name": "Python 3"
    },
    "language_info": {
      "name": "python"
    }
  },
  "cells": [
    {
      "cell_type": "markdown",
      "metadata": {
        "id": "view-in-github",
        "colab_type": "text"
      },
      "source": [
        "<a href=\"https://colab.research.google.com/github/OmkarKotwalProject/Dominos_Work/blob/main/Dominos_Work_Final.ipynb\" target=\"_parent\"><img src=\"https://colab.research.google.com/assets/colab-badge.svg\" alt=\"Open In Colab\"/></a>"
      ]
    },
    {
      "cell_type": "markdown",
      "source": [
        "# Importing Useful Libraries and Loading the dataset"
      ],
      "metadata": {
        "id": "SnTxGWK1WKro"
      }
    },
    {
      "cell_type": "code",
      "execution_count": 180,
      "metadata": {
        "id": "P7X--pvSECYl",
        "colab": {
          "base_uri": "https://localhost:8080/"
        },
        "outputId": "9475f587-159c-480d-e79e-633594ac46fc"
      },
      "outputs": [
        {
          "output_type": "stream",
          "name": "stdout",
          "text": [
            "Requirement already satisfied: pyspellchecker in /usr/local/lib/python3.7/dist-packages (0.6.3)\n",
            "Requirement already satisfied: Counter in /usr/local/lib/python3.7/dist-packages (1.0.0)\n",
            "[nltk_data] Downloading package stopwords to /root/nltk_data...\n",
            "[nltk_data]   Package stopwords is already up-to-date!\n",
            "[nltk_data] Downloading package punkt to /root/nltk_data...\n",
            "[nltk_data]   Package punkt is already up-to-date!\n",
            "[nltk_data] Downloading package wordnet to /root/nltk_data...\n",
            "[nltk_data]   Package wordnet is already up-to-date!\n"
          ]
        }
      ],
      "source": [
        "from warnings import filterwarnings\n",
        "import matplotlib.pyplot as plt\n",
        "from PIL import Image\n",
        "import pandas as pd\n",
        "import nltk\n",
        "import re\n",
        "import gensim\n",
        "from sklearn.feature_extraction.text import CountVectorizer\n",
        "from nltk.corpus import stopwords\n",
        "from sklearn.decomposition import LatentDirichletAllocation \n",
        "from sklearn.ensemble import RandomForestClassifier\n",
        "from sklearn.linear_model import LogisticRegression\n",
        "from sklearn.model_selection import cross_val_score, GridSearchCV, cross_validate\n",
        "import sklearn.metrics as sm\n",
        "from collections import Counter\n",
        "import seaborn as sns\n",
        "from sklearn.preprocessing import LabelEncoder\n",
        "from wordcloud import WordCloud\n",
        "\n",
        "!pip install pyspellchecker\n",
        "!pip install Counter\n",
        "\n",
        "nltk.download(\"stopwords\")\n",
        "nltk.download(\"punkt\")\n",
        "nltk.download(\"wordnet\")\n",
        "\n",
        "import warnings\n",
        "warnings.filterwarnings(\"ignore\")"
      ]
    },
    {
      "cell_type": "code",
      "source": [
        "pd.set_option(\"display.max_rows\",500)\n",
        "pd.set_option(\"display.max_columns\",None)\n",
        "pd.set_option(\"display.max_colwidth\",None)"
      ],
      "metadata": {
        "id": "mNjyt0w4FSZC"
      },
      "execution_count": 181,
      "outputs": []
    },
    {
      "cell_type": "markdown",
      "source": [
        "Mounting the drive for accessing the dataset"
      ],
      "metadata": {
        "id": "1p2bVGZRWbck"
      }
    },
    {
      "cell_type": "code",
      "source": [
        "from google.colab import drive\n",
        "drive.mount('/content/drive/')\n",
        "\n"
      ],
      "metadata": {
        "colab": {
          "base_uri": "https://localhost:8080/"
        },
        "id": "Mv5RXbFDLb41",
        "outputId": "7d32d598-5f0d-48fd-efab-94ca42249fad"
      },
      "execution_count": 182,
      "outputs": [
        {
          "output_type": "stream",
          "name": "stdout",
          "text": [
            "Drive already mounted at /content/drive/; to attempt to forcibly remount, call drive.mount(\"/content/drive/\", force_remount=True).\n"
          ]
        }
      ]
    },
    {
      "cell_type": "code",
      "source": [
        "cd /content/drive/MyDrive/CUSTOMER_REVIEWS/ScrapedReviews/PROJECT SCRAPED REVIEWS/Dominos Pizza 3k/"
      ],
      "metadata": {
        "colab": {
          "base_uri": "https://localhost:8080/"
        },
        "id": "kcG8TRlPQHGN",
        "outputId": "011251ba-7075-4621-a1d6-bd83af425292"
      },
      "execution_count": 183,
      "outputs": [
        {
          "output_type": "stream",
          "name": "stdout",
          "text": [
            "/content/drive/MyDrive/CUSTOMER_REVIEWS/ScrapedReviews/PROJECT SCRAPED REVIEWS/Dominos Pizza 3k\n"
          ]
        }
      ]
    },
    {
      "cell_type": "code",
      "source": [
        "df = pd.read_excel('All_Reviews_DP.xlsx')"
      ],
      "metadata": {
        "id": "PkEYP41dLyZx"
      },
      "execution_count": 184,
      "outputs": []
    },
    {
      "cell_type": "code",
      "source": [
        "#Keeping the original as it is.\n",
        "df_review=df "
      ],
      "metadata": {
        "id": "PgV4PVySFWSE"
      },
      "execution_count": 185,
      "outputs": []
    },
    {
      "cell_type": "markdown",
      "source": [
        "THIS IS A BACKUP LOAD OF ORIGINAL DATAFRAME, ONLY USE IF something goes wrong and need to load the dataset again."
      ],
      "metadata": {
        "id": "IV_MgALQFa5k"
      }
    },
    {
      "cell_type": "code",
      "source": [
        "# #FOR EMPTYING THE DATAFRAME\n",
        "# df_review.drop(columns=['Review','Sentiment'],inplace=True)"
      ],
      "metadata": {
        "id": "m8P77CFoFYQj"
      },
      "execution_count": 186,
      "outputs": []
    },
    {
      "cell_type": "code",
      "source": [
        "# #FOR RELOADING WITH ORIGINAL RAW DATA\n",
        "# df = pd.read_excel('All_Reviews_DP.xlsx')\n",
        "# df_review=df"
      ],
      "metadata": {
        "id": "WCvp-DTQFckD"
      },
      "execution_count": 187,
      "outputs": []
    },
    {
      "cell_type": "markdown",
      "source": [
        "BACKUP CODE END"
      ],
      "metadata": {
        "id": "nbq7uR6ZFd4s"
      }
    },
    {
      "cell_type": "code",
      "source": [
        "df_review['Sentiment']=df_review['Sentiment'].astype(int)"
      ],
      "metadata": {
        "id": "00Llxeo-SCqt"
      },
      "execution_count": 188,
      "outputs": []
    },
    {
      "cell_type": "code",
      "source": [
        "print(df_review.head())\n",
        "print(df_review.shape)"
      ],
      "metadata": {
        "id": "ZmiLZPP5Fglz",
        "colab": {
          "base_uri": "https://localhost:8080/"
        },
        "outputId": "f5eaee55-bd1f-4483-90ec-8b07c32a1a0c"
      },
      "execution_count": 189,
      "outputs": [
        {
          "output_type": "stream",
          "name": "stdout",
          "text": [
            "                                                                                                                                                                                                                                                              Review  \\\n",
            "0                                                                                                                                                                                                                                                       its too good   \n",
            "1                                                                                                                                                                                                                                                     waste of money   \n",
            "2                                                                                                                                                                                                                                      pizza was yum but little late   \n",
            "3                                                                                                                                                                                                                                        Delivery person was amazing   \n",
            "4  even after calling personally and even after giving special instructions received very cold pizza base is hard and it tastes stale as if it was premade thought chicken parcels were really hot and fresh with proper quantity but really disappointed with pizza   \n",
            "\n",
            "   Sentiment  \n",
            "0          1  \n",
            "1          0  \n",
            "2          1  \n",
            "3          1  \n",
            "4          0  \n",
            "(2746, 2)\n"
          ]
        }
      ]
    },
    {
      "cell_type": "markdown",
      "source": [
        "HOW MANY POSITIVE REVIEWS, HOW MANY NEGATIVE REVIEWS"
      ],
      "metadata": {
        "id": "sjeniecJFjri"
      }
    },
    {
      "cell_type": "code",
      "source": [
        "print(df_review[df_review['Sentiment']==1].count())\n",
        "print(df_review[df_review['Sentiment']==0].count())"
      ],
      "metadata": {
        "id": "bUXOMMm7Fh46",
        "colab": {
          "base_uri": "https://localhost:8080/"
        },
        "outputId": "e08d50b5-621a-436a-e8eb-5c8df0cf1b21"
      },
      "execution_count": 190,
      "outputs": [
        {
          "output_type": "stream",
          "name": "stdout",
          "text": [
            "Review       1543\n",
            "Sentiment    1543\n",
            "dtype: int64\n",
            "Review       1203\n",
            "Sentiment    1203\n",
            "dtype: int64\n"
          ]
        }
      ]
    },
    {
      "cell_type": "code",
      "source": [
        "#Checking if any null values\n",
        "df_review[df_review.isna().any(axis=1)]"
      ],
      "metadata": {
        "id": "TiCIkUUDO5bb",
        "colab": {
          "base_uri": "https://localhost:8080/",
          "height": 49
        },
        "outputId": "2f3cf920-619d-40db-d527-02ae90d58dde"
      },
      "execution_count": 191,
      "outputs": [
        {
          "output_type": "execute_result",
          "data": {
            "text/plain": [
              "Empty DataFrame\n",
              "Columns: [Review, Sentiment]\n",
              "Index: []"
            ],
            "text/html": [
              "\n",
              "  <div id=\"df-c8353599-856f-48da-89a6-83ff1feb068d\">\n",
              "    <div class=\"colab-df-container\">\n",
              "      <div>\n",
              "<style scoped>\n",
              "    .dataframe tbody tr th:only-of-type {\n",
              "        vertical-align: middle;\n",
              "    }\n",
              "\n",
              "    .dataframe tbody tr th {\n",
              "        vertical-align: top;\n",
              "    }\n",
              "\n",
              "    .dataframe thead th {\n",
              "        text-align: right;\n",
              "    }\n",
              "</style>\n",
              "<table border=\"1\" class=\"dataframe\">\n",
              "  <thead>\n",
              "    <tr style=\"text-align: right;\">\n",
              "      <th></th>\n",
              "      <th>Review</th>\n",
              "      <th>Sentiment</th>\n",
              "    </tr>\n",
              "  </thead>\n",
              "  <tbody>\n",
              "  </tbody>\n",
              "</table>\n",
              "</div>\n",
              "      <button class=\"colab-df-convert\" onclick=\"convertToInteractive('df-c8353599-856f-48da-89a6-83ff1feb068d')\"\n",
              "              title=\"Convert this dataframe to an interactive table.\"\n",
              "              style=\"display:none;\">\n",
              "        \n",
              "  <svg xmlns=\"http://www.w3.org/2000/svg\" height=\"24px\"viewBox=\"0 0 24 24\"\n",
              "       width=\"24px\">\n",
              "    <path d=\"M0 0h24v24H0V0z\" fill=\"none\"/>\n",
              "    <path d=\"M18.56 5.44l.94 2.06.94-2.06 2.06-.94-2.06-.94-.94-2.06-.94 2.06-2.06.94zm-11 1L8.5 8.5l.94-2.06 2.06-.94-2.06-.94L8.5 2.5l-.94 2.06-2.06.94zm10 10l.94 2.06.94-2.06 2.06-.94-2.06-.94-.94-2.06-.94 2.06-2.06.94z\"/><path d=\"M17.41 7.96l-1.37-1.37c-.4-.4-.92-.59-1.43-.59-.52 0-1.04.2-1.43.59L10.3 9.45l-7.72 7.72c-.78.78-.78 2.05 0 2.83L4 21.41c.39.39.9.59 1.41.59.51 0 1.02-.2 1.41-.59l7.78-7.78 2.81-2.81c.8-.78.8-2.07 0-2.86zM5.41 20L4 18.59l7.72-7.72 1.47 1.35L5.41 20z\"/>\n",
              "  </svg>\n",
              "      </button>\n",
              "      \n",
              "  <style>\n",
              "    .colab-df-container {\n",
              "      display:flex;\n",
              "      flex-wrap:wrap;\n",
              "      gap: 12px;\n",
              "    }\n",
              "\n",
              "    .colab-df-convert {\n",
              "      background-color: #E8F0FE;\n",
              "      border: none;\n",
              "      border-radius: 50%;\n",
              "      cursor: pointer;\n",
              "      display: none;\n",
              "      fill: #1967D2;\n",
              "      height: 32px;\n",
              "      padding: 0 0 0 0;\n",
              "      width: 32px;\n",
              "    }\n",
              "\n",
              "    .colab-df-convert:hover {\n",
              "      background-color: #E2EBFA;\n",
              "      box-shadow: 0px 1px 2px rgba(60, 64, 67, 0.3), 0px 1px 3px 1px rgba(60, 64, 67, 0.15);\n",
              "      fill: #174EA6;\n",
              "    }\n",
              "\n",
              "    [theme=dark] .colab-df-convert {\n",
              "      background-color: #3B4455;\n",
              "      fill: #D2E3FC;\n",
              "    }\n",
              "\n",
              "    [theme=dark] .colab-df-convert:hover {\n",
              "      background-color: #434B5C;\n",
              "      box-shadow: 0px 1px 3px 1px rgba(0, 0, 0, 0.15);\n",
              "      filter: drop-shadow(0px 1px 2px rgba(0, 0, 0, 0.3));\n",
              "      fill: #FFFFFF;\n",
              "    }\n",
              "  </style>\n",
              "\n",
              "      <script>\n",
              "        const buttonEl =\n",
              "          document.querySelector('#df-c8353599-856f-48da-89a6-83ff1feb068d button.colab-df-convert');\n",
              "        buttonEl.style.display =\n",
              "          google.colab.kernel.accessAllowed ? 'block' : 'none';\n",
              "\n",
              "        async function convertToInteractive(key) {\n",
              "          const element = document.querySelector('#df-c8353599-856f-48da-89a6-83ff1feb068d');\n",
              "          const dataTable =\n",
              "            await google.colab.kernel.invokeFunction('convertToInteractive',\n",
              "                                                     [key], {});\n",
              "          if (!dataTable) return;\n",
              "\n",
              "          const docLinkHtml = 'Like what you see? Visit the ' +\n",
              "            '<a target=\"_blank\" href=https://colab.research.google.com/notebooks/data_table.ipynb>data table notebook</a>'\n",
              "            + ' to learn more about interactive tables.';\n",
              "          element.innerHTML = '';\n",
              "          dataTable['output_type'] = 'display_data';\n",
              "          await google.colab.output.renderOutput(dataTable, element);\n",
              "          const docLink = document.createElement('div');\n",
              "          docLink.innerHTML = docLinkHtml;\n",
              "          element.appendChild(docLink);\n",
              "        }\n",
              "      </script>\n",
              "    </div>\n",
              "  </div>\n",
              "  "
            ]
          },
          "metadata": {},
          "execution_count": 191
        }
      ]
    },
    {
      "cell_type": "markdown",
      "source": [
        "# PRE-PROCESSING!"
      ],
      "metadata": {
        "id": "8MNc9Ok5P6C_"
      }
    },
    {
      "cell_type": "markdown",
      "source": [
        "1. Removing digits [\\d]"
      ],
      "metadata": {
        "id": "jgeWe6JxQMBM"
      }
    },
    {
      "cell_type": "code",
      "source": [
        "df['Review']=df['Review'].replace('\\d+','',regex=True)"
      ],
      "metadata": {
        "id": "Y3sg8UhcP40W"
      },
      "execution_count": 192,
      "outputs": []
    },
    {
      "cell_type": "markdown",
      "source": [
        "2. Replacing special characters by empty space ‘ ‘ and dealing with any character that occurs more than twice: yummmmy => yummy"
      ],
      "metadata": {
        "id": "AkmS00m4QuVt"
      }
    },
    {
      "cell_type": "code",
      "source": [
        "df_review['Review']=df_review['Review'].replace('\\n', ' ',regex=True)\n",
        "df_review['Review']=df_review['Review'].replace(('[^!|^.|^,|^;|^-|^@|^\\w\\s]'),\"\", regex = True)\n",
        "for i in range(len(df_review)):\n",
        "  sentence=df_review['Review'][i]\n",
        "  sentence=sentence.replace('.', ' ')\n",
        "  sentence=sentence.replace(',', ' ')\n",
        "  sentence=sentence.replace('!', ' ')\n",
        "  sentence=sentence.replace('.', ' ')\n",
        "  sentence=sentence.replace(';', ' ')\n",
        "  sentence=sentence.replace('-', ' ')\n",
        "  sentence=sentence.replace('@', ' ')\n",
        "  sentence=sentence.replace(')', ' ')\n",
        "  sentence=sentence.replace('(', ' ')\n",
        "  sentence=sentence.replace('{', ' ')\n",
        "  sentence=sentence.replace('}', ' ')     \n",
        "\n",
        "  sentence=re.sub(r'(.)\\1+', r'\\1\\1',sentence)   # yummmyyy => yummyy,  '     '=>'  '  #This line will remove char which occures more than 2 times consecutively.\n",
        "  df_review['Review'][i]=sentence\n",
        "\n",
        "print(df_review.head(10))"
      ],
      "metadata": {
        "id": "yzETyHagRH7P",
        "colab": {
          "base_uri": "https://localhost:8080/"
        },
        "outputId": "33e1d588-ec7b-44a2-b6d1-c24847c073f1"
      },
      "execution_count": 193,
      "outputs": [
        {
          "output_type": "stream",
          "name": "stdout",
          "text": [
            "                                                                                                                                                                                                                                                              Review  \\\n",
            "0                                                                                                                                                                                                                                                       its too good   \n",
            "1                                                                                                                                                                                                                                                     waste of money   \n",
            "2                                                                                                                                                                                                                                      pizza was yum but little late   \n",
            "3                                                                                                                                                                                                                                        Delivery person was amazing   \n",
            "4  even after calling personally and even after giving special instructions received very cold pizza base is hard and it tastes stale as if it was premade thought chicken parcels were really hot and fresh with proper quantity but really disappointed with pizza   \n",
            "5                                                                                                                                                                                  The best part about the order was it was hot so could enjoy the pizza at its best   \n",
            "6                                                                                                                                                Extremely less toppings After spending so much on dominos this is the kind of toppings provided Really poor service   \n",
            "7                                                                                                                                                The pizza was order as extra cheese but it was so stretchy to eat so stiff it was not happy with extra cheese pizza   \n",
            "8                                                                                                                                                                                                                                      delivery service is fast good   \n",
            "9                                                                                                                                                                                                                                    the box was not sealed properly   \n",
            "\n",
            "   Sentiment  \n",
            "0          1  \n",
            "1          0  \n",
            "2          1  \n",
            "3          1  \n",
            "4          0  \n",
            "5          1  \n",
            "6          0  \n",
            "7          1  \n",
            "8          1  \n",
            "9          0  \n"
          ]
        }
      ]
    },
    {
      "cell_type": "markdown",
      "source": [
        "3. REMOVING CHARACTERS WHICH ONLY OCCUR ONCE! ALSO REPLACING TWO CONSECUTIVE SPACES BY ONE"
      ],
      "metadata": {
        "id": "orTKzKDkROq_"
      }
    },
    {
      "cell_type": "code",
      "source": [
        "cnter=0\n",
        "while(cnter<2):\n",
        "  for i in range(len(df_review)):\n",
        "    new_sentence=\" \"\n",
        "    sentence=df_review['Review'][i]    #get the row i.e. sentence\n",
        "    words=sentence.split()  #makes a list of the words in the sentence\n",
        "    for word in words:      #check every words length and if it is less than 2, remove it\n",
        "      if len(word)<2:\n",
        "        words.remove(word)\n",
        "    new_sentence=new_sentence.join(words) #Create a new sentence by joining all the words in the list with \" \" as a separator\n",
        "    df_review['Review'][i]=new_sentence   #replace current row i.e. sentence by the new sentence\n",
        "  cnter=cnter+1"
      ],
      "metadata": {
        "id": "N4sUqnCtRNmn"
      },
      "execution_count": 194,
      "outputs": []
    },
    {
      "cell_type": "code",
      "source": [
        "print(df_review.head(5))"
      ],
      "metadata": {
        "id": "vZdzCjZBRbDH",
        "colab": {
          "base_uri": "https://localhost:8080/"
        },
        "outputId": "864cdcfc-01c3-42a0-bf4d-40f09d4387c4"
      },
      "execution_count": 195,
      "outputs": [
        {
          "output_type": "stream",
          "name": "stdout",
          "text": [
            "                                                                                                                                                                                                                                                              Review  \\\n",
            "0                                                                                                                                                                                                                                                       its too good   \n",
            "1                                                                                                                                                                                                                                                     waste of money   \n",
            "2                                                                                                                                                                                                                                      pizza was yum but little late   \n",
            "3                                                                                                                                                                                                                                        Delivery person was amazing   \n",
            "4  even after calling personally and even after giving special instructions received very cold pizza base is hard and it tastes stale as if it was premade thought chicken parcels were really hot and fresh with proper quantity but really disappointed with pizza   \n",
            "\n",
            "   Sentiment  \n",
            "0          1  \n",
            "1          0  \n",
            "2          1  \n",
            "3          1  \n",
            "4          0  \n"
          ]
        }
      ]
    },
    {
      "cell_type": "markdown",
      "source": [
        "4.FINDING MISSPELLED WORDS AND CORRECTING THEM!\n",
        "Algorithm used for correcting words:\n",
        "\n",
        "    Create a list of misspelled words found in the dataset.\n",
        "    Create a list of correctly spelled words found in the dataset.\n",
        "    Use similar() function of 'SequenceMatcher' for finding similarity between words from both lists. If it is greater than 0.8, create a dictionary (dict['misspelled word'=correctly spelled word).\n",
        "    Now traverse the dataset, while checking a row, extract its misspelled words, check if misspelled word is in the dictionary, if it is then replace it with correctly spelled word."
      ],
      "metadata": {
        "id": "bLIgLlnERqrW"
      }
    },
    {
      "cell_type": "code",
      "source": [
        "#This creates a list of sets of misspelled words found in each row.\n",
        "from spellchecker import SpellChecker\n",
        "spell=SpellChecker()\n",
        "mis_list=[]\n",
        "for i in range(len(df_review)):\n",
        "  sentence=df_review['Review'][i].split()\n",
        "  mis_sent=spell.unknown(sentence)\n",
        "  mis_list.append(mis_sent)\n",
        "  if set() in mis_list:\n",
        "    mis_list.remove(set())\n",
        "print(\"first 50 row's Misspelled words but they are in [{misspelled words list from row 1},{misspelled words list from row 2}]: \",mis_list[0:50])"
      ],
      "metadata": {
        "id": "X4d0uyW8Smku",
        "colab": {
          "base_uri": "https://localhost:8080/"
        },
        "outputId": "81a88a20-9079-4a56-bac4-a469542ab714"
      },
      "execution_count": 196,
      "outputs": [
        {
          "output_type": "stream",
          "name": "stdout",
          "text": [
            "first 50 row's Misspelled words but they are in [{misspelled words list from row 1},{misspelled words list from row 2}]:  [{'chocolava'}, {'recieved'}, {'zomato', 'rs'}, {'bcz'}, {'orderit'}, {'bt', 'rcv'}, {'coldrink', 'uneatable'}, {'zingy', 'flatt'}, {'mintues', 'gps', 'valle'}, {'delivary'}, {'zomato'}, {'chesse'}, {'cheeseburst', 'rs'}, {'cheeseburst', 'asnt'}, {'cheeseburst'}, {'pepar'}, {'hrs'}, {'zomato'}, {'divery'}, {'pneer'}, {'peproni'}, {'indi'}, {'cheeze'}, {'th'}, {'kanjus', 'paytm'}, {'sanitization'}, {'origano'}, {'jublfood'}, {'ppl'}, {'cheeze'}, {'dominoz'}, {'bbq'}, {'customization'}, {'plz'}, {'nilesh'}, {'dominoz'}, {'th'}, {'st'}, {'koparkhairane'}, {'choppings'}, {'nonveg'}, {'recwived', 'bcoz', 'nveg'}, {'bery', 'cheeze'}, {'pm'}, {'cheeseburst'}, {'makhani'}, {'choclate', 'deeped', 'panner'}, {'arenja'}, {'keema'}, {'hygeine'}]\n"
          ]
        }
      ]
    },
    {
      "cell_type": "code",
      "source": [
        "#Creating a list of misspelled words. (Basically extracting each set element from the mis_list and putting it into mis_mis_list)\n",
        "\n",
        "from collections import Counter\n",
        "mis_mis_list=[]\n",
        "for i in mis_list:\n",
        "  for j in i:\n",
        "    mis_mis_list.append(j.lower())   #just making the words lower before appending to mis_mis_list\n",
        "   \n",
        "print(\"first 50 Misspelled words:\",mis_mis_list[0:50]) #LIST OF MISSPELLED WORDS   \n",
        "print(\"Total misspelled words: \",len(mis_mis_list)) #Note: this list is not a 'unique mispelled words' list, it has repeated occurences of them.\n",
        "\n",
        "\n",
        "#Finding common words and their occurrences in the mis_mis_list #Just a trial code for common words finder.\n",
        "cnt=Counter(mis_mis_list)\n",
        "cmmn=cnt.most_common(100)   \n",
        "print(cmmn)"
      ],
      "metadata": {
        "id": "n4NvhQhPStkv",
        "colab": {
          "base_uri": "https://localhost:8080/"
        },
        "outputId": "0c4269eb-b98a-42e5-9c8f-a143c6e58e53"
      },
      "execution_count": 197,
      "outputs": [
        {
          "output_type": "stream",
          "name": "stdout",
          "text": [
            "first 50 Misspelled words: ['chocolava', 'recieved', 'zomato', 'rs', 'bcz', 'orderit', 'bt', 'rcv', 'coldrink', 'uneatable', 'zingy', 'flatt', 'mintues', 'gps', 'valle', 'delivary', 'zomato', 'chesse', 'cheeseburst', 'rs', 'cheeseburst', 'asnt', 'cheeseburst', 'pepar', 'hrs', 'zomato', 'divery', 'pneer', 'peproni', 'indi', 'cheeze', 'th', 'kanjus', 'paytm', 'sanitization', 'origano', 'jublfood', 'ppl', 'cheeze', 'dominoz', 'bbq', 'customization', 'plz', 'nilesh', 'dominoz', 'th', 'st', 'koparkhairane', 'choppings', 'nonveg']\n",
            "Total misspelled words:  1017\n",
            "[('zomato', 65), ('pm', 25), ('rs', 21), ('aundh', 20), ('dominoz', 18), ('nonveg', 17), ('mexicana', 17), ('hr', 13), ('kandivali', 13), ('nd', 12), ('chocolava', 9), ('recieved', 9), ('cheeseburst', 9), ('hrs', 9), ('nigdi', 9), ('th', 8), ('bbq', 8), ('saudagar', 8), ('zingy', 7), ('plz', 7), ('makhani', 7), ('panner', 7), ('hv', 7), ('bt', 6), ('st', 6), ('cheeze', 5), ('km', 5), ('pls', 5), ('indi', 4), ('origano', 4), ('ppl', 4), ('bcoz', 4), ('periperi', 4), ('pizzaa', 4), ('yumm', 4), ('tandoor', 4), ('tacco', 4), ('makhni', 4), ('gst', 4), ('recieve', 4), ('covid', 4), ('bcz', 3), ('pizzaz', 3), ('ws', 3), ('piza', 3), ('pizaa', 3), ('rd', 3), ('tv', 3), ('margerita', 3), ('formaggi', 3), ('brust', 3), ('nahi', 3), ('ms', 3), ('margharita', 3), ('organo', 3), ('afternoon', 3), ('mrp', 3), ('chowk', 3), ('jalapeños', 3), ('recived', 3), ('hygenic', 3), ('myonies', 3), ('chese', 3), ('okayish', 3), ('westend', 3), ('fr', 3), ('delivary', 2), ('chesse', 2), ('paytm', 2), ('customization', 2), ('keema', 2), ('hygeine', 2), ('nocturnal_tastebud', 2), ('praneet', 2), ('khaate', 2), ('burts', 2), ('topings', 2), ('wala', 2), ('panvel', 2), ('yumny', 2), ('looded', 2), ('maggi', 2), ('grababitemumbai', 2), ('vantelation', 2), ('naah', 2), ('unavailability', 2), ('ohk', 2), ('nt', 2), ('vikas', 2), ('guyz', 2), ('woww', 2), ('vfm', 2), ('pimpri', 2), ('nigadi', 2), ('hinjewadi', 2), ('delevery', 2), ('dominozz', 2), ('odered', 2), ('margareta', 2), ('knw', 2)]\n"
          ]
        }
      ]
    },
    {
      "cell_type": "code",
      "source": [
        "#REMOVING NAMES FROM THE LIST of misspelled words\n",
        "names_list=['zomato','pm','rs','aundh','nonveg','mexicana','hr','kandivali','chocolava','nigdi',\n",
        "            'cheeseburst','bbq','saudagar','zingy','makhani','paneer','periperi','tandoor']\n",
        "for name in names_list:\n",
        "  for j in range(len(mis_mis_list)):\n",
        "    if name in mis_mis_list:\n",
        "      mis_mis_list.remove(name)\n",
        "print(\"Final Misspelled words list after removing names: (Showing only first 50) \",mis_mis_list[0:50]) #This is the list of misseplled words!\n",
        "\n",
        "\n",
        "\n",
        "#Trial code for common words finder, again.\n",
        "cnt=Counter(mis_mis_list)\n",
        "cmmn=cnt.most_common(100)   #Finding common words and their occurrences in the mis_mis_list     \n",
        "print(cmmn)    "
      ],
      "metadata": {
        "id": "qCYa6ZTOTBU2",
        "colab": {
          "base_uri": "https://localhost:8080/"
        },
        "outputId": "193bafe9-1e21-4570-e82e-6030fc49cf57"
      },
      "execution_count": 198,
      "outputs": [
        {
          "output_type": "stream",
          "name": "stdout",
          "text": [
            "Final Misspelled words list after removing names: (Showing only first 50)  ['recieved', 'bcz', 'orderit', 'bt', 'rcv', 'coldrink', 'uneatable', 'flatt', 'mintues', 'gps', 'valle', 'delivary', 'chesse', 'asnt', 'pepar', 'hrs', 'divery', 'pneer', 'peproni', 'indi', 'cheeze', 'th', 'kanjus', 'paytm', 'sanitization', 'origano', 'jublfood', 'ppl', 'cheeze', 'dominoz', 'customization', 'plz', 'nilesh', 'dominoz', 'th', 'st', 'koparkhairane', 'choppings', 'recwived', 'bcoz', 'nveg', 'bery', 'cheeze', 'choclate', 'deeped', 'panner', 'arenja', 'keema', 'hygeine', 'fooding']\n",
            "[('dominoz', 18), ('nd', 12), ('recieved', 9), ('hrs', 9), ('th', 8), ('plz', 7), ('panner', 7), ('hv', 7), ('bt', 6), ('st', 6), ('cheeze', 5), ('km', 5), ('pls', 5), ('indi', 4), ('origano', 4), ('ppl', 4), ('bcoz', 4), ('pizzaa', 4), ('yumm', 4), ('tacco', 4), ('makhni', 4), ('gst', 4), ('recieve', 4), ('covid', 4), ('bcz', 3), ('pizzaz', 3), ('ws', 3), ('piza', 3), ('pizaa', 3), ('rd', 3), ('tv', 3), ('margerita', 3), ('formaggi', 3), ('brust', 3), ('nahi', 3), ('ms', 3), ('margharita', 3), ('organo', 3), ('afternoon', 3), ('mrp', 3), ('chowk', 3), ('jalapeños', 3), ('recived', 3), ('hygenic', 3), ('myonies', 3), ('chese', 3), ('okayish', 3), ('westend', 3), ('fr', 3), ('delivary', 2), ('chesse', 2), ('paytm', 2), ('customization', 2), ('keema', 2), ('hygeine', 2), ('nocturnal_tastebud', 2), ('praneet', 2), ('khaate', 2), ('burts', 2), ('topings', 2), ('wala', 2), ('panvel', 2), ('yumny', 2), ('looded', 2), ('maggi', 2), ('grababitemumbai', 2), ('vantelation', 2), ('naah', 2), ('unavailability', 2), ('ohk', 2), ('nt', 2), ('vikas', 2), ('guyz', 2), ('woww', 2), ('vfm', 2), ('pimpri', 2), ('nigadi', 2), ('hinjewadi', 2), ('delevery', 2), ('dominozz', 2), ('odered', 2), ('margareta', 2), ('knw', 2), ('promt', 2), ('malad', 2), ('marghareta', 2), ('ontime', 2), ('borivali', 2), ('oreganos', 2), ('lenskat', 2), ('onlinedebitwallets', 2), ('locatable', 2), ('dnt', 2), ('yumiee', 2), ('outlates', 2), ('cc', 2), ('dilevery', 2), ('cheezy', 2), ('unmanaged', 2), ('shivar', 2)]\n"
          ]
        }
      ]
    },
    {
      "cell_type": "markdown",
      "source": [
        "Finding a list of correctly spelled words!"
      ],
      "metadata": {
        "id": "m4SwihH-Uk79"
      }
    },
    {
      "cell_type": "code",
      "source": [
        "#first, just creating a list of words found in the dataset\n",
        "correct_word_list=[]\n",
        "for i in range(len(df_review)):\n",
        "  sentence=df_review['Review'][i]\n",
        "  words=sentence.split()\n",
        "  for word in words:\n",
        "    correct_word_list.append(word.lower())\n",
        "print(correct_word_list[0:50])\n"
      ],
      "metadata": {
        "id": "WtbCfznzUG8p",
        "colab": {
          "base_uri": "https://localhost:8080/"
        },
        "outputId": "a81c4aff-feee-4fb6-b154-6ba758ef4498"
      },
      "execution_count": 199,
      "outputs": [
        {
          "output_type": "stream",
          "name": "stdout",
          "text": [
            "['its', 'too', 'good', 'waste', 'of', 'money', 'pizza', 'was', 'yum', 'but', 'little', 'late', 'delivery', 'person', 'was', 'amazing', 'even', 'after', 'calling', 'personally', 'and', 'even', 'after', 'giving', 'special', 'instructions', 'received', 'very', 'cold', 'pizza', 'base', 'is', 'hard', 'and', 'it', 'tastes', 'stale', 'as', 'if', 'it', 'was', 'premade', 'thought', 'chicken', 'parcels', 'were', 'really', 'hot', 'and', 'fresh']\n"
          ]
        }
      ]
    },
    {
      "cell_type": "code",
      "source": [
        "#We have to make both lists mis_mis_list and correct_words_list contain unique words, not repeated words or 'remove' won't work!\n",
        "print(\"total of all words of misspelled word list:\",len(mis_mis_list))\n",
        "print(\"total of all words of correct word list+misspelled word list:\",len(correct_word_list))\n",
        "mis_mis_list=list(set(mis_mis_list))\n",
        "correct_word_list=list(set(correct_word_list))\n",
        "print(\"total of unique words of misspelled word list:\",len(mis_mis_list))\n",
        "print(\"total of unique words of correct word list+missplled word list:\",len(correct_word_list))\n",
        "print(\"total of unique words of names list:\",len(names_list))"
      ],
      "metadata": {
        "id": "UT2X90I5UgiO",
        "colab": {
          "base_uri": "https://localhost:8080/"
        },
        "outputId": "61c26962-28bb-4792-e96a-b8cbf48b5b5a"
      },
      "execution_count": 200,
      "outputs": [
        {
          "output_type": "stream",
          "name": "stdout",
          "text": [
            "total of all words of misspelled word list: 761\n",
            "total of all words of correct word list+misspelled word list: 60164\n",
            "total of unique words of misspelled word list: 536\n",
            "total of unique words of correct word list+missplled word list: 4136\n",
            "total of unique words of names list: 18\n"
          ]
        }
      ]
    },
    {
      "cell_type": "code",
      "source": [
        "names_list=['zomato','pm','rs','aundh','nonveg','mexicana','hr','kandivali','chocolava','nigdi',\n",
        "            'cheeseburst','bbq','saudagar','zingy','makhani','paneer','periperi','tandoor']\n",
        "cnt=0\n",
        "#Removing misspelled words from correct_word_list, found in mis_mis_list\n",
        "for w in mis_mis_list:\n",
        "  if w in correct_word_list:\n",
        "    correct_word_list.remove(w)\n",
        "\n",
        "#Removing names from correct_word_list, found in names_list\n",
        "for n in names_list:\n",
        "  if n in correct_word_list:\n",
        "    correct_word_list.remove(n) \n",
        "print(\"correct word list length after removing misspelled words and names:\",len(correct_word_list))"
      ],
      "metadata": {
        "id": "sOhJ8WKlU53p",
        "colab": {
          "base_uri": "https://localhost:8080/"
        },
        "outputId": "d2c41543-05af-46f3-ed66-9760e579157e"
      },
      "execution_count": 201,
      "outputs": [
        {
          "output_type": "stream",
          "name": "stdout",
          "text": [
            "correct word list length after removing misspelled words and names: 3582\n"
          ]
        }
      ]
    },
    {
      "cell_type": "code",
      "source": [
        "#Checking similarity between words from correct_word_list and mis_mis_list, if its more than 0.8, \n",
        "#do dictionary[misspelled word]=correct word\n",
        "#TAKES 1 MINUTE+\n",
        "from difflib import SequenceMatcher       #Library used for checking similarity\n",
        "\n",
        "def similar(a, b):\n",
        "    return SequenceMatcher(None, a, b).ratio()    #Function to check similarity!\n",
        "\n",
        "dictionary={}\n",
        "cnt=0\n",
        "for cor_word in correct_word_list:\n",
        "  for mis_word in mis_mis_list:\n",
        "    ratio=similar(cor_word,mis_word)\n",
        "    if(ratio>0.8):\n",
        "      cnt=cnt+1\n",
        "      dictionary[mis_word]=cor_word\n",
        "      #print(\"Correct word:\",cor_word,\"    misspelled word:\",mis_word,\"      Ratio:\",ratio)\n",
        "print(\"This many words can be corrected: \",cnt)"
      ],
      "metadata": {
        "id": "oNO-jEncVa8f",
        "colab": {
          "base_uri": "https://localhost:8080/"
        },
        "outputId": "fadcc85b-b61e-4505-afb0-5f4978c60c56"
      },
      "execution_count": 202,
      "outputs": [
        {
          "output_type": "stream",
          "name": "stdout",
          "text": [
            "This many words can be corrected:  355\n"
          ]
        }
      ]
    },
    {
      "cell_type": "code",
      "source": [
        "#Replacing the misspelled words with correct words\n",
        "#Takes almost 10 seconds\n",
        "words_corrected_cnt=0\n",
        "for i in range(len(df_review)):\n",
        "  sentence=(df_review['Review'][i]).lower()\n",
        "  \n",
        "  misspelled_words=spell.unknown(sentence.split())\n",
        "  #print(\"list:\",misspelled_words)\n",
        "  for misword in misspelled_words:\n",
        "    if misword in dictionary:\n",
        "      correct_word=dictionary[misword]\n",
        "      print(\"before:\",sentence)\n",
        "      print(\"misspelled word: \",misword,\"     \",\"correct word:\",correct_word)\n",
        "      print(\"After:\",sentence)\n",
        "      sentence=sentence.replace(misword,correct_word)\n",
        "      words_corrected_cnt=words_corrected_cnt+1\n",
        "  df_review['Review'][i]=sentence\n",
        "  "
      ],
      "metadata": {
        "id": "e-Iw-GIMVgpI",
        "colab": {
          "base_uri": "https://localhost:8080/"
        },
        "outputId": "e8bc4ea4-7b64-4b75-cd00-6b88a46d88a7"
      },
      "execution_count": 203,
      "outputs": [
        {
          "output_type": "stream",
          "name": "stdout",
          "text": [
            "before: have not recieved my order kindly see in the matter\n",
            "misspelled word:  recieved       correct word: received\n",
            "After: have not recieved my order kindly see in the matter\n",
            "before: pizza was not cooked properly waste of money orderit from guys no one was able to eat it\n",
            "misspelled word:  orderit       correct word: order\n",
            "After: pizza was not cooked properly waste of money orderit from guys no one was able to eat it\n",
            "before: rest of all was damn good but only the zingy parcel was flatt it was not at all zingy parcel\n",
            "misspelled word:  flatt       correct word: flat\n",
            "After: rest of all was damn good but only the zingy parcel was flatt it was not at all zingy parcel\n",
            "before: the pizza was like chewing gum and it was not cut properly the portions were unevenly cut they used their own valle but couldnt find the address for mintues as they dont use gps\n",
            "misspelled word:  mintues       correct word: minutes\n",
            "After: the pizza was like chewing gum and it was not cut properly the portions were unevenly cut they used their own valle but couldnt find the address for mintues as they dont use gps\n",
            "before: there is no competition in taste with dominos the service is also very good the delivary boy came in such rain\n",
            "misspelled word:  delivary       correct word: delivery\n",
            "After: there is no competition in taste with dominos the service is also very good the delivary boy came in such rain\n",
            "before: instead of potato chesse shots got these crinkle fries cant you guys read the order waste of money because the worst item on dominos is crinkle fries\n",
            "misspelled word:  chesse       correct word: cheese\n",
            "After: instead of potato chesse shots got these crinkle fries cant you guys read the order waste of money because the worst item on dominos is crinkle fries\n",
            "before: it asnt really cheeseburst cheapness in cheese\n",
            "misspelled word:  asnt       correct word: hasnt\n",
            "After: it asnt really cheeseburst cheapness in cheese\n",
            "before: no tissue pepar in order make sure next time properly send\n",
            "misspelled word:  pepar       correct word: prepare\n",
            "After: no tissue pepar in order make sure next time properly send\n",
            "before: pathetic delivery mismanagement delivery boy made me walk around my office for minutes but still food was not delivered later different divery boy called delivered food the whole process took almost hours pathetic service\n",
            "misspelled word:  divery       correct word: driver\n",
            "After: pathetic delivery mismanagement delivery boy made me walk around my office for minutes but still food was not delivered later different divery boy called delivered food the whole process took almost hours pathetic service\n",
            "before: the cheese used in pizza was normal one which used at home melts in oven and was not the usual cheese used in pizza so quality of dominos food items is more over deteriorate also did not liked stuffed peproni garlic bread disappointed\n",
            "misspelled word:  peproni       correct word: pepperoni\n",
            "After: the cheese used in pizza was normal one which used at home melts in oven and was not the usual cheese used in pizza so quality of dominos food items is more over deteriorate also did not liked stuffed peproni garlic bread disappointed\n",
            "before: dominos are the best in the business when it comes to pizzas there indi tandoori pizza is out of the league do have try\n",
            "misspelled word:  indi       correct word: indie\n",
            "After: dominos are the best in the business when it comes to pizzas there indi tandoori pizza is out of the league do have try\n",
            "before: this is the first time that after eating chicken tikka pizza my husband and child both complained of foul smell and passing of gas my son also complained of loose motion the pizza was ordered with extra cheeze but the taste of cheeze was not good and was green in colour not sure if this was problem this is not expected with this brand\n",
            "misspelled word:  cheeze       correct word: cheese\n",
            "After: this is the first time that after eating chicken tikka pizza my husband and child both complained of foul smell and passing of gas my son also complained of loose motion the pizza was ordered with extra cheeze but the taste of cheeze was not good and was green in colour not sure if this was problem this is not expected with this brand\n",
            "before: the pizza was cold even no ketchup and less origano chilli flakes even the outlet hasnt connected me and when call the number was invalid\n",
            "misspelled word:  origano       correct word: oregano\n",
            "After: the pizza was cold even no ketchup and less origano chilli flakes even the outlet hasnt connected me and when call the number was invalid\n",
            "before: no cheeze at all\n",
            "misspelled word:  cheeze       correct word: cheese\n",
            "After: no cheeze at all\n",
            "before: less topping cheese every time we experience same issue with dominoz\n",
            "misspelled word:  dominoz       correct word: dominos\n",
            "After: less topping cheese every time we experience same issue with dominoz\n",
            "before: nice taste fast service excellent quality of dominoz\n",
            "misspelled word:  dominoz       correct word: dominos\n",
            "After: nice taste fast service excellent quality of dominoz\n",
            "before: domino is maintaining same taste quality every time need to increase paneer choppings in paneer pizzas\n",
            "misspelled word:  choppings       correct word: shopping\n",
            "After: domino is maintaining same taste quality every time need to increase paneer choppings in paneer pizzas\n",
            "before: please please dont order or goto this place they are burgers had ordered nveg loaded pizza one nveg burger slice online received call from the outlet that they dont have burgers and they will add another nveg loaded pizza ro my order but when recwived the order never received my choice of burger or the offered pizza instead of that was forcefully given uncooked garlic bread which had to throw very very pathetic service by dominos will personally not order from dominos and make sure that no one from my friends family order from this burglar outlet have given star bcoz cant give minus rating\n",
            "misspelled word:  recwived       correct word: received\n",
            "After: please please dont order or goto this place they are burgers had ordered nveg loaded pizza one nveg burger slice online received call from the outlet that they dont have burgers and they will add another nveg loaded pizza ro my order but when recwived the order never received my choice of burger or the offered pizza instead of that was forcefully given uncooked garlic bread which had to throw very very pathetic service by dominos will personally not order from dominos and make sure that no one from my friends family order from this burglar outlet have given star bcoz cant give minus rating\n",
            "before: please please dont order or goto this place they are burgers had ordered nveg loaded pizza one nveg burger slice online received call from the outlet that they dont have burgers and they will add another nveg loaded pizza ro my order but when received the order never received my choice of burger or the offered pizza instead of that was forcefully given uncooked garlic bread which had to throw very very pathetic service by dominos will personally not order from dominos and make sure that no one from my friends family order from this burglar outlet have given star bcoz cant give minus rating\n",
            "misspelled word:  bcoz       correct word: coz\n",
            "After: please please dont order or goto this place they are burgers had ordered nveg loaded pizza one nveg burger slice online received call from the outlet that they dont have burgers and they will add another nveg loaded pizza ro my order but when received the order never received my choice of burger or the offered pizza instead of that was forcefully given uncooked garlic bread which had to throw very very pathetic service by dominos will personally not order from dominos and make sure that no one from my friends family order from this burglar outlet have given star bcoz cant give minus rating\n",
            "before: please please dont order or goto this place they are burgers had ordered nveg loaded pizza one nveg burger slice online received call from the outlet that they dont have burgers and they will add another nveg loaded pizza ro my order but when received the order never received my choice of burger or the offered pizza instead of that was forcefully given uncooked garlic bread which had to throw very very pathetic service by dominos will personally not order from dominos and make sure that no one from my friends family order from this burglar outlet have given star coz cant give minus rating\n",
            "misspelled word:  nveg       correct word: veg\n",
            "After: please please dont order or goto this place they are burgers had ordered nveg loaded pizza one nveg burger slice online received call from the outlet that they dont have burgers and they will add another nveg loaded pizza ro my order but when received the order never received my choice of burger or the offered pizza instead of that was forcefully given uncooked garlic bread which had to throw very very pathetic service by dominos will personally not order from dominos and make sure that no one from my friends family order from this burglar outlet have given star coz cant give minus rating\n",
            "before: it is not cheeze burst and pizza delivered bery badly whole topping is away from pizza please refund my amount and take away your pizza\n",
            "misspelled word:  cheeze       correct word: cheese\n",
            "After: it is not cheeze burst and pizza delivered bery badly whole topping is away from pizza please refund my amount and take away your pizza\n",
            "before: had peppy panner at dominos pizza loaded with lots of fresh panner slices capsicum and red paprika brownie fantasy deeped with chocolate inside and choclate layer outside the service was ok\n",
            "misspelled word:  choclate       correct word: chocolate\n",
            "After: had peppy panner at dominos pizza loaded with lots of fresh panner slices capsicum and red paprika brownie fantasy deeped with chocolate inside and choclate layer outside the service was ok\n",
            "before: had peppy panner at dominos pizza loaded with lots of fresh panner slices capsicum and red paprika brownie fantasy deeped with chocolate inside and chocolate layer outside the service was ok\n",
            "misspelled word:  deeped       correct word: depend\n",
            "After: had peppy panner at dominos pizza loaded with lots of fresh panner slices capsicum and red paprika brownie fantasy deeped with chocolate inside and chocolate layer outside the service was ok\n",
            "before: had peppy panner at dominos pizza loaded with lots of fresh panner slices capsicum and red paprika brownie fantasy depend with chocolate inside and chocolate layer outside the service was ok\n",
            "misspelled word:  panner       correct word: manner\n",
            "After: had peppy panner at dominos pizza loaded with lots of fresh panner slices capsicum and red paprika brownie fantasy depend with chocolate inside and chocolate layer outside the service was ok\n",
            "before: pizza lovers very good outlet in vashi which serves good pizza with great toppings and hygeine is maintained staff is good and helps you to order or take ongoing offers and give you the best\n",
            "misspelled word:  hygeine       correct word: hygiene\n",
            "After: pizza lovers very good outlet in vashi which serves good pizza with great toppings and hygeine is maintained staff is good and helps you to order or take ongoing offers and give you the best\n",
            "before: my all time favourite food window from where can complete my fooding desires loved the delivery and if it is pizza then it should be dominos\n",
            "misspelled word:  fooding       correct word: fooling\n",
            "After: my all time favourite food window from where can complete my fooding desires loved the delivery and if it is pizza then it should be dominos\n",
            "before: seriously you need to stop adding mint mayonnaise on top of the pizza ordered for indi chicken tikka served me paneer tikka but then it was too late to change it had to quit the remaining pizza and it was wasted also brief your team to ask customer if they like mint mayo or not trust me its doesnt taste good and you could serve it on the side overall disappointing encounter\n",
            "misspelled word:  indi       correct word: indie\n",
            "After: seriously you need to stop adding mint mayonnaise on top of the pizza ordered for indi chicken tikka served me paneer tikka but then it was too late to change it had to quit the remaining pizza and it was wasted also brief your team to ask customer if they like mint mayo or not trust me its doesnt taste good and you could serve it on the side overall disappointing encounter\n",
            "before: we were craving for pizza like anything was at my friends place at vashi so we decided to order pizza from dominos we ordered veg extravaganza and peppy paneer veg extravaganza was good and peppy paneer was ok for us the delivery was on time pizza was baked propely\n",
            "misspelled word:  propely       correct word: properly\n",
            "After: we were craving for pizza like anything was at my friends place at vashi so we decided to order pizza from dominos we ordered veg extravaganza and peppy paneer veg extravaganza was good and peppy paneer was ok for us the delivery was on time pizza was baked propely\n",
            "before: hii all last week had visit to the store of dominos in vashi and this was the best visit ever had dominos dominos never fails to impress me and the staff and service here was just well and the taste was also good here we tried panner and onion pizza veg loaded pizza which was loaded with lots of cheese and veggies and tried the brownie of dominos it was just and rest all was good thankyou\n",
            "misspelled word:  panner       correct word: manner\n",
            "After: hii all last week had visit to the store of dominos in vashi and this was the best visit ever had dominos dominos never fails to impress me and the staff and service here was just well and the taste was also good here we tried panner and onion pizza veg loaded pizza which was loaded with lots of cheese and veggies and tried the brownie of dominos it was just and rest all was good thankyou\n",
            "before: dominos in all these years have been very consistent about its taste and its continuing to get even better attracting crowds of all age groups is different kind of success always been one of my favorite pizza place and always will be whenever hungry and confused on what to eat go for pizza they wont dissappoint you we ordered two onion pizza mania service was quick and staff is helpful with the menu reasons to visit good food in affordable rates\n",
            "misspelled word:  dissappoint       correct word: disappoints\n",
            "After: dominos in all these years have been very consistent about its taste and its continuing to get even better attracting crowds of all age groups is different kind of success always been one of my favorite pizza place and always will be whenever hungry and confused on what to eat go for pizza they wont dissappoint you we ordered two onion pizza mania service was quick and staff is helpful with the menu reasons to visit good food in affordable rates\n",
            "before: visited here yesterday with my friend we decided to order pepper barbeque chicken periperi chicken and butterscotch mousse both pizzaz were delicious especially love the base and toppings even mousse was amzing in taste love the food and service ambience is ok good option if you are ordering something\n",
            "misspelled word:  pizzaz       correct word: pizzazz\n",
            "After: visited here yesterday with my friend we decided to order pepper barbeque chicken periperi chicken and butterscotch mousse both pizzaz were delicious especially love the base and toppings even mousse was amzing in taste love the food and service ambience is ok good option if you are ordering something\n",
            "before: visited here yesterday with my friend we decided to order pepper barbeque chicken periperi chicken and butterscotch mousse both pizzazz were delicious especially love the base and toppings even mousse was amzing in taste love the food and service ambience is ok good option if you are ordering something\n",
            "misspelled word:  amzing       correct word: amazing\n",
            "After: visited here yesterday with my friend we decided to order pepper barbeque chicken periperi chicken and butterscotch mousse both pizzazz were delicious especially love the base and toppings even mousse was amzing in taste love the food and service ambience is ok good option if you are ordering something\n",
            "before: dominos rarely disappoints __whenever someone says chal yaar pizza khaate hai its always dominos that pops up in our mind dominos toppings are the best in taste and noone can beat that they have wide variety of pizzas to offer peppy paneerchicken fiestachicken dominatorgarlic breadchocolavaare some of our favourites service is fine staff is helpful and friendlyin all its good place to chill and spendtime with your friends while hogging some delicious pizzas praneet shettywaise you can find me on insta nocturnal_tastebud\n",
            "misspelled word:  __whenever       correct word: whenever\n",
            "After: dominos rarely disappoints __whenever someone says chal yaar pizza khaate hai its always dominos that pops up in our mind dominos toppings are the best in taste and noone can beat that they have wide variety of pizzas to offer peppy paneerchicken fiestachicken dominatorgarlic breadchocolavaare some of our favourites service is fine staff is helpful and friendlyin all its good place to chill and spendtime with your friends while hogging some delicious pizzas praneet shettywaise you can find me on insta nocturnal_tastebud\n",
            "before: dominos rarely disappoints whenever someone says chal yaar pizza khaate hai its always dominos that pops up in our mind dominos toppings are the best in taste and noone can beat that they have wide variety of pizzas to offer peppy paneerchicken fiestachicken dominatorgarlic breadchocolavaare some of our favourites service is fine staff is helpful and friendlyin all its good place to chill and spendtime with your friends while hogging some delicious pizzas praneet shettywaise you can find me on insta nocturnal_tastebud\n",
            "misspelled word:  friendlyin       correct word: friendly\n",
            "After: dominos rarely disappoints whenever someone says chal yaar pizza khaate hai its always dominos that pops up in our mind dominos toppings are the best in taste and noone can beat that they have wide variety of pizzas to offer peppy paneerchicken fiestachicken dominatorgarlic breadchocolavaare some of our favourites service is fine staff is helpful and friendlyin all its good place to chill and spendtime with your friends while hogging some delicious pizzas praneet shettywaise you can find me on insta nocturnal_tastebud\n",
            "before: whenever someone says chal yaar pizza khaate hai its always dominos that pops up in our mind dominos toppings are the best in taste and no one can beat that they have wide variety of pizzas to offer peppy paneer chicken fiesta chicken dominator garlic bread chocolava are some of our favourites service is fine staff is helpful and friendly in all its good place to chill and spend time with your friends while hogging some delicious pizzas praneet shetty waise you can find me on insta nocturnal_tastebud\n",
            "misspelled word:  waise       correct word: wise\n",
            "After: whenever someone says chal yaar pizza khaate hai its always dominos that pops up in our mind dominos toppings are the best in taste and no one can beat that they have wide variety of pizzas to offer peppy paneer chicken fiesta chicken dominator garlic bread chocolava are some of our favourites service is fine staff is helpful and friendly in all its good place to chill and spend time with your friends while hogging some delicious pizzas praneet shetty waise you can find me on insta nocturnal_tastebud\n",
            "before: ordered veg extravaganza pizza and garlic bread with cheesy dip post delivery noted teh pizza was hard and garlic bread stale worried to note whether all left over and extra stuff is packed off and sent on zomato orders by dominos want refund shoddy customer experience\n",
            "misspelled word:  teh       correct word: tech\n",
            "After: ordered veg extravaganza pizza and garlic bread with cheesy dip post delivery noted teh pizza was hard and garlic bread stale worried to note whether all left over and extra stuff is packed off and sent on zomato orders by dominos want refund shoddy customer experience\n",
            "before: this week is been full of pizzas tried the new flavours of dominos pizza but found it avarage in taste old ones are better though garlic bread was awesome\n",
            "misspelled word:  avarage       correct word: average\n",
            "After: this week is been full of pizzas tried the new flavours of dominos pizza but found it avarage in taste old ones are better though garlic bread was awesome\n",
            "before: today is the last day had dominoz pizza it took hour for them to deliver and that too cold pizza third time in row bad experience at dominoz and for the last time wont ever order dominoz again\n",
            "misspelled word:  dominoz       correct word: dominos\n",
            "After: today is the last day had dominoz pizza it took hour for them to deliver and that too cold pizza third time in row bad experience at dominoz and for the last time wont ever order dominoz again\n",
            "before: visited dominos of vashi and ordered barbeque chicken in cheese burst but the cheese was like some regular pizza they took money and did not even gave me cheese burst pizza very much dissappointed with this place\n",
            "misspelled word:  dissappointed       correct word: disappoints\n",
            "After: visited dominos of vashi and ordered barbeque chicken in cheese burst but the cheese was like some regular pizza they took money and did not even gave me cheese burst pizza very much dissappointed with this place\n",
            "before: now this is the best dominos have had imsince long time this is located near vashi plaza and has good cheese quantity in pizzas so chew it enjoy it\n",
            "misspelled word:  imsince       correct word: since\n",
            "After: now this is the best dominos have had imsince long time this is located near vashi plaza and has good cheese quantity in pizzas so chew it enjoy it\n",
            "before: this dominos pizza outlet is located at the vashi near arenjia shopping complex visited this outlet with my bestfriend after exam we ordered one classic nonveg burgger pizza and one chicken taco maxicana the nonveg burger pizza was big in size and had tangy and yummy taste the served quantity was enough for one person based on its overall taste and quantity served this nonveg burger pizza deserves review points the chicken taco maxicana was crispy on the outside and had delicious rectangular grilled chicken patty inside this chicken maxicana deserves review points based on its taste and served quantity the ambience of the outlet is good the staff are nice in behaviour and attentive overall it was decent dinning experience review points food quality and taste served qunatity ambience service\n",
            "misspelled word:  burgger       correct word: burger\n",
            "After: this dominos pizza outlet is located at the vashi near arenjia shopping complex visited this outlet with my bestfriend after exam we ordered one classic nonveg burgger pizza and one chicken taco maxicana the nonveg burger pizza was big in size and had tangy and yummy taste the served quantity was enough for one person based on its overall taste and quantity served this nonveg burger pizza deserves review points the chicken taco maxicana was crispy on the outside and had delicious rectangular grilled chicken patty inside this chicken maxicana deserves review points based on its taste and served quantity the ambience of the outlet is good the staff are nice in behaviour and attentive overall it was decent dinning experience review points food quality and taste served qunatity ambience service\n",
            "before: this dominos pizza outlet is located at the vashi near arenjia shopping complex visited this outlet with my bestfriend after exam we ordered one classic nonveg burger pizza and one chicken taco maxicana the nonveg burger pizza was big in size and had tangy and yummy taste the served quantity was enough for one person based on its overall taste and quantity served this nonveg burger pizza deserves review points the chicken taco maxicana was crispy on the outside and had delicious rectangular grilled chicken patty inside this chicken maxicana deserves review points based on its taste and served quantity the ambience of the outlet is good the staff are nice in behaviour and attentive overall it was decent dinning experience review points food quality and taste served qunatity ambience service\n",
            "misspelled word:  qunatity       correct word: quantity\n",
            "After: this dominos pizza outlet is located at the vashi near arenjia shopping complex visited this outlet with my bestfriend after exam we ordered one classic nonveg burger pizza and one chicken taco maxicana the nonveg burger pizza was big in size and had tangy and yummy taste the served quantity was enough for one person based on its overall taste and quantity served this nonveg burger pizza deserves review points the chicken taco maxicana was crispy on the outside and had delicious rectangular grilled chicken patty inside this chicken maxicana deserves review points based on its taste and served quantity the ambience of the outlet is good the staff are nice in behaviour and attentive overall it was decent dinning experience review points food quality and taste served qunatity ambience service\n",
            "before: went there yesterday only had one pizza and garlic bread pizza was so delicious no doubts but they are charging more compared to other dominoz otherwise everything was awesome\n",
            "misspelled word:  dominoz       correct word: dominos\n",
            "After: went there yesterday only had one pizza and garlic bread pizza was so delicious no doubts but they are charging more compared to other dominoz otherwise everything was awesome\n",
            "before: dominos is usually really good this time the pizza was cold and sauggy and it was delivered in one and half hour very disappointed in dominoa\n",
            "misspelled word:  dominoa       correct word: dominos\n",
            "After: dominos is usually really good this time the pizza was cold and sauggy and it was delivered in one and half hour very disappointed in dominoa\n",
            "before: dominos is usually really good this time the pizza was cold and sauggy and it was delivered in one and half hour very disappointed in dominos\n",
            "misspelled word:  sauggy       correct word: saggy\n",
            "After: dominos is usually really good this time the pizza was cold and sauggy and it was delivered in one and half hour very disappointed in dominos\n",
            "before: hi had visited your restaurant yesterday at around and order for pizzas and coke it was rush hour and received it after mins which was made aware of while placing the order is appreciable but after awaiting for good mins one expects the pizza to be good but it wasnt even upto minimum standards both pizzas were dry saucing wasnt proper and above that the pizza had huge and clear bubbles very bad it wasnt even paying half the amount for that pizza\n",
            "misspelled word:  saucing       correct word: spacing\n",
            "After: hi had visited your restaurant yesterday at around and order for pizzas and coke it was rush hour and received it after mins which was made aware of while placing the order is appreciable but after awaiting for good mins one expects the pizza to be good but it wasnt even upto minimum standards both pizzas were dry saucing wasnt proper and above that the pizza had huge and clear bubbles very bad it wasnt even paying half the amount for that pizza\n",
            "before: was there on weekend in washi we ordered margarita pizza and cheese bust pizza margarita pizza was not it good taste as compare to regular taste\n",
            "misspelled word:  washi       correct word: washing\n",
            "After: was there on weekend in washi we ordered margarita pizza and cheese bust pizza margarita pizza was not it good taste as compare to regular taste\n",
            "before: im order at pm until pm then get the order the zomato converstion suddently corrupted need to log in back suppose to get the free pizza and need to show the conversation but unfortunate all the convesation gone very very very worse app and very bad domino pizza company actually order twice dominos the same thing happen at last need to pay for the pizza bravo dominos and zomato for such bad service the food is cold so bad\n",
            "misspelled word:  converstion       correct word: conversation\n",
            "After: im order at pm until pm then get the order the zomato converstion suddently corrupted need to log in back suppose to get the free pizza and need to show the conversation but unfortunate all the convesation gone very very very worse app and very bad domino pizza company actually order twice dominos the same thing happen at last need to pay for the pizza bravo dominos and zomato for such bad service the food is cold so bad\n",
            "before: im order at pm until pm then get the order the zomato conversation suddently corrupted need to log in back suppose to get the free pizza and need to show the conversation but unfortunate all the convesation gone very very very worse app and very bad domino pizza company actually order twice dominos the same thing happen at last need to pay for the pizza bravo dominos and zomato for such bad service the food is cold so bad\n",
            "misspelled word:  convesation       correct word: conversation\n",
            "After: im order at pm until pm then get the order the zomato conversation suddently corrupted need to log in back suppose to get the free pizza and need to show the conversation but unfortunate all the convesation gone very very very worse app and very bad domino pizza company actually order twice dominos the same thing happen at last need to pay for the pizza bravo dominos and zomato for such bad service the food is cold so bad\n",
            "before: nice place to visit for quick meal it offers deliver too lots of verity in pizza my favorite is cheese burts pizza three size verity is available that is small medium and large easy to reach as near highway good ambience nice food clean environment\n",
            "misspelled word:  burts       correct word: bursts\n",
            "After: nice place to visit for quick meal it offers deliver too lots of verity in pizza my favorite is cheese burts pizza three size verity is available that is small medium and large easy to reach as near highway good ambience nice food clean environment\n",
            "before: great service before time delivery ordered pepper babeque chicken pizza good taste\n",
            "misspelled word:  babeque       correct word: barbeque\n",
            "After: great service before time delivery ordered pepper babeque chicken pizza good taste\n",
            "before: food was cold sloggy\n",
            "misspelled word:  sloggy       correct word: soggy\n",
            "After: food was cold sloggy\n",
            "before: poor service from dominos the pizza was cold and one of the pizza was scattered and the upper part was sticked to the box the box was deshaped and the crust seemed like uncooked\n",
            "misspelled word:  deshaped       correct word: shaped\n",
            "After: poor service from dominos the pizza was cold and one of the pizza was scattered and the upper part was sticked to the box the box was deshaped and the crust seemed like uncooked\n",
            "before: delivery boy was so coperative\n",
            "misspelled word:  coperative       correct word: comparative\n",
            "After: delivery boy was so coperative\n",
            "before: less cheese less topings worst pizza\n",
            "misspelled word:  topings       correct word: topping\n",
            "After: less cheese less topings worst pizza\n",
            "before: location sector vashi ordered veg singles pizzas corn and onions review perfect pizzas and filled toppins nothing more to add on best singles pizzas service ambience quantity quality\n",
            "misspelled word:  toppins       correct word: topping\n",
            "After: location sector vashi ordered veg singles pizzas corn and onions review perfect pizzas and filled toppins nothing more to add on best singles pizzas service ambience quantity quality\n",
            "before: bad service every time to star mall in chembur have chiz bust pizzaa big price end chip pizaa have piza with chiz bust letal bit chiz end bad pizaa\n",
            "misspelled word:  piza       correct word: pizza\n",
            "After: bad service every time to star mall in chembur have chiz bust pizzaa big price end chip pizaa have piza with chiz bust letal bit chiz end bad pizaa\n",
            "before: bad service every time to star mall in chembur have chiz bust pizzaa big price end chip pizzaa have pizza with chiz bust letal bit chiz end bad pizzaa\n",
            "misspelled word:  pizzaa       correct word: pizza\n",
            "After: bad service every time to star mall in chembur have chiz bust pizzaa big price end chip pizzaa have pizza with chiz bust letal bit chiz end bad pizzaa\n",
            "before: dominoz is always my favourite pizza destination ive been to several outlet of dominos however today we ordered from vashi outlet we ordered pizza mania all the pizzas were made really nice its was good at taste only the delivery was pretty low it took an hour to reach our office destination it was really disappointment even called then personally and told them to put more of chillies flakes and oregano but they didnt bother at all however we really enjoyed the each bite of pizza especially pepper barbeque chicken chicken overloaded and chicken sausage would recommend to improve the delivery services\n",
            "misspelled word:  dominoz       correct word: dominos\n",
            "After: dominoz is always my favourite pizza destination ive been to several outlet of dominos however today we ordered from vashi outlet we ordered pizza mania all the pizzas were made really nice its was good at taste only the delivery was pretty low it took an hour to reach our office destination it was really disappointment even called then personally and told them to put more of chillies flakes and oregano but they didnt bother at all however we really enjoyed the each bite of pizza especially pepper barbeque chicken chicken overloaded and chicken sausage would recommend to improve the delivery services\n",
            "before: as well all know that dominos is the place where we can enjoy with our family friends etc dominos pizza is full of cheese love cheesy pizza the base of the pizza is also soft tasty dominos is the place where we can have party enjoy with our special once and can have quality time love dominos visit dominos when every im hungry its not too costly also its affordable for common people too enjy have fun at dominos yesterday\n",
            "misspelled word:  enjy       correct word: enjoy\n",
            "After: as well all know that dominos is the place where we can enjoy with our family friends etc dominos pizza is full of cheese love cheesy pizza the base of the pizza is also soft tasty dominos is the place where we can have party enjoy with our special once and can have quality time love dominos visit dominos when every im hungry its not too costly also its affordable for common people too enjy have fun at dominos yesterday\n",
            "before: nice place to visit for quick meal it offers deliver too lots of verity in pizza my favorite is cheese burts pizza three size verity is available that is small medium and large easy to reach as near highway\n",
            "misspelled word:  burts       correct word: bursts\n",
            "After: nice place to visit for quick meal it offers deliver too lots of verity in pizza my favorite is cheese burts pizza three size verity is available that is small medium and large easy to reach as near highway\n",
            "before: dominoes pizza is one thing which can turn me on no matter what not only the taste but aroma is also what makes one crazy cheese burst pizza melts in mouth leaves the taste for hours cheese burger is one thing dat adds feather in cap other than pizzas our all time favorite is mexican taco dominoes loving it again dominoes yeahh for me even if see an advertisement of dominoes on my tv hv to order pizza for me dominoes pizza love chicken barbecue pizza veggie cheese burst pizza yumm\n",
            "misspelled word:  yumm       correct word: yummy\n",
            "After: dominoes pizza is one thing which can turn me on no matter what not only the taste but aroma is also what makes one crazy cheese burst pizza melts in mouth leaves the taste for hours cheese burger is one thing dat adds feather in cap other than pizzas our all time favorite is mexican taco dominoes loving it again dominoes yeahh for me even if see an advertisement of dominoes on my tv hv to order pizza for me dominoes pizza love chicken barbecue pizza veggie cheese burst pizza yumm\n",
            "before: dominoes pizza is one thing which can turn me on no matter what not only the taste but aroma is also what makes one crazy cheese burst pizza melts in mouth leaves the taste for hours cheese burger is one thing dat adds feather in cap other than pizzas our all time favorite is mexican taco dominoes loving it again dominoes yeahh for me even if see an advertisement of dominoes on my tv hv to order pizza for me dominoes pizza love chicken barbecue pizza veggie cheese burst pizza yummy\n",
            "misspelled word:  yeahh       correct word: yeah\n",
            "After: dominoes pizza is one thing which can turn me on no matter what not only the taste but aroma is also what makes one crazy cheese burst pizza melts in mouth leaves the taste for hours cheese burger is one thing dat adds feather in cap other than pizzas our all time favorite is mexican taco dominoes loving it again dominoes yeahh for me even if see an advertisement of dominoes on my tv hv to order pizza for me dominoes pizza love chicken barbecue pizza veggie cheese burst pizza yummy\n",
            "before: dominos pizza is my all time favourite pizza had order periperi chicken which was spicy and really tasty and in vegg we ordered mexican green wave pizza which was also really good price wise reasonable quantity is also good\n",
            "misspelled word:  vegg       correct word: veg\n",
            "After: dominos pizza is my all time favourite pizza had order periperi chicken which was spicy and really tasty and in vegg we ordered mexican green wave pizza which was also really good price wise reasonable quantity is also good\n",
            "before: ive been here for too many times the service is good taste of the pizza is amazing love the dominos pizza love the farmhouse pizza and also vegie dilite but if you dont know the restaurant then you have to do struggle to find the outlet thats why ive given stars\n",
            "misspelled word:  vegie       correct word: veggies\n",
            "After: ive been here for too many times the service is good taste of the pizza is amazing love the dominos pizza love the farmhouse pizza and also vegie dilite but if you dont know the restaurant then you have to do struggle to find the outlet thats why ive given stars\n",
            "before: cheese burst is the best add on to have in dominos quick serving good service and clean place professionaly serves the pizza got many different pizzas with toppings\n",
            "misspelled word:  professionaly       correct word: unprofessional\n",
            "After: cheese burst is the best add on to have in dominos quick serving good service and clean place professionaly serves the pizza got many different pizzas with toppings\n",
            "before: its pretty small needs little maintaince but service is good staff is cooperative easily noticable from traffic besides kshirsagar hotel\n",
            "misspelled word:  maintaince       correct word: maintained\n",
            "After: its pretty small needs little maintaince but service is good staff is cooperative easily noticable from traffic besides kshirsagar hotel\n",
            "before: its pretty small needs little maintained but service is good staff is cooperative easily noticable from traffic besides kshirsagar hotel\n",
            "misspelled word:  noticable       correct word: noticeable\n",
            "After: its pretty small needs little maintained but service is good staff is cooperative easily noticable from traffic besides kshirsagar hotel\n",
            "before: no words just thing chizz burst pizza yummy\n",
            "misspelled word:  chizz       correct word: chiz\n",
            "After: no words just thing chizz burst pizza yummy\n",
            "before: ive been here many times with my friends and it always gave us satisfied soul well one really not need to review dominos even if you do thats cause of their different outlets my friends and always prefer dominos more then any other ones especially the vashi outlet right from their quick service to their mouth watering pizzas everything is just great but yes they really need to do something about their vantelation not all the dominos are same we usually go for cheese burst but this time we thought of trying something else and went for the pan pizza and it didnt disappoint us at all the taste was too good even in pan crust veg paradise is looded with veggies medium spicy and super yummy highly recommend one burger pizza does look like burger but taste totally like pizza it is available in both veg and non veg the price should be little low cause the size of it is quit small and didnt find it worth it farm house the classic one is good but not as good as the veg paradise veggie deluxe quattro cheese burst is must try pizza quattro farm maggi pizza comes in flavours cheese and chocolate and we went for chocolate naah of course we went for cheese mexican green wave quattro for maggi pizza was cheesy heaven great yumny one must try dont forget to ask if these is any offer going on at the counter follow grababitemumbai on instagram for more food and fun\n",
            "misspelled word:  looded       correct word: looked\n",
            "After: ive been here many times with my friends and it always gave us satisfied soul well one really not need to review dominos even if you do thats cause of their different outlets my friends and always prefer dominos more then any other ones especially the vashi outlet right from their quick service to their mouth watering pizzas everything is just great but yes they really need to do something about their vantelation not all the dominos are same we usually go for cheese burst but this time we thought of trying something else and went for the pan pizza and it didnt disappoint us at all the taste was too good even in pan crust veg paradise is looded with veggies medium spicy and super yummy highly recommend one burger pizza does look like burger but taste totally like pizza it is available in both veg and non veg the price should be little low cause the size of it is quit small and didnt find it worth it farm house the classic one is good but not as good as the veg paradise veggie deluxe quattro cheese burst is must try pizza quattro farm maggi pizza comes in flavours cheese and chocolate and we went for chocolate naah of course we went for cheese mexican green wave quattro for maggi pizza was cheesy heaven great yumny one must try dont forget to ask if these is any offer going on at the counter follow grababitemumbai on instagram for more food and fun\n",
            "before: ive been here many times with my friends and it always gave us satisfied soul well one really not need to review dominos even if you do thats cause of their different outlets my friends and always prefer dominos more then any other ones especially the vashi outlet right from their quick service to their mouth watering pizzas everything is just great but yes they really need to do something about their vantelation not all the dominos are same we usually go for cheese burst but this time we thought of trying something else and went for the pan pizza and it didnt disappoint us at all the taste was too good even in pan crust veg paradise is looked with veggies medium spicy and super yummy highly recommend one burger pizza does look like burger but taste totally like pizza it is available in both veg and non veg the price should be little low cause the size of it is quit small and didnt find it worth it farm house the classic one is good but not as good as the veg paradise veggie deluxe quattro cheese burst is must try pizza quattro farm maggi pizza comes in flavours cheese and chocolate and we went for chocolate naah of course we went for cheese mexican green wave quattro for maggi pizza was cheesy heaven great yumny one must try dont forget to ask if these is any offer going on at the counter follow grababitemumbai on instagram for more food and fun\n",
            "misspelled word:  vantelation       correct word: ventilation\n",
            "After: ive been here many times with my friends and it always gave us satisfied soul well one really not need to review dominos even if you do thats cause of their different outlets my friends and always prefer dominos more then any other ones especially the vashi outlet right from their quick service to their mouth watering pizzas everything is just great but yes they really need to do something about their vantelation not all the dominos are same we usually go for cheese burst but this time we thought of trying something else and went for the pan pizza and it didnt disappoint us at all the taste was too good even in pan crust veg paradise is looked with veggies medium spicy and super yummy highly recommend one burger pizza does look like burger but taste totally like pizza it is available in both veg and non veg the price should be little low cause the size of it is quit small and didnt find it worth it farm house the classic one is good but not as good as the veg paradise veggie deluxe quattro cheese burst is must try pizza quattro farm maggi pizza comes in flavours cheese and chocolate and we went for chocolate naah of course we went for cheese mexican green wave quattro for maggi pizza was cheesy heaven great yumny one must try dont forget to ask if these is any offer going on at the counter follow grababitemumbai on instagram for more food and fun\n",
            "before: ive been here many times with my friends and it always gave us satisfied soul well one really not need to review dominos even if you do thats cause of their different outlets my friends and always prefer dominos more then any other ones especially the vashi outlet right from their quick service to their mouth watering pizzas everything is just great but yes they really need to do something about their vantelation not all the dominos are same we usually go for cheese burst but this time we thought of trying something else and went for the pan pizza and it didnt disappoint us at all the taste was too good even in pan crust veg paradise is looded with veggies medium spicy and super yummy highly recommend one burger pizza does look like burger but taste totally like pizza it is available in both veg and non veg the price should be little low cause the size of it is quit small and didnt find it worth it farm house the classic one is good but not as good as the veg paradise veggie deluxe quattro cheese burst is must try pizza quattro farm maggi pizza comes in flavours cheese and chocolate and we went for chocolate naah of course we went for cheese mexican green wave quattro for maggi pizza was cheesy heaven great yumny one must try dont forget to ask if these is any offer going on at the counter follow grababitemumbai on instagram for more food and fun\n",
            "misspelled word:  looded       correct word: looked\n",
            "After: ive been here many times with my friends and it always gave us satisfied soul well one really not need to review dominos even if you do thats cause of their different outlets my friends and always prefer dominos more then any other ones especially the vashi outlet right from their quick service to their mouth watering pizzas everything is just great but yes they really need to do something about their vantelation not all the dominos are same we usually go for cheese burst but this time we thought of trying something else and went for the pan pizza and it didnt disappoint us at all the taste was too good even in pan crust veg paradise is looded with veggies medium spicy and super yummy highly recommend one burger pizza does look like burger but taste totally like pizza it is available in both veg and non veg the price should be little low cause the size of it is quit small and didnt find it worth it farm house the classic one is good but not as good as the veg paradise veggie deluxe quattro cheese burst is must try pizza quattro farm maggi pizza comes in flavours cheese and chocolate and we went for chocolate naah of course we went for cheese mexican green wave quattro for maggi pizza was cheesy heaven great yumny one must try dont forget to ask if these is any offer going on at the counter follow grababitemumbai on instagram for more food and fun\n",
            "before: ive been here many times with my friends and it always gave us satisfied soul well one really not need to review dominos even if you do thats cause of their different outlets my friends and always prefer dominos more then any other ones especially the vashi outlet right from their quick service to their mouth watering pizzas everything is just great but yes they really need to do something about their vantelation not all the dominos are same we usually go for cheese burst but this time we thought of trying something else and went for the pan pizza and it didnt disappoint us at all the taste was too good even in pan crust veg paradise is looked with veggies medium spicy and super yummy highly recommend one burger pizza does look like burger but taste totally like pizza it is available in both veg and non veg the price should be little low cause the size of it is quit small and didnt find it worth it farm house the classic one is good but not as good as the veg paradise veggie deluxe quattro cheese burst is must try pizza quattro farm maggi pizza comes in flavours cheese and chocolate and we went for chocolate naah of course we went for cheese mexican green wave quattro for maggi pizza was cheesy heaven great yumny one must try dont forget to ask if these is any offer going on at the counter follow grababitemumbai on instagram for more food and fun\n",
            "misspelled word:  vantelation       correct word: ventilation\n",
            "After: ive been here many times with my friends and it always gave us satisfied soul well one really not need to review dominos even if you do thats cause of their different outlets my friends and always prefer dominos more then any other ones especially the vashi outlet right from their quick service to their mouth watering pizzas everything is just great but yes they really need to do something about their vantelation not all the dominos are same we usually go for cheese burst but this time we thought of trying something else and went for the pan pizza and it didnt disappoint us at all the taste was too good even in pan crust veg paradise is looked with veggies medium spicy and super yummy highly recommend one burger pizza does look like burger but taste totally like pizza it is available in both veg and non veg the price should be little low cause the size of it is quit small and didnt find it worth it farm house the classic one is good but not as good as the veg paradise veggie deluxe quattro cheese burst is must try pizza quattro farm maggi pizza comes in flavours cheese and chocolate and we went for chocolate naah of course we went for cheese mexican green wave quattro for maggi pizza was cheesy heaven great yumny one must try dont forget to ask if these is any offer going on at the counter follow grababitemumbai on instagram for more food and fun\n",
            "before: absolutely disgusted with the online handling process from the team and the branch manager unavailability of certain stuff is not justified by charging online and rudely stating that the same amount will be refunded after days they also have the audacity of hanging up on you when question of this sort is asked if any senior management personnel from jubliiant foods is reading this request your zonal team to get grip on this in these times we look at customer delight at the bare minimum this is not even close to that wish you all the best\n",
            "misspelled word:  unavailability       correct word: availability\n",
            "After: absolutely disgusted with the online handling process from the team and the branch manager unavailability of certain stuff is not justified by charging online and rudely stating that the same amount will be refunded after days they also have the audacity of hanging up on you when question of this sort is asked if any senior management personnel from jubliiant foods is reading this request your zonal team to get grip on this in these times we look at customer delight at the bare minimum this is not even close to that wish you all the best\n",
            "before: absolutely disgusted with the online handling process from the team and the branch manager availability of certain stuff is not justified by charging online and rudely stating that the same amount will be refunded after days they also have the audacity of hanging up on you when question of this sort is asked if any senior management personnel from jubliiant foods is reading this request your zonal team to get grip on this in these times we look at customer delight at the bare minimum this is not even close to that wish you all the best\n",
            "misspelled word:  jubliiant       correct word: jubilant\n",
            "After: absolutely disgusted with the online handling process from the team and the branch manager availability of certain stuff is not justified by charging online and rudely stating that the same amount will be refunded after days they also have the audacity of hanging up on you when question of this sort is asked if any senior management personnel from jubliiant foods is reading this request your zonal team to get grip on this in these times we look at customer delight at the bare minimum this is not even close to that wish you all the best\n",
            "before: ate here after long time had pepper barbeque peri perri chicken the pepper barbecue hit the spot but peri peri failed to do so the new crust choice was great was able to eat every inch well it was nice experience and was slightly better in terms of quality compared to other pizza outlets\n",
            "misspelled word:  perri       correct word: peri\n",
            "After: ate here after long time had pepper barbeque peri perri chicken the pepper barbecue hit the spot but peri peri failed to do so the new crust choice was great was able to eat every inch well it was nice experience and was slightly better in terms of quality compared to other pizza outlets\n",
            "before: all they do is take your number and send you stupid promotional messages that too which cannot be revoked nor the staff has any knowledge no idea how can someone optin their customers number without their consent the bread baked will depend on their mood you wont receive the same taste twice\n",
            "misspelled word:  optin       correct word: options\n",
            "After: all they do is take your number and send you stupid promotional messages that too which cannot be revoked nor the staff has any knowledge no idea how can someone optin their customers number without their consent the bread baked will depend on their mood you wont receive the same taste twice\n",
            "before: ohk nt domini fan ever but frds dragged me first thing ac is nt working got confused whch was more hot the pizza or meohk then the staff was friendly they took my order and also suggested me various offers so they really love their customers tats nice to see the new paneer makhani pizza was better then the margerita pizza and due to large thick breads the stomach gets filled hmm ohk if you want to full your stomach and an average budget then you can visit here and the extra rating for the wonderful clean washroom they have guys improve your ac bcz hv seen so many ppl already complaing abot it\n",
            "misspelled word:  margerita       correct word: margherita\n",
            "After: ohk nt domini fan ever but frds dragged me first thing ac is nt working got confused whch was more hot the pizza or meohk then the staff was friendly they took my order and also suggested me various offers so they really love their customers tats nice to see the new paneer makhani pizza was better then the margerita pizza and due to large thick breads the stomach gets filled hmm ohk if you want to full your stomach and an average budget then you can visit here and the extra rating for the wonderful clean washroom they have guys improve your ac bcz hv seen so many ppl already complaing abot it\n",
            "before: ohk nt domini fan ever but frds dragged me first thing ac is nt working got confused whch was more hot the pizza or meohk then the staff was friendly they took my order and also suggested me various offers so they really love their customers tats nice to see the new paneer makhani pizza was better then the margherita pizza and due to large thick breads the stomach gets filled hmm ohk if you want to full your stomach and an average budget then you can visit here and the extra rating for the wonderful clean washroom they have guys improve your ac bcz hv seen so many ppl already complaing abot it\n",
            "misspelled word:  whch       correct word: which\n",
            "After: ohk nt domini fan ever but frds dragged me first thing ac is nt working got confused whch was more hot the pizza or meohk then the staff was friendly they took my order and also suggested me various offers so they really love their customers tats nice to see the new paneer makhani pizza was better then the margherita pizza and due to large thick breads the stomach gets filled hmm ohk if you want to full your stomach and an average budget then you can visit here and the extra rating for the wonderful clean washroom they have guys improve your ac bcz hv seen so many ppl already complaing abot it\n",
            "before: no dount dominos is always best\n",
            "misspelled word:  dount       correct word: dont\n",
            "After: no dount dominos is always best\n",
            "before: dominos pizzaa we got offer and got pizza worth for when you visit make sure that you ask them is their any offers going on food was always tasty yummy\n",
            "misspelled word:  pizzaa       correct word: pizza\n",
            "After: dominos pizzaa we got offer and got pizza worth for when you visit make sure that you ask them is their any offers going on food was always tasty yummy\n",
            "before: dominos pizza needs no introduction it is well known household name associated with pizzas used to love dominos once but then started to realize it is really overrated tried dominos after long time recently at the vashi outlet which is located at sector ambience is fine seating is decent just like any other dominos outlet since was in hurry packed the pizzas and took home packing was done fine but they packed very little chilli flakes tried the pepper pizza and the pan delux veg pizza both tasted decent but the only problem have had with dominos is the little filling and big uncooked raw edges overall decent experience at dominos again still not big fan cheers\n",
            "misspelled word:  delux       correct word: deluxe\n",
            "After: dominos pizza needs no introduction it is well known household name associated with pizzas used to love dominos once but then started to realize it is really overrated tried dominos after long time recently at the vashi outlet which is located at sector ambience is fine seating is decent just like any other dominos outlet since was in hurry packed the pizzas and took home packing was done fine but they packed very little chilli flakes tried the pepper pizza and the pan delux veg pizza both tasted decent but the only problem have had with dominos is the little filling and big uncooked raw edges overall decent experience at dominos again still not big fan cheers\n",
            "before: good center for pizza in airoli area as piza lover love pizza from there good service as well rating location foodservicepriceoverall rating\n",
            "misspelled word:  piza       correct word: pizza\n",
            "After: good center for pizza in airoli area as piza lover love pizza from there good service as well rating location foodservicepriceoverall rating\n",
            "before: space is verry little even cant seat proper on chair change the loaction please\n",
            "misspelled word:  loaction       correct word: location\n",
            "After: space is verry little even cant seat proper on chair change the loaction please\n",
            "before: dominos is the best place if you are craving for pizza like domino over pizza hut their cheese burst are die for soo freaking chessy new addition to their menu burger pizza looks like burger and taste like pizza tried their burger pizza today it was superb soo chessy hot and soft with lot of veggies and chicken pieces its my new favourite now guyss what are waiting for just goo and hog it youll definitely love it you cant miss this piece of heaven\n",
            "misspelled word:  chessy       correct word: cheesy\n",
            "After: dominos is the best place if you are craving for pizza like domino over pizza hut their cheese burst are die for soo freaking chessy new addition to their menu burger pizza looks like burger and taste like pizza tried their burger pizza today it was superb soo chessy hot and soft with lot of veggies and chicken pieces its my new favourite now guyss what are waiting for just goo and hog it youll definitely love it you cant miss this piece of heaven\n",
            "before: dominos is the best place if you are craving for pizza like domino over pizza hut their cheese burst are die for soo freaking cheesy new addition to their menu burger pizza looks like burger and taste like pizza tried their burger pizza today it was superb soo cheesy hot and soft with lot of veggies and chicken pieces its my new favourite now guyss what are waiting for just goo and hog it youll definitely love it you cant miss this piece of heaven\n",
            "misspelled word:  guyss       correct word: guys\n",
            "After: dominos is the best place if you are craving for pizza like domino over pizza hut their cheese burst are die for soo freaking cheesy new addition to their menu burger pizza looks like burger and taste like pizza tried their burger pizza today it was superb soo cheesy hot and soft with lot of veggies and chicken pieces its my new favourite now guyss what are waiting for just goo and hog it youll definitely love it you cant miss this piece of heaven\n",
            "before: really great taste and quantity bbq and mexicanas are my favorite but even the seventh heaven and chicken dominator didnt disappoint either bit less than mexicana still nonveg supreme is also great one would surely recommend this to everyone in my group keep up the good work guys\n",
            "misspelled word:  mexicanas       correct word: mexican\n",
            "After: really great taste and quantity bbq and mexicanas are my favorite but even the seventh heaven and chicken dominator didnt disappoint either bit less than mexicana still nonveg supreme is also great one would surely recommend this to everyone in my group keep up the good work guys\n",
            "before: mexcian green wave county special along with margarita pizza with cheese brust pan crust thin crust are too delicious to have when it comes to side order the veg italian in white sauce choco lava cake butterscoch mousse and stuffed garlic bread are vry much yumieelicious over all the ambience and service are good perfect\n",
            "misspelled word:  brust       correct word: bust\n",
            "After: mexcian green wave county special along with margarita pizza with cheese brust pan crust thin crust are too delicious to have when it comes to side order the veg italian in white sauce choco lava cake butterscoch mousse and stuffed garlic bread are vry much yumieelicious over all the ambience and service are good perfect\n",
            "before: mexcian green wave county special along with margarita pizza with cheese bust pan crust thin crust are too delicious to have when it comes to side order the veg italian in white sauce choco lava cake butterscoch mousse and stuffed garlic bread are vry much yumieelicious over all the ambience and service are good perfect\n",
            "misspelled word:  butterscoch       correct word: butterscotch\n",
            "After: mexcian green wave county special along with margarita pizza with cheese bust pan crust thin crust are too delicious to have when it comes to side order the veg italian in white sauce choco lava cake butterscoch mousse and stuffed garlic bread are vry much yumieelicious over all the ambience and service are good perfect\n",
            "before: mexcian green wave county special along with margarita pizza with cheese bust pan crust thin crust are too delicious to have when it comes to side order the veg italian in white sauce choco lava cake butterscotch mousse and stuffed garlic bread are vry much yumieelicious over all the ambience and service are good perfect\n",
            "misspelled word:  mexcian       correct word: mexican\n",
            "After: mexcian green wave county special along with margarita pizza with cheese bust pan crust thin crust are too delicious to have when it comes to side order the veg italian in white sauce choco lava cake butterscotch mousse and stuffed garlic bread are vry much yumieelicious over all the ambience and service are good perfect\n",
            "before: mexican green wave county special along with margarita pizza with cheese bust pan crust thin crust are too delicious to have when it comes to side order the veg italian in white sauce choco lava cake butterscotch mousse and stuffed garlic bread are vry much yumieelicious over all the ambience and service are good perfect\n",
            "misspelled word:  vry       correct word: very\n",
            "After: mexican green wave county special along with margarita pizza with cheese bust pan crust thin crust are too delicious to have when it comes to side order the veg italian in white sauce choco lava cake butterscotch mousse and stuffed garlic bread are vry much yumieelicious over all the ambience and service are good perfect\n",
            "before: had been ages since we ordered for dominos we got our order home delivered the person taking the order wasnt aware of the new range of pizzas just launched by vikas khanna thought wouldnt take chance if he wasnt aware they wudnt have sold any of them hence decided to stick by our tried and tested fiery chicken pizza and garlic bread with dip pizza was amazing as usual and pipping hot dont think anyone serves better garlic bread than dominos loved the overall experience though hope could taste the new range of pizzas\n",
            "misspelled word:  wudnt       correct word: wouldnt\n",
            "After: had been ages since we ordered for dominos we got our order home delivered the person taking the order wasnt aware of the new range of pizzas just launched by vikas khanna thought wouldnt take chance if he wasnt aware they wudnt have sold any of them hence decided to stick by our tried and tested fiery chicken pizza and garlic bread with dip pizza was amazing as usual and pipping hot dont think anyone serves better garlic bread than dominos loved the overall experience though hope could taste the new range of pizzas\n",
            "before: being just opposite to my home very convenient option to order at home which they are really fast at my personal fav in pizza is five pepper cheese burst the actual attraction is more of the sides one can simply order those instead of an pizza chicken wings are real juicy and awesome you can start with garlic bread and end with choco lava cake they are open till quite late in night so if late from offc and dont wanna waste time in making domines is actually happy home delivery\n",
            "misspelled word:  domines       correct word: dominos\n",
            "After: being just opposite to my home very convenient option to order at home which they are really fast at my personal fav in pizza is five pepper cheese burst the actual attraction is more of the sides one can simply order those instead of an pizza chicken wings are real juicy and awesome you can start with garlic bread and end with choco lava cake they are open till quite late in night so if late from offc and dont wanna waste time in making domines is actually happy home delivery\n",
            "before: being just opposite to my home very convenient option to order at home which they are really fast at my personal fav in pizza is five pepper cheese burst the actual attraction is more of the sides one can simply order those instead of an pizza chicken wings are real juicy and awesome you can start with garlic bread and end with choco lava cake they are open till quite late in night so if late from offc and dont wanna waste time in making dominos is actually happy home delivery\n",
            "misspelled word:  offc       correct word: off\n",
            "After: being just opposite to my home very convenient option to order at home which they are really fast at my personal fav in pizza is five pepper cheese burst the actual attraction is more of the sides one can simply order those instead of an pizza chicken wings are real juicy and awesome you can start with garlic bread and end with choco lava cake they are open till quite late in night so if late from offc and dont wanna waste time in making dominos is actually happy home delivery\n",
            "before: if you love cheessee inside you pizza that wll be hot and dipping from your fingers and you are liking it then you can come to dominoes am not die heart fan of this place but could say the cheese bust pizza has maintained its standard though to be honest there are few outlets here the cheese bust doesnot taste like the same and nor you might get the feeling of have something different went through review and would say that there are few things which we order for home delivery and the quality and quantity used is not the same even the choco lava cake was not tasting the same price point it is fair ambiance is good they keep it neat and clean just work on not yelling around much it really put down your image though the team is over excited every time but it sometimes it doesnt looks good and ended up thinking that there was some argument you need to work on your home delivery bec it not about only delivering pizza within min but delivering quality pizzas even the garlic breads and tacos have changed the taste and crispness has gone down hope to see something better\n",
            "misspelled word:  cheessee       correct word: cheese\n",
            "After: if you love cheessee inside you pizza that wll be hot and dipping from your fingers and you are liking it then you can come to dominoes am not die heart fan of this place but could say the cheese bust pizza has maintained its standard though to be honest there are few outlets here the cheese bust doesnot taste like the same and nor you might get the feeling of have something different went through review and would say that there are few things which we order for home delivery and the quality and quantity used is not the same even the choco lava cake was not tasting the same price point it is fair ambiance is good they keep it neat and clean just work on not yelling around much it really put down your image though the team is over excited every time but it sometimes it doesnt looks good and ended up thinking that there was some argument you need to work on your home delivery bec it not about only delivering pizza within min but delivering quality pizzas even the garlic breads and tacos have changed the taste and crispness has gone down hope to see something better\n",
            "before: if you love cheese inside you pizza that wll be hot and dipping from your fingers and you are liking it then you can come to dominoes am not die heart fan of this place but could say the cheese bust pizza has maintained its standard though to be honest there are few outlets here the cheese bust doesnot taste like the same and nor you might get the feeling of have something different went through review and would say that there are few things which we order for home delivery and the quality and quantity used is not the same even the choco lava cake was not tasting the same price point it is fair ambiance is good they keep it neat and clean just work on not yelling around much it really put down your image though the team is over excited every time but it sometimes it doesnt looks good and ended up thinking that there was some argument you need to work on your home delivery bec it not about only delivering pizza within min but delivering quality pizzas even the garlic breads and tacos have changed the taste and crispness has gone down hope to see something better\n",
            "misspelled word:  wll       correct word: well\n",
            "After: if you love cheese inside you pizza that wll be hot and dipping from your fingers and you are liking it then you can come to dominoes am not die heart fan of this place but could say the cheese bust pizza has maintained its standard though to be honest there are few outlets here the cheese bust doesnot taste like the same and nor you might get the feeling of have something different went through review and would say that there are few things which we order for home delivery and the quality and quantity used is not the same even the choco lava cake was not tasting the same price point it is fair ambiance is good they keep it neat and clean just work on not yelling around much it really put down your image though the team is over excited every time but it sometimes it doesnt looks good and ended up thinking that there was some argument you need to work on your home delivery bec it not about only delivering pizza within min but delivering quality pizzas even the garlic breads and tacos have changed the taste and crispness has gone down hope to see something better\n",
            "before: the new range of pizzas they have come with are lipsmacking especially the dominator the tacos are tasty too\n",
            "misspelled word:  lipsmacking       correct word: smacking\n",
            "After: the new range of pizzas they have come with are lipsmacking especially the dominator the tacos are tasty too\n",
            "before: delivery guyz was good and friendly fast delivery love it hot and fresh pizza\n",
            "misspelled word:  guyz       correct word: guy\n",
            "After: delivery guyz was good and friendly fast delivery love it hot and fresh pizza\n",
            "before: do you even call this pizza pathetic quality by dominos very disappointed actually this is the worst pizza have had no proper base and the cheese quality was very poor banane wale ne dil se bilkul nahi banaya\n",
            "misspelled word:  nahi       correct word: nai\n",
            "After: do you even call this pizza pathetic quality by dominos very disappointed actually this is the worst pizza have had no proper base and the cheese quality was very poor banane wale ne dil se bilkul nahi banaya\n",
            "before: woww\n",
            "misspelled word:  woww       correct word: wow\n",
            "After: woww\n",
            "before: cheesy delious yummy tasty\n",
            "misspelled word:  delious       correct word: delicious\n",
            "After: cheesy delious yummy tasty\n",
            "before: nice serivce\n",
            "misspelled word:  serivce       correct word: service\n",
            "After: nice serivce\n",
            "before: fast service and taste awesome amidst the pandemic with due measures and following the rules appropriate service as promised was provided thumbsup for the rider\n",
            "misspelled word:  thumbsup       correct word: thumbs\n",
            "After: fast service and taste awesome amidst the pandemic with due measures and following the rules appropriate service as promised was provided thumbsup for the rider\n",
            "before: the pizza store which love the most is always dominoz whenever have to eat pizza always go there their services and pizza quality is superb\n",
            "misspelled word:  dominoz       correct word: dominos\n",
            "After: the pizza store which love the most is always dominoz whenever have to eat pizza always go there their services and pizza quality is superb\n",
            "before: good home delivery service peppy paneer with cheese burst is best one must try if are panner and pizza lover\n",
            "misspelled word:  panner       correct word: manner\n",
            "After: good home delivery service peppy paneer with cheese burst is best one must try if are panner and pizza lover\n",
            "before: the pizzas from dominos are undoubtedly the best this is the best place to hangout with your familyfriends this is one of the best outlets of dominos so far the service here is great food we ordered margherita pizza this is one of the cheesest pizza from their menu and its an all time favourite golden corn pizza if you love corn you will definitely love this one peppy paneer this one is really yummy with the perfect amount of spicyness choco lava if you havent tried this yet you do not know what you are missing on whenever visit dominos definitely order this\n",
            "misspelled word:  cheesest       correct word: cheese\n",
            "After: the pizzas from dominos are undoubtedly the best this is the best place to hangout with your familyfriends this is one of the best outlets of dominos so far the service here is great food we ordered margherita pizza this is one of the cheesest pizza from their menu and its an all time favourite golden corn pizza if you love corn you will definitely love this one peppy paneer this one is really yummy with the perfect amount of spicyness choco lava if you havent tried this yet you do not know what you are missing on whenever visit dominos definitely order this\n",
            "before: pizza quality excellentand service is also good delivery in time and appreciable owesome test in this lockdown giving service so feeling thankful\n",
            "misspelled word:  excellentand       correct word: excellent\n",
            "After: pizza quality excellentand service is also good delivery in time and appreciable owesome test in this lockdown giving service so feeling thankful\n",
            "before: pizza quality excellent service is also good delivery in time and appreciable owesome test in this lockdown giving service so feeling thankful\n",
            "misspelled word:  owesome       correct word: awesome\n",
            "After: pizza quality excellent service is also good delivery in time and appreciable owesome test in this lockdown giving service so feeling thankful\n",
            "before: ordered paneer and onion regular pizza and margerita pizza with discount the portion was quite big and filled with suffiecient cheese and mayo of paneer onion the margerita pizza was not up to the point as it was just simple pizza with tiny surface of cheese and margerita sause it felt very rough while eating but for paneer onion will give out of as per taste quality value\n",
            "misspelled word:  margerita       correct word: margherita\n",
            "After: ordered paneer and onion regular pizza and margerita pizza with discount the portion was quite big and filled with suffiecient cheese and mayo of paneer onion the margerita pizza was not up to the point as it was just simple pizza with tiny surface of cheese and margerita sause it felt very rough while eating but for paneer onion will give out of as per taste quality value\n",
            "before: ordered paneer and onion regular pizza and margherita pizza with discount the portion was quite big and filled with suffiecient cheese and mayo of paneer onion the margherita pizza was not up to the point as it was just simple pizza with tiny surface of cheese and margherita sause it felt very rough while eating but for paneer onion will give out of as per taste quality value\n",
            "misspelled word:  suffiecient       correct word: sufficient\n",
            "After: ordered paneer and onion regular pizza and margherita pizza with discount the portion was quite big and filled with suffiecient cheese and mayo of paneer onion the margherita pizza was not up to the point as it was just simple pizza with tiny surface of cheese and margherita sause it felt very rough while eating but for paneer onion will give out of as per taste quality value\n",
            "before: ordered paneer and onion regular pizza and margherita pizza with discount the portion was quite big and filled with sufficient cheese and mayo of paneer onion the margherita pizza was not up to the point as it was just simple pizza with tiny surface of cheese and margherita sause it felt very rough while eating but for paneer onion will give out of as per taste quality value\n",
            "misspelled word:  sause       correct word: sausage\n",
            "After: ordered paneer and onion regular pizza and margherita pizza with discount the portion was quite big and filled with sufficient cheese and mayo of paneer onion the margherita pizza was not up to the point as it was just simple pizza with tiny surface of cheese and margherita sause it felt very rough while eating but for paneer onion will give out of as per taste quality value\n",
            "before: visted this outlet for the first time ordered farm house extra cheese the taste was okay but the ambience not up to the mark cleanliness is an issue only one counter was working they did not accept sodexo meal card nothing was available in cold drinks service needs to be seriously relooked\n",
            "misspelled word:  visted       correct word: visited\n",
            "After: visted this outlet for the first time ordered farm house extra cheese the taste was okay but the ambience not up to the mark cleanliness is an issue only one counter was working they did not accept sodexo meal card nothing was available in cold drinks service needs to be seriously relooked\n",
            "before: visited this outlet for the first time ordered farm house extra cheese the taste was okay but the ambience not up to the mark cleanliness is an issue only one counter was working they did not accept sodexo meal card nothing was available in cold drinks service needs to be seriously relooked\n",
            "misspelled word:  relooked       correct word: looked\n",
            "After: visited this outlet for the first time ordered farm house extra cheese the taste was okay but the ambience not up to the mark cleanliness is an issue only one counter was working they did not accept sodexo meal card nothing was available in cold drinks service needs to be seriously relooked\n",
            "before: good setup its duplex dominos sitting avelable in ground flour and sitting st flour good setup as usual its th august nd its nice to be here\n",
            "misspelled word:  avelable       correct word: available\n",
            "After: good setup its duplex dominos sitting avelable in ground flour and sitting st flour good setup as usual its th august nd its nice to be here\n",
            "before: all the four stars for the pizzas pizzas offered here are just mouthwateringly delicious tried peppy paneer veg extravaganza indie tandoor and aussie bbq veg all with cheese burst because cb here is ambience and services here are average most of the time visited during lunch hours and didnt had the seasonings and table cleaned hope this will be fixed and looking forward to visiting again last but not least the veg zingy parcel was beyond expectations and vfm too must try\n",
            "misspelled word:  mouthwateringly       correct word: mouthwatering\n",
            "After: all the four stars for the pizzas pizzas offered here are just mouthwateringly delicious tried peppy paneer veg extravaganza indie tandoor and aussie bbq veg all with cheese burst because cb here is ambience and services here are average most of the time visited during lunch hours and didnt had the seasonings and table cleaned hope this will be fixed and looking forward to visiting again last but not least the veg zingy parcel was beyond expectations and vfm too must try\n",
            "before: pizza are necessary for living so dominos has been my favourite place since years margharita farmhouse are the best among all and apart from pizza garlic bread and choco lava cake are must try for all\n",
            "misspelled word:  margharita       correct word: margherita\n",
            "After: pizza are necessary for living so dominos has been my favourite place since years margharita farmhouse are the best among all and apart from pizza garlic bread and choco lava cake are must try for all\n",
            "before: who doesnt loove pizza everybody does just like any other dominos with good hospitality just near to nigadi bridge so it is very convenient to grab bite of pizza on the way home or take away\n",
            "misspelled word:  loove       correct word: love\n",
            "After: who doesnt loove pizza everybody does just like any other dominos with good hospitality just near to nigadi bridge so it is very convenient to grab bite of pizza on the way home or take away\n",
            "before: again one more pathetic experience ordered pizza at pm and long wait till and still no any delivery attempt from store so went to collect pizza at store thought atleast pizza to accha hoga but its like normal roadside pizza\n",
            "misspelled word:  hoga       correct word: hog\n",
            "After: again one more pathetic experience ordered pizza at pm and long wait till and still no any delivery attempt from store so went to collect pizza at store thought atleast pizza to accha hoga but its like normal roadside pizza\n",
            "before: did not get chilli flaxe and origano with pizza how could you eat pizza without it bad experience\n",
            "misspelled word:  origano       correct word: oregano\n",
            "After: did not get chilli flaxe and origano with pizza how could you eat pizza without it bad experience\n",
            "before: pizzas are very good even the staff is very nice and friendly which is cool pocket friendly option for teens to go with ur frnds\n",
            "misspelled word:  frnds       correct word: friends\n",
            "After: pizzas are very good even the staff is very nice and friendly which is cool pocket friendly option for teens to go with ur frnds\n",
            "before: the pizza of good the limitations of the order was it do not have the organo please provide the same for the next time\n",
            "misspelled word:  organo       correct word: oregano\n",
            "After: the pizza of good the limitations of the order was it do not have the organo please provide the same for the next time\n",
            "before: delivered to me in between the given time minute one should try chicken fiesta cheese brust best crispy the one thing is that its is fully loaded with non veg\n",
            "misspelled word:  brust       correct word: bust\n",
            "After: delivered to me in between the given time minute one should try chicken fiesta cheese brust best crispy the one thing is that its is fully loaded with non veg\n",
            "before: pizza was not baked properly and its taste was not as it regurly it is we are regular dominos costumer and we are highly unsatisfied by your yesterdays sérvice taste was soo bad that we were unable to eat the pizza we totally threw them in dustbin\n",
            "misspelled word:  regurly       correct word: regularly\n",
            "After: pizza was not baked properly and its taste was not as it regurly it is we are regular dominos costumer and we are highly unsatisfied by your yesterdays sérvice taste was soo bad that we were unable to eat the pizza we totally threw them in dustbin\n",
            "before: pizza was not baked properly and its taste was not as it regularly it is we are regular dominos costumer and we are highly unsatisfied by your yesterdays sérvice taste was soo bad that we were unable to eat the pizza we totally threw them in dustbin\n",
            "misspelled word:  sérvice       correct word: service\n",
            "After: pizza was not baked properly and its taste was not as it regularly it is we are regular dominos costumer and we are highly unsatisfied by your yesterdays sérvice taste was soo bad that we were unable to eat the pizza we totally threw them in dustbin\n",
            "before: worst service very bad service providing by zomato only you promot yourself but not giving service as required to customer\n",
            "misspelled word:  promot       correct word: promo\n",
            "After: worst service very bad service providing by zomato only you promot yourself but not giving service as required to customer\n",
            "before: as always pizza makes happy that too dominos this is place we hangout on fridays we ordered paneer makhni peppy paneer farmhouse and veggie delite are some pics and yeah we did try tacco as well it was good\n",
            "misspelled word:  tacco       correct word: taco\n",
            "After: as always pizza makes happy that too dominos this is place we hangout on fridays we ordered paneer makhni peppy paneer farmhouse and veggie delite are some pics and yeah we did try tacco as well it was good\n",
            "before: taste differes from what we get at the store or differs during offer period\n",
            "misspelled word:  differes       correct word: different\n",
            "After: taste differes from what we get at the store or differs during offer period\n",
            "before: good pizzas greate varieties\n",
            "misspelled word:  greate       correct word: greater\n",
            "After: good pizzas greate varieties\n",
            "before: delivary was not in time\n",
            "misspelled word:  delivary       correct word: delivery\n",
            "After: delivary was not in time\n",
            "before: coke is not received whyy\n",
            "misspelled word:  whyy       correct word: why\n",
            "After: coke is not received whyy\n",
            "before: the pizza was low on sauce and hardly had any salt the jalapeños were rare to find tomatoes were raw you could improve on the toppings both quality quantity wise\n",
            "misspelled word:  jalapeños       correct word: jalapenos\n",
            "After: the pizza was low on sauce and hardly had any salt the jalapeños were rare to find tomatoes were raw you could improve on the toppings both quality quantity wise\n",
            "before: first delivery was way too late than estimated time and then recieve burnt and wrong order either replace this or repay me my money what kind of cheese and corn is this\n",
            "misspelled word:  recieve       correct word: receive\n",
            "After: first delivery was way too late than estimated time and then recieve burnt and wrong order either replace this or repay me my money what kind of cheese and corn is this\n",
            "before: the base of non veg overloaded was baad really very bad\n",
            "misspelled word:  baad       correct word: bad\n",
            "After: the base of non veg overloaded was baad really very bad\n",
            "before: ordered different pizza and recived both farmhouse pizza same\n",
            "misspelled word:  recived       correct word: received\n",
            "After: ordered different pizza and recived both farmhouse pizza same\n",
            "before: no origano seasoning served pizza was already cold and unchewable\n",
            "misspelled word:  origano       correct word: oregano\n",
            "After: no origano seasoning served pizza was already cold and unchewable\n",
            "before: this is one of first pizza outlet started in nigdi so pizza lovers this is ver special talking about taste as it is well known chain they having that taste dominos known for having good seating capacity adding more tables could be better staff is friendly home delevery also fast overall as expected service and taste\n",
            "misspelled word:  delevery       correct word: delivery\n",
            "After: this is one of first pizza outlet started in nigdi so pizza lovers this is ver special talking about taste as it is well known chain they having that taste dominos known for having good seating capacity adding more tables could be better staff is friendly home delevery also fast overall as expected service and taste\n",
            "before: for the online delivery from this branch is useless they will call you to ask the address and then say that they will reach near the lanmark and call you then someone else ends up calling you from the branch saying that the delivery guy does not have mobile so please go and collect it from that landmark or the order will be cancelled bad experience\n",
            "misspelled word:  lanmark       correct word: landmark\n",
            "After: for the online delivery from this branch is useless they will call you to ask the address and then say that they will reach near the lanmark and call you then someone else ends up calling you from the branch saying that the delivery guy does not have mobile so please go and collect it from that landmark or the order will be cancelled bad experience\n",
            "before: im basically mad for pizzazz and dominozz definitely enhance my craziness and craving for it very tasty found mexicana and seven heaven too damn awesome and lo how can forget chicken wings tacos also cool\n",
            "misspelled word:  dominozz       correct word: domino\n",
            "After: im basically mad for pizzazz and dominozz definitely enhance my craziness and craving for it very tasty found mexicana and seven heaven too damn awesome and lo how can forget chicken wings tacos also cool\n",
            "before: good bcoz they have started cheese burst in small size pizza but my favorite is stuff garlic bread with jalapeño dip they serve very very what ever we order bit the service should become faster\n",
            "misspelled word:  bcoz       correct word: coz\n",
            "After: good bcoz they have started cheese burst in small size pizza but my favorite is stuff garlic bread with jalapeño dip they serve very very what ever we order bit the service should become faster\n",
            "before: good coz they have started cheese burst in small size pizza but my favorite is stuff garlic bread with jalapeño dip they serve very very what ever we order bit the service should become faster\n",
            "misspelled word:  jalapeño       correct word: jalapenos\n",
            "After: good coz they have started cheese burst in small size pizza but my favorite is stuff garlic bread with jalapeño dip they serve very very what ever we order bit the service should become faster\n",
            "before: odered zesty chicken pizza with cheese burst moose desert and cold drink the pizza was taken to literally another world the cheese burst was soo good as soon as took the first bite my eyes closed automatically something clicked in my mind and was lost the yummy chicken chunks the jalapeños the soft crust all of it just melted away my taste buds were literally dancing the moose desert was really good too it had layers of cream and cake on top of it were chocolate sprinkles just amazing\n",
            "misspelled word:  odered       correct word: orderd\n",
            "After: odered zesty chicken pizza with cheese burst moose desert and cold drink the pizza was taken to literally another world the cheese burst was soo good as soon as took the first bite my eyes closed automatically something clicked in my mind and was lost the yummy chicken chunks the jalapeños the soft crust all of it just melted away my taste buds were literally dancing the moose desert was really good too it had layers of cream and cake on top of it were chocolate sprinkles just amazing\n",
            "before: orderd zesty chicken pizza with cheese burst moose desert and cold drink the pizza was taken to literally another world the cheese burst was soo good as soon as took the first bite my eyes closed automatically something clicked in my mind and was lost the yummy chicken chunks the jalapeños the soft crust all of it just melted away my taste buds were literally dancing the moose desert was really good too it had layers of cream and cake on top of it were chocolate sprinkles just amazing\n",
            "misspelled word:  jalapeños       correct word: jalapenos\n",
            "After: orderd zesty chicken pizza with cheese burst moose desert and cold drink the pizza was taken to literally another world the cheese burst was soo good as soon as took the first bite my eyes closed automatically something clicked in my mind and was lost the yummy chicken chunks the jalapeños the soft crust all of it just melted away my taste buds were literally dancing the moose desert was really good too it had layers of cream and cake on top of it were chocolate sprinkles just amazing\n",
            "before: pizza boy forgot to gave chilly flakes and organo biggest disappointment by dominos choco lava cake was delicious anyways and pasta in red sauce too\n",
            "misspelled word:  organo       correct word: oregano\n",
            "After: pizza boy forgot to gave chilly flakes and organo biggest disappointment by dominos choco lava cake was delicious anyways and pasta in red sauce too\n",
            "before: this branch of dominos is good better han the shahu nagar branch which is near my home dominos is big name in pizzas and now they have gigantic menu to choose from love their tacos and cheese filled pizza in this competetive world of today and specially in fast competition dominos lacks behind as they cannot deliver an order of tacos worth at my home because the order needs to acquire pizza as base order this is surprising ha ha ha yoyo italiano americano\n",
            "misspelled word:  competetive       correct word: competitive\n",
            "After: this branch of dominos is good better han the shahu nagar branch which is near my home dominos is big name in pizzas and now they have gigantic menu to choose from love their tacos and cheese filled pizza in this competetive world of today and specially in fast competition dominos lacks behind as they cannot deliver an order of tacos worth at my home because the order needs to acquire pizza as base order this is surprising ha ha ha yoyo italiano americano\n",
            "before: timely deliver goid job executive also good and hygenic\n",
            "misspelled word:  hygenic       correct word: unhygienic\n",
            "After: timely deliver goid job executive also good and hygenic\n",
            "before: timely deliver goid job executive also good and unhygienic\n",
            "misspelled word:  goid       correct word: god\n",
            "After: timely deliver goid job executive also good and unhygienic\n",
            "before: horrible not properley baked pizzaboth pizza it totally unbaked\n",
            "misspelled word:  properley       correct word: property\n",
            "After: horrible not properley baked pizzaboth pizza it totally unbaked\n",
            "before: indi pizza not worth it\n",
            "misspelled word:  indi       correct word: indie\n",
            "After: indi pizza not worth it\n",
            "before: its uncooked nonveg tacco is anyone even audit the orders before you push for delivery\n",
            "misspelled word:  tacco       correct word: taco\n",
            "After: its uncooked nonveg tacco is anyone even audit the orders before you push for delivery\n",
            "before: delivery from dominoz is always an issue even same complaint from my last few orders\n",
            "misspelled word:  dominoz       correct word: dominos\n",
            "After: delivery from dominoz is always an issue even same complaint from my last few orders\n",
            "before: where is the cheese in the cheese burst total waste of money want refund pls\n",
            "misspelled word:  pls       correct word: plus\n",
            "After: where is the cheese in the cheese burst total waste of money want refund pls\n",
            "before: indi tandoori paneer was awesome and cheese corn was average but at the end very nice pizzas\n",
            "misspelled word:  indi       correct word: indie\n",
            "After: indi tandoori paneer was awesome and cheese corn was average but at the end very nice pizzas\n",
            "before: didnt recieve my order at all zomato showed that the order is delivered but there is no sign of my order anywhere first highly disappointing experience from dominos\n",
            "misspelled word:  recieve       correct word: receive\n",
            "After: didnt recieve my order at all zomato showed that the order is delivered but there is no sign of my order anywhere first highly disappointing experience from dominos\n",
            "before: worst experience not once but thrice long waiting time for big even single order never ever go for dinein at this this place no curiosity for dinein customer giving star for sake of submitted review\n",
            "misspelled word:  dinein       correct word: dining\n",
            "After: worst experience not once but thrice long waiting time for big even single order never ever go for dinein at this this place no curiosity for dinein customer giving star for sake of submitted review\n",
            "before: we received pizza that was cold and pathatic see attached pic they delivered min late from the scheduled time\n",
            "misspelled word:  pathatic       correct word: pathetic\n",
            "After: we received pizza that was cold and pathatic see attached pic they delivered min late from the scheduled time\n",
            "before: the delivery took hours complained on zomato chat and was told that dominoes will contact me no one contacted me had to experience delayed ice cold food if zomato and dominoes cannot co ordinate and treat customers well pls remove the option of ordering for dominoes totally bad experience\n",
            "misspelled word:  pls       correct word: plus\n",
            "After: the delivery took hours complained on zomato chat and was told that dominoes will contact me no one contacted me had to experience delayed ice cold food if zomato and dominoes cannot co ordinate and treat customers well pls remove the option of ordering for dominoes totally bad experience\n",
            "before: all the pizzas were great but the margareta pizza was dry and the cheese was crispy like toast\n",
            "misspelled word:  margareta       correct word: margarita\n",
            "After: all the pizzas were great but the margareta pizza was dry and the cheese was crispy like toast\n",
            "before: ordered on new years had the worst experience ever ordered at pm the estimated delivery time was pm didnt get any updates till pm was calling the restaurant continuously simply went on ring had to finally go down the venue the people who had ordered hour before me hadnt gotten their meal and still the restaurant was taking fresh orders no clear answers given very poor management no coustomer service very poor handling by dominos the coustomer support of both dominos app and zomato was very poor\n",
            "misspelled word:  coustomer       correct word: customers\n",
            "After: ordered on new years had the worst experience ever ordered at pm the estimated delivery time was pm didnt get any updates till pm was calling the restaurant continuously simply went on ring had to finally go down the venue the people who had ordered hour before me hadnt gotten their meal and still the restaurant was taking fresh orders no clear answers given very poor management no coustomer service very poor handling by dominos the coustomer support of both dominos app and zomato was very poor\n",
            "before: dont knw why but find the staff very arrogant\n",
            "misspelled word:  knw       correct word: know\n",
            "After: dont knw why but find the staff very arrogant\n",
            "before: observed that same pizza taste differently at different outlet most owsome dominoes got is at airport and phoenix mall parel\n",
            "misspelled word:  parel       correct word: parcel\n",
            "After: observed that same pizza taste differently at different outlet most owsome dominoes got is at airport and phoenix mall parel\n",
            "before: observed that same pizza taste differently at different outlet most owsome dominoes got is at airport and phoenix mall parcel\n",
            "misspelled word:  owsome       correct word: awsome\n",
            "After: observed that same pizza taste differently at different outlet most owsome dominoes got is at airport and phoenix mall parcel\n",
            "before: had two margheritas choco lava cake and garlic breadsticks margherita nice amount of cheese in the centre which then thins down and completely vanishes way before crust end good sauce when you bite into it but just like the cheese it is concentrated only in the centre leaving everything dry choco lava cake although very overpriced is chocolate heaven the perfect sweet that melts in your mouth breadsticks never go for this this is the only food item with decent enough quantity but is so dry that you wont be able to make out the taste dominos is goto hangout place for students so if thats what you are looking for then you should give this try\n",
            "misspelled word:  margheritas       correct word: margherita\n",
            "After: had two margheritas choco lava cake and garlic breadsticks margherita nice amount of cheese in the centre which then thins down and completely vanishes way before crust end good sauce when you bite into it but just like the cheese it is concentrated only in the centre leaving everything dry choco lava cake although very overpriced is chocolate heaven the perfect sweet that melts in your mouth breadsticks never go for this this is the only food item with decent enough quantity but is so dry that you wont be able to make out the taste dominos is goto hangout place for students so if thats what you are looking for then you should give this try\n",
            "before: dominoz this dominoz outlet is located at thakur college at thakur village dominoz is my all time favourite and the ambience is both outdoor and indoor staff is friendly and pizza is tasty yummy think this is one of the best outlet of dominoz\n",
            "misspelled word:  dominoz       correct word: dominos\n",
            "After: dominoz this dominoz outlet is located at thakur college at thakur village dominoz is my all time favourite and the ambience is both outdoor and indoor staff is friendly and pizza is tasty yummy think this is one of the best outlet of dominoz\n",
            "before: we have been here at night of saturday so it was some crowded we ordered chiken pizza cheesy was awesome service was also good staff was very helpful\n",
            "misspelled word:  chiken       correct word: chicken\n",
            "After: we have been here at night of saturday so it was some crowded we ordered chiken pizza cheesy was awesome service was also good staff was very helpful\n",
            "before: pizzaas for life\n",
            "misspelled word:  pizzaas       correct word: pizza\n",
            "After: pizzaas for life\n",
            "before: its located near the thakur college in thakur village the place is tiny yet it doesnt get crowded so its manageable the service is promt and the staff is generous pizzas that tried were chicken tikka and chicken fiesta personally liked chicken fiesta better location service ambience food\n",
            "misspelled word:  promt       correct word: prompt\n",
            "After: its located near the thakur college in thakur village the place is tiny yet it doesnt get crowded so its manageable the service is promt and the staff is generous pizzas that tried were chicken tikka and chicken fiesta personally liked chicken fiesta better location service ambience food\n",
            "before: dominos has been always choice for all age their pizzas and other sidies are amazing their garlic breads are amazing and pizzas are good when it is hot else white floor kills when it gets cold there toppings and cheese are quite fresh and good they stand by their name till date\n",
            "misspelled word:  sidies       correct word: sides\n",
            "After: dominos has been always choice for all age their pizzas and other sidies are amazing their garlic breads are amazing and pizzas are good when it is hot else white floor kills when it gets cold there toppings and cheese are quite fresh and good they stand by their name till date\n",
            "before: who doesnt love dominos dominos pizza not only satisfies my stomach but also takes my heart away by its taste they are always closest to my happy stomach as pure vegetarian have tried each of it and am fan of these pizza from last years pizza is truly truee love\n",
            "misspelled word:  truee       correct word: true\n",
            "After: who doesnt love dominos dominos pizza not only satisfies my stomach but also takes my heart away by its taste they are always closest to my happy stomach as pure vegetarian have tried each of it and am fan of these pizza from last years pizza is truly truee love\n",
            "before: delivery person is rude and not delivering the order to our destination and also company not take any action regarding the same plz do not use this appservice\n",
            "misspelled word:  appservice       correct word: service\n",
            "After: delivery person is rude and not delivering the order to our destination and also company not take any action regarding the same plz do not use this appservice\n",
            "before: dominos all time favorite for pizza ordered farm fresh stuff garlic bread just love it the pizza was very delicious with loaded of cheese panner bt my fav one is stuff garlic bread it was fully filled with mozzarella baby corn\n",
            "misspelled word:  panner       correct word: manner\n",
            "After: dominos all time favorite for pizza ordered farm fresh stuff garlic bread just love it the pizza was very delicious with loaded of cheese panner bt my fav one is stuff garlic bread it was fully filled with mozzarella baby corn\n",
            "before: we had ordered at and got the delivery at zomato never takes any responsibility and the reason why would like to switch to swiggy now theh have better customer feedback system\n",
            "misspelled word:  theh       correct word: the\n",
            "After: we had ordered at and got the delivery at zomato never takes any responsibility and the reason why would like to switch to swiggy now theh have better customer feedback system\n",
            "before: ordered pepper barbeque chicken pizza and double cheese marghareta piza regular size both pizza was awesome in taste crust of the pizza was properly baked and stuffing on the pizza was too yummy took home delivery which came within given period of time which was most impressive thing found\n",
            "misspelled word:  marghareta       correct word: margarita\n",
            "After: ordered pepper barbeque chicken pizza and double cheese marghareta piza regular size both pizza was awesome in taste crust of the pizza was properly baked and stuffing on the pizza was too yummy took home delivery which came within given period of time which was most impressive thing found\n",
            "before: ordered pepper barbeque chicken pizza and double cheese margarita piza regular size both pizza was awesome in taste crust of the pizza was properly baked and stuffing on the pizza was too yummy took home delivery which came within given period of time which was most impressive thing found\n",
            "misspelled word:  piza       correct word: pizza\n",
            "After: ordered pepper barbeque chicken pizza and double cheese margarita piza regular size both pizza was awesome in taste crust of the pizza was properly baked and stuffing on the pizza was too yummy took home delivery which came within given period of time which was most impressive thing found\n",
            "before: the pizza provided here is very delicious and no place provides so fresh and tasty pizzas in the world the place is like heaven of pizzass and the toppings are very juicy and delicious and in my view no other place can be competitive of this place overall if you get chance for visit this place then you should not miss the chance\n",
            "misspelled word:  pizzass       correct word: pizza\n",
            "After: the pizza provided here is very delicious and no place provides so fresh and tasty pizzas in the world the place is like heaven of pizzass and the toppings are very juicy and delicious and in my view no other place can be competitive of this place overall if you get chance for visit this place then you should not miss the chance\n",
            "before: delivery time not sufficienti order cheese pizza but their is less cheese and quality of pizza is average then other dominos pizzaless pizza contents will consider dont order from their\n",
            "misspelled word:  sufficienti       correct word: sufficient\n",
            "After: delivery time not sufficienti order cheese pizza but their is less cheese and quality of pizza is average then other dominos pizzaless pizza contents will consider dont order from their\n",
            "before: stuffed garlic bread with jalapeno cheesy dip and our favourite cheese burst pizza was spot on taste keep up the good work guyz maintain the revival of your brand\n",
            "misspelled word:  guyz       correct word: guy\n",
            "After: stuffed garlic bread with jalapeno cheesy dip and our favourite cheese burst pizza was spot on taste keep up the good work guyz maintain the revival of your brand\n",
            "before: the taste of pizza was not so satisfying cheese was less it was pocket friendly have gone to eat the pizza with my cousiens we have enjoyed lot but they need to imporve the quality of pizza\n",
            "misspelled word:  imporve       correct word: improve\n",
            "After: the taste of pizza was not so satisfying cheese was less it was pocket friendly have gone to eat the pizza with my cousiens we have enjoyed lot but they need to imporve the quality of pizza\n",
            "before: the taste of pizza was not so satisfying cheese was less it was pocket friendly have gone to eat the pizza with my cousiens we have enjoyed lot but they need to improve the quality of pizza\n",
            "misspelled word:  cousiens       correct word: cousins\n",
            "After: the taste of pizza was not so satisfying cheese was less it was pocket friendly have gone to eat the pizza with my cousiens we have enjoyed lot but they need to improve the quality of pizza\n",
            "before: good place if you are low on budget when was low on budget had margareta pizza with cheese dip and coke loved it also good with its service\n",
            "misspelled word:  margareta       correct word: margarita\n",
            "After: good place if you are low on budget when was low on budget had margareta pizza with cheese dip and coke loved it also good with its service\n",
            "before: in the app have received message that your order is delivered but when have call the dominoz they told the system is like this only have argue with him and told how could you message that your order is delivered when the actual order is not delivered when placed the order the delivery time was showing about mins and when the order placed the dominoz called me and says that it will take to min and they also say sir cancel kardu order the worst service provide by the zomato and dominoz\n",
            "misspelled word:  dominoz       correct word: dominos\n",
            "After: in the app have received message that your order is delivered but when have call the dominoz they told the system is like this only have argue with him and told how could you message that your order is delivered when the actual order is not delivered when placed the order the delivery time was showing about mins and when the order placed the dominoz called me and says that it will take to min and they also say sir cancel kardu order the worst service provide by the zomato and dominoz\n",
            "before: less topings and cheese\n",
            "misspelled word:  topings       correct word: topping\n",
            "After: less topings and cheese\n",
            "before: the pizza was tasty and spicy the popins were great the delivery was done in given time so overall the domino pizza was good\n",
            "misspelled word:  popins       correct word: points\n",
            "After: the pizza was tasty and spicy the popins were great the delivery was done in given time so overall the domino pizza was good\n",
            "before: have not recived seasonings along with my food\n",
            "misspelled word:  recived       correct word: received\n",
            "After: have not recived seasonings along with my food\n",
            "before: ymmy pizza\n",
            "misspelled word:  ymmy       correct word: yummy\n",
            "After: ymmy pizza\n",
            "before: nice on time dilvered\n",
            "misspelled word:  dilvered       correct word: delivered\n",
            "After: nice on time dilvered\n",
            "before: taxo mexicana was saggy and half cooked\n",
            "misspelled word:  taxo       correct word: tax\n",
            "After: taxo mexicana was saggy and half cooked\n",
            "before: when it comes to pizza there should not be any compromise and dominos untill date has not let me down in the taste whenever you go to the this outlet you will always find place to sit good sitting arrangement try chicken dominatorspicy yummy\n",
            "misspelled word:  dominatorspicy       correct word: dominators\n",
            "After: when it comes to pizza there should not be any compromise and dominos untill date has not let me down in the taste whenever you go to the this outlet you will always find place to sit good sitting arrangement try chicken dominatorspicy yummy\n",
            "before: pizza were not hot as nornally it is\n",
            "misspelled word:  nornally       correct word: normally\n",
            "After: pizza were not hot as nornally it is\n",
            "before: njoyed the pizza\n",
            "misspelled word:  njoyed       correct word: enjoyed\n",
            "After: njoyed the pizza\n",
            "before: very tasty pizza like the sauces good service should add more cheese the bread is soft and tastty\n",
            "misspelled word:  tastty       correct word: tasty\n",
            "After: very tasty pizza like the sauces good service should add more cheese the bread is soft and tastty\n",
            "before: staff is very shrud particularly returant manager he is giving challange to customer that he can slap him also he is challanging customer to stop eating at dominos go any where else he is not concern that dominos get customer or not\n",
            "misspelled word:  challanging       correct word: changing\n",
            "After: staff is very shrud particularly returant manager he is giving challange to customer that he can slap him also he is challanging customer to stop eating at dominos go any where else he is not concern that dominos get customer or not\n",
            "before: staff is very shrud particularly returant manager he is giving challange to customer that he can slap him also he is changing customer to stop eating at dominos go any where else he is not concern that dominos get customer or not\n",
            "misspelled word:  returant       correct word: return\n",
            "After: staff is very shrud particularly returant manager he is giving challange to customer that he can slap him also he is changing customer to stop eating at dominos go any where else he is not concern that dominos get customer or not\n",
            "before: orderd medium pizza of rs each from offers one was veg and other was nonveg medium pizza size was near about veg one was panner makhni pizza and the taste was just awesome bake till perfection nonveg one was pepper chicken barbeque pizza it was littile bit spicy and pepper was more the one who loves pepper can go for it and chicken was also baked till soft and goes in mouth and melts with chese nonveg parcel was also tasty for that price filling was good and uper layer was crunchy one should try it they gave me lot of oregano packets but only packet of chili flakes should take care of this things when you deliver\n",
            "misspelled word:  panner       correct word: manner\n",
            "After: orderd medium pizza of rs each from offers one was veg and other was nonveg medium pizza size was near about veg one was panner makhni pizza and the taste was just awesome bake till perfection nonveg one was pepper chicken barbeque pizza it was littile bit spicy and pepper was more the one who loves pepper can go for it and chicken was also baked till soft and goes in mouth and melts with chese nonveg parcel was also tasty for that price filling was good and uper layer was crunchy one should try it they gave me lot of oregano packets but only packet of chili flakes should take care of this things when you deliver\n",
            "before: orderd medium pizza of rs each from offers one was veg and other was nonveg medium pizza size was near about veg one was manner makhni pizza and the taste was just awesome bake till perfection nonveg one was pepper chicken barbeque pizza it was littile bit spicy and pepper was more the one who loves pepper can go for it and chicken was also baked till soft and goes in mouth and melts with chese nonveg parcel was also tasty for that price filling was good and uper layer was crunchy one should try it they gave me lot of oregano packets but only packet of chili flakes should take care of this things when you deliver\n",
            "misspelled word:  chese       correct word: cheese\n",
            "After: orderd medium pizza of rs each from offers one was veg and other was nonveg medium pizza size was near about veg one was manner makhni pizza and the taste was just awesome bake till perfection nonveg one was pepper chicken barbeque pizza it was littile bit spicy and pepper was more the one who loves pepper can go for it and chicken was also baked till soft and goes in mouth and melts with chese nonveg parcel was also tasty for that price filling was good and uper layer was crunchy one should try it they gave me lot of oregano packets but only packet of chili flakes should take care of this things when you deliver\n",
            "before: orderd medium pizza of rs each from offers one was veg and other was nonveg medium pizza size was near about veg one was manner makhni pizza and the taste was just awesome bake till perfection nonveg one was pepper chicken barbeque pizza it was littile bit spicy and pepper was more the one who loves pepper can go for it and chicken was also baked till soft and goes in mouth and melts with cheese nonveg parcel was also tasty for that price filling was good and uper layer was crunchy one should try it they gave me lot of oregano packets but only packet of chili flakes should take care of this things when you deliver\n",
            "misspelled word:  uper       correct word: per\n",
            "After: orderd medium pizza of rs each from offers one was veg and other was nonveg medium pizza size was near about veg one was manner makhni pizza and the taste was just awesome bake till perfection nonveg one was pepper chicken barbeque pizza it was littile bit spicy and pepper was more the one who loves pepper can go for it and chicken was also baked till soft and goes in mouth and melts with cheese nonveg parcel was also tasty for that price filling was good and uper layer was crunchy one should try it they gave me lot of oregano packets but only packet of chili flakes should take care of this things when you deliver\n",
            "before: orderd medium pizza of rs each from offers one was veg and other was nonveg medium pizza size was near about veg one was manner makhni pizza and the taste was just awesome bake till perfection nonveg one was pepper chicken barbeque pizza it was littile bit spicy and pepper was more the one who loves pepper can go for it and chicken was also baked till soft and goes in mouth and melts with cheese nonveg parcel was also tasty for that price filling was good and per layer was crunchy one should try it they gave me lot of oregano packets but only packet of chili flakes should take care of this things when you deliver\n",
            "misspelled word:  littile       correct word: little\n",
            "After: orderd medium pizza of rs each from offers one was veg and other was nonveg medium pizza size was near about veg one was manner makhni pizza and the taste was just awesome bake till perfection nonveg one was pepper chicken barbeque pizza it was littile bit spicy and pepper was more the one who loves pepper can go for it and chicken was also baked till soft and goes in mouth and melts with cheese nonveg parcel was also tasty for that price filling was good and per layer was crunchy one should try it they gave me lot of oregano packets but only packet of chili flakes should take care of this things when you deliver\n",
            "before: does not even deserve this star service is pathetic pizza delivered beyond minutes when raised this issue the delivery boy gives you explecitives when this is raised to their management neither is refund provided since the pizza was delayed nor any action taken against the delivery boy worst outlet of dominos\n",
            "misspelled word:  explecitives       correct word: executives\n",
            "After: does not even deserve this star service is pathetic pizza delivered beyond minutes when raised this issue the delivery boy gives you explecitives when this is raised to their management neither is refund provided since the pizza was delayed nor any action taken against the delivery boy worst outlet of dominos\n",
            "before: worst customer service dont visit they dont have oreganos with them so have to eat ur lovely\n",
            "misspelled word:  oreganos       correct word: oregano\n",
            "After: worst customer service dont visit they dont have oreganos with them so have to eat ur lovely\n",
            "before: love pizza of dominos and always looks chance to visit dominios visited here in evening time not so much crowded service was little slow place was neat and clean food was worth of money\n",
            "misspelled word:  dominios       correct word: dominos\n",
            "After: love pizza of dominos and always looks chance to visit dominios visited here in evening time not so much crowded service was little slow place was neat and clean food was worth of money\n",
            "before: good branch of dominoes they have sufficent area to sit they serve fast and hot mostly dont have the small size bases available good place\n",
            "misspelled word:  sufficent       correct word: sufficient\n",
            "After: good branch of dominoes they have sufficent area to sit they serve fast and hot mostly dont have the small size bases available good place\n",
            "before: today we ordered two mediun pizzas one farmhouse and one country special we had clearly mentioned we wanted normal base no extra toppings cost came to rs inclusive of taxes when we checked online the cost of medium pizzas it came to rs inclusive of taxes called them back and told them this situation they hanged up my phone twice and then did not pick up my phone when tried calling tried calling from different number they picked up and transfered the call to the manager he told us they made mistake from thier end and offered to give us free pizza instead now after while tried to call him again to know the status of the pizza and he is not picking up our call have been regular customer of dominos and such kind of service from thier end was not expected am highly disappointed and it was an completely unethical practice hope no one else go through such an experience and that too on the new years eve\n",
            "misspelled word:  mediun       correct word: medium\n",
            "After: today we ordered two mediun pizzas one farmhouse and one country special we had clearly mentioned we wanted normal base no extra toppings cost came to rs inclusive of taxes when we checked online the cost of medium pizzas it came to rs inclusive of taxes called them back and told them this situation they hanged up my phone twice and then did not pick up my phone when tried calling tried calling from different number they picked up and transfered the call to the manager he told us they made mistake from thier end and offered to give us free pizza instead now after while tried to call him again to know the status of the pizza and he is not picking up our call have been regular customer of dominos and such kind of service from thier end was not expected am highly disappointed and it was an completely unethical practice hope no one else go through such an experience and that too on the new years eve\n",
            "before: finding restaurant in this area is sometimes task thankfully this dominos is right on highway and is easily noticeable it has good open space and about tables inside it tried their new pizza burger which is one of best offering from dominos it was yumm the staff was very nice welcoming here parking gets tough though\n",
            "misspelled word:  yumm       correct word: yummy\n",
            "After: finding restaurant in this area is sometimes task thankfully this dominos is right on highway and is easily noticeable it has good open space and about tables inside it tried their new pizza burger which is one of best offering from dominos it was yumm the staff was very nice welcoming here parking gets tough though\n",
            "before: ordered cheese burst country special and burger pizza from dominoz must say it was amazing experience to have something different in terms of burger pizza and cheese burst is as usual classic cheesy pizza will rate as follow food service ambiance na as its home delivery but avg outlets are value for money\n",
            "misspelled word:  dominoz       correct word: dominos\n",
            "After: ordered cheese burst country special and burger pizza from dominoz must say it was amazing experience to have something different in terms of burger pizza and cheese burst is as usual classic cheesy pizza will rate as follow food service ambiance na as its home delivery but avg outlets are value for money\n",
            "before: love the pizza from dominos have been to most of the outlets but for some reason this outlet did not stand up to the mark of the brand had ordered for combo veg and non veg pizza which turned out to be tasteless the vegs seemed to be not fresh at all due to which the pizza tasted not woth the money the taco was good lucky request the management team to look into it so that ull dont lose customers who love domnios\n",
            "misspelled word:  vegs       correct word: veg\n",
            "After: love the pizza from dominos have been to most of the outlets but for some reason this outlet did not stand up to the mark of the brand had ordered for combo veg and non veg pizza which turned out to be tasteless the vegs seemed to be not fresh at all due to which the pizza tasted not woth the money the taco was good lucky request the management team to look into it so that ull dont lose customers who love domnios\n",
            "before: love the pizza from dominos have been to most of the outlets but for some reason this outlet did not stand up to the mark of the brand had ordered for combo veg and non veg pizza which turned out to be tasteless the veg seemed to be not fresh at all due to which the pizza tasted not woth the money the taco was good lucky request the management team to look into it so that ull dont lose customers who love domnios\n",
            "misspelled word:  domnios       correct word: dominos\n",
            "After: love the pizza from dominos have been to most of the outlets but for some reason this outlet did not stand up to the mark of the brand had ordered for combo veg and non veg pizza which turned out to be tasteless the veg seemed to be not fresh at all due to which the pizza tasted not woth the money the taco was good lucky request the management team to look into it so that ull dont lose customers who love domnios\n",
            "before: this place become weekend hang up venue specially on friday for buy one get one offer instade of non veg like veg pizza more thin crust cheezzee busters are best\n",
            "misspelled word:  instade       correct word: insta\n",
            "After: this place become weekend hang up venue specially on friday for buy one get one offer instade of non veg like veg pizza more thin crust cheezzee busters are best\n",
            "before: as am cheese lover like dominoz pizza more then others as its amazing and breads are soft yummy loved the cheese burst thing yeaah\n",
            "misspelled word:  dominoz       correct word: dominos\n",
            "After: as am cheese lover like dominoz pizza more then others as its amazing and breads are soft yummy loved the cheese burst thing yeaah\n",
            "before: the pizza is like any other diminos but the restaurant it self is small and seats up to people that is it but you can sit outside otherwise great outlet\n",
            "misspelled word:  diminos       correct word: dominos\n",
            "After: the pizza is like any other diminos but the restaurant it self is small and seats up to people that is it but you can sit outside otherwise great outlet\n",
            "before: prefer selected range of pizzaz here but equally love the taste pepper pizza being my favourite choice also liked veg margarita with toppings of pineapple which unfortunately they have spotted now wish they start it again\n",
            "misspelled word:  pizzaz       correct word: pizzazz\n",
            "After: prefer selected range of pizzaz here but equally love the taste pepper pizza being my favourite choice also liked veg margarita with toppings of pineapple which unfortunately they have spotted now wish they start it again\n",
            "before: newly shifted to kandivali dont knw much abt the area so called up dominos very good customer support delivered within thirty minutes same dominos promise kudos\n",
            "misspelled word:  knw       correct word: know\n",
            "After: newly shifted to kandivali dont knw much abt the area so called up dominos very good customer support delivered within thirty minutes same dominos promise kudos\n",
            "before: good warking\n",
            "misspelled word:  warking       correct word: walking\n",
            "After: good warking\n",
            "before: extremely horrible the app is always down they dont have the gpay or card machines onn never ever depend you food from here horrible horrible experience\n",
            "misspelled word:  gpay       correct word: pay\n",
            "After: extremely horrible the app is always down they dont have the gpay or card machines onn never ever depend you food from here horrible horrible experience\n",
            "before: its great place more over its hygenic\n",
            "misspelled word:  hygenic       correct word: unhygienic\n",
            "After: its great place more over its hygenic\n",
            "before: order veg loaded which always love and pack of garlic bread with chese dip the taste is always amazing best pizza always want to have recommend veg loaded as it contains all the toppings in one and also loaded with chese\n",
            "misspelled word:  chese       correct word: cheese\n",
            "After: order veg loaded which always love and pack of garlic bread with chese dip the taste is always amazing best pizza always want to have recommend veg loaded as it contains all the toppings in one and also loaded with chese\n",
            "before: dominos pizza is love love the pizza manias specially not because its cheap but it tastes better than actual pizza choco lava cake is great and also the garlic bread the oregano seasoning has bits of dried garlic which is why it tastes much better than many other pizza outlets they serve quick and in hygienic boxes no complains as of now worth the money kidfriendly and theres very beautiful aroma inside the restaurant pizzas dominos\n",
            "misspelled word:  kidfriendly       correct word: friendly\n",
            "After: dominos pizza is love love the pizza manias specially not because its cheap but it tastes better than actual pizza choco lava cake is great and also the garlic bread the oregano seasoning has bits of dried garlic which is why it tastes much better than many other pizza outlets they serve quick and in hygienic boxes no complains as of now worth the money kidfriendly and theres very beautiful aroma inside the restaurant pizzas dominos\n",
            "before: pathetic service mixed up my online order and then refused to accept responsibility for it instead claiming that they informed me about the unavailability of my ordered product never ordering from this outlet again\n",
            "misspelled word:  unavailability       correct word: availability\n",
            "After: pathetic service mixed up my online order and then refused to accept responsibility for it instead claiming that they informed me about the unavailability of my ordered product never ordering from this outlet again\n",
            "before: too many flies in this branch in rainy season when complaint for the inconvenience they said its rainy season they will come seriously never expected this from dominozz\n",
            "misspelled word:  dominozz       correct word: domino\n",
            "After: too many flies in this branch in rainy season when complaint for the inconvenience they said its rainy season they will come seriously never expected this from dominozz\n",
            "before: on my first online order got very very bad experience from dominos have ordered regular size pizzas and bread sticks they took more than hrs to deliver from the oder confirmation order should be expected to deliverd at pm but got delivery at pm pizza and bread sticks are not seems to fresh as delivery got late am totally unsatisfied and will not recommend this dominos aundh branch to anyone in future thia kind of poor service is not expected from dominos\n",
            "misspelled word:  deliverd       correct word: delievered\n",
            "After: on my first online order got very very bad experience from dominos have ordered regular size pizzas and bread sticks they took more than hrs to deliver from the oder confirmation order should be expected to deliverd at pm but got delivery at pm pizza and bread sticks are not seems to fresh as delivery got late am totally unsatisfied and will not recommend this dominos aundh branch to anyone in future thia kind of poor service is not expected from dominos\n",
            "before: had worst dominos pizza at this very place pizzas had no taste okay lets leave the pizza for once so went there with friend of mine and he got chocked by chilli flakes went to the counter for glass of water the guy was busy in his phone and hanged queue of paper glasses in their glass stand again asked him for water he said nahi hai wo toh asked for water bottle wo nahi hai had to buy bottle of slice which is of rs but costed me of there mean how pathetic it was that they dont even have drinking water facilities and pizza they were just as bad as their service and yes the choco lava cake it was just warm which guess should be hot\n",
            "misspelled word:  nahi       correct word: nai\n",
            "After: had worst dominos pizza at this very place pizzas had no taste okay lets leave the pizza for once so went there with friend of mine and he got chocked by chilli flakes went to the counter for glass of water the guy was busy in his phone and hanged queue of paper glasses in their glass stand again asked him for water he said nahi hai wo toh asked for water bottle wo nahi hai had to buy bottle of slice which is of rs but costed me of there mean how pathetic it was that they dont even have drinking water facilities and pizza they were just as bad as their service and yes the choco lava cake it was just warm which guess should be hot\n",
            "before: serves hot pizza crust looks freshly made but somehow full of dry roasted flour its good enough for the value although good point is that you can find low value pizza as well as costly ones easily locatable the place is well lit and moderately spaced staff is courteous and many payment options onlinedebitwallets are available delicious non veg pizza so far posted chicken legs are something different what tried at other places specially the sauce used for it supreme non veg pizza had all the toppings of other pizza items and is really good to try if you are non veg lover last but no least its easy to locate from roadside near westend mall and mcdonalds also its in neighbourhood of lenskat dominos pizza famous for its delicious toppings love it when served hot must try pan crust pizza also check with offers if any add on starters like garlic breads or pastas are too good must try\n",
            "misspelled word:  westend       correct word: western\n",
            "After: serves hot pizza crust looks freshly made but somehow full of dry roasted flour its good enough for the value although good point is that you can find low value pizza as well as costly ones easily locatable the place is well lit and moderately spaced staff is courteous and many payment options onlinedebitwallets are available delicious non veg pizza so far posted chicken legs are something different what tried at other places specially the sauce used for it supreme non veg pizza had all the toppings of other pizza items and is really good to try if you are non veg lover last but no least its easy to locate from roadside near westend mall and mcdonalds also its in neighbourhood of lenskat dominos pizza famous for its delicious toppings love it when served hot must try pan crust pizza also check with offers if any add on starters like garlic breads or pastas are too good must try\n",
            "before: we were here for small get together and one of friends party ordered for two regular size cheese burst pizza preparation time was little high pizza was served hot base was soft taste was good feel pizzas taste good if its served hot felt the place is little small overall good expereince\n",
            "misspelled word:  expereince       correct word: experiences\n",
            "After: we were here for small get together and one of friends party ordered for two regular size cheese burst pizza preparation time was little high pizza was served hot base was soft taste was good feel pizzas taste good if its served hot felt the place is little small overall good expereince\n",
            "before: nice outlet in good location though its not much spacious but still hot fresh pizza and with choco lava cake can be the best treat you can give yourself on nocooking weekday and must also try their stuffed garlic bread with delicious nonveg or veg taco\n",
            "misspelled word:  nocooking       correct word: cooking\n",
            "After: nice outlet in good location though its not much spacious but still hot fresh pizza and with choco lava cake can be the best treat you can give yourself on nocooking weekday and must also try their stuffed garlic bread with delicious nonveg or veg taco\n",
            "before: this place is bullshit ordered paid for it online and the order was delivered after near mins informed them it was late was told ill be getting refund within working days this happened back on th sep bullshit on top of that when call them ask for my refund they say they havent initated it whats pissing off is they just hung up im sure theyre least bothered about the customers feeling wish could give them horrible service disgusting guys suck no courtesy to call back inform the customer now theyve stopped answering my calls bloody robbers would recommend everyone to stop using dominoz service they suck at it\n",
            "misspelled word:  dominoz       correct word: dominos\n",
            "After: this place is bullshit ordered paid for it online and the order was delivered after near mins informed them it was late was told ill be getting refund within working days this happened back on th sep bullshit on top of that when call them ask for my refund they say they havent initated it whats pissing off is they just hung up im sure theyre least bothered about the customers feeling wish could give them horrible service disgusting guys suck no courtesy to call back inform the customer now theyve stopped answering my calls bloody robbers would recommend everyone to stop using dominoz service they suck at it\n",
            "before: this place is bullshit ordered paid for it online and the order was delivered after near mins informed them it was late was told ill be getting refund within working days this happened back on th sep bullshit on top of that when call them ask for my refund they say they havent initated it whats pissing off is they just hung up im sure theyre least bothered about the customers feeling wish could give them horrible service disgusting guys suck no courtesy to call back inform the customer now theyve stopped answering my calls bloody robbers would recommend everyone to stop using dominos service they suck at it\n",
            "misspelled word:  initated       correct word: irritated\n",
            "After: this place is bullshit ordered paid for it online and the order was delivered after near mins informed them it was late was told ill be getting refund within working days this happened back on th sep bullshit on top of that when call them ask for my refund they say they havent initated it whats pissing off is they just hung up im sure theyre least bothered about the customers feeling wish could give them horrible service disgusting guys suck no courtesy to call back inform the customer now theyve stopped answering my calls bloody robbers would recommend everyone to stop using dominos service they suck at it\n",
            "before: had ordered veg loaded pizza it was not prepared properly they dnt value your time nd money please avoid this outlet the one on sb road is good\n",
            "misspelled word:  dnt       correct word: dint\n",
            "After: had ordered veg loaded pizza it was not prepared properly they dnt value your time nd money please avoid this outlet the one on sb road is good\n",
            "before: ordered coke but didnt receive it had already payed for it tried calling them one of the no is wrong and rest no one answers recieved my coke bottles after mins please see this doesnt happen again\n",
            "misspelled word:  recieved       correct word: received\n",
            "After: ordered coke but didnt receive it had already payed for it tried calling them one of the no is wrong and rest no one answers recieved my coke bottles after mins please see this doesnt happen again\n",
            "before: this is by far the most unprofessional dominoz that have encountered kept on waiting at the counter to place the order the counter was unattended the staff were busy chit chatting and didnt even bother to look at me at last it was the janitor who noticed this the lady who generally manages the counter was busy elsewhere so another man had to substitute for her he was literally pissed off because of this and also becauee he had to cut short his chit chat as result he sounded extremely rude when he spoke for the first time felt zomato should allow us to rate star\n",
            "misspelled word:  dominoz       correct word: dominos\n",
            "After: this is by far the most unprofessional dominoz that have encountered kept on waiting at the counter to place the order the counter was unattended the staff were busy chit chatting and didnt even bother to look at me at last it was the janitor who noticed this the lady who generally manages the counter was busy elsewhere so another man had to substitute for her he was literally pissed off because of this and also becauee he had to cut short his chit chat as result he sounded extremely rude when he spoke for the first time felt zomato should allow us to rate star\n",
            "before: this is by far the most unprofessional dominos that have encountered kept on waiting at the counter to place the order the counter was unattended the staff were busy chit chatting and didnt even bother to look at me at last it was the janitor who noticed this the lady who generally manages the counter was busy elsewhere so another man had to substitute for her he was literally pissed off because of this and also becauee he had to cut short his chit chat as result he sounded extremely rude when he spoke for the first time felt zomato should allow us to rate star\n",
            "misspelled word:  becauee       correct word: because\n",
            "After: this is by far the most unprofessional dominos that have encountered kept on waiting at the counter to place the order the counter was unattended the staff were busy chit chatting and didnt even bother to look at me at last it was the janitor who noticed this the lady who generally manages the counter was busy elsewhere so another man had to substitute for her he was literally pissed off because of this and also becauee he had to cut short his chit chat as result he sounded extremely rude when he spoke for the first time felt zomato should allow us to rate star\n",
            "before: not given sufficient flex and organo\n",
            "misspelled word:  organo       correct word: oregano\n",
            "After: not given sufficient flex and organo\n",
            "before: ordered double cheese marghareta but amount of cheese was not upto mark\n",
            "misspelled word:  marghareta       correct word: margarita\n",
            "After: ordered double cheese marghareta but amount of cheese was not upto mark\n",
            "before: dominos is always comes in the mind first when its about pizza craving brust pizza is so good and nicely topped service is quick and friendly will try more of their pizza\n",
            "misspelled word:  brust       correct word: bust\n",
            "After: dominos is always comes in the mind first when its about pizza craving brust pizza is so good and nicely topped service is quick and friendly will try more of their pizza\n",
            "before: delicious non veg pizza so far posted chicken legs are something different what tried at other places specially the sauce used for it supreme non veg pizza had all the toppings of other pizza items and is really good to try if you are non veg lover last but no least its easy to locate from roadside near westend mall and mcdonalds also its in neighbourhood of lenskat\n",
            "misspelled word:  westend       correct word: western\n",
            "After: delicious non veg pizza so far posted chicken legs are something different what tried at other places specially the sauce used for it supreme non veg pizza had all the toppings of other pizza items and is really good to try if you are non veg lover last but no least its easy to locate from roadside near westend mall and mcdonalds also its in neighbourhood of lenskat\n",
            "before: pizzaa who would not like this name and the pizza itself pizza is love the cheese burst was dam yummy the toppings are good had great evening with friends\n",
            "misspelled word:  pizzaa       correct word: pizza\n",
            "After: pizzaa who would not like this name and the pizza itself pizza is love the cheese burst was dam yummy the toppings are good had great evening with friends\n",
            "before: always the go to place for extra cheesy and scrumptious delight the veg extravaganza and the double cheese margharita is always delight for vegetarians but beware gst has had an affect in the prices are not eyesfriendly but for the taste and the crust always yes from my side always have favored garlic bread and cheese dips sp always will\n",
            "misspelled word:  margharita       correct word: margherita\n",
            "After: always the go to place for extra cheesy and scrumptious delight the veg extravaganza and the double cheese margharita is always delight for vegetarians but beware gst has had an affect in the prices are not eyesfriendly but for the taste and the crust always yes from my side always have favored garlic bread and cheese dips sp always will\n",
            "before: ordered veggie paradise and pepper barbeque chicken pizza in just mins the delivery boy was at my doorstep that was the fastest delivery of pizza that ever recieved as the pizzas were smokin hot we could actually enjoy the real cheese burst wanted to give star rating but ill limit myself to star just because they no more give oreganos with the pizzas some issue with the supply they say\n",
            "misspelled word:  oreganos       correct word: oregano\n",
            "After: ordered veggie paradise and pepper barbeque chicken pizza in just mins the delivery boy was at my doorstep that was the fastest delivery of pizza that ever recieved as the pizzas were smokin hot we could actually enjoy the real cheese burst wanted to give star rating but ill limit myself to star just because they no more give oreganos with the pizzas some issue with the supply they say\n",
            "before: ordered veggie paradise and pepper barbeque chicken pizza in just mins the delivery boy was at my doorstep that was the fastest delivery of pizza that ever recieved as the pizzas were smokin hot we could actually enjoy the real cheese burst wanted to give star rating but ill limit myself to star just because they no more give oregano with the pizzas some issue with the supply they say\n",
            "misspelled word:  recieved       correct word: received\n",
            "After: ordered veggie paradise and pepper barbeque chicken pizza in just mins the delivery boy was at my doorstep that was the fastest delivery of pizza that ever recieved as the pizzas were smokin hot we could actually enjoy the real cheese burst wanted to give star rating but ill limit myself to star just because they no more give oregano with the pizzas some issue with the supply they say\n",
            "before: apart from burger pizza everything is good but burger pizza ha smithing which tastes very bitter and gross\n",
            "misspelled word:  smithing       correct word: something\n",
            "After: apart from burger pizza everything is good but burger pizza ha smithing which tastes very bitter and gross\n",
            "before: had order dominos online waited for about mins which is meant to be the approx delivery time but still dint recieve the order after mins the order the was still not dispached had tried calling the restaurant for my order but they cut my call multiple times heights of irresponsibility very disappointed with dominos aundh stil waiting for my order\n",
            "misspelled word:  recieve       correct word: receive\n",
            "After: had order dominos online waited for about mins which is meant to be the approx delivery time but still dint recieve the order after mins the order the was still not dispached had tried calling the restaurant for my order but they cut my call multiple times heights of irresponsibility very disappointed with dominos aundh stil waiting for my order\n",
            "before: had order dominos online waited for about mins which is meant to be the approx delivery time but still dint receive the order after mins the order the was still not dispached had tried calling the restaurant for my order but they cut my call multiple times heights of irresponsibility very disappointed with dominos aundh stil waiting for my order\n",
            "misspelled word:  dispached       correct word: dispatched\n",
            "After: had order dominos online waited for about mins which is meant to be the approx delivery time but still dint receive the order after mins the order the was still not dispached had tried calling the restaurant for my order but they cut my call multiple times heights of irresponsibility very disappointed with dominos aundh stil waiting for my order\n",
            "before: small descent dominos place with to tables orders are quick and food is same as usaul for dominos after shopping in westend mall reliance mall or dmart you can have pizzas which suits your pockets too nice place with cooperative staff if you have wheeler you can easily find place for parking but for car owner if you want to come here park your car to somewhere else\n",
            "misspelled word:  westend       correct word: western\n",
            "After: small descent dominos place with to tables orders are quick and food is same as usaul for dominos after shopping in westend mall reliance mall or dmart you can have pizzas which suits your pockets too nice place with cooperative staff if you have wheeler you can easily find place for parking but for car owner if you want to come here park your car to somewhere else\n",
            "before: love pizza toping is good of some outlets\n",
            "misspelled word:  toping       correct word: hoping\n",
            "After: love pizza toping is good of some outlets\n",
            "before: nicce ambience and interior we went on holi and ordered qutroformaz multi pepper pizza the taste was awesome and order delivery was quick too\n",
            "misspelled word:  nicce       correct word: nice\n",
            "After: nicce ambience and interior we went on holi and ordered qutroformaz multi pepper pizza the taste was awesome and order delivery was quick too\n",
            "before: officials are not in enough number to interact with customers although person is catering to everyones needs on the counter observed once that of the other officials were busy chatting on their phones pizza takes minutes to arrive from order placed to reaching respective table home delivery is time is dicey sometimes comes soon otherwise it takes long tkme also less no of tables the place is crowded and one has to often wait for someone else to finish their food and leave so that they can occupy their table officials are casual in their approach while interacring with customers little seriousness would be appreciated\n",
            "misspelled word:  interacring       correct word: interacting\n",
            "After: officials are not in enough number to interact with customers although person is catering to everyones needs on the counter observed once that of the other officials were busy chatting on their phones pizza takes minutes to arrive from order placed to reaching respective table home delivery is time is dicey sometimes comes soon otherwise it takes long tkme also less no of tables the place is crowded and one has to often wait for someone else to finish their food and leave so that they can occupy their table officials are casual in their approach while interacring with customers little seriousness would be appreciated\n",
            "before: overall god place to eat dominos pizza pros big parking space for wheelers wheeler parking space is sufficient but not huge out of times service given is good taste is good hygenic kitchen\n",
            "misspelled word:  hygenic       correct word: unhygienic\n",
            "After: overall god place to eat dominos pizza pros big parking space for wheelers wheeler parking space is sufficient but not huge out of times service given is good taste is good hygenic kitchen\n",
            "before: dominos is all time fav it needs no spl intro had cheeseburst farmhouse pizzaa it was good and cheessyy service was good and fast\n",
            "misspelled word:  pizzaa       correct word: pizza\n",
            "After: dominos is all time fav it needs no spl intro had cheeseburst farmhouse pizzaa it was good and cheessyy service was good and fast\n",
            "before: dominos is all time fav it needs no spl intro had cheeseburst farmhouse pizza it was good and cheessyy service was good and fast\n",
            "misspelled word:  cheessyy       correct word: cheesy\n",
            "After: dominos is all time fav it needs no spl intro had cheeseburst farmhouse pizza it was good and cheessyy service was good and fast\n",
            "before: dominos pizza is indeed the leader in pizzas my personal favorites are farm house pizza and cheese burst garlic breada are worth trying quick home delivery and friendly staff\n",
            "misspelled word:  breada       correct word: bread\n",
            "After: dominos pizza is indeed the leader in pizzas my personal favorites are farm house pizza and cheese burst garlic breada are worth trying quick home delivery and friendly staff\n",
            "before: am hudge fan of dominos pizza but this place has made an exception this is the worst dominos joint have ever visited staff is rude dilevery gyus always argumentative they never maintain quality have been ordering from past fw months and complained several times but no change worst service had ever seen its better to have pizza from some were else like pizza hut than this\n",
            "misspelled word:  hudge       correct word: huge\n",
            "After: am hudge fan of dominos pizza but this place has made an exception this is the worst dominos joint have ever visited staff is rude dilevery gyus always argumentative they never maintain quality have been ordering from past fw months and complained several times but no change worst service had ever seen its better to have pizza from some were else like pizza hut than this\n",
            "before: anyway there is parking for wheelers available so not big problem there are only counters so you might have to wait in long queues on weekends but the best option home delivery the food is obviously good love double cheese margharita though there is less cheese than expected it still tastes good they have reduced lava cakes size and increased its prices not new thing in todays food world overall everyone prefers homedelivery over walkin but the pizzas taste much better when eaten at the outlet itself pizza is life\n",
            "misspelled word:  margharita       correct word: margherita\n",
            "After: anyway there is parking for wheelers available so not big problem there are only counters so you might have to wait in long queues on weekends but the best option home delivery the food is obviously good love double cheese margharita though there is less cheese than expected it still tastes good they have reduced lava cakes size and increased its prices not new thing in todays food world overall everyone prefers homedelivery over walkin but the pizzas taste much better when eaten at the outlet itself pizza is life\n",
            "before: had ordered pizza and garlic bread as parcel at and immediately called them back and say requesting to cancel the garlic bread as we were only two of us and we thought it will be too much but the lady on the phone was not just ready to cancel it and she tried to forse mee to take complete parcel after which threatened to cancel the entire order after saying this then the lady finaly agreed to cancel the order mean what kind of professionalism is this where you force the customer to take parcel even though he called back immediately after ordering pathetic service the pizza also was delivered say after min and they refused to even give discount contrary to their policy of minutes nahi toh fre why do you claim such things if you cannot fullfill them pathetic attitude of the staff\n",
            "misspelled word:  nahi       correct word: nai\n",
            "After: had ordered pizza and garlic bread as parcel at and immediately called them back and say requesting to cancel the garlic bread as we were only two of us and we thought it will be too much but the lady on the phone was not just ready to cancel it and she tried to forse mee to take complete parcel after which threatened to cancel the entire order after saying this then the lady finaly agreed to cancel the order mean what kind of professionalism is this where you force the customer to take parcel even though he called back immediately after ordering pathetic service the pizza also was delivered say after min and they refused to even give discount contrary to their policy of minutes nahi toh fre why do you claim such things if you cannot fullfill them pathetic attitude of the staff\n",
            "before: dominos pizza is the best hangout place and there pizza is the best in all aspect for eg like its fresh tasty and they have lot of varities the only problem what face is in home delivery\n",
            "misspelled word:  varities       correct word: varieties\n",
            "After: dominos pizza is the best hangout place and there pizza is the best in all aspect for eg like its fresh tasty and they have lot of varities the only problem what face is in home delivery\n",
            "before: as always dominos have best pizzaz we had ordered home delivery many times and also been there for many celebrations they have always served freshely baked pizzas choco lava cake is my favourite and stuffed garlic bread is yumm many of our sunay brunches have to be happen at dominos pizza\n",
            "misspelled word:  freshely       correct word: freshly\n",
            "After: as always dominos have best pizzaz we had ordered home delivery many times and also been there for many celebrations they have always served freshely baked pizzas choco lava cake is my favourite and stuffed garlic bread is yumm many of our sunay brunches have to be happen at dominos pizza\n",
            "before: as always dominos have best pizzaz we had ordered home delivery many times and also been there for many celebrations they have always served freshly baked pizzas choco lava cake is my favourite and stuffed garlic bread is yumm many of our sunay brunches have to be happen at dominos pizza\n",
            "misspelled word:  pizzaz       correct word: pizzazz\n",
            "After: as always dominos have best pizzaz we had ordered home delivery many times and also been there for many celebrations they have always served freshly baked pizzas choco lava cake is my favourite and stuffed garlic bread is yumm many of our sunay brunches have to be happen at dominos pizza\n",
            "before: as always dominos have best pizzazz we had ordered home delivery many times and also been there for many celebrations they have always served freshly baked pizzas choco lava cake is my favourite and stuffed garlic bread is yumm many of our sunay brunches have to be happen at dominos pizza\n",
            "misspelled word:  sunay       correct word: sunday\n",
            "After: as always dominos have best pizzazz we had ordered home delivery many times and also been there for many celebrations they have always served freshly baked pizzas choco lava cake is my favourite and stuffed garlic bread is yumm many of our sunay brunches have to be happen at dominos pizza\n",
            "before: as always dominos have best pizzazz we had ordered home delivery many times and also been there for many celebrations they have always served freshly baked pizzas choco lava cake is my favourite and stuffed garlic bread is yumm many of our sunday brunches have to be happen at dominos pizza\n",
            "misspelled word:  yumm       correct word: yummy\n",
            "After: as always dominos have best pizzazz we had ordered home delivery many times and also been there for many celebrations they have always served freshly baked pizzas choco lava cake is my favourite and stuffed garlic bread is yumm many of our sunday brunches have to be happen at dominos pizza\n",
            "before: this outlet serves one of the best among other branches pizzas were fresh loaded with cheese and were very tempting ambiance this outlet lacks the ambince as compared to other outlets dinning area is congested had to ask person sitting on table behind me to excuse me so that could get off my table service the staff was very supportive they were very effectively able to explain our queries to our satisfaction taste better than expected pizzas were steaming hot with generous amount of cheese and topping which were very well distributed all over my pizza not single bite of pizza was left without enough cheese and topping crust was perfectly baked with perfect crunch outside and extremely soft inside the pizzas never felt dry perfectly balanced pizzas overall it was very pleasant experience\n",
            "misspelled word:  ambince       correct word: ambience\n",
            "After: this outlet serves one of the best among other branches pizzas were fresh loaded with cheese and were very tempting ambiance this outlet lacks the ambince as compared to other outlets dinning area is congested had to ask person sitting on table behind me to excuse me so that could get off my table service the staff was very supportive they were very effectively able to explain our queries to our satisfaction taste better than expected pizzas were steaming hot with generous amount of cheese and topping which were very well distributed all over my pizza not single bite of pizza was left without enough cheese and topping crust was perfectly baked with perfect crunch outside and extremely soft inside the pizzas never felt dry perfectly balanced pizzas overall it was very pleasant experience\n",
            "before: was craving for something delicious so went here yesterday and took parcel ambiance wouldnt say extremely good but ya its fine the crowd is not that good less ventilation makes the place fill with the aroma of the food stuff it seems nice first but after certain time it starts annoying service wonderful they serve with warm smile but ya they do try and lure you into buying more stuff but thats their job neverthless the staff is very nice they serve quickly even when in periods of rush they keep the place clean and tidy which did really impress me coz the amount of crowd there was seriously lot food odered zesty chicken pizza with cheese burst moose desert and cold drink the pizza was taken to literally another world the cheese burst was soo good as soon as took the first bite my eyes closed automatically something clicked in my mind and was lost the yummy chicken chunks the jalapeños the soft crust all of it just melted away my taste buds were literally dancing the moose desert was really good too it had layers of cream and cake on top of it were chocolate sprinkles just amazing ambiance service food\n",
            "misspelled word:  odered       correct word: orderd\n",
            "After: was craving for something delicious so went here yesterday and took parcel ambiance wouldnt say extremely good but ya its fine the crowd is not that good less ventilation makes the place fill with the aroma of the food stuff it seems nice first but after certain time it starts annoying service wonderful they serve with warm smile but ya they do try and lure you into buying more stuff but thats their job neverthless the staff is very nice they serve quickly even when in periods of rush they keep the place clean and tidy which did really impress me coz the amount of crowd there was seriously lot food odered zesty chicken pizza with cheese burst moose desert and cold drink the pizza was taken to literally another world the cheese burst was soo good as soon as took the first bite my eyes closed automatically something clicked in my mind and was lost the yummy chicken chunks the jalapeños the soft crust all of it just melted away my taste buds were literally dancing the moose desert was really good too it had layers of cream and cake on top of it were chocolate sprinkles just amazing ambiance service food\n",
            "before: was craving for something delicious so went here yesterday and took parcel ambiance wouldnt say extremely good but ya its fine the crowd is not that good less ventilation makes the place fill with the aroma of the food stuff it seems nice first but after certain time it starts annoying service wonderful they serve with warm smile but ya they do try and lure you into buying more stuff but thats their job neverthless the staff is very nice they serve quickly even when in periods of rush they keep the place clean and tidy which did really impress me coz the amount of crowd there was seriously lot food orderd zesty chicken pizza with cheese burst moose desert and cold drink the pizza was taken to literally another world the cheese burst was soo good as soon as took the first bite my eyes closed automatically something clicked in my mind and was lost the yummy chicken chunks the jalapeños the soft crust all of it just melted away my taste buds were literally dancing the moose desert was really good too it had layers of cream and cake on top of it were chocolate sprinkles just amazing ambiance service food\n",
            "misspelled word:  neverthless       correct word: nevertheless\n",
            "After: was craving for something delicious so went here yesterday and took parcel ambiance wouldnt say extremely good but ya its fine the crowd is not that good less ventilation makes the place fill with the aroma of the food stuff it seems nice first but after certain time it starts annoying service wonderful they serve with warm smile but ya they do try and lure you into buying more stuff but thats their job neverthless the staff is very nice they serve quickly even when in periods of rush they keep the place clean and tidy which did really impress me coz the amount of crowd there was seriously lot food orderd zesty chicken pizza with cheese burst moose desert and cold drink the pizza was taken to literally another world the cheese burst was soo good as soon as took the first bite my eyes closed automatically something clicked in my mind and was lost the yummy chicken chunks the jalapeños the soft crust all of it just melted away my taste buds were literally dancing the moose desert was really good too it had layers of cream and cake on top of it were chocolate sprinkles just amazing ambiance service food\n",
            "before: was craving for something delicious so went here yesterday and took parcel ambiance wouldnt say extremely good but ya its fine the crowd is not that good less ventilation makes the place fill with the aroma of the food stuff it seems nice first but after certain time it starts annoying service wonderful they serve with warm smile but ya they do try and lure you into buying more stuff but thats their job nevertheless the staff is very nice they serve quickly even when in periods of rush they keep the place clean and tidy which did really impress me coz the amount of crowd there was seriously lot food orderd zesty chicken pizza with cheese burst moose desert and cold drink the pizza was taken to literally another world the cheese burst was soo good as soon as took the first bite my eyes closed automatically something clicked in my mind and was lost the yummy chicken chunks the jalapeños the soft crust all of it just melted away my taste buds were literally dancing the moose desert was really good too it had layers of cream and cake on top of it were chocolate sprinkles just amazing ambiance service food\n",
            "misspelled word:  jalapeños       correct word: jalapenos\n",
            "After: was craving for something delicious so went here yesterday and took parcel ambiance wouldnt say extremely good but ya its fine the crowd is not that good less ventilation makes the place fill with the aroma of the food stuff it seems nice first but after certain time it starts annoying service wonderful they serve with warm smile but ya they do try and lure you into buying more stuff but thats their job nevertheless the staff is very nice they serve quickly even when in periods of rush they keep the place clean and tidy which did really impress me coz the amount of crowd there was seriously lot food orderd zesty chicken pizza with cheese burst moose desert and cold drink the pizza was taken to literally another world the cheese burst was soo good as soon as took the first bite my eyes closed automatically something clicked in my mind and was lost the yummy chicken chunks the jalapeños the soft crust all of it just melted away my taste buds were literally dancing the moose desert was really good too it had layers of cream and cake on top of it were chocolate sprinkles just amazing ambiance service food\n",
            "before: need my refund back from dominos as they have given assurance of me delevery but it took more than an hour and food was cold\n",
            "misspelled word:  delevery       correct word: delivery\n",
            "After: need my refund back from dominos as they have given assurance of me delevery but it took more than an hour and food was cold\n",
            "before: no can make garlic bread better thn dominos thank\n",
            "misspelled word:  thn       correct word: than\n",
            "After: no can make garlic bread better thn dominos thank\n",
            "before: jalapeno dip was not delivered pizza was worst in taste as well not cooked properly and bread was like uncooked roti though we tried to eat but our guest was extreamly unhappy as per me it gets less then rating\n",
            "misspelled word:  extreamly       correct word: extremely\n",
            "After: jalapeno dip was not delivered pizza was worst in taste as well not cooked properly and bread was like uncooked roti though we tried to eat but our guest was extreamly unhappy as per me it gets less then rating\n",
            "before: tacco was not available so they said to refund me but still dont received any refund\n",
            "misspelled word:  tacco       correct word: taco\n",
            "After: tacco was not available so they said to refund me but still dont received any refund\n",
            "before: another day another worst experience with dominoz app is showing takeway option and pimple saudagar store declined for take away and they said only home delivery last time had pathetic experience with dominos on home delivery when they delivered pizza which was not at all warm so thought to take away but\n",
            "misspelled word:  takeway       correct word: takeaways\n",
            "After: another day another worst experience with dominoz app is showing takeway option and pimple saudagar store declined for take away and they said only home delivery last time had pathetic experience with dominos on home delivery when they delivered pizza which was not at all warm so thought to take away but\n",
            "before: another day another worst experience with dominoz app is showing takeaways option and pimple saudagar store declined for take away and they said only home delivery last time had pathetic experience with dominos on home delivery when they delivered pizza which was not at all warm so thought to take away but\n",
            "misspelled word:  dominoz       correct word: dominos\n",
            "After: another day another worst experience with dominoz app is showing takeaways option and pimple saudagar store declined for take away and they said only home delivery last time had pathetic experience with dominos on home delivery when they delivered pizza which was not at all warm so thought to take away but\n",
            "before: panner pizza is very salty and all pizza was cold\n",
            "misspelled word:  panner       correct word: manner\n",
            "After: panner pizza is very salty and all pizza was cold\n",
            "before: size of cheezy pizza was not satisfactory as it was smaller than the other regular size pizza\n",
            "misspelled word:  cheezy       correct word: cheesy\n",
            "After: size of cheezy pizza was not satisfactory as it was smaller than the other regular size pizza\n",
            "before: how will rate your food if you dont deliver it only no call no intimation regardind the missing item and where is the refund\n",
            "misspelled word:  regardind       correct word: regarding\n",
            "After: how will rate your food if you dont deliver it only no call no intimation regardind the missing item and where is the refund\n",
            "before: panner pizza was not fresh and it was reheated and delivered\n",
            "misspelled word:  panner       correct word: manner\n",
            "After: panner pizza was not fresh and it was reheated and delivered\n",
            "before: they didnt provide origano chilli along with the order pathetic dominos\n",
            "misspelled word:  origano       correct word: oregano\n",
            "After: they didnt provide origano chilli along with the order pathetic dominos\n",
            "before: very tasty pizza delivery was on time and with all the safety measures followd\n",
            "misspelled word:  followd       correct word: followed\n",
            "After: very tasty pizza delivery was on time and with all the safety measures followd\n",
            "before: sorry didnt took the pictures but cheese pizza was dry not at all cheesey\n",
            "misspelled word:  cheesey       correct word: cheese\n",
            "After: sorry didnt took the pictures but cheese pizza was dry not at all cheesey\n",
            "before: they have given the worst cheeze pizza ever that too the base was half baked and was struggling to find layer of cheeze it seems they just sprinkled the cheeze and sent it worst service\n",
            "misspelled word:  cheeze       correct word: cheese\n",
            "After: they have given the worst cheeze pizza ever that too the base was half baked and was struggling to find layer of cheeze it seems they just sprinkled the cheeze and sent it worst service\n",
            "before: worst dominoz experience ever horrible will think times before ordering pizza from here\n",
            "misspelled word:  dominoz       correct word: dominos\n",
            "After: worst dominoz experience ever horrible will think times before ordering pizza from here\n",
            "before: visited this place recently have ordered basic margarita pizza one thing noticed people are not so attentive tables are not cleaned have to specifically ask some one to get it clean tomato catch up was not provided here also have to ask for it bit more cleanly ness is expected at here very unlikely to happen in domminos talking about the taste it was also not up to the mark compared to other domminos outlates\n",
            "misspelled word:  domminos       correct word: dominos\n",
            "After: visited this place recently have ordered basic margarita pizza one thing noticed people are not so attentive tables are not cleaned have to specifically ask some one to get it clean tomato catch up was not provided here also have to ask for it bit more cleanly ness is expected at here very unlikely to happen in domminos talking about the taste it was also not up to the mark compared to other domminos outlates\n",
            "before: love dominos pizza feel awasome due to test and smell of pizza\n",
            "misspelled word:  awasome       correct word: awesome\n",
            "After: love dominos pizza feel awasome due to test and smell of pizza\n",
            "before: totally roast and burn pizza and to late for making worst experience with dominos for first time not baked properly zomato please refund my money its totall worst pizza to eat\n",
            "misspelled word:  totall       correct word: total\n",
            "After: totally roast and burn pizza and to late for making worst experience with dominos for first time not baked properly zomato please refund my money its totall worst pizza to eat\n",
            "before: theyve changed the seatings which is good taste and service is very good staff is polite too\n",
            "misspelled word:  seatings       correct word: sweating\n",
            "After: theyve changed the seatings which is good taste and service is very good staff is polite too\n",
            "before: whenever order cheese burst pizza without applying any offer they deliver good pizza on the other hand if apply any discount coupon provided by dominos app only then they cut the cheese to compansate the discount please do not provide any discount if you cant maintain the quality\n",
            "misspelled word:  compansate       correct word: compensate\n",
            "After: whenever order cheese burst pizza without applying any offer they deliver good pizza on the other hand if apply any discount coupon provided by dominos app only then they cut the cheese to compansate the discount please do not provide any discount if you cant maintain the quality\n",
            "before: unmanaged store only one que for taking order be it take away or eating inside dominoz have to wait for long long time worst worst worst service ever seen from dominoz\n",
            "misspelled word:  dominoz       correct word: dominos\n",
            "After: unmanaged store only one que for taking order be it take away or eating inside dominoz have to wait for long long time worst worst worst service ever seen from dominoz\n",
            "before: unmanaged store only one que for taking order be it take away or eating inside dominos have to wait for long long time worst worst worst service ever seen from dominos\n",
            "misspelled word:  unmanaged       correct word: managed\n",
            "After: unmanaged store only one que for taking order be it take away or eating inside dominos have to wait for long long time worst worst worst service ever seen from dominos\n",
            "before: the place is nice hygiene is maintained have tried their peppey paneer it was delicious and they have different section for parking too\n",
            "misspelled word:  peppey       correct word: peppy\n",
            "After: the place is nice hygiene is maintained have tried their peppey paneer it was delicious and they have different section for parking too\n",
            "before: worst dominos join ever pls dont order from here ordered food online and paid beforehand mins later the manager called me and cancelled my order without even refunding my money\n",
            "misspelled word:  pls       correct word: plus\n",
            "After: worst dominos join ever pls dont order from here ordered food online and paid beforehand mins later the manager called me and cancelled my order without even refunding my money\n",
            "before: taking hr mins for delivery within km delivery area didnt inform about delay and also accepting orders while not able to manage deliveres cheese burst with very less cheese and semi cooked which is dangerous for health\n",
            "misspelled word:  deliveres       correct word: delievered\n",
            "After: taking hr mins for delivery within km delivery area didnt inform about delay and also accepting orders while not able to manage deliveres cheese burst with very less cheese and semi cooked which is dangerous for health\n",
            "before: rd july wanted to eat taco mexicana they were stocked out we visited this place as it doesnt deliver km from the outlet card machine not working was the sign put up right at the counter the staff dull the place shabby and looked unmanaged totally unhappy waiting waiting and waiting for pasta and stuff garlic bread absolutely sad place to go we even dint receive the bill guess they dint even have the paper for it order worst experience ever\n",
            "misspelled word:  unmanaged       correct word: managed\n",
            "After: rd july wanted to eat taco mexicana they were stocked out we visited this place as it doesnt deliver km from the outlet card machine not working was the sign put up right at the counter the staff dull the place shabby and looked unmanaged totally unhappy waiting waiting and waiting for pasta and stuff garlic bread absolutely sad place to go we even dint receive the bill guess they dint even have the paper for it order worst experience ever\n",
            "before: one of the worst pizza outlet of india even after numerous feedbacks they didnt improve their product simply stopped using dominos there are many pizza outlets now and all are better than dominos all dominos are ok the pimple saudagar outlet is hopeless\n",
            "misspelled word:  feedbacks       correct word: feedback\n",
            "After: one of the worst pizza outlet of india even after numerous feedbacks they didnt improve their product simply stopped using dominos there are many pizza outlets now and all are better than dominos all dominos are ok the pimple saudagar outlet is hopeless\n",
            "before: love dominos pizza specially nonveg tacco garlic bread with cheesy dip its really awesome as well as must try cheese burst pizza liquid cheese inside it while we take any bite of pizza its feeling yummy\n",
            "misspelled word:  tacco       correct word: taco\n",
            "After: love dominos pizza specially nonveg tacco garlic bread with cheesy dip its really awesome as well as must try cheese burst pizza liquid cheese inside it while we take any bite of pizza its feeling yummy\n",
            "before: order reached befpre time\n",
            "misspelled word:  befpre       correct word: before\n",
            "After: order reached befpre time\n",
            "before: sir chilli flakes not recieved no worries used the previous ones lol thankyouu tasty as ever\n",
            "misspelled word:  recieved       correct word: received\n",
            "After: sir chilli flakes not recieved no worries used the previous ones lol thankyouu tasty as ever\n",
            "before: sir chilli flakes not received no worries used the previous ones lol thankyouu tasty as ever\n",
            "misspelled word:  thankyouu       correct word: thankyou\n",
            "After: sir chilli flakes not received no worries used the previous ones lol thankyouu tasty as ever\n",
            "before: got totally cold and burnt cheeze pizza my yr old kid wanted to hv pizza on weekend hence ordered margarita pizza from this outlet but quality was pathetic would refrain myself ordering frm this place again highly disappointed as hv ordered same pizza several times literally threw pizza in bin\n",
            "misspelled word:  frm       correct word: form\n",
            "After: got totally cold and burnt cheeze pizza my yr old kid wanted to hv pizza on weekend hence ordered margarita pizza from this outlet but quality was pathetic would refrain myself ordering frm this place again highly disappointed as hv ordered same pizza several times literally threw pizza in bin\n",
            "before: got totally cold and burnt cheeze pizza my yr old kid wanted to hv pizza on weekend hence ordered margarita pizza from this outlet but quality was pathetic would refrain myself ordering form this place again highly disappointed as hv ordered same pizza several times literally threw pizza in bin\n",
            "misspelled word:  cheeze       correct word: cheese\n",
            "After: got totally cold and burnt cheeze pizza my yr old kid wanted to hv pizza on weekend hence ordered margarita pizza from this outlet but quality was pathetic would refrain myself ordering form this place again highly disappointed as hv ordered same pizza several times literally threw pizza in bin\n",
            "before: added red paprika as topping but surprisinglyit was not added disappointed to see such negligence from brand like dominos\n",
            "misspelled word:  surprisinglyit       correct word: surprisingly\n",
            "After: added red paprika as topping but surprisinglyit was not added disappointed to see such negligence from brand like dominos\n",
            "before: pls provide ketchup next time\n",
            "misspelled word:  pls       correct word: plus\n",
            "After: pls provide ketchup next time\n",
            "before: have not received my order yet zomato please look into it didnt recieve any confirmation zomato also not looking into it its been more than hour\n",
            "misspelled word:  recieve       correct word: receive\n",
            "After: have not received my order yet zomato please look into it didnt recieve any confirmation zomato also not looking into it its been more than hour\n",
            "before: star dominos manager arrguging with me every time delay delivery\n",
            "misspelled word:  arrguging       correct word: arguing\n",
            "After: star dominos manager arrguging with me every time delay delivery\n",
            "before: never ever disappoints all time favourite taste was awesome specifically garlic breads with cheesy dip no competition for this garlic bread with other brands pizzas were yummy ambiance was average staff was every proactive superbb experience\n",
            "misspelled word:  superbb       correct word: superb\n",
            "After: never ever disappoints all time favourite taste was awesome specifically garlic breads with cheesy dip no competition for this garlic bread with other brands pizzas were yummy ambiance was average staff was every proactive superbb experience\n",
            "before: got delivery on time good service on time promt with the delivery time will be use in future with the great experience we have now with the fantastic taste\n",
            "misspelled word:  promt       correct word: prompt\n",
            "After: got delivery on time good service on time promt with the delivery time will be use in future with the great experience we have now with the fantastic taste\n",
            "before: recieved the worst service pizza was not at all chese burst and topping was also missing need refund or replacement\n",
            "misspelled word:  chese       correct word: cheese\n",
            "After: recieved the worst service pizza was not at all chese burst and topping was also missing need refund or replacement\n",
            "before: recieved the worst service pizza was not at all cheese burst and topping was also missing need refund or replacement\n",
            "misspelled word:  recieved       correct word: received\n",
            "After: recieved the worst service pizza was not at all cheese burst and topping was also missing need refund or replacement\n",
            "before: havent recieved my order after min\n",
            "misspelled word:  recieved       correct word: received\n",
            "After: havent recieved my order after min\n",
            "before: it was worst experience with zomato received dilivery after an hour as dominos it self provide order free zomato this time lose my faith\n",
            "misspelled word:  dilivery       correct word: delivery\n",
            "After: it was worst experience with zomato received dilivery after an hour as dominos it self provide order free zomato this time lose my faith\n",
            "before: worst service given by dominos got late delivery and but they are not accepting and this rainbow plaza stores manager talk with me very rudely so decided to complaint about them to their head but couldnt bcoz they are not interested\n",
            "misspelled word:  bcoz       correct word: coz\n",
            "After: worst service given by dominos got late delivery and but they are not accepting and this rainbow plaza stores manager talk with me very rudely so decided to complaint about them to their head but couldnt bcoz they are not interested\n",
            "before: worst service given by dominos got late delivery and but they are not accepting and this rainbow plaza stores manager talk with me very rudely so decided to complaint about them to their head but couldnt bcoz they are not interested\n",
            "misspelled word:  bcoz       correct word: coz\n",
            "After: worst service given by dominos got late delivery and but they are not accepting and this rainbow plaza stores manager talk with me very rudely so decided to complaint about them to their head but couldnt bcoz they are not interested\n",
            "before: pizza delivered so latee and no free delivery\n",
            "misspelled word:  latee       correct word: late\n",
            "After: pizza delivered so latee and no free delivery\n",
            "before: recieved minutes late\n",
            "misspelled word:  recieved       correct word: received\n",
            "After: recieved minutes late\n",
            "before: had to pick my order from store was unable to contact store and zomato cc also didnt help even at store food was an hour late had to wait there as well worst experience ever will never order again nd pls improve ur customer care as well\n",
            "misspelled word:  pls       correct word: plus\n",
            "After: had to pick my order from store was unable to contact store and zomato cc also didnt help even at store food was an hour late had to wait there as well worst experience ever will never order again nd pls improve ur customer care as well\n",
            "before: undoubtedly they have yummy pizzas but more importantly good is their delivery usually order pizza whn at home so delivery of the food is something look for and found dominoz to quite particular in their deliveries of happiness its just in time and hot and one more thing guys the large size pizza which claims to enuf for four actually suffices three ppl since hv all pizza lovers at my place\n",
            "misspelled word:  whn       correct word: when\n",
            "After: undoubtedly they have yummy pizzas but more importantly good is their delivery usually order pizza whn at home so delivery of the food is something look for and found dominoz to quite particular in their deliveries of happiness its just in time and hot and one more thing guys the large size pizza which claims to enuf for four actually suffices three ppl since hv all pizza lovers at my place\n",
            "before: undoubtedly they have yummy pizzas but more importantly good is their delivery usually order pizza when at home so delivery of the food is something look for and found dominoz to quite particular in their deliveries of happiness its just in time and hot and one more thing guys the large size pizza which claims to enuf for four actually suffices three ppl since hv all pizza lovers at my place\n",
            "misspelled word:  dominoz       correct word: dominos\n",
            "After: undoubtedly they have yummy pizzas but more importantly good is their delivery usually order pizza when at home so delivery of the food is something look for and found dominoz to quite particular in their deliveries of happiness its just in time and hot and one more thing guys the large size pizza which claims to enuf for four actually suffices three ppl since hv all pizza lovers at my place\n",
            "before: extremedy bad experience manager was rude\n",
            "misspelled word:  extremedy       correct word: extremely\n",
            "After: extremedy bad experience manager was rude\n",
            "before: we ordered mexican green wave the content has so much bt we only se tomato and capasicum\n",
            "misspelled word:  capasicum       correct word: capsicum\n",
            "After: we ordered mexican green wave the content has so much bt we only se tomato and capasicum\n",
            "before: recieved confirmation for my order and after mins got call from dominos that they cqnnot deliver in my area have to go half of the way to pick it up and still it was not delivered on time would have rated in negative for it however those ratings are not available\n",
            "misspelled word:  cqnnot       correct word: cannot\n",
            "After: recieved confirmation for my order and after mins got call from dominos that they cqnnot deliver in my area have to go half of the way to pick it up and still it was not delivered on time would have rated in negative for it however those ratings are not available\n",
            "before: recieved confirmation for my order and after mins got call from dominos that they cannot deliver in my area have to go half of the way to pick it up and still it was not delivered on time would have rated in negative for it however those ratings are not available\n",
            "misspelled word:  recieved       correct word: received\n",
            "After: recieved confirmation for my order and after mins got call from dominos that they cannot deliver in my area have to go half of the way to pick it up and still it was not delivered on time would have rated in negative for it however those ratings are not available\n",
            "before: ordered and didnt recived my order on my place as they were not delivering at my home and pizza which ordered was worst it was terrible no proper packing one slice doesnt have cheese in it worst in case would probably order from some another order delivering site\n",
            "misspelled word:  recived       correct word: received\n",
            "After: ordered and didnt recived my order on my place as they were not delivering at my home and pizza which ordered was worst it was terrible no proper packing one slice doesnt have cheese in it worst in case would probably order from some another order delivering site\n",
            "before: cheese burst did not have enough cheese and recieved the order late\n",
            "misspelled word:  recieved       correct word: received\n",
            "After: cheese burst did not have enough cheese and recieved the order late\n",
            "before: first time in dominos outlet overall good service ambience cleanliness waiting time is good today went with my family garlic bread is ok not up to dominos level bone less chicken with peri peri is woww its really too good ordered two thincrust in pizza in veggi chicken overall good veggi chicken olive baby corn is perfect\n",
            "misspelled word:  veggi       correct word: veggies\n",
            "After: first time in dominos outlet overall good service ambience cleanliness waiting time is good today went with my family garlic bread is ok not up to dominos level bone less chicken with peri peri is woww its really too good ordered two thincrust in pizza in veggi chicken overall good veggi chicken olive baby corn is perfect\n",
            "before: first time in dominos outlet overall good service ambience cleanliness waiting time is good today went with my family garlic bread is ok not up to dominos level bone less chicken with peri peri is woww its really too good ordered two thincrust in pizza in veggies chicken overall good veggies chicken olive baby corn is perfect\n",
            "misspelled word:  woww       correct word: wow\n",
            "After: first time in dominos outlet overall good service ambience cleanliness waiting time is good today went with my family garlic bread is ok not up to dominos level bone less chicken with peri peri is woww its really too good ordered two thincrust in pizza in veggies chicken overall good veggies chicken olive baby corn is perfect\n",
            "before: ordered my all time favorite cheese burst peppy paneer pizza garlic bread and cheesy dip from this outlet the pizza arrived just in time was hot and fresh when it comes to pizza dominos comes to my mind first though it dint had that oozing cheese as expected from cheese burst pizza am yet to try their improved pizzas as they claim and hoping it to be even more cheesyy the oregano that dominos provide is the best have ever tried anywhere feel its more of mixed herbs than just oregano just love it my next order after all new improved pizza was again my favorite peppy paneer cheese burst pizza and yes the new improved pizza has better fluffy soft and yet crisp base and more tastier sauce and fresh and loads of veggies this time the cheese was oozing and was yu paneer cubes were bigger in size than before and had more flavours and freshness delivery was quick and pizza was delivered hot\n",
            "misspelled word:  cheesyy       correct word: cheesy\n",
            "After: ordered my all time favorite cheese burst peppy paneer pizza garlic bread and cheesy dip from this outlet the pizza arrived just in time was hot and fresh when it comes to pizza dominos comes to my mind first though it dint had that oozing cheese as expected from cheese burst pizza am yet to try their improved pizzas as they claim and hoping it to be even more cheesyy the oregano that dominos provide is the best have ever tried anywhere feel its more of mixed herbs than just oregano just love it my next order after all new improved pizza was again my favorite peppy paneer cheese burst pizza and yes the new improved pizza has better fluffy soft and yet crisp base and more tastier sauce and fresh and loads of veggies this time the cheese was oozing and was yu paneer cubes were bigger in size than before and had more flavours and freshness delivery was quick and pizza was delivered hot\n",
            "before: well people who crave pizza should have dominos as the best option they have improved the quality of pizzas and their new offers too double cheese margerita is my all time favourite pizza mania golden corn is excellent service is lil slow for me if dont have any other option dominos is the best optionfor me overall good place\n",
            "misspelled word:  margerita       correct word: margherita\n",
            "After: well people who crave pizza should have dominos as the best option they have improved the quality of pizzas and their new offers too double cheese margerita is my all time favourite pizza mania golden corn is excellent service is lil slow for me if dont have any other option dominos is the best optionfor me overall good place\n",
            "before: this is not at all good place because it is very much cojusted and not worth to go there chocolate pizza was totally failed creation only the thing is garlic bread which loved about them\n",
            "misspelled word:  cojusted       correct word: costed\n",
            "After: this is not at all good place because it is very much cojusted and not worth to go there chocolate pizza was totally failed creation only the thing is garlic bread which loved about them\n",
            "before: great food on time delivery hot food alwayz no complaints ever food tastes delicious ordered multiple times it is da best pizza outlet\n",
            "misspelled word:  alwayz       correct word: always\n",
            "After: great food on time delivery hot food alwayz no complaints ever food tastes delicious ordered multiple times it is da best pizza outlet\n",
            "before: the rating is only and only for food tried out new quottro pizza and its total yes yes yes for cheese lovers like me my suggestion is that now they start developing there outlets too it feels so spaced out to sit in dominos outlet and eat\n",
            "misspelled word:  quottro       correct word: quattro\n",
            "After: the rating is only and only for food tried out new quottro pizza and its total yes yes yes for cheese lovers like me my suggestion is that now they start developing there outlets too it feels so spaced out to sit in dominos outlet and eat\n",
            "before: parking and ambiance had ordered pizza so cant comment on this drinks food thhe pizza was tasty and as per usual standards so no issue at all servicethe pizza was delivered in timely fashion and was hot when delivered costvfm over all experience will order more often from this outlet\n",
            "misspelled word:  servicethe       correct word: service\n",
            "After: parking and ambiance had ordered pizza so cant comment on this drinks food thhe pizza was tasty and as per usual standards so no issue at all servicethe pizza was delivered in timely fashion and was hot when delivered costvfm over all experience will order more often from this outlet\n",
            "before: have ordered regular pizza on call and requested them to deliver in front the oulet where my shop is located and also provided address and name with contact no still the person who took my call name shruti such pathetic service got from her she did not understand the address which is in almost same building where dominos is after one hour received call from them and they wanted me to pik the delivery what the hell where is the minute delivery concept here this is the first bad review have written about any outlet management please responce with complete detail ihave rovided no\n",
            "misspelled word:  pik       correct word: pick\n",
            "After: have ordered regular pizza on call and requested them to deliver in front the oulet where my shop is located and also provided address and name with contact no still the person who took my call name shruti such pathetic service got from her she did not understand the address which is in almost same building where dominos is after one hour received call from them and they wanted me to pik the delivery what the hell where is the minute delivery concept here this is the first bad review have written about any outlet management please responce with complete detail ihave rovided no\n",
            "before: have ordered regular pizza on call and requested them to deliver in front the oulet where my shop is located and also provided address and name with contact no still the person who took my call name shruti such pathetic service got from her she did not understand the address which is in almost same building where dominos is after one hour received call from them and they wanted me to pick the delivery what the hell where is the minute delivery concept here this is the first bad review have written about any outlet management please responce with complete detail ihave rovided no\n",
            "misspelled word:  rovided       correct word: provided\n",
            "After: have ordered regular pizza on call and requested them to deliver in front the oulet where my shop is located and also provided address and name with contact no still the person who took my call name shruti such pathetic service got from her she did not understand the address which is in almost same building where dominos is after one hour received call from them and they wanted me to pick the delivery what the hell where is the minute delivery concept here this is the first bad review have written about any outlet management please responce with complete detail ihave rovided no\n",
            "before: have ordered regular pizza on call and requested them to deliver in front the oulet where my shop is located and also pprovided address and name with contact no still the person who took my call name shruti such pathetic service got from her she did not understand the address which is in almost same building where dominos is after one hour received call from them and they wanted me to pick the delivery what the hell where is the minute delivery concept here this is the first bad review have written about any outlet management please responce with complete detail ihave provided no\n",
            "misspelled word:  responce       correct word: responded\n",
            "After: have ordered regular pizza on call and requested them to deliver in front the oulet where my shop is located and also pprovided address and name with contact no still the person who took my call name shruti such pathetic service got from her she did not understand the address which is in almost same building where dominos is after one hour received call from them and they wanted me to pick the delivery what the hell where is the minute delivery concept here this is the first bad review have written about any outlet management please responce with complete detail ihave provided no\n",
            "before: have ordered regular pizza on call and requested them to deliver in front the oulet where my shop is located and also pprovided address and name with contact no still the person who took my call name shruti such pathetic service got from her she did not understand the address which is in almost same building where dominos is after one hour received call from them and they wanted me to pick the delivery what the hell where is the minute delivery concept here this is the first bad review have written about any outlet management please responded with complete detail ihave provided no\n",
            "misspelled word:  oulet       correct word: outlets\n",
            "After: have ordered regular pizza on call and requested them to deliver in front the oulet where my shop is located and also pprovided address and name with contact no still the person who took my call name shruti such pathetic service got from her she did not understand the address which is in almost same building where dominos is after one hour received call from them and they wanted me to pick the delivery what the hell where is the minute delivery concept here this is the first bad review have written about any outlet management please responded with complete detail ihave provided no\n",
            "before: love having dominos pizza usually go for the farmhouse pizza chicken fiesta love the crust in cheeseburst and yes also love the lava cake itss yumm delicious no can match the taste of dominos lava cake its perfect\n",
            "misspelled word:  yumm       correct word: yummy\n",
            "After: love having dominos pizza usually go for the farmhouse pizza chicken fiesta love the crust in cheeseburst and yes also love the lava cake itss yumm delicious no can match the taste of dominos lava cake its perfect\n",
            "before: never satisfying always get is disappointment some time the pizaa bread is burnt nd always cheese in double chesse is present very less dont understand what are they up to never happy\n",
            "misspelled word:  chesse       correct word: cheese\n",
            "After: never satisfying always get is disappointment some time the pizaa bread is burnt nd always cheese in double chesse is present very less dont understand what are they up to never happy\n",
            "before: its okk but the rate of pizza is so high as compare to indrapuribhopal no doubt taste is as usually yummy delicious fadu but dnt get satisfaction nd dnt want to go thr once again\n",
            "misspelled word:  dnt       correct word: dint\n",
            "After: its okk but the rate of pizza is so high as compare to indrapuribhopal no doubt taste is as usually yummy delicious fadu but dnt get satisfaction nd dnt want to go thr once again\n",
            "before: its okk but the rate of pizza is so high as compare to indrapuribhopal no doubt taste is as usually yummy delicious fadu but dint get satisfaction nd dint want to go thr once again\n",
            "misspelled word:  thr       correct word: thru\n",
            "After: its okk but the rate of pizza is so high as compare to indrapuribhopal no doubt taste is as usually yummy delicious fadu but dint get satisfaction nd dint want to go thr once again\n",
            "before: well this review is strictly based on home delivery being self proclaimed pizza lover and dominos loyalist almost love absolutely anything dominos has to offer also being lazy ass dominos is like comfort food to me meaning only get home delivery but do pass this outlet everyday while going to work and it looks pretty congested and not that clean staff should look into it moving on to the food my usually order is the margarita pizza and veg zingy parcel the cheese on the pizza depends on the day if its weekday expect it to be all cheese bursty and on weekends its nocheeseville dominos should really work on its consistency mean the heart of pizza is cheese and it should be ample moving on to the zingy parcel it is cheap filling yummy and arrives hot no complaints among all the pizzas have tasted paneer and the veg extravaganza are my fav on the delivery front dominos is pizza delivery expert so thumbs up overall love dominos\n",
            "misspelled word:  bursty       correct word: burst\n",
            "After: well this review is strictly based on home delivery being self proclaimed pizza lover and dominos loyalist almost love absolutely anything dominos has to offer also being lazy ass dominos is like comfort food to me meaning only get home delivery but do pass this outlet everyday while going to work and it looks pretty congested and not that clean staff should look into it moving on to the food my usually order is the margarita pizza and veg zingy parcel the cheese on the pizza depends on the day if its weekday expect it to be all cheese bursty and on weekends its nocheeseville dominos should really work on its consistency mean the heart of pizza is cheese and it should be ample moving on to the zingy parcel it is cheap filling yummy and arrives hot no complaints among all the pizzas have tasted paneer and the veg extravaganza are my fav on the delivery front dominos is pizza delivery expert so thumbs up overall love dominos\n",
            "before: for the first time ordered veg pizza from dominos being hardcore nonvegetarian should say that their peppers pizza is simply awesome just make it cheese burst and you are up for melting heaven though dominos is very common for almost every pizza lover trying new stuff is always great experience the delivery was timely and the pizza was served hot one of my regular favorites is their tacos the chicken tacos are brilliant\n",
            "misspelled word:  nonvegetarian       correct word: vegetarians\n",
            "After: for the first time ordered veg pizza from dominos being hardcore nonvegetarian should say that their peppers pizza is simply awesome just make it cheese burst and you are up for melting heaven though dominos is very common for almost every pizza lover trying new stuff is always great experience the delivery was timely and the pizza was served hot one of my regular favorites is their tacos the chicken tacos are brilliant\n",
            "before: very poor service it was bogo offer today but they charged me for both pizzas and moreover ordered for cheese burst but they have sent us non cheese burst ones everytime have ordered from this store it was never to the expectation they are spoiling the brand name dominoz should take action against them invoice no they never answer calls on offer days hoping some solution\n",
            "misspelled word:  dominoz       correct word: dominos\n",
            "After: very poor service it was bogo offer today but they charged me for both pizzas and moreover ordered for cheese burst but they have sent us non cheese burst ones everytime have ordered from this store it was never to the expectation they are spoiling the brand name dominoz should take action against them invoice no they never answer calls on offer days hoping some solution\n",
            "before: had been to this outlet after long time and fortunately it wasnt crowded at all the purpose for the visit was to try the new italian flavoured pizza and had the naples chicken its yummy but would rate it being meat lover felt it should contain more pieces of chicken and less zuccini but the reason for me giving it rating is the superb service of the staff very helpful and warm hearted people always ready with smile and most polite would like to specially mention ms heena who took my order and ms shruti who served us and looked after us for their service wonderful if anyone from dominos or from the pimple saudagar outlet is reading this plz give these wonderful employees my regards\n",
            "misspelled word:  zuccini       correct word: zucchini\n",
            "After: had been to this outlet after long time and fortunately it wasnt crowded at all the purpose for the visit was to try the new italian flavoured pizza and had the naples chicken its yummy but would rate it being meat lover felt it should contain more pieces of chicken and less zuccini but the reason for me giving it rating is the superb service of the staff very helpful and warm hearted people always ready with smile and most polite would like to specially mention ms heena who took my order and ms shruti who served us and looked after us for their service wonderful if anyone from dominos or from the pimple saudagar outlet is reading this plz give these wonderful employees my regards\n",
            "before: the only reason have to visit this outlet is becuase this is closer to my home in pune ive had pizzas at dominos at number of outlets and this one isnt in my favourites list food somehow the taste isnt as good as the other outlets if you go on crowded day god save you ambiance looks little clustered always get feeling ill trip over table and fall face first on someones pizza not single time it has happened that we get free table and have to stand staring at others as they finish their food and that is because this outlet is in very crowded area but still very tiny place service at the order counter it is like talking to customer care executive of small company over the telephone where everything is just mugged up hardly smile on the face we are even met with arrogance sometimes the only consolation is the nice cleaning guy that always has smile and kind words for the customers youll have to visit here if you are attached to dominos otherwise not an attraction it was one on one at domi and my and couple of other friends wanted to try out the cheezy wonder pizza we ordered for home delivery one veg extravaganza medium cheezy wonder and one mexican green wave medium cheezy wonder the pizzas arrived about an hour later officially the worst pizzas had in my life looked so pathetic wanted to just give up on eating please never ever try this outlet of dominos on one on one day they serve pathetic pizzas adding photos for reference\n",
            "misspelled word:  cheezy       correct word: cheesy\n",
            "After: the only reason have to visit this outlet is becuase this is closer to my home in pune ive had pizzas at dominos at number of outlets and this one isnt in my favourites list food somehow the taste isnt as good as the other outlets if you go on crowded day god save you ambiance looks little clustered always get feeling ill trip over table and fall face first on someones pizza not single time it has happened that we get free table and have to stand staring at others as they finish their food and that is because this outlet is in very crowded area but still very tiny place service at the order counter it is like talking to customer care executive of small company over the telephone where everything is just mugged up hardly smile on the face we are even met with arrogance sometimes the only consolation is the nice cleaning guy that always has smile and kind words for the customers youll have to visit here if you are attached to dominos otherwise not an attraction it was one on one at domi and my and couple of other friends wanted to try out the cheezy wonder pizza we ordered for home delivery one veg extravaganza medium cheezy wonder and one mexican green wave medium cheezy wonder the pizzas arrived about an hour later officially the worst pizzas had in my life looked so pathetic wanted to just give up on eating please never ever try this outlet of dominos on one on one day they serve pathetic pizzas adding photos for reference\n",
            "before: visited this center times and ordered for home delivery as well over the weekends this place has some extra crowd like mostly peppy paneer fresh veggie and chicken tikka pizzas here are my review pointers ambience this is bit big center as compared to most of other doninos centers situated at the prime locality of shivar chowk this provides good place to dine in food quality like pizza and dominos pizzas are not an exception to that so the food over here is good just to mention that have never tried anything other than some pizzas and garlic bread here pricing will not mention the price list as it is available in the menu card and keeps on changing considering some offer coupons but feel that it has gone so high now still for the pizza lovers it is ok sometimes am eating dominos pizzas since large peppy paneer used to cost around so now it looks bit high service service was good here and as we all know for the home delivery minutes free challenge never had it as my home is so close to this center hygeine hygeinic neat and clean place to dine in attendents behaviour attendents were proactive in interacting with customers being in hospitality which is very much necessary found them very good so final verdict is we enjoyed our food everytime and would surely like to go to this place again or order from here again\n",
            "misspelled word:  doninos       correct word: dominos\n",
            "After: visited this center times and ordered for home delivery as well over the weekends this place has some extra crowd like mostly peppy paneer fresh veggie and chicken tikka pizzas here are my review pointers ambience this is bit big center as compared to most of other doninos centers situated at the prime locality of shivar chowk this provides good place to dine in food quality like pizza and dominos pizzas are not an exception to that so the food over here is good just to mention that have never tried anything other than some pizzas and garlic bread here pricing will not mention the price list as it is available in the menu card and keeps on changing considering some offer coupons but feel that it has gone so high now still for the pizza lovers it is ok sometimes am eating dominos pizzas since large peppy paneer used to cost around so now it looks bit high service service was good here and as we all know for the home delivery minutes free challenge never had it as my home is so close to this center hygeine hygeinic neat and clean place to dine in attendents behaviour attendents were proactive in interacting with customers being in hospitality which is very much necessary found them very good so final verdict is we enjoyed our food everytime and would surely like to go to this place again or order from here again\n",
            "before: visited this center times and ordered for home delivery as well over the weekends this place has some extra crowd like mostly peppy paneer fresh veggie and chicken tikka pizzas here are my review pointers ambience this is bit big center as compared to most of other dominos centers situated at the prime locality of shivar chowk this provides good place to dine in food quality like pizza and dominos pizzas are not an exception to that so the food over here is good just to mention that have never tried anything other than some pizzas and garlic bread here pricing will not mention the price list as it is available in the menu card and keeps on changing considering some offer coupons but feel that it has gone so high now still for the pizza lovers it is ok sometimes am eating dominos pizzas since large peppy paneer used to cost around so now it looks bit high service service was good here and as we all know for the home delivery minutes free challenge never had it as my home is so close to this center hygeine hygeinic neat and clean place to dine in attendents behaviour attendents were proactive in interacting with customers being in hospitality which is very much necessary found them very good so final verdict is we enjoyed our food everytime and would surely like to go to this place again or order from here again\n",
            "misspelled word:  hygeinic       correct word: hygienic\n",
            "After: visited this center times and ordered for home delivery as well over the weekends this place has some extra crowd like mostly peppy paneer fresh veggie and chicken tikka pizzas here are my review pointers ambience this is bit big center as compared to most of other dominos centers situated at the prime locality of shivar chowk this provides good place to dine in food quality like pizza and dominos pizzas are not an exception to that so the food over here is good just to mention that have never tried anything other than some pizzas and garlic bread here pricing will not mention the price list as it is available in the menu card and keeps on changing considering some offer coupons but feel that it has gone so high now still for the pizza lovers it is ok sometimes am eating dominos pizzas since large peppy paneer used to cost around so now it looks bit high service service was good here and as we all know for the home delivery minutes free challenge never had it as my home is so close to this center hygeine hygeinic neat and clean place to dine in attendents behaviour attendents were proactive in interacting with customers being in hospitality which is very much necessary found them very good so final verdict is we enjoyed our food everytime and would surely like to go to this place again or order from here again\n",
            "before: visited this center times and ordered for home delivery as well over the weekends this place has some extra crowd like mostly peppy paneer fresh veggie and chicken tikka pizzas here are my review pointers ambience this is bit big center as compared to most of other dominos centers situated at the prime locality of shivar chowk this provides good place to dine in food quality like pizza and dominos pizzas are not an exception to that so the food over here is good just to mention that have never tried anything other than some pizzas and garlic bread here pricing will not mention the price list as it is available in the menu card and keeps on changing considering some offer coupons but feel that it has gone so high now still for the pizza lovers it is ok sometimes am eating dominos pizzas since large peppy paneer used to cost around so now it looks bit high service service was good here and as we all know for the home delivery minutes free challenge never had it as my home is so close to this center hygeine hygienic neat and clean place to dine in attendents behaviour attendents were proactive in interacting with customers being in hospitality which is very much necessary found them very good so final verdict is we enjoyed our food everytime and would surely like to go to this place again or order from here again\n",
            "misspelled word:  hygeine       correct word: hygiene\n",
            "After: visited this center times and ordered for home delivery as well over the weekends this place has some extra crowd like mostly peppy paneer fresh veggie and chicken tikka pizzas here are my review pointers ambience this is bit big center as compared to most of other dominos centers situated at the prime locality of shivar chowk this provides good place to dine in food quality like pizza and dominos pizzas are not an exception to that so the food over here is good just to mention that have never tried anything other than some pizzas and garlic bread here pricing will not mention the price list as it is available in the menu card and keeps on changing considering some offer coupons but feel that it has gone so high now still for the pizza lovers it is ok sometimes am eating dominos pizzas since large peppy paneer used to cost around so now it looks bit high service service was good here and as we all know for the home delivery minutes free challenge never had it as my home is so close to this center hygeine hygienic neat and clean place to dine in attendents behaviour attendents were proactive in interacting with customers being in hospitality which is very much necessary found them very good so final verdict is we enjoyed our food everytime and would surely like to go to this place again or order from here again\n",
            "before: never gonna be ineterested in going bulshit\n",
            "misspelled word:  bulshit       correct word: bullshit\n",
            "After: never gonna be ineterested in going bulshit\n",
            "before: never gonna be ineterested in going bullshit\n",
            "misspelled word:  ineterested       correct word: interested\n",
            "After: never gonna be ineterested in going bullshit\n",
            "before: excellant\n",
            "misspelled word:  excellant       correct word: excellent\n",
            "After: excellant\n"
          ]
        }
      ]
    },
    {
      "cell_type": "code",
      "source": [
        "#This many words were corrected and replaced\n",
        "print(words_corrected_cnt)"
      ],
      "metadata": {
        "id": "SG2fvjDRVlXP",
        "colab": {
          "base_uri": "https://localhost:8080/"
        },
        "outputId": "94ecb015-2858-46cc-88c4-e67f39d3ce96"
      },
      "execution_count": 204,
      "outputs": [
        {
          "output_type": "stream",
          "name": "stdout",
          "text": [
            "342\n"
          ]
        }
      ]
    },
    {
      "cell_type": "markdown",
      "source": [
        "5. Removing stopwords"
      ],
      "metadata": {
        "id": "eygltVo3VpmX"
      }
    },
    {
      "cell_type": "code",
      "source": [
        "print(df_review['Review'].head())"
      ],
      "metadata": {
        "id": "cM7O6m5lVnxm",
        "colab": {
          "base_uri": "https://localhost:8080/"
        },
        "outputId": "6792a73d-2677-4884-ec42-55993d1539b6"
      },
      "execution_count": 205,
      "outputs": [
        {
          "output_type": "stream",
          "name": "stdout",
          "text": [
            "0                                                                                                                                                                                                                                                         its too good\n",
            "1                                                                                                                                                                                                                                                       waste of money\n",
            "2                                                                                                                                                                                                                                        pizza was yum but little late\n",
            "3                                                                                                                                                                                                                                          delivery person was amazing\n",
            "4    even after calling personally and even after giving special instructions received very cold pizza base is hard and it tastes stale as if it was premade thought chicken parcels were really hot and fresh with proper quantity but really disappointed with pizza\n",
            "Name: Review, dtype: object\n"
          ]
        }
      ]
    },
    {
      "cell_type": "code",
      "source": [
        "from nltk.corpus import stopwords\n",
        "sw=stopwords.words(\"english\")\n",
        "print(sw)\n",
        "#Removing the words below from the stopword list as they do impact the outcome when doing sentiment analysis. \n",
        "sw.append('would')\n",
        "sw.remove('not')\n",
        "sw.remove('no')\n",
        "sw.remove('don\\'t')\n",
        "sw.remove('didn\\'t')\n",
        "sw.remove('wouldn\\'t')\n",
        "sw.remove('wouldn')\n",
        "sw.remove('won\\'t')\n",
        "sw.remove('didn')\n",
        "sw.remove('don')\n",
        "sw.remove('isn\\'t')\n",
        "sw.remove('isn')\n",
        "sw.remove('couldn\\'t')\n",
        "print(sw)"
      ],
      "metadata": {
        "id": "uFD12T0lXASW",
        "colab": {
          "base_uri": "https://localhost:8080/"
        },
        "outputId": "f90f5c89-ba62-4525-ed34-b080f896cdbe"
      },
      "execution_count": 206,
      "outputs": [
        {
          "output_type": "stream",
          "name": "stdout",
          "text": [
            "['i', 'me', 'my', 'myself', 'we', 'our', 'ours', 'ourselves', 'you', \"you're\", \"you've\", \"you'll\", \"you'd\", 'your', 'yours', 'yourself', 'yourselves', 'he', 'him', 'his', 'himself', 'she', \"she's\", 'her', 'hers', 'herself', 'it', \"it's\", 'its', 'itself', 'they', 'them', 'their', 'theirs', 'themselves', 'what', 'which', 'who', 'whom', 'this', 'that', \"that'll\", 'these', 'those', 'am', 'is', 'are', 'was', 'were', 'be', 'been', 'being', 'have', 'has', 'had', 'having', 'do', 'does', 'did', 'doing', 'a', 'an', 'the', 'and', 'but', 'if', 'or', 'because', 'as', 'until', 'while', 'of', 'at', 'by', 'for', 'with', 'about', 'against', 'between', 'into', 'through', 'during', 'before', 'after', 'above', 'below', 'to', 'from', 'up', 'down', 'in', 'out', 'on', 'off', 'over', 'under', 'again', 'further', 'then', 'once', 'here', 'there', 'when', 'where', 'why', 'how', 'all', 'any', 'both', 'each', 'few', 'more', 'most', 'other', 'some', 'such', 'no', 'nor', 'not', 'only', 'own', 'same', 'so', 'than', 'too', 'very', 's', 't', 'can', 'will', 'just', 'don', \"don't\", 'should', \"should've\", 'now', 'd', 'll', 'm', 'o', 're', 've', 'y', 'ain', 'aren', \"aren't\", 'couldn', \"couldn't\", 'didn', \"didn't\", 'doesn', \"doesn't\", 'hadn', \"hadn't\", 'hasn', \"hasn't\", 'haven', \"haven't\", 'isn', \"isn't\", 'ma', 'mightn', \"mightn't\", 'mustn', \"mustn't\", 'needn', \"needn't\", 'shan', \"shan't\", 'shouldn', \"shouldn't\", 'wasn', \"wasn't\", 'weren', \"weren't\", 'won', \"won't\", 'wouldn', \"wouldn't\"]\n",
            "['i', 'me', 'my', 'myself', 'we', 'our', 'ours', 'ourselves', 'you', \"you're\", \"you've\", \"you'll\", \"you'd\", 'your', 'yours', 'yourself', 'yourselves', 'he', 'him', 'his', 'himself', 'she', \"she's\", 'her', 'hers', 'herself', 'it', \"it's\", 'its', 'itself', 'they', 'them', 'their', 'theirs', 'themselves', 'what', 'which', 'who', 'whom', 'this', 'that', \"that'll\", 'these', 'those', 'am', 'is', 'are', 'was', 'were', 'be', 'been', 'being', 'have', 'has', 'had', 'having', 'do', 'does', 'did', 'doing', 'a', 'an', 'the', 'and', 'but', 'if', 'or', 'because', 'as', 'until', 'while', 'of', 'at', 'by', 'for', 'with', 'about', 'against', 'between', 'into', 'through', 'during', 'before', 'after', 'above', 'below', 'to', 'from', 'up', 'down', 'in', 'out', 'on', 'off', 'over', 'under', 'again', 'further', 'then', 'once', 'here', 'there', 'when', 'where', 'why', 'how', 'all', 'any', 'both', 'each', 'few', 'more', 'most', 'other', 'some', 'such', 'nor', 'only', 'own', 'same', 'so', 'than', 'too', 'very', 's', 't', 'can', 'will', 'just', 'should', \"should've\", 'now', 'd', 'll', 'm', 'o', 're', 've', 'y', 'ain', 'aren', \"aren't\", 'couldn', 'doesn', \"doesn't\", 'hadn', \"hadn't\", 'hasn', \"hasn't\", 'haven', \"haven't\", 'ma', 'mightn', \"mightn't\", 'mustn', \"mustn't\", 'needn', \"needn't\", 'shan', \"shan't\", 'shouldn', \"shouldn't\", 'wasn', \"wasn't\", 'weren', \"weren't\", 'won', 'would']\n"
          ]
        }
      ]
    },
    {
      "cell_type": "markdown",
      "source": [
        "Making 'Review' lower so I can remove stopwords"
      ],
      "metadata": {
        "id": "qWgKBsezXGUg"
      }
    },
    {
      "cell_type": "code",
      "source": [
        "df_review['Review']=df_review['Review'].str.lower()"
      ],
      "metadata": {
        "id": "TpGr6WeBXCoG"
      },
      "execution_count": 207,
      "outputs": []
    },
    {
      "cell_type": "code",
      "source": [
        "df_review['Review']=df_review['Review'].apply(lambda x:\" \".join(x for x in str(x).split() if x not in sw))\n",
        "print(df_review.head())"
      ],
      "metadata": {
        "id": "e7uy-jvBXJQL",
        "colab": {
          "base_uri": "https://localhost:8080/"
        },
        "outputId": "c58a4676-0e17-4ba3-ea60-dbe67ae49ac6"
      },
      "execution_count": 208,
      "outputs": [
        {
          "output_type": "stream",
          "name": "stdout",
          "text": [
            "                                                                                                                                                                                           Review  \\\n",
            "0                                                                                                                                                                                            good   \n",
            "1                                                                                                                                                                                     waste money   \n",
            "2                                                                                                                                                                           pizza yum little late   \n",
            "3                                                                                                                                                                         delivery person amazing   \n",
            "4  even calling personally even giving special instructions received cold pizza base hard tastes stale premade thought chicken parcels really hot fresh proper quantity really disappointed pizza   \n",
            "\n",
            "   Sentiment  \n",
            "0          1  \n",
            "1          0  \n",
            "2          1  \n",
            "3          1  \n",
            "4          0  \n"
          ]
        }
      ]
    },
    {
      "cell_type": "code",
      "source": [
        "#TOTAL WORDS AFTER REMOVING STOP WORDS!\n",
        "p_list=[]\n",
        "for i in range(len(df_review)):\n",
        "  ent=df_review['Review'][i].split()\n",
        "  p_list.append(ent)\n",
        "\n",
        "word_list=[]\n",
        "for element in p_list:\n",
        "  for word in element:\n",
        "    word_list.append(word)\n",
        "print(len(word_list))"
      ],
      "metadata": {
        "id": "Iu-eLxKfXZHw",
        "colab": {
          "base_uri": "https://localhost:8080/"
        },
        "outputId": "811825ca-f4ed-4e89-f0dc-b7d7b6d99d61"
      },
      "execution_count": 209,
      "outputs": [
        {
          "output_type": "stream",
          "name": "stdout",
          "text": [
            "35989\n"
          ]
        }
      ]
    },
    {
      "cell_type": "markdown",
      "source": [
        "EDA #2: COMMON WORDS And their frequency"
      ],
      "metadata": {
        "id": "lCnvDDRfu7UH"
      }
    },
    {
      "cell_type": "markdown",
      "source": [
        "For positive reviews"
      ],
      "metadata": {
        "id": "RiTPn5bYypIA"
      }
    },
    {
      "cell_type": "code",
      "source": [
        "pos_reviews_list=[]\n",
        "for rev in df_review[df_review['Sentiment']==1].Review:\n",
        "  sent_list=rev.split()\n",
        "  for w in sent_list:\n",
        "    pos_reviews_list.append(w)\n",
        "\n",
        "\n",
        "#Trial code for common words finder, again.\n",
        "cnt=Counter(pos_reviews_list)\n",
        "cmmn=cnt.most_common(100)   #Finding common words and their occurrences in the mis_mis_list     \n",
        "print(cmmn)"
      ],
      "metadata": {
        "colab": {
          "base_uri": "https://localhost:8080/"
        },
        "outputId": "704f4932-b0aa-45f8-bcef-da277eb59515",
        "id": "VR1F1WGvRFsE"
      },
      "execution_count": 210,
      "outputs": [
        {
          "output_type": "stream",
          "name": "stdout",
          "text": [
            "[('pizza', 819), ('good', 745), ('dominos', 445), ('service', 324), ('delivery', 301), ('place', 277), ('pizzas', 274), ('time', 236), ('cheese', 227), ('taste', 205), ('nice', 180), ('great', 161), ('food', 157), ('best', 151), ('always', 140), ('not', 133), ('chicken', 133), ('also', 130), ('outlet', 130), ('one', 129), ('order', 125), ('love', 119), ('awesome', 115), ('ordered', 113), ('like', 102), ('burst', 102), ('really', 94), ('staff', 93), ('hot', 92), ('garlic', 92), ('delicious', 87), ('veg', 86), ('quality', 83), ('bread', 83), ('well', 82), ('yummy', 80), ('amazing', 75), ('fast', 73), ('no', 73), ('try', 72), ('quick', 72), ('tasty', 70), ('home', 69), ('paneer', 68), ('better', 64), ('delivered', 62), ('overall', 60), ('crust', 59), ('experience', 59), ('toppings', 58), ('small', 55), ('must', 51), ('cake', 50), ('new', 50), ('cheesy', 49), ('excellent', 48), ('tried', 48), ('even', 47), ('lava', 45), ('fresh', 45), ('friends', 45), ('get', 45), ('ambience', 44), ('go', 43), ('choco', 42), ('thank', 41), ('favourite', 41), ('many', 41), ('much', 39), ('perfect', 39), ('friendly', 37), ('times', 37), ('visit', 36), ('available', 35), ('never', 35), ('little', 34), ('loved', 34), ('soft', 34), ('dont', 34), ('thanks', 33), ('though', 33), ('ok', 33), ('base', 33), ('served', 33), ('outlets', 33), ('eat', 32), ('boy', 32), ('got', 32), ('worth', 31), ('people', 31), ('take', 31), ('burger', 31), ('loaded', 30), ('peppy', 30), ('menu', 30), ('still', 30), ('usual', 29), ('quite', 29), ('less', 29), ('enough', 27)]\n"
          ]
        }
      ]
    },
    {
      "cell_type": "code",
      "source": [
        "#cnt=Counter(df_review[df_review['Sentiment']==1].Review)\n",
        "cnt=Counter(pos_reviews_list)\n",
        "pos_common_words=pd.DataFrame(cnt.most_common(15), columns=['words','count'])\n",
        "pos_common_words.head()\n",
        "\n",
        "fig,ax=plt.subplots(figsize=(8,8))\n",
        "pos_common_words.sort_values(by='count').plot.barh(x='words',y='count',ax=ax,color='purple')\n",
        "ax.set_title(\"Positive reviews: Common words and their frequency\")\n",
        "plt.show()"
      ],
      "metadata": {
        "id": "I38i6ITuvBwq",
        "colab": {
          "base_uri": "https://localhost:8080/",
          "height": 499
        },
        "outputId": "91e54fd7-8ce8-4402-e807-f74e76994532"
      },
      "execution_count": 211,
      "outputs": [
        {
          "output_type": "display_data",
          "data": {
            "text/plain": [
              "<Figure size 576x576 with 1 Axes>"
            ],
            "image/png": "[encoded data removed]"
          },
          "metadata": {
            "needs_background": "light"
          }
        }
      ]
    },
    {
      "cell_type": "code",
      "source": [
        "#Creating bi-grams\n",
        "bigram_measures=nltk.collocations.BigramAssocMeasures()\n",
        "\n",
        "finder=nltk.collocations.BigramCollocationFinder.from_documents([comment.split() for comment in df_review[df_review['Sentiment']==1].Review])"
      ],
      "metadata": {
        "id": "_JyTaso1il0N"
      },
      "execution_count": 212,
      "outputs": []
    },
    {
      "cell_type": "code",
      "source": [
        "finder.apply_freq_filter(25)\n",
        "bigram_scores=finder.score_ngrams(bigram_measures.pmi)\n",
        "print(len(bigram_scores))"
      ],
      "metadata": {
        "colab": {
          "base_uri": "https://localhost:8080/"
        },
        "outputId": "74389510-fcd6-40c9-d35b-367fa826e10d",
        "id": "bbqy6RZDil0N"
      },
      "execution_count": 213,
      "outputs": [
        {
          "output_type": "stream",
          "name": "stdout",
          "text": [
            "19\n"
          ]
        }
      ]
    },
    {
      "cell_type": "code",
      "source": [
        "bigram_scores[0][0]\n",
        "cnt_list=[]\n",
        "for gram in bigram_scores:\n",
        "  x = '_'.join(gram[0])\n",
        "  cnt_list.append((x,gram[1]))\n",
        "print(cnt_list[0:10])"
      ],
      "metadata": {
        "colab": {
          "base_uri": "https://localhost:8080/"
        },
        "outputId": "6596313c-7b15-4329-f07f-5d48321bc43f",
        "id": "qx_Dbwcmil0N"
      },
      "execution_count": 214,
      "outputs": [
        {
          "output_type": "stream",
          "name": "stdout",
          "text": [
            "[('choco_lava', 8.562206074681752), ('lava_cake', 8.27319260226712), ('peppy_paneer', 7.921508440232547), ('garlic_bread', 7.491191678019877), ('must_try', 7.406086872764467), ('cheese_burst', 6.276710389780735), ('delivery_boy', 5.8342452937767515), ('home_delivery', 5.245094996092162), ('nice_place', 3.362734034606678), ('dominos_outlet', 3.148299958103326)]\n"
          ]
        }
      ]
    },
    {
      "cell_type": "code",
      "source": [
        "#cnt=Counter(df_review[df_review['Sentiment']==0].Review)\n",
        "cnt=Counter(cnt_list)\n",
        "pos_common_words=pd.DataFrame(cnt_list[0:15], columns=['words','frequency'])\n",
        "pos_common_words.head()\n",
        "\n",
        "fig,ax=plt.subplots(figsize=(8,8))\n",
        "pos_common_words.sort_values(by='frequency').plot.barh(x='words',y='frequency',ax=ax,color='purple')\n",
        "ax.set_title(\"Positive reviews: BIGRAMS and their frequency\")\n",
        "plt.show()"
      ],
      "metadata": {
        "colab": {
          "base_uri": "https://localhost:8080/",
          "height": 499
        },
        "outputId": "f17ae81f-459b-4c6c-c1a6-d3ddb5991f57",
        "id": "sFnRlJDoil0O"
      },
      "execution_count": 215,
      "outputs": [
        {
          "output_type": "display_data",
          "data": {
            "text/plain": [
              "<Figure size 576x576 with 1 Axes>"
            ],
            "image/png": "[encoded data removed]"
          },
          "metadata": {
            "needs_background": "light"
          }
        }
      ]
    },
    {
      "cell_type": "markdown",
      "source": [
        "For Negative Reviews"
      ],
      "metadata": {
        "id": "esFkj4qxxVEC"
      }
    },
    {
      "cell_type": "code",
      "source": [
        "neg_reviews_list=[]\n",
        "for rev in df_review[df_review['Sentiment']==0].Review:\n",
        "  sent_list=rev.split()\n",
        "  for w in sent_list:\n",
        "    neg_reviews_list.append(w)\n",
        "\n",
        "\n",
        "#Trial code for common words finder, again.\n",
        "cnt=Counter(neg_reviews_list)\n",
        "cmmn=cnt.most_common(100)   #Finding common words and their occurrences in the mis_mis_list     \n",
        "print(cmmn)"
      ],
      "metadata": {
        "id": "KUt7mkPpRQZV",
        "colab": {
          "base_uri": "https://localhost:8080/"
        },
        "outputId": "b9071568-7a0a-42ce-8f2e-bba79ccc260c"
      },
      "execution_count": 216,
      "outputs": [
        {
          "output_type": "stream",
          "name": "stdout",
          "text": [
            "[('pizza', 668), ('not', 651), ('order', 475), ('dominos', 313), ('delivery', 286), ('cheese', 267), ('time', 212), ('ordered', 202), ('service', 193), ('no', 186), ('good', 183), ('late', 152), ('delivered', 150), ('bad', 146), ('worst', 133), ('food', 113), ('also', 112), ('experience', 112), ('even', 111), ('received', 101), ('one', 101), ('quality', 99), ('taste', 98), ('outlet', 98), ('got', 96), ('place', 96), ('pizzas', 94), ('burst', 92), ('dont', 91), ('didnt', 90), ('cold', 88), ('staff', 88), ('like', 86), ('get', 83), ('less', 78), ('zomato', 77), ('deliver', 75), ('never', 68), ('bread', 66), ('hour', 64), ('call', 62), ('mins', 62), ('disappointed', 60), ('pathetic', 58), ('veg', 57), ('ever', 55), ('customer', 53), ('garlic', 52), ('money', 51), ('chicken', 49), ('home', 49), ('really', 48), ('times', 48), ('much', 46), ('toppings', 45), ('refund', 45), ('poor', 44), ('properly', 44), ('please', 43), ('hot', 42), ('base', 41), ('minutes', 41), ('took', 40), ('online', 39), ('take', 39), ('better', 39), ('first', 38), ('min', 38), ('store', 37), ('give', 37), ('restaurant', 37), ('pm', 36), ('customers', 36), ('need', 35), ('horrible', 35), ('half', 34), ('said', 34), ('called', 34), ('well', 34), ('given', 34), ('always', 34), ('boy', 33), ('wasnt', 31), ('told', 31), ('still', 31), ('waiting', 31), ('go', 31), ('topping', 31), ('ordering', 31), ('small', 30), ('hours', 30), ('expected', 29), ('dominoes', 29), ('delayed', 29), ('back', 28), ('instead', 28), ('oregano', 28), ('placed', 28), ('amount', 27), ('want', 27)]\n"
          ]
        }
      ]
    },
    {
      "cell_type": "code",
      "source": [
        "#cnt=Counter(df_review[df_review['Sentiment']==0].Review)\n",
        "cnt=Counter(neg_reviews_list)\n",
        "pos_common_words=pd.DataFrame(cnt.most_common(15), columns=['words','count'])\n",
        "pos_common_words.head()\n",
        "\n",
        "fig,ax=plt.subplots(figsize=(8,8))\n",
        "pos_common_words.sort_values(by='count').plot.barh(x='words',y='count',ax=ax,color='purple')\n",
        "ax.set_title(\"Negative reviews: Common words and their frequency\")\n",
        "plt.show()"
      ],
      "metadata": {
        "id": "LE-luV4EyuBh",
        "colab": {
          "base_uri": "https://localhost:8080/",
          "height": 499
        },
        "outputId": "045b96a8-43d9-4045-edbb-15754ad4e70f"
      },
      "execution_count": 217,
      "outputs": [
        {
          "output_type": "display_data",
          "data": {
            "text/plain": [
              "<Figure size 576x576 with 1 Axes>"
            ],
            "image/png": "[encoded data removed]"
          },
          "metadata": {
            "needs_background": "light"
          }
        }
      ]
    },
    {
      "cell_type": "code",
      "source": [
        "#Creating bi-grams\n",
        "bigram_measures=nltk.collocations.BigramAssocMeasures()\n",
        "\n",
        "finder=nltk.collocations.BigramCollocationFinder.from_documents([comment.split() for comment in df_review[df_review['Sentiment']==0].Review])"
      ],
      "metadata": {
        "id": "grEA6VaBn4b-"
      },
      "execution_count": 218,
      "outputs": []
    },
    {
      "cell_type": "code",
      "source": [
        "finder.apply_freq_filter(25)\n",
        "bigram_scores=finder.score_ngrams(bigram_measures.pmi)\n",
        "#print('_'.join(bigram_scores[0][0]))\n",
        "print(len(bigram_scores))"
      ],
      "metadata": {
        "id": "PiIdhIXcn7A0",
        "colab": {
          "base_uri": "https://localhost:8080/"
        },
        "outputId": "18c64d82-4250-4b53-9564-8dcdc54318d7"
      },
      "execution_count": 219,
      "outputs": [
        {
          "output_type": "stream",
          "name": "stdout",
          "text": [
            "16\n"
          ]
        }
      ]
    },
    {
      "cell_type": "code",
      "source": [
        "bigram_scores[0][0]\n",
        "cnt_list=[]\n",
        "for gram in bigram_scores:\n",
        "  x = '_'.join(gram[0])\n",
        "  cnt_list.append((x,gram[1]))\n",
        "print(cnt_list[0:10])"
      ],
      "metadata": {
        "id": "8irqgn2KSONb",
        "colab": {
          "base_uri": "https://localhost:8080/"
        },
        "outputId": "341b6017-0acf-4f2a-818e-7f68aa081e0c"
      },
      "execution_count": 220,
      "outputs": [
        {
          "output_type": "stream",
          "name": "stdout",
          "text": [
            "[('garlic_bread', 7.949224726928794), ('cheese_burst', 5.951102930664714), ('delivery_boy', 5.659718109733809), ('bad_experience', 5.359844096213143), ('home_delivery', 5.334514882813586), ('worst_experience', 5.0013462083118565), ('late_delivery', 4.127561968187305), ('worst_service', 4.1052127807126375), ('received_order', 3.603494997095531), ('not_good', 3.39662961176219)]\n"
          ]
        }
      ]
    },
    {
      "cell_type": "code",
      "source": [
        "#cnt=Counter(df_review[df_review['Sentiment']==0].Review)\n",
        "cnt=Counter(cnt_list)\n",
        "pos_common_words=pd.DataFrame(cnt_list[0:15], columns=['words','count'])\n",
        "pos_common_words.head()\n",
        "\n",
        "fig,ax=plt.subplots(figsize=(8,8))\n",
        "pos_common_words.sort_values(by='count').plot.barh(x='words',y='count',ax=ax,color='purple')\n",
        "ax.set_title(\"Negative reviews: BIGRAMS and their frequency\")\n",
        "plt.show()"
      ],
      "metadata": {
        "id": "TRJExrrZSrrM",
        "colab": {
          "base_uri": "https://localhost:8080/",
          "height": 499
        },
        "outputId": "77d3af0c-480d-4224-c8db-6dffeeccb55c"
      },
      "execution_count": 221,
      "outputs": [
        {
          "output_type": "display_data",
          "data": {
            "text/plain": [
              "<Figure size 576x576 with 1 Axes>"
            ],
            "image/png": "[encoded data removed]"
          },
          "metadata": {
            "needs_background": "light"
          }
        }
      ]
    },
    {
      "cell_type": "markdown",
      "source": [
        "6. Tokenization"
      ],
      "metadata": {
        "id": "MNy-z34PXjNE"
      }
    },
    {
      "cell_type": "code",
      "source": [
        "#Tokenization done to apply Lemmatization\n",
        "w_tokenizer=nltk.tokenize.WhitespaceTokenizer()\n",
        "lemmatizer=nltk.stem.WordNetLemmatizer()\n",
        "\n",
        "def lemmatize_text(text):\n",
        "  return [lemmatizer.lemmatize(w,'v') for w in w_tokenizer.tokenize(text)]\n",
        "\n",
        "df_review['Review']=df_review.Review.apply(lemmatize_text)\n",
        "print(df_review.head())"
      ],
      "metadata": {
        "id": "n4tNqBH8XcZ7",
        "colab": {
          "base_uri": "https://localhost:8080/"
        },
        "outputId": "1fc5dc2a-42b4-4b47-814d-4438ef2d6ee3"
      },
      "execution_count": 222,
      "outputs": [
        {
          "output_type": "stream",
          "name": "stdout",
          "text": [
            "                                                                                                                                                                                                          Review  \\\n",
            "0                                                                                                                                                                                                         [good]   \n",
            "1                                                                                                                                                                                                 [waste, money]   \n",
            "2                                                                                                                                                                                     [pizza, yum, little, late]   \n",
            "3                                                                                                                                                                                      [delivery, person, amaze]   \n",
            "4  [even, call, personally, even, give, special, instructions, receive, cold, pizza, base, hard, taste, stale, premade, think, chicken, parcel, really, hot, fresh, proper, quantity, really, disappoint, pizza]   \n",
            "\n",
            "   Sentiment  \n",
            "0          1  \n",
            "1          0  \n",
            "2          1  \n",
            "3          1  \n",
            "4          0  \n"
          ]
        }
      ]
    },
    {
      "cell_type": "markdown",
      "source": [
        "From tokenized to normal"
      ],
      "metadata": {
        "id": "28tjU7BDYRg0"
      }
    },
    {
      "cell_type": "code",
      "source": [
        "df_review['NewReview'] = df_review['Review'].apply(lambda s1: ' '.join(map(str,s1)) )\n",
        "\n",
        "print(df_review['NewReview'].head())"
      ],
      "metadata": {
        "id": "IYM2s2Z-YTA2",
        "colab": {
          "base_uri": "https://localhost:8080/"
        },
        "outputId": "90edd4c0-d1d8-4e0a-f946-4e4d40684dbe"
      },
      "execution_count": 223,
      "outputs": [
        {
          "output_type": "stream",
          "name": "stdout",
          "text": [
            "0                                                                                                                                                                                  good\n",
            "1                                                                                                                                                                           waste money\n",
            "2                                                                                                                                                                 pizza yum little late\n",
            "3                                                                                                                                                                 delivery person amaze\n",
            "4    even call personally even give special instructions receive cold pizza base hard taste stale premade think chicken parcel really hot fresh proper quantity really disappoint pizza\n",
            "Name: NewReview, dtype: object\n"
          ]
        }
      ]
    },
    {
      "cell_type": "code",
      "source": [
        "df_review['NewReview']=df_review['NewReview'].str.lower()\n",
        "df_review.head()"
      ],
      "metadata": {
        "id": "ua6hTyd6YUm_",
        "colab": {
          "base_uri": "https://localhost:8080/",
          "height": 267
        },
        "outputId": "0f491f29-dee3-4451-f234-a44e21d5dfab"
      },
      "execution_count": 224,
      "outputs": [
        {
          "output_type": "execute_result",
          "data": {
            "text/plain": [
              "                                                                                                                                                                                                          Review  \\\n",
              "0                                                                                                                                                                                                         [good]   \n",
              "1                                                                                                                                                                                                 [waste, money]   \n",
              "2                                                                                                                                                                                     [pizza, yum, little, late]   \n",
              "3                                                                                                                                                                                      [delivery, person, amaze]   \n",
              "4  [even, call, personally, even, give, special, instructions, receive, cold, pizza, base, hard, taste, stale, premade, think, chicken, parcel, really, hot, fresh, proper, quantity, really, disappoint, pizza]   \n",
              "\n",
              "   Sentiment  \\\n",
              "0          1   \n",
              "1          0   \n",
              "2          1   \n",
              "3          1   \n",
              "4          0   \n",
              "\n",
              "                                                                                                                                                                            NewReview  \n",
              "0                                                                                                                                                                                good  \n",
              "1                                                                                                                                                                         waste money  \n",
              "2                                                                                                                                                               pizza yum little late  \n",
              "3                                                                                                                                                               delivery person amaze  \n",
              "4  even call personally even give special instructions receive cold pizza base hard taste stale premade think chicken parcel really hot fresh proper quantity really disappoint pizza  "
            ],
            "text/html": [
              "\n",
              "  <div id=\"df-a329c4e7-8329-40e0-b6d0-ea689674f8b6\">\n",
              "    <div class=\"colab-df-container\">\n",
              "      <div>\n",
              "<style scoped>\n",
              "    .dataframe tbody tr th:only-of-type {\n",
              "        vertical-align: middle;\n",
              "    }\n",
              "\n",
              "    .dataframe tbody tr th {\n",
              "        vertical-align: top;\n",
              "    }\n",
              "\n",
              "    .dataframe thead th {\n",
              "        text-align: right;\n",
              "    }\n",
              "</style>\n",
              "<table border=\"1\" class=\"dataframe\">\n",
              "  <thead>\n",
              "    <tr style=\"text-align: right;\">\n",
              "      <th></th>\n",
              "      <th>Review</th>\n",
              "      <th>Sentiment</th>\n",
              "      <th>NewReview</th>\n",
              "    </tr>\n",
              "  </thead>\n",
              "  <tbody>\n",
              "    <tr>\n",
              "      <th>0</th>\n",
              "      <td>[good]</td>\n",
              "      <td>1</td>\n",
              "      <td>good</td>\n",
              "    </tr>\n",
              "    <tr>\n",
              "      <th>1</th>\n",
              "      <td>[waste, money]</td>\n",
              "      <td>0</td>\n",
              "      <td>waste money</td>\n",
              "    </tr>\n",
              "    <tr>\n",
              "      <th>2</th>\n",
              "      <td>[pizza, yum, little, late]</td>\n",
              "      <td>1</td>\n",
              "      <td>pizza yum little late</td>\n",
              "    </tr>\n",
              "    <tr>\n",
              "      <th>3</th>\n",
              "      <td>[delivery, person, amaze]</td>\n",
              "      <td>1</td>\n",
              "      <td>delivery person amaze</td>\n",
              "    </tr>\n",
              "    <tr>\n",
              "      <th>4</th>\n",
              "      <td>[even, call, personally, even, give, special, instructions, receive, cold, pizza, base, hard, taste, stale, premade, think, chicken, parcel, really, hot, fresh, proper, quantity, really, disappoint, pizza]</td>\n",
              "      <td>0</td>\n",
              "      <td>even call personally even give special instructions receive cold pizza base hard taste stale premade think chicken parcel really hot fresh proper quantity really disappoint pizza</td>\n",
              "    </tr>\n",
              "  </tbody>\n",
              "</table>\n",
              "</div>\n",
              "      <button class=\"colab-df-convert\" onclick=\"convertToInteractive('df-a329c4e7-8329-40e0-b6d0-ea689674f8b6')\"\n",
              "              title=\"Convert this dataframe to an interactive table.\"\n",
              "              style=\"display:none;\">\n",
              "        \n",
              "  <svg xmlns=\"http://www.w3.org/2000/svg\" height=\"24px\"viewBox=\"0 0 24 24\"\n",
              "       width=\"24px\">\n",
              "    <path d=\"M0 0h24v24H0V0z\" fill=\"none\"/>\n",
              "    <path d=\"M18.56 5.44l.94 2.06.94-2.06 2.06-.94-2.06-.94-.94-2.06-.94 2.06-2.06.94zm-11 1L8.5 8.5l.94-2.06 2.06-.94-2.06-.94L8.5 2.5l-.94 2.06-2.06.94zm10 10l.94 2.06.94-2.06 2.06-.94-2.06-.94-.94-2.06-.94 2.06-2.06.94z\"/><path d=\"M17.41 7.96l-1.37-1.37c-.4-.4-.92-.59-1.43-.59-.52 0-1.04.2-1.43.59L10.3 9.45l-7.72 7.72c-.78.78-.78 2.05 0 2.83L4 21.41c.39.39.9.59 1.41.59.51 0 1.02-.2 1.41-.59l7.78-7.78 2.81-2.81c.8-.78.8-2.07 0-2.86zM5.41 20L4 18.59l7.72-7.72 1.47 1.35L5.41 20z\"/>\n",
              "  </svg>\n",
              "      </button>\n",
              "      \n",
              "  <style>\n",
              "    .colab-df-container {\n",
              "      display:flex;\n",
              "      flex-wrap:wrap;\n",
              "      gap: 12px;\n",
              "    }\n",
              "\n",
              "    .colab-df-convert {\n",
              "      background-color: #E8F0FE;\n",
              "      border: none;\n",
              "      border-radius: 50%;\n",
              "      cursor: pointer;\n",
              "      display: none;\n",
              "      fill: #1967D2;\n",
              "      height: 32px;\n",
              "      padding: 0 0 0 0;\n",
              "      width: 32px;\n",
              "    }\n",
              "\n",
              "    .colab-df-convert:hover {\n",
              "      background-color: #E2EBFA;\n",
              "      box-shadow: 0px 1px 2px rgba(60, 64, 67, 0.3), 0px 1px 3px 1px rgba(60, 64, 67, 0.15);\n",
              "      fill: #174EA6;\n",
              "    }\n",
              "\n",
              "    [theme=dark] .colab-df-convert {\n",
              "      background-color: #3B4455;\n",
              "      fill: #D2E3FC;\n",
              "    }\n",
              "\n",
              "    [theme=dark] .colab-df-convert:hover {\n",
              "      background-color: #434B5C;\n",
              "      box-shadow: 0px 1px 3px 1px rgba(0, 0, 0, 0.15);\n",
              "      filter: drop-shadow(0px 1px 2px rgba(0, 0, 0, 0.3));\n",
              "      fill: #FFFFFF;\n",
              "    }\n",
              "  </style>\n",
              "\n",
              "      <script>\n",
              "        const buttonEl =\n",
              "          document.querySelector('#df-a329c4e7-8329-40e0-b6d0-ea689674f8b6 button.colab-df-convert');\n",
              "        buttonEl.style.display =\n",
              "          google.colab.kernel.accessAllowed ? 'block' : 'none';\n",
              "\n",
              "        async function convertToInteractive(key) {\n",
              "          const element = document.querySelector('#df-a329c4e7-8329-40e0-b6d0-ea689674f8b6');\n",
              "          const dataTable =\n",
              "            await google.colab.kernel.invokeFunction('convertToInteractive',\n",
              "                                                     [key], {});\n",
              "          if (!dataTable) return;\n",
              "\n",
              "          const docLinkHtml = 'Like what you see? Visit the ' +\n",
              "            '<a target=\"_blank\" href=https://colab.research.google.com/notebooks/data_table.ipynb>data table notebook</a>'\n",
              "            + ' to learn more about interactive tables.';\n",
              "          element.innerHTML = '';\n",
              "          dataTable['output_type'] = 'display_data';\n",
              "          await google.colab.output.renderOutput(dataTable, element);\n",
              "          const docLink = document.createElement('div');\n",
              "          docLink.innerHTML = docLinkHtml;\n",
              "          element.appendChild(docLink);\n",
              "        }\n",
              "      </script>\n",
              "    </div>\n",
              "  </div>\n",
              "  "
            ]
          },
          "metadata": {},
          "execution_count": 224
        }
      ]
    },
    {
      "cell_type": "markdown",
      "source": [
        "# Sentiment Analysis"
      ],
      "metadata": {
        "id": "AjEb6gVkYaUW"
      }
    },
    {
      "cell_type": "code",
      "source": [
        "print(\"The number of samples in the dataset!\")\n",
        "pos_percent=(len(df_review[df_review['Sentiment']==1])/len(df_review)*100)\n",
        "print(\"Positive reviews percentage: \",round(pos_percent,2),\"%\")\n",
        "neg_percent=(len(df_review[df_review['Sentiment']==0])/len(df_review)*100)\n",
        "print(\"Negative reviews percentage: \",round(neg_percent,2),\"%\")\n",
        "print(\"Positive reviews: \",len(df_review[df_review['Sentiment']==1]))\n",
        "print(\"Negative reviews: \",len(df_review[df_review['Sentiment']==0]))"
      ],
      "metadata": {
        "id": "xaCXykiVYYP3",
        "colab": {
          "base_uri": "https://localhost:8080/"
        },
        "outputId": "d7ea7e84-0571-42e0-cd23-5651ba9bc405"
      },
      "execution_count": 225,
      "outputs": [
        {
          "output_type": "stream",
          "name": "stdout",
          "text": [
            "The number of samples in the dataset!\n",
            "Positive reviews percentage:  56.19 %\n",
            "Negative reviews percentage:  43.81 %\n",
            "Positive reviews:  1543\n",
            "Negative reviews:  1203\n"
          ]
        }
      ]
    },
    {
      "cell_type": "markdown",
      "source": [
        "Train-test split starts here!"
      ],
      "metadata": {
        "id": "co78Y2FEYiGH"
      }
    },
    {
      "cell_type": "code",
      "source": [
        "from sklearn.model_selection import train_test_split"
      ],
      "metadata": {
        "id": "LCgTBYiCYfD2"
      },
      "execution_count": 226,
      "outputs": []
    },
    {
      "cell_type": "code",
      "source": [
        "train_data,test_data=train_test_split(df_review,test_size=0.2,random_state=50)  #keep random_state=50 for higher precision and recall of 0 class when using SVM\n",
        "#train_data,test_data=train_test_split(new_df_review,test_size=0.4,random_state=25)"
      ],
      "metadata": {
        "id": "QkA_JWcGYlqe"
      },
      "execution_count": 227,
      "outputs": []
    },
    {
      "cell_type": "code",
      "source": [
        "print(df_review.shape)\n",
        "print('test_data(Positive):',test_data[test_data['Sentiment']==1].count())\n",
        "print('test_data(Negative):',test_data[test_data['Sentiment']==0].count())\n",
        "\n",
        "print(\"train_data (Positive):\",train_data[train_data['Sentiment']==1].count())\n",
        "print('train_data (Negative):',train_data[train_data['Sentiment']==0].count())"
      ],
      "metadata": {
        "id": "VcdzoecJYnGn",
        "colab": {
          "base_uri": "https://localhost:8080/"
        },
        "outputId": "a6e3554c-1ae6-42b6-9d8d-c6ae6d03a394"
      },
      "execution_count": 228,
      "outputs": [
        {
          "output_type": "stream",
          "name": "stdout",
          "text": [
            "(2746, 3)\n",
            "test_data(Positive): Review       311\n",
            "Sentiment    311\n",
            "NewReview    311\n",
            "dtype: int64\n",
            "test_data(Negative): Review       239\n",
            "Sentiment    239\n",
            "NewReview    239\n",
            "dtype: int64\n",
            "train_data (Positive): Review       1232\n",
            "Sentiment    1232\n",
            "NewReview    1232\n",
            "dtype: int64\n",
            "train_data (Negative): Review       964\n",
            "Sentiment    964\n",
            "NewReview    964\n",
            "dtype: int64\n"
          ]
        }
      ]
    },
    {
      "cell_type": "code",
      "source": [
        "X_train=train_data['NewReview']\n",
        "y_train=train_data['Sentiment']\n",
        "X_test=test_data['NewReview']\n",
        "y_test=test_data['Sentiment']"
      ],
      "metadata": {
        "id": "A_QxMQcMYog_"
      },
      "execution_count": 229,
      "outputs": []
    },
    {
      "cell_type": "code",
      "source": [
        "print(X_train.head())\n",
        "print(X_test.head())"
      ],
      "metadata": {
        "id": "Mlp9TfO4YsZh",
        "colab": {
          "base_uri": "https://localhost:8080/"
        },
        "outputId": "23a9b9be-f40b-4397-e23e-18d8ee1dd447"
      },
      "execution_count": 230,
      "outputs": [
        {
          "output_type": "stream",
          "name": "stdout",
          "text": [
            "17                                                                                                                                                                                                                      delivery charge high even zomato pro members around rs dominos outlet literally next door house\n",
            "1263                                                                                                                                          dominos dominos outlet locate thakur college thakur village dominos time favourite ambience outdoor indoor staff friendly pizza tasty yummy think one best outlet dominos\n",
            "473     dominos best place crave pizza like domino pizza hut cheese burst die soo freak cheesy new addition menu burger pizza look like burger taste like pizza try burger pizza today superb soo cheesy hot soft lot veggies chicken piece new favourite guy wait goo hog youll definitely love cant miss piece heaven\n",
            "2496                                                                                                                                                                                                                                                                                                      late delivery\n",
            "1555                                                                                                                                                                                                                                                                                                               love\n",
            "Name: NewReview, dtype: object\n",
            "1150            delivery dominos always issue even complaint last order\n",
            "664                                                       great service\n",
            "2144    fall apart one side no toppings taste par quality seriously bad\n",
            "1847                              dominos always amaze whichever branch\n",
            "2211                                                non attentive staff\n",
            "Name: NewReview, dtype: object\n"
          ]
        }
      ]
    },
    {
      "cell_type": "markdown",
      "source": [
        "7. Vectorizer"
      ],
      "metadata": {
        "id": "DV3K_aOJZFEv"
      }
    },
    {
      "cell_type": "code",
      "source": [
        "from sklearn.feature_extraction.text import TfidfVectorizer"
      ],
      "metadata": {
        "id": "4xx8izAfY-iy"
      },
      "execution_count": 231,
      "outputs": []
    },
    {
      "cell_type": "code",
      "source": [
        "train_vectorizer=TfidfVectorizer(use_idf=True,lowercase=True,strip_accents='ascii')\n",
        "train_review_tfidf=train_vectorizer.fit_transform(X_train)"
      ],
      "metadata": {
        "id": "D0o_3FtZZHOf"
      },
      "execution_count": 232,
      "outputs": []
    },
    {
      "cell_type": "code",
      "source": [
        "print(train_review_tfidf.shape)\n",
        "type(train_review_tfidf)"
      ],
      "metadata": {
        "id": "G6MWSlTKZI3H",
        "colab": {
          "base_uri": "https://localhost:8080/"
        },
        "outputId": "72044a57-14bf-4f82-b074-5d71386323d9"
      },
      "execution_count": 233,
      "outputs": [
        {
          "output_type": "stream",
          "name": "stdout",
          "text": [
            "(2196, 2786)\n"
          ]
        },
        {
          "output_type": "execute_result",
          "data": {
            "text/plain": [
              "scipy.sparse.csr.csr_matrix"
            ]
          },
          "metadata": {},
          "execution_count": 233
        }
      ]
    },
    {
      "cell_type": "markdown",
      "source": [
        "a. LOGISTIC REGRESSION"
      ],
      "metadata": {
        "id": "RTKFTzf5ZPsq"
      }
    },
    {
      "cell_type": "code",
      "source": [
        "log_model=LogisticRegression().fit(train_review_tfidf, y_train)"
      ],
      "metadata": {
        "id": "eZAKVsjnZK_e"
      },
      "execution_count": 234,
      "outputs": []
    },
    {
      "cell_type": "code",
      "source": [
        "#USE THIS WHEN TESTING ON SPLIT TEST DATA\n",
        "nr=train_vectorizer.transform(X_test)\n",
        "log_model.predict(nr)"
      ],
      "metadata": {
        "id": "8cSDUR5DZVRR",
        "colab": {
          "base_uri": "https://localhost:8080/"
        },
        "outputId": "8de7f35b-e276-422d-c1c2-dd097a89ca04"
      },
      "execution_count": 235,
      "outputs": [
        {
          "output_type": "execute_result",
          "data": {
            "text/plain": [
              "array([0, 1, 0, 1, 0, 0, 0, 1, 0, 0, 1, 1, 1, 0, 0, 1, 0, 1, 1, 1, 0, 1,\n",
              "       0, 0, 1, 0, 0, 1, 1, 0, 1, 0, 1, 0, 1, 1, 0, 0, 1, 1, 1, 1, 1, 0,\n",
              "       0, 1, 0, 1, 0, 1, 1, 1, 1, 0, 0, 0, 1, 0, 0, 0, 0, 1, 1, 0, 0, 0,\n",
              "       1, 0, 1, 0, 0, 0, 1, 1, 1, 1, 1, 0, 1, 0, 0, 1, 1, 1, 1, 0, 0, 1,\n",
              "       1, 0, 0, 1, 1, 0, 0, 0, 0, 0, 1, 0, 1, 1, 1, 1, 0, 0, 0, 1, 0, 0,\n",
              "       0, 1, 0, 0, 0, 0, 1, 0, 1, 0, 1, 1, 1, 0, 1, 0, 0, 1, 0, 1, 0, 0,\n",
              "       1, 1, 1, 0, 1, 1, 0, 1, 0, 1, 1, 0, 0, 1, 0, 1, 1, 1, 1, 0, 0, 0,\n",
              "       0, 1, 0, 0, 0, 0, 0, 0, 1, 1, 1, 1, 1, 0, 1, 1, 1, 0, 0, 1, 1, 0,\n",
              "       1, 1, 1, 0, 1, 1, 1, 1, 0, 0, 1, 0, 0, 0, 0, 1, 0, 0, 1, 1, 1, 0,\n",
              "       1, 0, 1, 1, 1, 1, 1, 1, 0, 1, 1, 1, 0, 0, 1, 0, 0, 0, 0, 1, 0, 0,\n",
              "       1, 1, 0, 1, 1, 1, 0, 1, 1, 0, 1, 0, 0, 0, 0, 0, 1, 1, 1, 1, 1, 1,\n",
              "       0, 1, 1, 0, 0, 1, 1, 0, 1, 1, 1, 1, 0, 0, 0, 0, 1, 0, 0, 1, 1, 0,\n",
              "       1, 1, 1, 1, 1, 1, 1, 1, 0, 1, 0, 1, 1, 0, 1, 1, 1, 1, 1, 1, 1, 0,\n",
              "       1, 1, 0, 1, 1, 1, 0, 1, 1, 1, 0, 1, 1, 1, 0, 0, 1, 0, 1, 1, 1, 0,\n",
              "       0, 0, 1, 1, 1, 1, 0, 1, 0, 1, 1, 1, 1, 0, 1, 0, 0, 1, 0, 0, 1, 1,\n",
              "       1, 1, 0, 1, 1, 0, 0, 1, 1, 1, 0, 1, 1, 0, 0, 1, 0, 1, 0, 1, 0, 0,\n",
              "       1, 0, 1, 1, 1, 1, 1, 0, 1, 1, 0, 1, 1, 1, 0, 1, 1, 0, 1, 1, 1, 1,\n",
              "       0, 1, 0, 0, 1, 0, 1, 1, 1, 1, 1, 1, 1, 0, 0, 1, 1, 0, 0, 1, 0, 1,\n",
              "       0, 0, 1, 1, 1, 1, 0, 0, 1, 0, 0, 1, 0, 0, 1, 0, 0, 0, 0, 0, 1, 1,\n",
              "       1, 0, 0, 0, 1, 0, 0, 1, 1, 0, 1, 1, 1, 1, 0, 1, 1, 1, 1, 1, 0, 0,\n",
              "       1, 1, 0, 1, 1, 1, 1, 0, 1, 1, 1, 0, 1, 1, 1, 1, 0, 0, 0, 0, 0, 1,\n",
              "       0, 1, 1, 0, 1, 1, 0, 0, 0, 1, 1, 1, 1, 1, 0, 0, 1, 1, 1, 1, 1, 0,\n",
              "       0, 1, 1, 1, 0, 0, 1, 1, 1, 1, 1, 1, 1, 0, 1, 1, 1, 0, 1, 0, 1, 0,\n",
              "       0, 1, 0, 0, 1, 1, 1, 0, 1, 0, 1, 1, 1, 1, 0, 0, 0, 1, 1, 0, 0, 1,\n",
              "       0, 1, 1, 1, 1, 1, 1, 1, 1, 1, 1, 0, 0, 0, 1, 1, 1, 1, 1, 1, 0, 1])"
            ]
          },
          "metadata": {},
          "execution_count": 235
        }
      ]
    },
    {
      "cell_type": "code",
      "source": [
        "predicted=log_model.predict(nr)\n",
        "p=pd.DataFrame(predicted)\n",
        "actual=y_test"
      ],
      "metadata": {
        "id": "sdsqJHRdZeMM"
      },
      "execution_count": 236,
      "outputs": []
    },
    {
      "cell_type": "code",
      "source": [
        "import seaborn as sns\n",
        "cf_matrix=sm.confusion_matrix(actual,p)\n",
        "sns.heatmap(cf_matrix,annot=True,fmt='g')"
      ],
      "metadata": {
        "id": "iBs_jkMPZgZ2",
        "colab": {
          "base_uri": "https://localhost:8080/",
          "height": 282
        },
        "outputId": "d94d2d3d-7f50-4376-9ef7-1fcd641eea4f"
      },
      "execution_count": 237,
      "outputs": [
        {
          "output_type": "execute_result",
          "data": {
            "text/plain": [
              "<matplotlib.axes._subplots.AxesSubplot at 0x7f489e106090>"
            ]
          },
          "metadata": {},
          "execution_count": 237
        },
        {
          "output_type": "display_data",
          "data": {
            "text/plain": [
              "<Figure size 432x288 with 2 Axes>"
            ],
            "image/png": "[encoded data removed]"
          },
          "metadata": {
            "needs_background": "light"
          }
        }
      ]
    },
    {
      "cell_type": "code",
      "source": [
        "#Classification Report\n",
        "from sklearn.metrics import classification_report\n",
        "print(classification_report(actual,predicted))"
      ],
      "metadata": {
        "id": "Al0YcOquZh2Q",
        "colab": {
          "base_uri": "https://localhost:8080/"
        },
        "outputId": "0cec644e-98b3-4eec-ae0c-13c9feb6866b"
      },
      "execution_count": 238,
      "outputs": [
        {
          "output_type": "stream",
          "name": "stdout",
          "text": [
            "              precision    recall  f1-score   support\n",
            "\n",
            "           0       0.94      0.91      0.92       239\n",
            "           1       0.93      0.95      0.94       311\n",
            "\n",
            "    accuracy                           0.93       550\n",
            "   macro avg       0.93      0.93      0.93       550\n",
            "weighted avg       0.93      0.93      0.93       550\n",
            "\n"
          ]
        }
      ]
    },
    {
      "cell_type": "markdown",
      "source": [
        "b. SVM"
      ],
      "metadata": {
        "id": "ZpIF9yd7axde"
      }
    },
    {
      "cell_type": "code",
      "source": [
        "from sklearn.svm import SVC\n",
        "svclassifier=SVC(kernel='rbf',C=10,gamma=1)\n",
        "svclassifier.fit(train_review_tfidf,y_train)"
      ],
      "metadata": {
        "id": "Xa7jahlzayAV",
        "colab": {
          "base_uri": "https://localhost:8080/"
        },
        "outputId": "d6297785-53b6-4ce0-b50d-d2c7f2572433"
      },
      "execution_count": 239,
      "outputs": [
        {
          "output_type": "execute_result",
          "data": {
            "text/plain": [
              "SVC(C=10, gamma=1)"
            ]
          },
          "metadata": {},
          "execution_count": 239
        }
      ]
    },
    {
      "cell_type": "code",
      "source": [
        "nr=train_vectorizer.transform(X_test)\n",
        "svclassifier.predict(nr)"
      ],
      "metadata": {
        "id": "hfK2H1MYazT1",
        "colab": {
          "base_uri": "https://localhost:8080/"
        },
        "outputId": "707c2c0f-6a6a-4044-891c-8947301a3ef4"
      },
      "execution_count": 240,
      "outputs": [
        {
          "output_type": "execute_result",
          "data": {
            "text/plain": [
              "array([0, 1, 0, 1, 0, 0, 0, 1, 0, 0, 1, 1, 1, 0, 0, 1, 0, 1, 1, 1, 0, 1,\n",
              "       0, 0, 1, 0, 0, 1, 1, 0, 1, 0, 1, 0, 1, 1, 0, 0, 1, 1, 1, 1, 1, 0,\n",
              "       0, 1, 0, 1, 0, 0, 1, 1, 1, 0, 0, 0, 1, 0, 0, 0, 0, 1, 1, 0, 0, 1,\n",
              "       1, 0, 1, 0, 0, 0, 1, 1, 1, 1, 0, 0, 1, 0, 0, 1, 1, 1, 1, 1, 0, 1,\n",
              "       1, 0, 0, 1, 1, 0, 0, 0, 0, 0, 1, 0, 1, 1, 1, 1, 0, 0, 0, 1, 0, 0,\n",
              "       0, 1, 0, 1, 0, 0, 1, 0, 1, 0, 1, 1, 1, 0, 1, 0, 0, 1, 0, 1, 0, 0,\n",
              "       1, 1, 1, 0, 1, 1, 0, 1, 0, 1, 1, 0, 0, 0, 0, 1, 1, 1, 1, 0, 0, 0,\n",
              "       0, 1, 0, 0, 0, 0, 0, 0, 1, 1, 1, 1, 1, 1, 0, 1, 1, 0, 1, 1, 1, 0,\n",
              "       1, 1, 1, 0, 1, 1, 1, 1, 0, 0, 1, 0, 0, 0, 0, 1, 0, 0, 1, 1, 1, 0,\n",
              "       1, 0, 1, 1, 1, 1, 1, 1, 0, 1, 1, 1, 0, 0, 1, 0, 0, 1, 0, 1, 0, 0,\n",
              "       1, 1, 0, 1, 1, 1, 0, 1, 1, 0, 1, 0, 0, 0, 0, 0, 1, 1, 1, 1, 1, 1,\n",
              "       0, 0, 1, 0, 0, 1, 1, 0, 1, 1, 1, 1, 0, 0, 0, 0, 1, 0, 0, 0, 1, 0,\n",
              "       1, 1, 1, 1, 1, 1, 1, 1, 0, 1, 0, 1, 1, 0, 1, 1, 1, 1, 1, 1, 1, 0,\n",
              "       1, 1, 0, 1, 1, 1, 0, 1, 1, 1, 0, 1, 1, 1, 0, 0, 0, 0, 1, 1, 1, 0,\n",
              "       0, 0, 1, 1, 1, 1, 1, 1, 0, 1, 1, 1, 1, 0, 1, 0, 0, 1, 0, 0, 1, 1,\n",
              "       1, 1, 0, 1, 1, 0, 0, 1, 0, 1, 0, 1, 1, 0, 0, 1, 0, 1, 0, 1, 0, 0,\n",
              "       0, 0, 1, 1, 1, 1, 1, 0, 1, 1, 0, 1, 1, 1, 0, 0, 1, 0, 1, 1, 1, 1,\n",
              "       0, 1, 0, 0, 1, 0, 0, 1, 1, 1, 0, 1, 1, 0, 0, 1, 1, 0, 0, 1, 0, 1,\n",
              "       0, 0, 1, 1, 1, 1, 0, 0, 1, 0, 0, 1, 0, 0, 1, 0, 0, 0, 0, 0, 1, 1,\n",
              "       1, 0, 0, 0, 1, 0, 0, 1, 1, 0, 1, 1, 1, 1, 0, 1, 1, 1, 1, 1, 0, 0,\n",
              "       1, 1, 0, 1, 1, 1, 1, 0, 1, 1, 1, 0, 1, 1, 1, 1, 0, 0, 0, 0, 0, 1,\n",
              "       0, 1, 1, 0, 1, 1, 0, 0, 0, 1, 0, 1, 1, 1, 0, 0, 1, 1, 1, 1, 1, 0,\n",
              "       0, 1, 1, 1, 0, 0, 1, 1, 1, 1, 1, 1, 1, 0, 1, 1, 1, 0, 1, 0, 1, 0,\n",
              "       0, 1, 0, 0, 1, 1, 1, 1, 1, 0, 1, 1, 1, 1, 0, 0, 0, 1, 1, 0, 0, 1,\n",
              "       0, 1, 1, 1, 1, 0, 1, 1, 1, 1, 1, 0, 0, 0, 1, 1, 1, 1, 1, 1, 1, 1])"
            ]
          },
          "metadata": {},
          "execution_count": 240
        }
      ]
    },
    {
      "cell_type": "code",
      "source": [
        "predicted=svclassifier.predict(nr)\n",
        "p=pd.DataFrame(predicted)\n",
        "actual=y_test"
      ],
      "metadata": {
        "id": "ldOC406pa0lv"
      },
      "execution_count": 241,
      "outputs": []
    },
    {
      "cell_type": "code",
      "source": [
        "cf_matrix=sm.confusion_matrix(actual,p)\n",
        "sns.heatmap(cf_matrix,annot=True,fmt='g')"
      ],
      "metadata": {
        "id": "RsUFBh7Fa2EN",
        "colab": {
          "base_uri": "https://localhost:8080/",
          "height": 282
        },
        "outputId": "445f5982-ee69-4882-9f68-cc2c605b666e"
      },
      "execution_count": 242,
      "outputs": [
        {
          "output_type": "execute_result",
          "data": {
            "text/plain": [
              "<matplotlib.axes._subplots.AxesSubplot at 0x7f49de327210>"
            ]
          },
          "metadata": {},
          "execution_count": 242
        },
        {
          "output_type": "display_data",
          "data": {
            "text/plain": [
              "<Figure size 432x288 with 2 Axes>"
            ],
            "image/png": "[encoded data removed]"
          },
          "metadata": {
            "needs_background": "light"
          }
        }
      ]
    },
    {
      "cell_type": "code",
      "source": [
        "#Classification Report\n",
        "from sklearn.metrics import classification_report\n",
        "print(classification_report(actual,predicted))"
      ],
      "metadata": {
        "id": "XSlpUoE0a3et",
        "colab": {
          "base_uri": "https://localhost:8080/"
        },
        "outputId": "93c9270a-2e94-4322-eabb-580a0d586233"
      },
      "execution_count": 243,
      "outputs": [
        {
          "output_type": "stream",
          "name": "stdout",
          "text": [
            "              precision    recall  f1-score   support\n",
            "\n",
            "           0       0.94      0.93      0.93       239\n",
            "           1       0.95      0.95      0.95       311\n",
            "\n",
            "    accuracy                           0.94       550\n",
            "   macro avg       0.94      0.94      0.94       550\n",
            "weighted avg       0.94      0.94      0.94       550\n",
            "\n"
          ]
        }
      ]
    },
    {
      "cell_type": "markdown",
      "source": [
        "# Topic Modelling"
      ],
      "metadata": {
        "id": "6VsJcE6FSYDf"
      }
    },
    {
      "cell_type": "code",
      "source": [
        "import nltk\n",
        "nltk.download('averaged_perceptron_tagger')"
      ],
      "metadata": {
        "id": "MTy8TMNvpQ6r",
        "colab": {
          "base_uri": "https://localhost:8080/"
        },
        "outputId": "b06e64d6-19ec-45f0-a806-b786c558de65"
      },
      "execution_count": 244,
      "outputs": [
        {
          "output_type": "stream",
          "name": "stdout",
          "text": [
            "[nltk_data] Downloading package averaged_perceptron_tagger to\n",
            "[nltk_data]     /root/nltk_data...\n",
            "[nltk_data]   Package averaged_perceptron_tagger is already up-to-\n",
            "[nltk_data]       date!\n"
          ]
        },
        {
          "output_type": "execute_result",
          "data": {
            "text/plain": [
              "True"
            ]
          },
          "metadata": {},
          "execution_count": 244
        }
      ]
    },
    {
      "cell_type": "code",
      "source": [
        "corpus_bert=pd.DataFrame(df_review[df_review['Sentiment']==0].NewReview)\n",
        "corpus_lda=pd.DataFrame(df_review[df_review['Sentiment']==0].NewReview)\n"
      ],
      "metadata": {
        "id": "CvoTsdYspWuX"
      },
      "execution_count": 245,
      "outputs": []
    },
    {
      "cell_type": "code",
      "source": [
        "corpus_bert=corpus_bert.reset_index()\n",
        "corpus_lda=corpus_lda.reset_index()"
      ],
      "metadata": {
        "id": "oQyViJoMD8rW"
      },
      "execution_count": 246,
      "outputs": []
    },
    {
      "cell_type": "code",
      "source": [
        "print(corpus_bert.head())"
      ],
      "metadata": {
        "id": "nXNqm1WNee3H",
        "colab": {
          "base_uri": "https://localhost:8080/"
        },
        "outputId": "399d0b4a-feb1-451b-8282-12e550efd067"
      },
      "execution_count": 247,
      "outputs": [
        {
          "output_type": "stream",
          "name": "stdout",
          "text": [
            "   index  \\\n",
            "0      1   \n",
            "1      4   \n",
            "2      6   \n",
            "3      9   \n",
            "4     10   \n",
            "\n",
            "                                                                                                                                                                            NewReview  \n",
            "0                                                                                                                                                                         waste money  \n",
            "1  even call personally even give special instructions receive cold pizza base hard taste stale premade think chicken parcel really hot fresh proper quantity really disappoint pizza  \n",
            "2                                                                                                extremely less toppings spend much dominos kind toppings provide really poor service  \n",
            "3                                                                                                                                                               box not seal properly  \n",
            "4                                                                                                                  order deliver lately pizza cold garlic bread also cold didnt enjoy  \n"
          ]
        }
      ]
    },
    {
      "cell_type": "code",
      "source": [
        "!pip install pyLDAvis"
      ],
      "metadata": {
        "id": "JR9KjcvNJshv",
        "colab": {
          "base_uri": "https://localhost:8080/"
        },
        "outputId": "002383a2-c702-4960-f21c-904bd2665619"
      },
      "execution_count": 248,
      "outputs": [
        {
          "output_type": "stream",
          "name": "stdout",
          "text": [
            "Requirement already satisfied: pyLDAvis in /usr/local/lib/python3.7/dist-packages (3.3.1)\n",
            "Requirement already satisfied: future in /usr/local/lib/python3.7/dist-packages (from pyLDAvis) (0.16.0)\n",
            "Requirement already satisfied: funcy in /usr/local/lib/python3.7/dist-packages (from pyLDAvis) (1.17)\n",
            "Requirement already satisfied: gensim in /usr/local/lib/python3.7/dist-packages (from pyLDAvis) (3.6.0)\n",
            "Requirement already satisfied: scipy in /usr/local/lib/python3.7/dist-packages (from pyLDAvis) (1.4.1)\n",
            "Requirement already satisfied: joblib in /usr/local/lib/python3.7/dist-packages (from pyLDAvis) (1.1.0)\n",
            "Requirement already satisfied: sklearn in /usr/local/lib/python3.7/dist-packages (from pyLDAvis) (0.0)\n",
            "Requirement already satisfied: pandas>=1.2.0 in /usr/local/lib/python3.7/dist-packages (from pyLDAvis) (1.3.5)\n",
            "Requirement already satisfied: setuptools in /usr/local/lib/python3.7/dist-packages (from pyLDAvis) (57.4.0)\n",
            "Requirement already satisfied: jinja2 in /usr/local/lib/python3.7/dist-packages (from pyLDAvis) (2.11.3)\n",
            "Requirement already satisfied: scikit-learn in /usr/local/lib/python3.7/dist-packages (from pyLDAvis) (1.0.2)\n",
            "Requirement already satisfied: numexpr in /usr/local/lib/python3.7/dist-packages (from pyLDAvis) (2.8.1)\n",
            "Requirement already satisfied: numpy>=1.20.0 in /usr/local/lib/python3.7/dist-packages (from pyLDAvis) (1.21.6)\n",
            "Requirement already satisfied: python-dateutil>=2.7.3 in /usr/local/lib/python3.7/dist-packages (from pandas>=1.2.0->pyLDAvis) (2.8.2)\n",
            "Requirement already satisfied: pytz>=2017.3 in /usr/local/lib/python3.7/dist-packages (from pandas>=1.2.0->pyLDAvis) (2022.1)\n",
            "Requirement already satisfied: six>=1.5 in /usr/local/lib/python3.7/dist-packages (from python-dateutil>=2.7.3->pandas>=1.2.0->pyLDAvis) (1.15.0)\n",
            "Requirement already satisfied: smart-open>=1.2.1 in /usr/local/lib/python3.7/dist-packages (from gensim->pyLDAvis) (6.0.0)\n",
            "Requirement already satisfied: MarkupSafe>=0.23 in /usr/local/lib/python3.7/dist-packages (from jinja2->pyLDAvis) (2.0.1)\n",
            "Requirement already satisfied: packaging in /usr/local/lib/python3.7/dist-packages (from numexpr->pyLDAvis) (21.3)\n",
            "Requirement already satisfied: pyparsing!=3.0.5,>=2.0.2 in /usr/local/lib/python3.7/dist-packages (from packaging->numexpr->pyLDAvis) (3.0.8)\n",
            "Requirement already satisfied: threadpoolctl>=2.0.0 in /usr/local/lib/python3.7/dist-packages (from scikit-learn->pyLDAvis) (3.1.0)\n"
          ]
        }
      ]
    },
    {
      "cell_type": "code",
      "source": [
        "train_vectorizer=TfidfVectorizer(use_idf=True,lowercase=True,strip_accents='ascii')\n",
        "tfidf_=train_vectorizer.fit_transform(corpus_lda.NewReview)\n",
        "\n",
        "num_components=10\n",
        "lda=LatentDirichletAllocation(n_components=num_components,max_iter=100)\n",
        "lda_tfidf=lda.fit(tfidf_)"
      ],
      "metadata": {
        "id": "A6X6qtWjevQf"
      },
      "execution_count": 249,
      "outputs": []
    },
    {
      "cell_type": "code",
      "source": [
        "#pyLDAvis for tfidf \n",
        "import pyLDAvis\n",
        "import pyLDAvis.sklearn\n",
        "pyLDAvis.enable_notebook()\n",
        "\n",
        "pyLDAvis.sklearn.prepare(lda_tfidf,tfidf_,train_vectorizer)"
      ],
      "metadata": {
        "id": "BuREJI9bIy_5",
        "colab": {
          "base_uri": "https://localhost:8080/",
          "height": 862
        },
        "outputId": "0fa3472d-e95f-4be6-dbc8-cbdd43005846"
      },
      "execution_count": 250,
      "outputs": [
        {
          "output_type": "execute_result",
          "data": {
            "text/plain": [
              "PreparedData(topic_coordinates=              x         y  topics  cluster       Freq\n",
              "topic                                                \n",
              "7      0.283858 -0.023168       1        1  48.593767\n",
              "6      0.066753  0.130089       2        1  10.668122\n",
              "3      0.008688 -0.133206       3        1   6.225094\n",
              "0     -0.055479  0.022230       4        1   6.146060\n",
              "2     -0.027488  0.012962       5        1   5.278310\n",
              "5     -0.048558 -0.011939       6        1   5.078836\n",
              "8     -0.044231  0.005946       7        1   4.854342\n",
              "4     -0.082605 -0.001357       8        1   4.710803\n",
              "1     -0.042092  0.007118       9        1   4.225012\n",
              "9     -0.058848 -0.008674      10        1   4.219654, topic_info=          Term       Freq      Total Category  logprob  loglift\n",
              "1026      late  37.000000  37.000000  Default  30.0000  30.0000\n",
              "487   delivery  37.000000  37.000000  Default  29.0000  29.0000\n",
              "791       good  26.000000  26.000000  Default  28.0000  28.0000\n",
              "145        bad  24.000000  24.000000  Default  27.0000  27.0000\n",
              "291     cheese  31.000000  31.000000  Default  26.0000  26.0000\n",
              "...        ...        ...        ...      ...      ...      ...\n",
              "723     forget   0.383348   1.360120  Topic10  -6.0035   1.8990\n",
              "1154       min   0.588484   7.760130  Topic10  -5.5749   0.5862\n",
              "1462   product   0.390754   1.703770  Topic10  -5.9843   1.6929\n",
              "1243       non   0.429680   3.737911  Topic10  -5.8894   1.0022\n",
              "209     bother   0.374839   1.465107  Topic10  -6.0259   1.8022\n",
              "\n",
              "[523 rows x 6 columns], token_table=      Topic      Freq            Term\n",
              "term                                 \n",
              "7         1  0.573262              ac\n",
              "7         9  0.286631              ac\n",
              "46        9  0.472664           along\n",
              "48        1  0.913948            also\n",
              "52        1  0.698189          always\n",
              "52        2  0.349094          always\n",
              "72        4  0.696454        anything\n",
              "84        9  0.742033           apply\n",
              "101       2  0.736430    arrangements\n",
              "102       1  0.744039          arrive\n",
              "102       3  0.372020          arrive\n",
              "105       7  0.814631            asap\n",
              "107       1  0.955084             ask\n",
              "119      10  0.877188       attentive\n",
              "132       1  0.795158       available\n",
              "132       6  0.198790       available\n",
              "133       1  0.355582         average\n",
              "133       4  0.355582         average\n",
              "145       1  0.454714             bad\n",
              "145       2  0.496051             bad\n",
              "145       9  0.041338             bad\n",
              "147      10  0.654463             bag\n",
              "148       2  0.531506            bake\n",
              "148       4  0.265753            bake\n",
              "157       3  0.669384          barely\n",
              "157       5  0.669384          barely\n",
              "169       1  0.517507          become\n",
              "180       1  0.720282            best\n",
              "180       5  0.360141            best\n",
              "181       1  0.974292          better\n",
              "213       1  0.551725             box\n",
              "213      10  0.275862             box\n",
              "217       1  0.639203          branch\n",
              "220       4  0.923386           bread\n",
              "226       4  0.594566           bring\n",
              "229       4  0.854356         brownie\n",
              "231       3  0.678937              bt\n",
              "232      10  0.897556          bubble\n",
              "242       5  0.417526            burn\n",
              "243       1  0.874078           burst\n",
              "243       5  0.072840           burst\n",
              "248       7  0.644551             buy\n",
              "250       1  0.673375            cake\n",
              "250       4  0.336687            cake\n",
              "251       1  0.986696            call\n",
              "253       1  0.843769          cancel\n",
              "291       1  0.832806          cheese\n",
              "291       2  0.032031          cheese\n",
              "291       5  0.128124          cheese\n",
              "294       2  0.599496           cheez\n",
              "299       1  0.782172         chicken\n",
              "299       3  0.130362         chicken\n",
              "311       4  0.608733           choco\n",
              "312       4  0.695243       chocolate\n",
              "313       5  0.699968       chocolava\n",
              "338       7  0.736333            coke\n",
              "340       1  0.576856            cold\n",
              "340       2  0.057686            cold\n",
              "340       3  0.115371            cold\n",
              "340       6  0.288428            cold\n",
              "342       8  0.558500         collect\n",
              "347       1  0.915977            come\n",
              "354       2  0.810026   communication\n",
              "360       2  0.856993    compensation\n",
              "367       2  0.451587      completely\n",
              "375       1  0.670375       condition\n",
              "375       9  0.335188       condition\n",
              "396       2  0.798640         contact\n",
              "404       2  0.450462            cook\n",
              "404       4  0.225231            cook\n",
              "404       5  0.225231            cook\n",
              "404       7  0.225231            cook\n",
              "413       5  0.607028          costly\n",
              "416       1  0.816584         couldnt\n",
              "429       8  0.630803             coz\n",
              "443       2  0.332657           crust\n",
              "443       5  0.332657           crust\n",
              "449       1  0.630094        customer\n",
              "449       2  0.315047        customer\n",
              "475       6  0.811611      definitely\n",
              "481       2  0.120210           delay\n",
              "481       3  0.841472           delay\n",
              "483       8  0.559629      delievered\n",
              "485       1  0.928659         deliver\n",
              "485       3  0.056282         deliver\n",
              "487       1  0.535659        delivery\n",
              "487       2  0.080349        delivery\n",
              "487       3  0.374961        delivery\n",
              "498       2  0.671061         destroy\n",
              "503       1  0.948687           didnt\n",
              "511       5  0.865415        dilevery\n",
              "513       2  0.679042             din\n",
              "521       1  0.882006      disappoint\n",
              "521       2  0.080182      disappoint\n",
              "522       2  0.601811  disappointment\n",
              "522       4  0.601811  disappointment\n",
              "547       1  0.904960         dominos\n",
              "547       2  0.072397         dominos\n",
              "548       1  0.915148            dont\n",
              "552       4  0.877148           doubt\n",
              "553       8  0.762450           dough\n",
              "568       4  0.864200         dustbin\n",
              "574       1  0.623962             eat\n",
              "574       2  0.249585             eat\n",
              "616       1  0.978130            even\n",
              "617       1  0.484961            ever\n",
              "617       2  0.484961            ever\n",
              "624      10  0.706763       everytime\n",
              "625       5  0.831036           exact\n",
              "626       5  0.826297         exactly\n",
              "638       1  0.825464          expect\n",
              "638       3  0.137577          expect\n",
              "641       2  0.696509       expensive\n",
              "642       1  0.613500      experience\n",
              "642       2  0.368100      experience\n",
              "649       5  0.536426           extra\n",
              "651       2  0.750941       extremely\n",
              "671       8  0.713526            fast\n",
              "686       3  0.568297            fill\n",
              "687       6  0.644342         finally\n",
              "701       2  0.790780            flat\n",
              "715       3  0.872775            fond\n",
              "716       1  0.675211            food\n",
              "716       2  0.225070            food\n",
              "716       3  0.112535            food\n",
              "716       4  0.056268            food\n",
              "740       1  0.533985            free\n",
              "740      10  0.266992            free\n",
              "745       1  0.447730           fresh\n",
              "745       2  0.447730           fresh\n",
              "766       4  0.933681          garlic\n",
              "776       1  0.854759             get\n",
              "776       3  0.089975             get\n",
              "781       1  0.898477            give\n",
              "786       1  0.893692              go\n",
              "791       1  0.486263            good\n",
              "791       2  0.486263            good\n",
              "802       9  0.661719           green\n",
              "808       4  0.761147           guess\n",
              "822       1  0.478216            hand\n",
              "822      10  0.478216            hand\n",
              "823       4  0.579451          handle\n",
              "830       2  0.462431           happy\n",
              "830       5  0.462431           happy\n",
              "837       3  0.962683            hate\n",
              "838       1  0.419138          havent\n",
              "838       9  0.419138          havent\n",
              "864       2  0.451584          highly\n",
              "870       2  0.895626            hold\n",
              "872       1  0.999526            home\n",
              "884       1  0.608444             hot\n",
              "884       4  0.304222             hot\n",
              "886       1  0.952959            hour\n",
              "887       1  0.884147           hours\n",
              "887       3  0.176829           hours\n",
              "891       3  0.533253             hrs\n",
              "894       7  0.755752          hungry\n",
              "900       7  0.748928              hv\n",
              "912       3  0.443644              im\n",
              "925       8  0.602370      incomplete\n",
              "974       3  0.648206           items\n",
              "974       4  0.648206           items\n",
              "1003      1  0.709011         ketchup\n",
              "1003      9  0.236337         ketchup\n",
              "1011      1  0.594194              km\n",
              "1011      3  0.594194              km\n",
              "1026      1  0.264917            late\n",
              "1026      3  0.741768            late\n",
              "1028      2  0.498465           later\n",
              "1030      4  0.977742            lava\n",
              "1031      2  0.670282           layer\n",
              "1038      1  0.563570            less\n",
              "1038      2  0.070446            less\n",
              "1038      5  0.352231            less\n",
              "1048      1  0.973790            like\n",
              "1056      9  0.885883         literal\n",
              "1059      7  0.727181            live\n",
              "1060      5  0.429947            load\n",
              "1060      8  0.429947            load\n",
              "1067      1  0.776184            long\n",
              "1067      8  0.258728            long\n",
              "1082      7  0.549651             low\n",
              "1083      7  0.786581           lower\n",
              "1102      2  0.558071      management\n",
              "1110      1  0.778596       margarita\n",
              "1110      7  0.259532       margarita\n",
              "1112      1  0.480240            mark\n",
              "1112      7  0.320160            mark\n",
              "1135      4  0.820951            melt\n",
              "1141      2  0.550390            menu\n",
              "1148      6  0.587996        mexicana\n",
              "1154      1  0.515455             min\n",
              "1154      3  0.386591             min\n",
              "1154     10  0.128864             min\n",
              "1159      1  0.700886            mins\n",
              "1159      3  0.300380            mins\n",
              "1163      1  0.797455         minutes\n",
              "1163      3  0.132909         minutes\n",
              "1171      1  0.893698            miss\n",
              "1171      3  0.178740            miss\n",
              "1180      1  0.662183           money\n",
              "1180      2  0.110364           money\n",
              "1180      4  0.110364           money\n",
              "1180      6  0.110364           money\n",
              "1210      2  0.501352              nd\n",
              "1215      1  0.944489            need\n",
              "1227      1  0.925587           never\n",
              "1239      1  0.823560              no\n",
              "1239      2  0.096889              no\n",
              "1239      9  0.048445              no\n",
              "1243      5  0.535058             non\n",
              "1243      7  0.267529             non\n",
              "1247      8  0.778881          nonveg\n",
              "1249      4  0.757302        normally\n",
              "1250      1  0.715170             not\n",
              "1250      2  0.170279             not\n",
              "1250      4  0.051084             not\n",
              "1250      5  0.034056             not\n",
              "1250      7  0.017028             not\n",
              "1250      9  0.017028             not\n",
              "1251      4  0.937612            note\n",
              "1252      1  0.656048         nothing\n",
              "1252      6  0.328024         nothing\n",
              "1274      2  0.373661              ok\n",
              "1274      7  0.373661              ok\n",
              "1278     10  0.864497             old\n",
              "1282      1  0.956701             one\n",
              "1299      3  0.409895          option\n",
              "1301      1  0.920869           order\n",
              "1301      3  0.054169           order\n",
              "1301      7  0.018056           order\n",
              "1306      1  0.913869         oregano\n",
              "1314      1  0.979693          outlet\n",
              "1320      2  0.713824        overcook\n",
              "1327     10  0.547615            pack\n",
              "1335      3  0.248921          paneer\n",
              "1335      4  0.248921          paneer\n",
              "1335      5  0.248921          paneer\n",
              "1335      6  0.248921          paneer\n",
              "1335      9  0.248921          paneer\n",
              "1336      1  0.640868           paper\n",
              "1343      6  0.430704            park\n",
              "1353      2  0.574104           pasta\n",
              "1355      1  0.954547        pathetic\n",
              "1369      6  0.697318          pepper\n",
              "1371     10  0.652710       pepperoni\n",
              "1377     10  0.572762            peri\n",
              "1392      4  0.627442         picture\n",
              "1394      7  0.789895          pimple\n",
              "1398      1  0.771308           pizza\n",
              "1398      2  0.075250           pizza\n",
              "1398      3  0.037625           pizza\n",
              "1398      4  0.018812           pizza\n",
              "1398      5  0.018812           pizza\n",
              "1398      6  0.056437           pizza\n",
              "1398      9  0.018812           pizza\n",
              "1401      1  0.620233          pizzas\n",
              "1401      2  0.265814          pizzas\n",
              "1403      1  0.878217           place\n",
              "1403      4  0.067555           place\n",
              "1411      7  0.764205           plaza\n",
              "1414      8  0.579334             plz\n",
              "1424      1  0.542771            poor\n",
              "1424      2  0.434216            poor\n",
              "1446      2  0.470093         prepare\n",
              "1449      5  0.827971         present\n",
              "1459     10  0.504154         problem\n",
              "1466      9  0.455677         promise\n",
              "1473      1  0.265283        properly\n",
              "1473      2  0.265283        properly\n",
              "1473      4  0.265283        properly\n",
              "1473      5  0.132642        properly\n",
              "1488      1  0.618680         quality\n",
              "1488      2  0.343711         quality\n",
              "1499      6  0.484248           quite\n",
              "1502      7  0.907645         rainbow\n",
              "1526      1  0.854540         receive\n",
              "1526      3  0.094949         receive\n",
              "1526      7  0.047474         receive\n",
              "1537      1  0.902112          refund\n",
              "1574      6  0.914368         resolve\n",
              "1577      2  0.813558         respond\n",
              "1582      2  0.632361      restaurant\n",
              "1582      3  0.210787      restaurant\n",
              "1582      9  0.210787      restaurant\n",
              "1607      5  0.708010          rotten\n",
              "1612      5  0.777777         rubbish\n",
              "1613      2  0.291615            rude\n",
              "1613      7  0.291615            rude\n",
              "1613     10  0.291615            rude\n",
              "1618      2  0.614035            rush\n",
              "1622      8  0.915121           saggy\n",
              "1627      2  0.520929           salty\n",
              "1632      2  0.529016    satisfactory\n",
              "1634      1  0.561470           sauce\n",
              "1634      9  0.374313           sauce\n",
              "1635      7  0.789895        saudagar\n",
              "1640      1  0.896201             say\n",
              "1652      4  0.617522            seal\n",
              "1655      1  0.514815            seat\n",
              "1655      2  0.257408            seat\n",
              "1655      4  0.257408            seat\n",
              "1679      1  0.629648         service\n",
              "1679      2  0.314824         service\n",
              "1679      7  0.039353         service\n",
              "1683      4  0.771207           shame\n",
              "1692      6  0.936502       shittiest\n",
              "1697      8  0.865652           short\n",
              "1734      1  0.944031           small\n",
              "1737      5  0.506078           smell\n",
              "1747      2  0.470858           soggy\n",
              "1747      4  0.470858           soggy\n",
              "1761      4  0.524130           sorry\n",
              "1766      1  0.310922           space\n",
              "1766      4  0.310922           space\n",
              "1775      4  0.578896           spicy\n",
              "1781      1  0.832595           staff\n",
              "1781      4  0.092511           staff\n",
              "1781     10  0.092511           staff\n",
              "1782      1  0.345511           stale\n",
              "1782      5  0.691022           stale\n",
              "1784      4  0.632498        standard\n",
              "1793      7  0.737064          status\n",
              "1805      2  0.427691           store\n",
              "1805      7  0.213846           store\n",
              "1805      8  0.213846           store\n",
              "1810      2  0.562690           stuff\n",
              "1810      4  0.281345           stuff\n",
              "1849      2  0.639599           tacos\n",
              "1851      1  0.934812            take\n",
              "1859      1  0.679329           taste\n",
              "1859      2  0.283054           taste\n",
              "1859      7  0.056611           taste\n",
              "1860      2  0.497852       tasteless\n",
              "1862      9  0.698397             tax\n",
              "1876     10  0.975899        terrible\n",
              "1912      1  0.961955            time\n",
              "1912      2  0.033171            time\n",
              "1931      1  0.413959             top\n",
              "1931      5  0.413959             top\n",
              "1933     10  0.975690            toss\n",
              "1935      1  0.670526         totally\n",
              "1935      4  0.223509         totally\n",
              "1939      7  0.632686           track\n",
              "1944      4  0.978740           treat\n",
              "1955      2  0.576227           twice\n",
              "1966      4  0.840919         unbaked\n",
              "1970      2  0.445372        uncooked\n",
              "1970      8  0.445372        uncooked\n",
              "1973      2  0.473278      understand\n",
              "1973      3  0.473278      understand\n",
              "1992      4  0.594315  unprofessional\n",
              "2006      4  0.630504           upset\n",
              "2007      1  0.635960            upto\n",
              "2007      7  0.317980            upto\n",
              "2021      2  0.701208           value\n",
              "2027      1  0.742795             veg\n",
              "2027      5  0.123799             veg\n",
              "2053      1  0.928737            wait\n",
              "2067      1  0.401124           waste\n",
              "2067      2  0.401124           waste\n",
              "2067      6  0.200562           waste\n",
              "2080      8  0.574727         weekend\n",
              "2090      5  0.973375          wheres\n",
              "2093      2  0.563567           whole\n",
              "2093     10  0.563567           whole\n",
              "2111      1  0.810927            work\n",
              "2115      1  0.539090           worst\n",
              "2115      2  0.441074           worst\n",
              "2116      1  0.526066           worth\n",
              "2116      4  0.526066           worth\n",
              "2123      1  0.961591           wrong\n",
              "2135      7  0.894082             yet\n",
              "2142      1  0.777991          zomato\n",
              "2142      2  0.194498          zomato, R=30, lambda_step=0.01, plot_opts={'xlab': 'PC1', 'ylab': 'PC2'}, topic_order=[8, 7, 4, 1, 3, 6, 9, 5, 2, 10])"
            ],
            "text/html": [
              "\n",
              "<link rel=\"stylesheet\" type=\"text/css\" href=\"https://cdn.jsdelivr.net/gh/bmabey/pyLDAvis@3.3.1/pyLDAvis/js/ldavis.v1.0.0.css\">\n",
              "\n",
              "\n",
              "<div id=\"ldavis_el621399552429835045949795874\"></div>\n",
              "<script type=\"text/javascript\">\n",
              "\n",
              "var ldavis_el621399552429835045949795874_data = {\"mdsDat\": {\"x\": [0.2838580839013338, 0.06675297273986724, 0.008688326310691595, -0.055478985559281054, -0.027487779358416262, -0.048557856915813345, -0.044230887436253544, -0.08260452105190791, -0.042091549990266965, -0.05884780263995395], \"y\": [-0.023168471799018445, 0.13008880497961614, -0.13320599574275863, 0.0222297554654586, 0.01296157296914993, -0.011938751812562664, 0.005946292455827265, -0.0013570915858321622, 0.007117558137839652, -0.008673673067719578], \"topics\": [1, 2, 3, 4, 5, 6, 7, 8, 9, 10], \"cluster\": [1, 1, 1, 1, 1, 1, 1, 1, 1, 1], \"Freq\": [48.59376673220094, 10.6681220499223, 6.225093720706777, 6.146060269527231, 5.278309759025149, 5.078836457745305, 4.854341876001602, 4.71080338130307, 4.225012062145988, 4.2196536914216365]}, \"tinfo\": {\"Term\": [\"late\", \"delivery\", \"good\", \"bad\", \"cheese\", \"order\", \"less\", \"worst\", \"cold\", \"not\", \"service\", \"deliver\", \"delay\", \"pizza\", \"bread\", \"garlic\", \"receive\", \"experience\", \"top\", \"hot\", \"mins\", \"quality\", \"get\", \"mark\", \"min\", \"taste\", \"food\", \"sauce\", \"ever\", \"staff\", \"time\", \"like\", \"hour\", \"outlet\", \"take\", \"call\", \"wait\", \"didnt\", \"dont\", \"even\", \"never\", \"pathetic\", \"wrong\", \"come\", \"refund\", \"better\", \"also\", \"home\", \"one\", \"oregano\", \"small\", \"need\", \"ask\", \"disappoint\", \"give\", \"go\", \"order\", \"say\", \"cancel\", \"deliver\", \"dominos\", \"get\", \"burst\", \"cheese\", \"receive\", \"pizza\", \"no\", \"place\", \"not\", \"service\", \"delivery\", \"taste\", \"food\", \"good\", \"worst\", \"bad\", \"expensive\", \"extremely\", \"nd\", \"salty\", \"later\", \"pasta\", \"tasteless\", \"destroy\", \"overcook\", \"cheez\", \"arrangements\", \"prepare\", \"contact\", \"din\", \"flat\", \"value\", \"communication\", \"management\", \"respond\", \"layer\", \"satisfactory\", \"compensation\", \"tacos\", \"completely\", \"twice\", \"hold\", \"rush\", \"highly\", \"bake\", \"restaurant\", \"bad\", \"ever\", \"good\", \"worst\", \"store\", \"experience\", \"poor\", \"service\", \"quality\", \"fresh\", \"stuff\", \"not\", \"taste\", \"cook\", \"pizzas\", \"customer\", \"properly\", \"food\", \"waste\", \"pizza\", \"eat\", \"zomato\", \"delivery\", \"always\", \"no\", \"dominos\", \"delay\", \"hate\", \"late\", \"fond\", \"bt\", \"damn\", \"youre\", \"abt\", \"hrs\", \"option\", \"preparation\", \"rcv\", \"fly\", \"constantly\", \"rainy\", \"file\", \"min\", \"fiesta\", \"onions\", \"advertise\", \"original\", \"pizzaboth\", \"property\", \"sms\", \"occur\", \"delivery\", \"plain\", \"simple\", \"bits\", \"external\", \"im\", \"mins\", \"fill\", \"items\", \"barely\", \"understand\", \"km\", \"follow\", \"arrive\", \"choose\", \"absolutely\", \"get\", \"order\", \"food\", \"deliver\", \"receive\", \"cold\", \"chicken\", \"minutes\", \"pizza\", \"miss\", \"restaurant\", \"expect\", \"paneer\", \"hours\", \"garlic\", \"bread\", \"lava\", \"choco\", \"picture\", \"spicy\", \"shame\", \"seal\", \"melt\", \"sorry\", \"unbaked\", \"brownie\", \"doubt\", \"guess\", \"note\", \"upset\", \"standard\", \"treat\", \"chocolate\", \"delight\", \"sour\", \"bring\", \"dustbin\", \"normally\", \"nigadi\", \"handle\", \"hospitality\", \"wrongly\", \"anything\", \"indie\", \"stuff\", \"unprofessional\", \"worth\", \"soggy\", \"hot\", \"average\", \"disappointment\", \"bake\", \"cake\", \"properly\", \"not\", \"pizza\", \"place\", \"seat\", \"space\", \"costly\", \"chocolava\", \"extra\", \"rubbish\", \"present\", \"exact\", \"rotten\", \"smell\", \"stale\", \"load\", \"wheres\", \"burn\", \"top\", \"dilevery\", \"sprinkle\", \"tangy\", \"masala\", \"accommodate\", \"exactly\", \"supreme\", \"dear\", \"non\", \"life\", \"spite\", \"freeze\", \"parathas\", \"budget\", \"tight\", \"regard\", \"garlicbread\", \"less\", \"barely\", \"happy\", \"mushroom\", \"cheese\", \"veg\", \"crust\", \"paneer\", \"properly\", \"not\", \"pizza\", \"burst\", \"best\", \"cook\", \"space\", \"quite\", \"resolve\", \"shittiest\", \"park\", \"definitely\", \"sweet\", \"jalapenos\", \"vegetable\", \"tomatoes\", \"receiptinst\", \"april\", \"duplicate\", \"tandoori\", \"urs\", \"coca\", \"cola\", \"fanta\", \"unbelievable\", \"disastrous\", \"schedule\", \"landmark\", \"pic\", \"hould\", \"cool\", \"pizzeria\", \"sign\", \"anywhere\", \"east\", \"log\", \"enquire\", \"pepper\", \"finally\", \"paneer\", \"cold\", \"ive\", \"nothing\", \"waste\", \"mexicana\", \"peppy\", \"pizza\", \"handle\", \"paper\", \"money\", \"promise\", \"become\", \"available\", \"directly\", \"menu\", \"totally\", \"action\", \"restaurant\", \"chicken\", \"delay\", \"branch\", \"get\", \"crust\", \"yet\", \"plaza\", \"coke\", \"status\", \"asap\", \"rainbow\", \"live\", \"lower\", \"overload\", \"hopeless\", \"pimple\", \"saudagar\", \"pure\", \"differ\", \"sluggish\", \"specially\", \"several\", \"hungry\", \"haff\", \"exorbitantly\", \"track\", \"rain\", \"hv\", \"head\", \"mobile\", \"highway\", \"mark\", \"low\", \"dead\", \"equal\", \"period\", \"awful\", \"upto\", \"store\", \"buy\", \"margarita\", \"awesome\", \"bust\", \"ok\", \"receive\", \"not\", \"service\", \"rude\", \"non\", \"cook\", \"couldnt\", \"order\", \"taste\", \"dough\", \"short\", \"saggy\", \"delievered\", \"incomplete\", \"nonveg\", \"coz\", \"plz\", \"collect\", \"puzza\", \"butterscotch\", \"burgers\", \"bean\", \"ravet\", \"assistance\", \"business\", \"moist\", \"fast\", \"insist\", \"flaxe\", \"maida\", \"shep\", \"promo\", \"audit\", \"push\", \"mrp\", \"testy\", \"birthday\", \"liquid\", \"zucchini\", \"weekend\", \"none\", \"extravaganza\", \"entire\", \"term\", \"wheat\", \"load\", \"uncooked\", \"store\", \"peri\", \"long\", \"throw\", \"mexicana\", \"thin\", \"im\", \"cook\", \"product\", \"along\", \"literal\", \"papsi\", \"washrooms\", \"struggle\", \"zomota\", \"tax\", \"shit\", \"chill\", \"approx\", \"theyve\", \"freshness\", \"whatsoever\", \"thick\", \"apply\", \"soon\", \"instruction\", \"summer\", \"bitter\", \"wing\", \"coupons\", \"genuine\", \"ac\", \"piss\", \"maybe\", \"sachets\", \"theyre\", \"green\", \"kashif\", \"source\", \"havent\", \"super\", \"behave\", \"sauce\", \"promise\", \"condition\", \"contact\", \"ketchup\", \"paneer\", \"rude\", \"restaurant\", \"no\", \"not\", \"bad\", \"pizza\", \"give\", \"work\", \"bubble\", \"toss\", \"terrible\", \"everytime\", \"old\", \"attentive\", \"dislike\", \"bag\", \"upper\", \"chowk\", \"hurt\", \"placement\", \"successful\", \"cheapness\", \"poisar\", \"meatballs\", \"idiot\", \"unchewable\", \"heat\", \"platform\", \"barbecue\", \"kms\", \"mistakly\", \"abusive\", \"shameless\", \"investment\", \"roadside\", \"pepsi\", \"carry\", \"happily\", \"peri\", \"problem\", \"pack\", \"hand\", \"free\", \"pepperoni\", \"specifically\", \"whole\", \"availability\", \"rude\", \"box\", \"staff\", \"house\", \"forget\", \"min\", \"product\", \"non\", \"bother\"], \"Freq\": [37.0, 37.0, 26.0, 24.0, 31.0, 55.0, 14.0, 20.0, 17.0, 58.0, 25.0, 35.0, 8.0, 53.0, 7.0, 6.0, 21.0, 16.0, 7.0, 9.0, 9.0, 14.0, 22.0, 6.0, 7.0, 17.0, 17.0, 5.0, 8.0, 10.0, 29.02079131220608, 11.832438770122199, 11.052470698154357, 10.737447712784737, 13.269149026008632, 12.56120939282355, 9.200060040355808, 13.007382460678064, 12.434174889548958, 11.627132714630761, 8.15262633813363, 7.890381974692378, 7.829038734438566, 7.151574833215198, 9.31374003602732, 6.6941502051561015, 12.2297697754927, 6.51279096708602, 10.645683350357483, 6.074967911827682, 5.865184674891252, 5.86211102537612, 5.791631170064507, 11.493318204890192, 12.307711940950917, 7.203118015175764, 50.854521815692344, 8.194361941659498, 5.435279169258069, 32.5090773459396, 24.997853451732887, 19.357268465980454, 12.11149918732106, 26.09585537793791, 17.692707417491672, 41.00590724525616, 16.967560928358328, 12.60061916006909, 41.57044380600056, 16.391091071535026, 20.486436178604468, 11.761402344852709, 11.693247388325057, 12.951987808839233, 10.603934327868908, 10.929336496136724, 2.3693549357577783, 3.1251198017685264, 1.492490284353967, 1.417548995302317, 1.4666052401488192, 2.44371354581369, 1.3419501767145825, 0.988077202490992, 0.8988147212659544, 1.0687074390251368, 0.8557776328530649, 1.3385903817789833, 1.5598860648547115, 0.9051781668635155, 0.7624370717081452, 0.8513694185974491, 0.7324078160462908, 1.0606048313459802, 0.7269807793779777, 0.8775109036623628, 1.090857182425146, 0.6647251516940779, 0.8842174247339388, 1.2428883529888515, 0.9596921273879593, 0.6144009712845995, 0.8949466474991618, 1.2161432978518305, 2.0550722878326844, 2.5879771064132786, 12.34476286820082, 4.251736554863997, 13.051275352882033, 9.372978567031055, 2.2486999074528633, 6.129532183066812, 3.7160737081092456, 7.62783532202136, 4.8842627490654635, 1.9692706856665054, 1.6372092038496424, 10.21086297555626, 4.659471416323035, 1.849330033885261, 3.165137481105777, 2.244442680444638, 2.412359342241024, 3.55708908625405, 1.6897010191455906, 4.0148871922246085, 1.988275821443524, 1.9983173135674284, 2.552227738541856, 1.7373520791767092, 2.0853464159923805, 2.0859224120841544, 6.654344687696872, 1.5666248488862646, 27.707142249333994, 0.6348537686276974, 0.8071532151275826, 0.47463836090357875, 0.44118211684772746, 0.40949919939885465, 0.82460463518431, 1.0684673192987615, 0.3900827977393412, 0.37193232187411485, 0.36877985318868695, 0.3683817108807734, 0.36653090413527134, 0.36444697467579024, 3.0536947999072686, 0.32994904803219527, 0.32994904803219527, 0.42391201503281656, 0.3229128553198981, 0.31480898246897027, 0.31480898246897027, 0.31215529581064944, 0.30525087854717087, 13.830884093638641, 0.28836722905795, 0.28836722905795, 0.34301174468956197, 0.2815159269921243, 0.7673167789143656, 2.8915669193679605, 0.5810899755828229, 0.516377769290076, 0.500559803985451, 0.6573343969857272, 0.5412177428558755, 0.47714909058205013, 0.6829423153830017, 0.4312768962179546, 0.45170048138471175, 1.9401726218171123, 3.1126115289821636, 1.6589788737061562, 2.3021364571859797, 1.7243678833333287, 1.5584308896687256, 0.9051089635262376, 0.888387164714596, 1.5908445311379864, 0.6439943646095384, 0.5981632535724702, 0.6138552608601359, 0.5075153013412064, 0.5008843870237071, 5.918349412407016, 6.593485653538465, 1.5377157112040327, 1.1349446186685674, 0.9756737779294351, 1.05538904937073, 0.7888441677916541, 0.9748130294127133, 0.7103279183204494, 1.0988560754286585, 0.681405929159618, 0.6627113023085808, 0.6321875180312715, 0.6961901516489281, 0.5587524582775003, 0.8307723371687317, 0.8052722749887421, 0.513846252468203, 0.7223363110111344, 0.49664208997046827, 0.48495361666376813, 0.7880141927748001, 0.5388407429022554, 0.6064993008764513, 0.4288799741386719, 0.7736701502461449, 0.4119923901041525, 0.3962756305131851, 0.6293356164500905, 0.4880861334752452, 1.4720522613707627, 0.7108107991035354, 1.5281321107722867, 0.883928590244213, 3.062399376451941, 1.0381642110209168, 0.6944947759465954, 1.1752130431936427, 0.9936677050968494, 1.7133386403036643, 2.796526616944224, 1.4260848419475383, 1.0521003904617057, 0.7358167136434001, 0.7141889285222219, 1.1364766955422534, 0.9176791459407428, 2.3934813560934898, 0.7747620658119209, 0.6968363368180776, 0.6924214242465392, 0.8074680206096058, 1.1010877267600883, 1.5278774699798934, 1.1874386714366505, 0.5164593837685227, 1.1852044047382806, 3.342010632132051, 0.5301812009500072, 0.4284152670446093, 0.47462957821907964, 0.4118496444847896, 0.4041826220196869, 0.527378148409279, 0.3832081423517321, 0.3769808290022522, 1.5780289944514507, 0.46989497433550603, 0.40798691684278793, 0.31746040622043803, 0.31746040622043803, 0.31662980186317924, 0.31662980186317924, 0.44494113622759573, 0.3132498641901969, 4.831829984757541, 0.5362842113407355, 0.6731513081232899, 0.4291461628823566, 3.8521233292658215, 1.2480352223014162, 0.6708079041795125, 0.7299973260252042, 0.9031652294300333, 1.5413796915825535, 1.3920530583993103, 0.8771354686702032, 0.5429288866863903, 0.508197104779237, 0.49091873589559754, 1.1148058205511797, 0.5828675490519593, 0.557037238077001, 1.1702149047044574, 0.6084937461058343, 0.41568130674734227, 0.40326544989059737, 0.40112261033238594, 0.38364019597638144, 0.37081802309688455, 0.351141152389457, 0.34549803914092825, 0.3434658169945716, 0.3395924809224632, 0.33943642666888546, 0.33943642666888546, 0.33943642666888546, 0.39834374710161596, 0.32952310585520816, 0.37756487240525816, 0.30771982477220156, 0.3035943822015402, 0.2916221043987835, 0.35798733971439295, 0.28626467833220826, 0.35206806239038135, 0.2844527448666177, 0.34573543403878587, 0.2798582025996934, 0.27822050803473997, 0.5042255043731143, 0.5359627253709411, 1.321473739113834, 4.653175649319832, 0.4620495436984215, 0.8967162154844533, 1.2026397260871775, 0.5257468447053354, 0.4500986549041293, 3.0443844358117023, 0.46831502319451884, 0.4448615571727749, 0.8763760662860169, 0.48608393966944, 0.4548642503885424, 0.5900321681508488, 0.40775573375366186, 0.40414608477881603, 0.46267600202710174, 0.4008359384300974, 0.4294353170512757, 0.42661756021027514, 0.41948420218450616, 0.4103763550245152, 0.42306796473906827, 0.409338216666867, 2.7002079120066487, 0.7970093633157223, 1.5985040149263254, 0.7950103483463677, 0.7159462638902776, 0.5902274421826048, 0.691174390986941, 0.6150960119601221, 0.4525426980237041, 0.44388665478519623, 0.5861855582615016, 0.5861855582615016, 0.4378907430407925, 0.4364442023161333, 0.42975392348672115, 0.4155725326232782, 0.49255662041456505, 0.5805877930189599, 0.36963090882656374, 0.3630614607660481, 0.6437244930403511, 0.34271805397463717, 0.5227289459031759, 0.3653984136502209, 0.39201747753668437, 0.31907731771329867, 2.3983459350641163, 0.6976917338588263, 0.3168499471940005, 0.30520821947675864, 0.4143319407176047, 0.4643160705322958, 0.9412080485420355, 1.0393609696164612, 0.502741106060157, 0.891349831988836, 0.4412448950734765, 0.4996355829372996, 0.588200372994229, 1.2635696859364876, 1.452658021653428, 0.9435772318256933, 0.5311810877199927, 0.5246816014589565, 0.5054749328990612, 0.47425509728498, 0.5292366455914502, 0.5070044020006842, 0.8004058211109886, 0.6440788421259553, 0.5816269344201945, 0.9219056571681356, 0.8457297258399594, 0.6522033875668147, 0.7880718888206548, 0.8394505772872793, 0.8481366517265191, 0.4165334258442464, 0.40937317615296326, 0.3705304895420187, 0.35022572322373374, 0.34995153705827703, 0.3444506295457032, 0.4555199508007235, 0.32823118274474933, 0.5460787575082188, 0.32236496112614416, 0.3183097989490899, 0.3134186177767547, 0.3034294953208155, 0.29413756873410657, 0.29366364682093377, 0.29366364682093377, 0.2919116896466948, 0.2874504264715119, 0.28162503990410975, 0.28041634938489274, 0.27930957038147014, 0.6071979988094142, 0.4117934904224732, 0.3676510723656065, 0.3926113323711757, 0.3331326857010673, 0.38546245571736226, 0.5809561503061019, 0.5657867195207037, 0.8621394871731772, 0.46665343809926907, 0.6765248189454414, 0.43712661370232736, 0.42638128346112186, 0.40663144530091266, 0.40528774013861335, 0.3707770730091643, 0.3572746648496478, 1.3619760972111734, 0.6148786244115427, 0.48717560472433985, 0.43179005204155774, 0.4278035289438702, 0.4259158124646559, 0.6464704414574748, 0.40635061647669846, 0.38652158113541707, 0.3864329856855169, 0.3726675462953997, 0.36717626014748933, 0.34896685541559497, 0.3396963908873455, 0.5211422365262942, 0.3787470606515596, 0.31016277085639854, 0.4031304113904898, 0.40830941864795617, 0.42338600127980824, 0.30007310249284497, 0.30007310249284497, 1.2796888142994232, 0.33990036355836556, 0.29208190698091246, 0.35602943529340997, 0.2876346980914305, 0.5409299082757126, 0.28488455689150494, 0.28488455689150494, 0.839656370436256, 0.478543603389466, 0.45732327983008153, 1.5350950240582883, 0.5411331225782543, 0.5700820405791998, 0.4930639373107994, 0.5910768217567909, 0.5317161566131352, 0.47851242630009194, 0.5000394109910323, 0.6436206286117993, 0.6408891169087935, 0.539996899037931, 0.5242697504700861, 0.4734023560689673, 0.42073696043727693, 0.6003444922712041, 0.5110961025005357, 0.5109210364941509, 0.6738509053666089, 0.5340445763993762, 0.5206672122409977, 0.4267554945410727, 0.6756001980401889, 0.42647624904992976, 0.38713625494835063, 0.37334083402377977, 0.3507520273683845, 0.3507520273683845, 0.3397442084889998, 0.3366117592626701, 0.3969658957325792, 0.32294663019597586, 0.3221170701034892, 0.3186885585629196, 0.3172797228027364, 0.30785624992483795, 0.3045918886423356, 0.29785044318547593, 0.29745578457242033, 0.29745578457242033, 0.29559025539611455, 0.36723075257297877, 0.3838838980685415, 0.37789064871759726, 0.28258707862562216, 0.6185639283239384, 0.6719573745753223, 0.6221657658978661, 0.6882705463249101, 1.0547547599739082, 0.5010064234492968, 0.3514185843205976, 0.5003011310545167, 0.38392609024888125, 0.7120373846856962, 0.6905381811717048, 0.8569775733485873, 0.4074515362176437, 0.38334780505305666, 0.5884837845528923, 0.390753849542513, 0.4296804145843046, 0.3748391475316562], \"Total\": [37.0, 37.0, 26.0, 24.0, 31.0, 55.0, 14.0, 20.0, 17.0, 58.0, 25.0, 35.0, 8.0, 53.0, 7.0, 6.0, 21.0, 16.0, 7.0, 9.0, 9.0, 14.0, 22.0, 6.0, 7.0, 17.0, 17.0, 5.0, 8.0, 10.0, 30.146943854744972, 12.322983019689104, 11.542996639608116, 11.228008983379114, 13.906544332897717, 13.175277865708088, 9.6905845588084, 13.703145819022255, 13.11263909182029, 12.268304273770353, 8.643168074075861, 8.38093700238476, 8.319545872220866, 7.642116997500292, 9.976585636191203, 7.1847032500983845, 13.129850813461928, 7.003318078140935, 11.497850566953291, 6.5654932175274086, 6.355721595790371, 6.352640802390608, 6.282172205743007, 12.471576599061857, 13.355928075776616, 7.8326732637501335, 55.3824974704604, 8.926573605320957, 5.9257940303126615, 35.535125691860664, 27.625537406366146, 22.228484588794185, 13.72874687582873, 31.21977349543363, 21.063961339396126, 53.15646169011593, 20.642085417568243, 14.802714646879801, 58.72731317392992, 25.41101089327873, 37.33721026551311, 17.66448631416009, 17.772211934003877, 26.73452189707923, 20.40474548153762, 24.19105047121515, 2.871464863205886, 3.9949883092860143, 1.9946051340077038, 1.9196480189519602, 2.0061595539122865, 3.4836910792880325, 2.0086309201571044, 1.4901784530598354, 1.400905745635682, 1.6680681069891983, 1.3579024859868758, 2.1272364222457885, 2.5042581927549143, 1.4726623656567228, 1.264574763605683, 1.4261101449198739, 1.2345289013134777, 1.7918880994607267, 1.2291684928838014, 1.4919088809996974, 1.890302056660028, 1.1668700660888958, 1.5634798000582903, 2.2144123896424035, 1.735426238407953, 1.1165371622595894, 1.6285703522995865, 2.214428151400481, 3.7628940425023663, 4.744125902639275, 24.19105047121515, 8.248079562932757, 26.73452189707923, 20.40474548153762, 4.6762708575693495, 16.29990736717782, 9.2119959442546, 25.41101089327873, 14.547109744884853, 4.466975467852045, 3.5543567907215716, 58.72731317392992, 17.66448631416009, 4.439885871181562, 11.286083151624242, 6.348257637664728, 7.539117019657258, 17.772211934003877, 4.985988783663074, 53.15646169011593, 8.013314092461767, 10.282890126395188, 37.33721026551311, 5.729111623829034, 20.642085417568243, 27.625537406366146, 8.318757718499983, 2.077527001641336, 37.74763110109254, 1.1457705323995642, 1.4728908964332403, 0.9855750076858681, 0.9521983615139742, 0.9205018815263422, 1.8752827180652452, 2.439648418426319, 0.9009812715947028, 0.882824151224259, 0.8796951936896565, 0.8792735401734016, 0.8774530495540824, 0.8753819029011694, 7.7601300336528185, 0.8408435531096754, 0.8408435531096754, 1.0841677783004873, 0.8338236527884769, 0.8257416831124704, 0.8257416831124704, 0.8231266219936676, 0.8161508413877635, 37.33721026551311, 0.7992889879831093, 0.7992889879831093, 0.9605317082729377, 0.7924152570867291, 2.2540600377193414, 9.987353385013604, 1.7596438479135625, 1.5427183531571251, 1.493910801263407, 2.1129225555703592, 1.682952864783479, 1.5113556701162214, 2.6880306228259596, 1.3454712940794586, 1.4769607267505986, 22.228484588794185, 55.3824974704604, 17.772211934003877, 35.535125691860664, 21.063961339396126, 17.335334934564223, 7.670951758148396, 7.523937514480212, 53.15646169011593, 5.594731444973008, 4.744125902639275, 7.268639055466735, 4.017346466604451, 5.655170059646785, 6.426174460797463, 7.580792852826195, 2.0455291707104393, 1.6427558270385427, 1.5937721699864194, 1.727426828195848, 1.2966689626297823, 1.6193761863622582, 1.2180997894463426, 1.9079252778558136, 1.1891749458136818, 1.1704723158021242, 1.1400578463026276, 1.313805831681914, 1.0665396106125944, 1.586033910149896, 1.5810320478884845, 1.0217218554060101, 1.4383468910616157, 1.0044593240027075, 0.9927237224277193, 1.6818985812328826, 1.1571391573855472, 1.3204766749203198, 0.9366372241253625, 1.7257726037132453, 0.9197654865543499, 0.9040424942338848, 1.4358446223776096, 1.1372767170377625, 3.5543567907215716, 1.6826089897904462, 3.8018044071759074, 2.123783289839005, 9.86121289246313, 2.8122923930676396, 1.6616520133047648, 3.7628940425023663, 2.970114857587918, 7.539117019657258, 58.72731317392992, 53.15646169011593, 14.802714646879801, 3.8848877413403287, 3.216239171332335, 1.6473707910394901, 1.4286374223494565, 3.72838004682036, 1.2857159005079906, 1.2077713145453668, 1.2033166919659162, 1.4124098422763836, 1.9759781184302905, 2.894263129117176, 2.3258690953701437, 1.0273528407993042, 2.395057647476105, 7.247086968291439, 1.1555148965264828, 0.9394116214322644, 1.050987769206886, 0.922743100216173, 0.915095197362494, 1.2102183706821068, 0.8941015968202567, 0.8878802072852281, 3.7379107390680684, 1.1178638818390336, 1.048003154924937, 0.8283746996857233, 0.8283746996857233, 0.8275258031054151, 0.8275258031054151, 1.1629059849978212, 0.824162425450603, 14.19521439765157, 1.493910801263407, 2.16248590031787, 1.2502178862291944, 31.21977349543363, 8.077603278477163, 3.006100511722887, 4.017346466604451, 7.539117019657258, 58.72731317392992, 53.15646169011593, 13.72874687582873, 2.776691632565336, 4.439885871181562, 3.216239171332335, 2.065058571126027, 1.0936516927416944, 1.0678035886881982, 2.321780611039125, 1.2321175105130633, 0.9264595740184008, 0.9140329541330745, 0.911905896989311, 0.8944105726745397, 0.881611461352875, 0.8619156852460679, 0.8562650057069968, 0.8542328158258705, 0.8504089337669095, 0.8501995493122136, 0.8501995493122136, 0.8501995493122136, 1.0156629092488383, 0.8403122102273386, 0.9876779077127379, 0.8185101999030078, 0.8143781134516455, 0.8023998069122289, 0.9857703690028645, 0.7974414601758801, 0.9833001146874756, 0.7952380037332843, 0.9672280429848982, 0.7906460557742544, 0.7890214932209263, 1.4340652351873648, 1.5519720257924703, 4.017346466604451, 17.335334934564223, 1.367168125024891, 3.0485595414781064, 4.985988783663074, 1.7006909246831248, 1.4207385275666522, 53.15646169011593, 1.7257726037132453, 1.5603840356223202, 9.060936968603494, 2.19453824906497, 1.9323419289156554, 5.030446260830281, 1.5468853478024702, 1.816892222328646, 4.474097731922175, 1.8227581628963083, 4.744125902639275, 7.670951758148396, 8.318757718499983, 3.1288977955940847, 22.228484588794185, 3.006100511722887, 3.3553976067974345, 1.3085491986845663, 2.716163946642371, 1.3567351604408544, 1.2275499487651909, 1.101752267466073, 1.3751742562582911, 1.271324510871564, 0.9640652263202316, 0.9554289177114421, 1.2659911281258431, 1.2659911281258431, 0.9494964749116919, 0.9479856415353147, 0.9412653428682011, 0.9274311662915713, 1.1066734140529786, 1.3231850803583483, 0.8811772298501306, 0.8745728797258192, 1.5805630090705922, 0.8542382248059593, 1.3352421417734268, 0.9427539823415779, 1.0185260812049544, 0.8305887372759292, 6.246877670803343, 1.8193364966262668, 0.8284096637683179, 0.816734639952757, 1.1092719578596346, 1.3109691212174661, 3.144850417889449, 4.6762708575693495, 1.5514687553673734, 3.853087692908934, 1.311066641489573, 1.749502136764496, 2.6762246265734744, 21.063961339396126, 58.72731317392992, 25.41101089327873, 3.429183902523496, 3.7379107390680684, 4.439885871181562, 2.449228089526304, 55.3824974704604, 17.66448631416009, 1.3115607144247898, 1.1551989979930772, 1.0927512444780134, 1.786899006110303, 1.6601090298719345, 1.2838927456349356, 1.5852805234882108, 1.7261185963541497, 1.7905114468347785, 0.9276683629421657, 0.9205550143312764, 0.8816556107024642, 0.8613516507740793, 0.8610723684303335, 0.8555855842672461, 1.1372514378437524, 0.8393510744689111, 1.4014910236453313, 0.833497795483729, 0.8295022011283397, 0.8245390947892449, 0.8147948145481188, 0.8052996772492194, 0.804781178897945, 0.804781178897945, 0.8030450304228944, 0.7985948870527186, 0.7927544691108692, 0.7915655445997937, 0.7904285788065935, 1.7399558515345388, 1.1788174232961712, 1.0475721960760027, 1.1389849898539894, 0.9560930481276441, 1.1658034274992917, 2.3258690953701437, 2.2453132232019315, 4.6762708575693495, 1.7459250081886524, 3.865062176156813, 1.6327090681097929, 1.7006909246831248, 1.5960039078950155, 2.2540600377193414, 4.439885871181562, 1.703769601548296, 2.1156660823359372, 1.1288171853229596, 1.0011244039783802, 0.9457245288333818, 0.9418577740708685, 0.9398616874548175, 1.4318497720979384, 0.9202861555489358, 0.9004747914463458, 0.9003749861613555, 0.8866217148501954, 0.8811352523203277, 0.8629085834392464, 0.8536396857685712, 1.3476481824917141, 0.9989695634014707, 0.8240972466609224, 1.0751272872219175, 1.1038129164265107, 1.1474425265352666, 0.8140075786543921, 0.8140075786543921, 3.4888040557460207, 0.9333714565206144, 0.8060311686134326, 0.987912908237628, 0.8016041661192405, 1.5112164947150146, 0.7988413470497536, 0.7988413470497536, 2.3858510034279483, 1.4067271062474136, 1.3424486229682975, 5.3431218378385115, 2.19453824906497, 2.983403343592948, 2.5042581927549143, 4.231245498191273, 4.017346466604451, 3.429183902523496, 4.744125902639275, 20.642085417568243, 58.72731317392992, 24.19105047121515, 53.15646169011593, 13.355928075776616, 6.165784819775812, 1.1141369425152337, 1.0249158704991648, 1.0246959441370562, 1.4149017974129867, 1.156741375270324, 1.140006058564483, 0.940523192694656, 1.5279702399533572, 0.9752373589210439, 0.9009254744341137, 0.8871281624800478, 0.8645203702192312, 0.8645203702192312, 0.8535119060749614, 0.8503887038506674, 1.023041100629237, 0.8367143275095281, 0.8358976589665017, 0.8324639082985146, 0.8311139838094632, 0.821632851636546, 0.8183655689533138, 0.8116378740111924, 0.8112234818690283, 0.8112234818690283, 0.8093627380111783, 1.0103412634837434, 1.059069379593719, 1.0473727410837732, 0.7963813578468155, 1.7459250081886524, 1.9835226917192208, 1.8260997848731446, 2.091105576312448, 3.7454269047979327, 1.532072941963997, 0.9960904946355665, 1.7744112837529535, 1.1576534942304444, 3.429183902523496, 3.624994494756461, 10.809579692380687, 1.6516617460247272, 1.3601195457179664, 7.7601300336528185, 1.703769601548296, 3.7379107390680684, 1.465106661715046], \"Category\": [\"Default\", \"Default\", \"Default\", \"Default\", \"Default\", \"Default\", \"Default\", \"Default\", \"Default\", \"Default\", \"Default\", \"Default\", \"Default\", \"Default\", \"Default\", \"Default\", \"Default\", \"Default\", \"Default\", \"Default\", \"Default\", \"Default\", \"Default\", \"Default\", \"Default\", \"Default\", \"Default\", \"Default\", \"Default\", \"Default\", \"Topic1\", \"Topic1\", \"Topic1\", \"Topic1\", \"Topic1\", \"Topic1\", \"Topic1\", \"Topic1\", \"Topic1\", \"Topic1\", \"Topic1\", \"Topic1\", \"Topic1\", \"Topic1\", \"Topic1\", \"Topic1\", \"Topic1\", \"Topic1\", \"Topic1\", \"Topic1\", \"Topic1\", \"Topic1\", \"Topic1\", \"Topic1\", \"Topic1\", \"Topic1\", \"Topic1\", \"Topic1\", \"Topic1\", \"Topic1\", \"Topic1\", \"Topic1\", \"Topic1\", \"Topic1\", \"Topic1\", \"Topic1\", \"Topic1\", \"Topic1\", \"Topic1\", \"Topic1\", \"Topic1\", \"Topic1\", \"Topic1\", \"Topic1\", \"Topic1\", \"Topic1\", \"Topic2\", \"Topic2\", \"Topic2\", \"Topic2\", \"Topic2\", \"Topic2\", \"Topic2\", \"Topic2\", \"Topic2\", \"Topic2\", \"Topic2\", \"Topic2\", \"Topic2\", \"Topic2\", \"Topic2\", \"Topic2\", \"Topic2\", \"Topic2\", \"Topic2\", \"Topic2\", \"Topic2\", \"Topic2\", \"Topic2\", \"Topic2\", \"Topic2\", \"Topic2\", \"Topic2\", \"Topic2\", \"Topic2\", \"Topic2\", \"Topic2\", \"Topic2\", \"Topic2\", \"Topic2\", \"Topic2\", \"Topic2\", \"Topic2\", \"Topic2\", \"Topic2\", \"Topic2\", \"Topic2\", \"Topic2\", \"Topic2\", \"Topic2\", \"Topic2\", \"Topic2\", \"Topic2\", \"Topic2\", \"Topic2\", \"Topic2\", \"Topic2\", \"Topic2\", \"Topic2\", \"Topic2\", \"Topic2\", \"Topic2\", \"Topic3\", \"Topic3\", \"Topic3\", \"Topic3\", \"Topic3\", \"Topic3\", \"Topic3\", \"Topic3\", \"Topic3\", \"Topic3\", \"Topic3\", \"Topic3\", \"Topic3\", \"Topic3\", \"Topic3\", \"Topic3\", \"Topic3\", \"Topic3\", \"Topic3\", \"Topic3\", \"Topic3\", \"Topic3\", \"Topic3\", \"Topic3\", \"Topic3\", \"Topic3\", \"Topic3\", \"Topic3\", \"Topic3\", \"Topic3\", \"Topic3\", \"Topic3\", \"Topic3\", \"Topic3\", \"Topic3\", \"Topic3\", \"Topic3\", \"Topic3\", \"Topic3\", \"Topic3\", \"Topic3\", \"Topic3\", \"Topic3\", \"Topic3\", \"Topic3\", \"Topic3\", \"Topic3\", \"Topic3\", \"Topic3\", \"Topic3\", \"Topic3\", \"Topic3\", \"Topic3\", \"Topic3\", \"Topic3\", \"Topic4\", \"Topic4\", \"Topic4\", \"Topic4\", \"Topic4\", \"Topic4\", \"Topic4\", \"Topic4\", \"Topic4\", \"Topic4\", \"Topic4\", \"Topic4\", \"Topic4\", \"Topic4\", \"Topic4\", \"Topic4\", \"Topic4\", \"Topic4\", \"Topic4\", \"Topic4\", \"Topic4\", \"Topic4\", \"Topic4\", \"Topic4\", \"Topic4\", \"Topic4\", \"Topic4\", \"Topic4\", \"Topic4\", \"Topic4\", \"Topic4\", \"Topic4\", \"Topic4\", \"Topic4\", \"Topic4\", \"Topic4\", \"Topic4\", \"Topic4\", \"Topic4\", \"Topic4\", \"Topic4\", \"Topic4\", \"Topic4\", \"Topic4\", \"Topic4\", \"Topic5\", \"Topic5\", \"Topic5\", \"Topic5\", \"Topic5\", \"Topic5\", \"Topic5\", \"Topic5\", \"Topic5\", \"Topic5\", \"Topic5\", \"Topic5\", \"Topic5\", \"Topic5\", \"Topic5\", \"Topic5\", \"Topic5\", \"Topic5\", \"Topic5\", \"Topic5\", \"Topic5\", \"Topic5\", \"Topic5\", \"Topic5\", \"Topic5\", \"Topic5\", \"Topic5\", \"Topic5\", \"Topic5\", \"Topic5\", \"Topic5\", \"Topic5\", \"Topic5\", \"Topic5\", \"Topic5\", \"Topic5\", \"Topic5\", \"Topic5\", \"Topic5\", \"Topic5\", \"Topic5\", \"Topic5\", \"Topic5\", \"Topic5\", \"Topic5\", \"Topic6\", \"Topic6\", \"Topic6\", \"Topic6\", \"Topic6\", \"Topic6\", \"Topic6\", \"Topic6\", \"Topic6\", \"Topic6\", \"Topic6\", \"Topic6\", \"Topic6\", \"Topic6\", \"Topic6\", \"Topic6\", \"Topic6\", \"Topic6\", \"Topic6\", \"Topic6\", \"Topic6\", \"Topic6\", \"Topic6\", \"Topic6\", \"Topic6\", \"Topic6\", \"Topic6\", \"Topic6\", \"Topic6\", \"Topic6\", \"Topic6\", \"Topic6\", \"Topic6\", \"Topic6\", \"Topic6\", \"Topic6\", \"Topic6\", \"Topic6\", \"Topic6\", \"Topic6\", \"Topic6\", \"Topic6\", \"Topic6\", \"Topic6\", \"Topic6\", \"Topic6\", \"Topic6\", \"Topic6\", \"Topic6\", \"Topic6\", \"Topic6\", \"Topic6\", \"Topic6\", \"Topic6\", \"Topic6\", \"Topic6\", \"Topic7\", \"Topic7\", \"Topic7\", \"Topic7\", \"Topic7\", \"Topic7\", \"Topic7\", \"Topic7\", \"Topic7\", \"Topic7\", \"Topic7\", \"Topic7\", \"Topic7\", \"Topic7\", \"Topic7\", \"Topic7\", \"Topic7\", \"Topic7\", \"Topic7\", \"Topic7\", \"Topic7\", \"Topic7\", \"Topic7\", \"Topic7\", \"Topic7\", \"Topic7\", \"Topic7\", \"Topic7\", \"Topic7\", \"Topic7\", \"Topic7\", \"Topic7\", \"Topic7\", \"Topic7\", \"Topic7\", \"Topic7\", \"Topic7\", \"Topic7\", \"Topic7\", \"Topic7\", \"Topic7\", \"Topic7\", \"Topic7\", \"Topic7\", \"Topic7\", \"Topic7\", \"Topic7\", \"Topic7\", \"Topic8\", \"Topic8\", \"Topic8\", \"Topic8\", \"Topic8\", \"Topic8\", \"Topic8\", \"Topic8\", \"Topic8\", \"Topic8\", \"Topic8\", \"Topic8\", \"Topic8\", \"Topic8\", \"Topic8\", \"Topic8\", \"Topic8\", \"Topic8\", \"Topic8\", \"Topic8\", \"Topic8\", \"Topic8\", \"Topic8\", \"Topic8\", \"Topic8\", \"Topic8\", \"Topic8\", \"Topic8\", \"Topic8\", \"Topic8\", \"Topic8\", \"Topic8\", \"Topic8\", \"Topic8\", \"Topic8\", \"Topic8\", \"Topic8\", \"Topic8\", \"Topic8\", \"Topic8\", \"Topic8\", \"Topic8\", \"Topic8\", \"Topic8\", \"Topic8\", \"Topic8\", \"Topic8\", \"Topic9\", \"Topic9\", \"Topic9\", \"Topic9\", \"Topic9\", \"Topic9\", \"Topic9\", \"Topic9\", \"Topic9\", \"Topic9\", \"Topic9\", \"Topic9\", \"Topic9\", \"Topic9\", \"Topic9\", \"Topic9\", \"Topic9\", \"Topic9\", \"Topic9\", \"Topic9\", \"Topic9\", \"Topic9\", \"Topic9\", \"Topic9\", \"Topic9\", \"Topic9\", \"Topic9\", \"Topic9\", \"Topic9\", \"Topic9\", \"Topic9\", \"Topic9\", \"Topic9\", \"Topic9\", \"Topic9\", \"Topic9\", \"Topic9\", \"Topic9\", \"Topic9\", \"Topic9\", \"Topic9\", \"Topic9\", \"Topic9\", \"Topic9\", \"Topic9\", \"Topic9\", \"Topic9\", \"Topic10\", \"Topic10\", \"Topic10\", \"Topic10\", \"Topic10\", \"Topic10\", \"Topic10\", \"Topic10\", \"Topic10\", \"Topic10\", \"Topic10\", \"Topic10\", \"Topic10\", \"Topic10\", \"Topic10\", \"Topic10\", \"Topic10\", \"Topic10\", \"Topic10\", \"Topic10\", \"Topic10\", \"Topic10\", \"Topic10\", \"Topic10\", \"Topic10\", \"Topic10\", \"Topic10\", \"Topic10\", \"Topic10\", \"Topic10\", \"Topic10\", \"Topic10\", \"Topic10\", \"Topic10\", \"Topic10\", \"Topic10\", \"Topic10\", \"Topic10\", \"Topic10\", \"Topic10\", \"Topic10\", \"Topic10\", \"Topic10\", \"Topic10\", \"Topic10\", \"Topic10\", \"Topic10\", \"Topic10\"], \"logprob\": [30.0, 29.0, 28.0, 27.0, 26.0, 25.0, 24.0, 23.0, 22.0, 21.0, 20.0, 19.0, 18.0, 17.0, 16.0, 15.0, 14.0, 13.0, 12.0, 11.0, 10.0, 9.0, 8.0, 7.0, 6.0, 5.0, 4.0, 3.0, 2.0, 1.0, -4.1204, -5.0176, -5.0857, -5.1147, -4.903, -4.9578, -5.2692, -4.9229, -4.968, -5.0351, -5.3901, -5.4228, -5.4306, -5.5211, -5.2569, -5.5872, -4.9845, -5.6146, -5.1232, -5.6842, -5.7194, -5.7199, -5.732, -5.0466, -4.9782, -5.5139, -3.5594, -5.385, -5.7955, -4.0069, -4.2696, -4.5253, -4.9942, -4.2266, -4.6152, -3.7747, -4.6571, -4.9547, -3.761, -4.6917, -4.4686, -5.0236, -5.0294, -4.9272, -5.1272, -5.097, -5.1095, -4.8327, -5.5717, -5.6232, -5.5892, -5.0786, -5.678, -5.9842, -6.0788, -5.9057, -6.1279, -5.6805, -5.5276, -6.0718, -6.2434, -6.1331, -6.2836, -5.9133, -6.291, -6.1028, -5.8852, -6.3805, -6.0952, -5.7547, -6.0133, -6.4593, -6.0832, -5.7765, -5.2519, -5.0213, -3.4589, -4.5248, -3.4033, -3.7343, -5.1618, -4.159, -4.6595, -3.9404, -4.3861, -5.2945, -5.4792, -3.6487, -4.4333, -5.3573, -4.82, -5.1637, -5.0916, -4.7032, -5.4476, -4.5822, -5.2849, -5.2799, -5.0352, -5.4198, -5.2372, -5.237, -3.5382, -4.9846, -2.1118, -5.8879, -5.6477, -6.1787, -6.2518, -6.3263, -5.6263, -5.3673, -6.3749, -6.4225, -6.431, -6.4321, -6.4372, -6.4429, -4.3171, -6.5423, -6.5423, -6.2917, -6.5639, -6.5893, -6.5893, -6.5977, -6.6201, -2.8066, -6.677, -6.677, -6.5035, -6.7011, -5.6983, -4.3717, -5.9763, -6.0944, -6.1255, -5.8531, -6.0474, -6.1734, -5.8148, -6.2745, -6.2282, -4.7707, -4.298, -4.9273, -4.5997, -4.8886, -4.9898, -5.5332, -5.5518, -4.9692, -5.8736, -5.9474, -5.9215, -6.1117, -6.1249, -3.6427, -3.5346, -4.9904, -5.2941, -5.4453, -5.3668, -5.6579, -5.4462, -5.7627, -5.3264, -5.8043, -5.8321, -5.8793, -5.7828, -6.0028, -5.6061, -5.6373, -6.0865, -5.746, -6.1206, -6.1444, -5.659, -6.0391, -5.9208, -6.2673, -5.6773, -6.3075, -6.3464, -5.8838, -6.138, -5.0341, -5.7621, -4.9967, -5.5441, -4.3015, -5.3833, -5.7853, -5.2593, -5.4271, -4.8823, -4.3923, -5.0658, -5.3699, -5.7275, -5.7573, -5.1406, -5.3544, -4.3958, -5.5237, -5.6297, -5.6361, -5.4824, -5.1722, -4.8446, -5.0967, -5.9293, -5.0986, -4.0619, -5.903, -6.1162, -6.0137, -6.1556, -6.1744, -5.9083, -6.2277, -6.2441, -4.8123, -6.0238, -6.165, -6.4159, -6.4159, -6.4185, -6.4185, -6.0783, -6.4293, -3.6933, -5.8916, -5.6643, -6.1145, -3.9199, -5.0469, -5.6678, -5.5832, -5.3704, -4.8358, -4.9377, -5.3996, -5.8793, -5.9454, -5.98, -5.1213, -5.7698, -5.8151, -5.0728, -5.7268, -6.1078, -6.1381, -6.1435, -6.188, -6.222, -6.2766, -6.2928, -6.2987, -6.31, -6.3105, -6.3105, -6.3105, -6.1504, -6.3401, -6.204, -6.4086, -6.4221, -6.4623, -6.2572, -6.4808, -6.2739, -6.4872, -6.2921, -6.5035, -6.5093, -5.9147, -5.8537, -4.9512, -3.6924, -6.0021, -5.339, -5.0455, -5.8729, -6.0283, -4.1167, -5.9886, -6.04, -5.3619, -5.9514, -6.0177, -5.7576, -6.1271, -6.136, -6.0007, -6.1442, -6.0753, -6.0819, -6.0987, -6.1207, -6.0902, -6.1232, -4.1915, -5.4117, -4.7157, -5.4142, -5.5189, -5.712, -5.5541, -5.6708, -5.9777, -5.997, -5.7189, -5.7189, -6.0106, -6.0139, -6.0293, -6.0629, -5.8929, -5.7285, -6.18, -6.198, -5.6253, -6.2556, -5.8335, -6.1915, -6.1212, -6.3271, -4.31, -5.5448, -6.3341, -6.3715, -6.0659, -5.952, -5.2454, -5.1462, -5.8725, -5.2998, -6.0029, -5.8787, -5.7155, -4.9508, -4.8114, -5.2429, -5.8174, -5.8297, -5.867, -5.9308, -5.8211, -5.864, -5.3774, -5.5947, -5.6967, -5.2361, -5.3223, -5.5822, -5.3929, -5.3298, -5.3195, -6.0306, -6.0479, -6.1476, -6.2039, -6.2047, -6.2206, -5.9411, -6.2688, -5.7598, -6.2868, -6.2995, -6.315, -6.3474, -6.3785, -6.3801, -6.3801, -6.3861, -6.4015, -6.4219, -6.4262, -6.4302, -5.6537, -6.042, -6.1554, -6.0897, -6.254, -6.1081, -5.6978, -5.7243, -5.3031, -5.9169, -5.5456, -5.9823, -6.0072, -6.0546, -6.0579, -6.1469, -6.184, -4.737, -5.5323, -5.7651, -5.8857, -5.895, -5.8994, -5.4822, -5.9465, -5.9965, -5.9967, -6.033, -6.0478, -6.0987, -6.1256, -5.6977, -6.0168, -6.2166, -5.9544, -5.9417, -5.9054, -6.2497, -6.2497, -4.7993, -6.125, -6.2766, -6.0787, -6.292, -5.6604, -6.3016, -6.3016, -5.2207, -5.7829, -5.8283, -4.6173, -5.66, -5.6079, -5.753, -5.5717, -5.6776, -5.783, -5.739, -5.4866, -5.4908, -5.6621, -5.6917, -5.7937, -5.9117, -5.5549, -5.7159, -5.7162, -5.4394, -5.6719, -5.6973, -5.8962, -5.4368, -5.8969, -5.9936, -6.0299, -6.0923, -6.0923, -6.1242, -6.1335, -5.9686, -6.1749, -6.1775, -6.1882, -6.1926, -6.2228, -6.2334, -6.2558, -6.2571, -6.2571, -6.2634, -6.0464, -6.0021, -6.0178, -6.3084, -5.525, -5.4422, -5.5192, -5.4182, -4.9914, -5.7358, -6.0904, -5.7372, -6.002, -5.3843, -5.4149, -5.199, -5.9425, -6.0035, -5.5749, -5.9843, -5.8894, -6.0259], \"loglift\": [30.0, 29.0, 28.0, 27.0, 26.0, 25.0, 24.0, 23.0, 22.0, 21.0, 20.0, 19.0, 18.0, 17.0, 16.0, 15.0, 14.0, 13.0, 12.0, 11.0, 10.0, 9.0, 8.0, 7.0, 6.0, 5.0, 4.0, 3.0, 2.0, 1.0, 0.6836, 0.6811, 0.6783, 0.677, 0.6748, 0.6739, 0.6697, 0.6696, 0.6685, 0.668, 0.6632, 0.6614, 0.6609, 0.6553, 0.6529, 0.651, 0.6507, 0.6491, 0.6447, 0.644, 0.6414, 0.6413, 0.6404, 0.64, 0.6399, 0.6379, 0.6364, 0.6361, 0.6353, 0.6327, 0.6217, 0.5834, 0.5963, 0.5424, 0.5473, 0.4622, 0.5256, 0.5606, 0.3762, 0.2832, 0.1214, 0.3149, 0.3031, -0.003, 0.0671, -0.0729, 2.0457, 1.9923, 1.9479, 1.9347, 1.9246, 1.8833, 1.8346, 1.827, 1.7941, 1.7927, 1.7762, 1.7747, 1.7645, 1.7512, 1.7319, 1.7221, 1.7158, 1.7135, 1.7127, 1.7072, 1.6881, 1.6752, 1.6679, 1.6604, 1.6455, 1.6406, 1.6392, 1.6386, 1.633, 1.6319, 1.5652, 1.5753, 1.5208, 1.46, 1.5058, 1.2599, 1.3301, 1.0345, 1.1465, 1.4189, 1.4627, 0.4885, 0.9053, 1.3621, 0.9665, 1.1982, 1.0984, 0.6292, 1.1558, -0.3453, 0.8441, 0.5997, -0.4451, 1.0447, -0.0545, -0.3456, 2.5533, 2.4943, 2.4673, 2.1861, 2.1751, 2.0459, 2.0073, 1.9666, 1.955, 1.951, 1.9395, 1.9122, 1.9072, 1.9066, 1.9036, 1.9003, 1.8439, 1.8411, 1.8411, 1.8375, 1.8279, 1.8123, 1.8123, 1.807, 1.7931, 1.7835, 1.7571, 1.7571, 1.7469, 1.7417, 1.699, 1.5371, 1.6686, 1.6821, 1.6832, 1.6089, 1.6421, 1.6236, 1.4064, 1.6388, 1.5919, 0.338, -0.1022, 0.4051, 0.0399, 0.2739, 0.3675, 0.6394, 0.6401, -0.7324, 0.6147, 0.7058, 0.305, 0.7077, 0.3526, 2.707, 2.6498, 2.504, 2.4196, 2.2986, 2.2966, 2.2924, 2.2818, 2.25, 2.2376, 2.2325, 2.2205, 2.1997, 2.1543, 2.1429, 2.1427, 2.1147, 2.102, 2.1006, 2.085, 2.073, 2.0312, 2.0251, 2.0113, 2.0082, 1.9871, 1.9862, 1.9646, 1.9645, 1.9435, 1.9078, 1.9277, 1.8779, 1.9128, 1.6199, 1.7928, 1.917, 1.6256, 1.6944, 1.3077, -0.2552, -0.8289, 0.1453, 1.1255, 1.2845, 2.5703, 2.4989, 2.4983, 2.435, 2.3916, 2.3889, 2.3824, 2.3568, 2.3027, 2.2693, 2.2538, 2.2381, 2.1675, 2.1625, 2.1564, 2.1466, 2.1349, 2.1244, 2.1109, 2.0943, 2.0849, 2.0792, 2.0749, 1.9982, 1.9825, 1.9825, 1.9809, 1.9809, 1.9808, 1.9742, 1.8639, 1.9171, 1.7745, 1.8723, 0.8491, 1.074, 1.4416, 1.2362, 0.8196, -0.6987, -0.7009, 0.191, 1.3095, 0.774, 1.0619, 2.3636, 2.3508, 2.3294, 2.2949, 2.2746, 2.1786, 2.1618, 2.1588, 2.1336, 2.114, 2.0821, 2.0725, 2.069, 2.0621, 2.0619, 2.0619, 2.0619, 2.0441, 2.044, 2.0185, 2.0018, 1.9934, 1.9679, 1.9672, 1.9556, 1.953, 1.952, 1.9513, 1.9415, 1.9377, 1.9348, 1.9169, 1.8682, 1.6649, 1.8953, 1.7564, 1.558, 1.8061, 1.8306, 0.1201, 1.6758, 1.7252, 0.6442, 1.4727, 1.5336, 0.837, 1.6468, 1.477, 0.7111, 1.4655, 0.5779, 0.0908, -0.0072, 0.9487, -0.9815, 0.9862, 2.8081, 2.5295, 2.4951, 2.4908, 2.4861, 2.4011, 2.3374, 2.2993, 2.269, 2.2587, 2.2553, 2.2553, 2.2513, 2.2496, 2.2413, 2.2225, 2.2158, 2.2015, 2.1565, 2.1461, 2.127, 2.112, 2.0875, 2.0775, 2.0705, 2.0686, 2.068, 2.0668, 2.0642, 2.041, 2.0405, 1.9873, 1.8189, 1.5214, 1.8984, 1.5614, 1.9363, 1.7721, 1.5102, 0.2117, -0.6742, -0.268, 1.1603, 1.0618, 0.8524, 1.3835, -1.6253, -0.5255, 2.5615, 2.4711, 2.4247, 2.3935, 2.3809, 2.378, 2.3564, 2.3344, 2.3081, 2.2546, 2.245, 2.1884, 2.1554, 2.1549, 2.1455, 2.1404, 2.1164, 2.1128, 2.1054, 2.0975, 2.088, 2.0675, 2.0481, 2.0472, 2.0472, 2.0434, 2.0335, 2.0204, 2.0176, 2.0151, 2.0026, 2.0036, 2.0082, 1.9902, 2.001, 1.9486, 1.6681, 1.6769, 1.3645, 1.7359, 1.3125, 1.7375, 1.6719, 1.688, 1.3394, 0.5725, 1.4932, 2.7237, 2.5566, 2.4439, 2.3801, 2.375, 2.3727, 2.369, 2.3467, 2.3184, 2.3183, 2.2974, 2.2888, 2.2588, 2.2427, 2.2141, 2.1943, 2.187, 2.1832, 2.1696, 2.1671, 2.1662, 2.1662, 2.1612, 2.154, 2.1491, 2.1436, 2.1392, 2.1368, 2.1331, 2.1331, 2.1198, 2.0859, 2.0873, 1.9169, 1.7641, 1.5091, 1.539, 1.1958, 1.1419, 1.1948, 0.9142, -0.3038, -1.3537, -0.638, -1.4548, -0.1756, 0.4794, 2.5471, 2.4696, 2.4695, 2.4236, 2.3925, 2.3817, 2.3752, 2.3493, 2.3383, 2.3208, 2.2999, 2.2633, 2.2633, 2.2443, 2.2387, 2.2187, 2.2134, 2.2118, 2.2052, 2.2024, 2.1838, 2.1771, 2.163, 2.1621, 2.1621, 2.1581, 2.1534, 2.1506, 2.146, 2.1293, 2.1278, 2.083, 2.0887, 2.0542, 1.8982, 2.0477, 2.1236, 1.8994, 2.0617, 1.5935, 1.5073, 0.6306, 1.7658, 1.899, 0.5862, 1.6929, 1.0022, 1.8022]}, \"token.table\": {\"Topic\": [1, 9, 9, 1, 1, 2, 4, 9, 2, 1, 3, 7, 1, 10, 1, 6, 1, 4, 1, 2, 9, 10, 2, 4, 3, 5, 1, 1, 5, 1, 1, 10, 1, 4, 4, 4, 3, 10, 5, 1, 5, 7, 1, 4, 1, 1, 1, 2, 5, 2, 1, 3, 4, 4, 5, 7, 1, 2, 3, 6, 8, 1, 2, 2, 2, 1, 9, 2, 2, 4, 5, 7, 5, 1, 8, 2, 5, 1, 2, 6, 2, 3, 8, 1, 3, 1, 2, 3, 2, 1, 5, 2, 1, 2, 2, 4, 1, 2, 1, 4, 8, 4, 1, 2, 1, 1, 2, 10, 5, 5, 1, 3, 2, 1, 2, 5, 2, 8, 3, 6, 2, 3, 1, 2, 3, 4, 1, 10, 1, 2, 4, 1, 3, 1, 1, 1, 2, 9, 4, 1, 10, 4, 2, 5, 3, 1, 9, 2, 2, 1, 1, 4, 1, 1, 3, 3, 7, 7, 3, 8, 3, 4, 1, 9, 1, 3, 1, 3, 2, 4, 2, 1, 2, 5, 1, 9, 7, 5, 8, 1, 8, 7, 7, 2, 1, 7, 1, 7, 4, 2, 6, 1, 3, 10, 1, 3, 1, 3, 1, 3, 1, 2, 4, 6, 2, 1, 1, 1, 2, 9, 5, 7, 8, 4, 1, 2, 4, 5, 7, 9, 4, 1, 6, 2, 7, 10, 1, 3, 1, 3, 7, 1, 1, 2, 10, 3, 4, 5, 6, 9, 1, 6, 2, 1, 6, 10, 10, 4, 7, 1, 2, 3, 4, 5, 6, 9, 1, 2, 1, 4, 7, 8, 1, 2, 2, 5, 10, 9, 1, 2, 4, 5, 1, 2, 6, 7, 1, 3, 7, 1, 6, 2, 2, 3, 9, 5, 5, 2, 7, 10, 2, 8, 2, 2, 1, 9, 7, 1, 4, 1, 2, 4, 1, 2, 7, 4, 6, 8, 1, 5, 2, 4, 4, 1, 4, 4, 1, 4, 10, 1, 5, 4, 7, 2, 7, 8, 2, 4, 2, 1, 1, 2, 7, 2, 9, 10, 1, 2, 1, 5, 10, 1, 4, 7, 4, 2, 4, 2, 8, 2, 3, 4, 4, 1, 7, 2, 1, 5, 1, 1, 2, 6, 8, 5, 2, 10, 1, 1, 2, 1, 4, 1, 7, 1, 2], \"Freq\": [0.5732623466502863, 0.28663117332514315, 0.4726643813733998, 0.9139479321194189, 0.6981885260121031, 0.34909426300605156, 0.6964541876015135, 0.7420334275604964, 0.7364299059171654, 0.744039142640933, 0.3720195713204665, 0.8146308026047442, 0.9550836563370466, 0.8771883206122771, 0.7951580819272672, 0.1987895204818168, 0.3555818031101678, 0.3555818031101678, 0.45471361456952286, 0.49605121589402495, 0.04133760132450208, 0.6544630084094609, 0.5315057977741988, 0.2657528988870994, 0.6693840081712346, 0.6693840081712346, 0.5175067543874886, 0.7202816389633571, 0.36014081948167853, 0.9742921532499126, 0.5517249758290644, 0.2758624879145322, 0.6392027258980058, 0.9233862652493308, 0.5945661713246525, 0.8543559608368015, 0.6789369140793828, 0.897555732908773, 0.41752648461459496, 0.8740783196409269, 0.07283985997007723, 0.644550524488783, 0.673374632260597, 0.3366873161302985, 0.9866964577525692, 0.8437687800863686, 0.8328055296045918, 0.03203098190786891, 0.12812392763147565, 0.5994959053590224, 0.7821715204539719, 0.130361920075662, 0.6087331930532472, 0.6952425775828802, 0.6999676645425237, 0.7363325775943428, 0.5768564632726769, 0.05768564632726769, 0.11537129265453538, 0.28842823163633846, 0.5584996408527715, 0.9159765549637193, 0.8100255886565713, 0.856993446881186, 0.4515870687308997, 0.6703753296700996, 0.3351876648350498, 0.7986396952942844, 0.4504620294367502, 0.2252310147183751, 0.2252310147183751, 0.2252310147183751, 0.6070278806928466, 0.816583807997569, 0.6308031828963782, 0.3326568742795861, 0.3326568742795861, 0.6300941499708006, 0.3150470749854003, 0.8116108986906552, 0.12021025660792023, 0.8414717962554417, 0.559628718008404, 0.9286585978661295, 0.05628233926461391, 0.5356586594921153, 0.0803487989238173, 0.37496106164448073, 0.6710605685826856, 0.9486872701853488, 0.8654150656179632, 0.6790422729069046, 0.8820055678307303, 0.0801823243482482, 0.6018107233000952, 0.6018107233000952, 0.9049597708183912, 0.0723967816654713, 0.9151475851635116, 0.8771484738630978, 0.7624504066047519, 0.8642002939900598, 0.6239615647542841, 0.24958462590171362, 0.9781302886052486, 0.4849613742787086, 0.4849613742787086, 0.7067628310518828, 0.8310364234757286, 0.8262971577901078, 0.8254640179838628, 0.13757733633064378, 0.6965086098135544, 0.6135004190352898, 0.36810025142117386, 0.5364260013422295, 0.7509408708472944, 0.7135257972605219, 0.5682968182372335, 0.6443415109169758, 0.7907796587278867, 0.8727751078618858, 0.6752113943138498, 0.22507046477128329, 0.11253523238564164, 0.05626761619282082, 0.533984523216293, 0.2669922616081465, 0.4477302403815762, 0.4477302403815762, 0.9336814673493044, 0.854759123326755, 0.08997464456071104, 0.8984774350323258, 0.8936923275475089, 0.48626267004311985, 0.48626267004311985, 0.6617185581928022, 0.7611474815268673, 0.47821593100212856, 0.47821593100212856, 0.5794506169864777, 0.46243076075224687, 0.46243076075224687, 0.9626830353684519, 0.41913765719787943, 0.41913765719787943, 0.45158385444457316, 0.8956262575051711, 0.9995262134171384, 0.6084444241727878, 0.3042222120863939, 0.9529587804136664, 0.8841467095177494, 0.17682934190354987, 0.533252927874104, 0.755752173179868, 0.7489278301775522, 0.4436439062252309, 0.6023700744987471, 0.6482064583943862, 0.6482064583943862, 0.7090110940814963, 0.23633703136049877, 0.5941937061491354, 0.5941937061491354, 0.26491728641775797, 0.7417684019697223, 0.4984648394739405, 0.9777421063642782, 0.6702822221487954, 0.5635702128826955, 0.07044627661033694, 0.3522313830516847, 0.973790191938668, 0.8858830402319713, 0.7271805703525152, 0.42994681084614433, 0.42994681084614433, 0.7761841500265387, 0.25872805000884624, 0.5496509314546131, 0.786581231973923, 0.5580705627214961, 0.7785963463850246, 0.2595321154616749, 0.4802399147371494, 0.3201599431580996, 0.8209508027700468, 0.5503903796331605, 0.5879963169594272, 0.5154552800859621, 0.3865914600644716, 0.12886382002149052, 0.7008863840247969, 0.3003798788677701, 0.7974547885934307, 0.13290913143223845, 0.8936979458580827, 0.17873958917161653, 0.6621831738583148, 0.11036386230971915, 0.11036386230971915, 0.11036386230971915, 0.5013523644104576, 0.9444891009329689, 0.9255865362603597, 0.8235602002466037, 0.09688943532312985, 0.048444717661564926, 0.5350582556978442, 0.2675291278489221, 0.7788812604478582, 0.757302282571816, 0.715169786085915, 0.17027852049664643, 0.05108355614899393, 0.03405570409932929, 0.017027852049664643, 0.017027852049664643, 0.9376116836632297, 0.656047544024773, 0.3280237720123865, 0.3736607122102295, 0.3736607122102295, 0.8644974765999924, 0.9567005533726282, 0.40989512769427827, 0.9208685474540416, 0.05416873808553185, 0.01805624602851062, 0.9138688901516563, 0.9796928392454408, 0.7138238979427093, 0.5476152005951131, 0.2489205270973857, 0.2489205270973857, 0.2489205270973857, 0.2489205270973857, 0.2489205270973857, 0.6408678742994028, 0.4307039154541155, 0.5741037177179164, 0.9545472060849084, 0.6973183474943851, 0.6527104373490721, 0.5727622866445287, 0.6274422523066902, 0.7898949509072682, 0.7713079218668849, 0.07524955335286682, 0.03762477667643341, 0.018812388338216704, 0.018812388338216704, 0.05643716501465011, 0.018812388338216704, 0.6202328926659194, 0.2658140968568226, 0.8782172939299491, 0.06755517645614993, 0.7642051219818569, 0.5793344687393825, 0.5427705385735037, 0.4342164308588029, 0.47009349291992164, 0.8279713120827209, 0.5041535467049528, 0.4556767239878691, 0.2652830556662355, 0.2652830556662355, 0.2652830556662355, 0.13264152783311775, 0.6186795973794477, 0.34371088743302647, 0.4842477661322332, 0.9076450573593158, 0.8545401175957549, 0.09494890195508388, 0.04747445097754194, 0.9021122384146609, 0.9143678985153698, 0.8135581133013424, 0.632360957859703, 0.21078698595323433, 0.21078698595323433, 0.7080097929566238, 0.7777768009284919, 0.29161457315372086, 0.29161457315372086, 0.29161457315372086, 0.6140354935161212, 0.9151213554349975, 0.5209288318105078, 0.5290159826450692, 0.5614695099697764, 0.37431300664651757, 0.7898949509072682, 0.8962005304287588, 0.6175217398042543, 0.5148153906012167, 0.25740769530060836, 0.25740769530060836, 0.6296483074678481, 0.31482415373392403, 0.039353019216740504, 0.7712068606715887, 0.9365018160582367, 0.865651720385229, 0.9440312810388078, 0.5060784786394276, 0.47085783412289944, 0.47085783412289944, 0.5241295409240719, 0.31092215060167544, 0.31092215060167544, 0.5788957214728544, 0.8325948146109511, 0.09251053495677235, 0.09251053495677235, 0.34551108706727207, 0.6910221741345441, 0.6324982477967666, 0.7370635251135249, 0.4276912225395703, 0.21384561126978516, 0.21384561126978516, 0.562689712304875, 0.2813448561524375, 0.6395989253987916, 0.9348116749066718, 0.6793291232239591, 0.2830538013433163, 0.05661076026866326, 0.49785154154740646, 0.6983972896366115, 0.975899246719617, 0.9619548880221088, 0.03317085820765892, 0.41395943130337165, 0.41395943130337165, 0.9756898383405557, 0.6705262557398655, 0.22350875191328848, 0.6326859443509457, 0.9787399522765633, 0.5762273139983068, 0.8409191629207756, 0.4453721599581322, 0.4453721599581322, 0.47327811299267497, 0.47327811299267497, 0.5943151415852955, 0.6305035432095459, 0.6359602951615825, 0.31798014758079124, 0.7012081104409962, 0.7427945880911293, 0.12379909801518822, 0.9287365427113803, 0.40112404716054195, 0.40112404716054195, 0.20056202358027098, 0.5747272260489016, 0.9733754171760278, 0.5635672006576505, 0.5635672006576505, 0.8109267751224896, 0.5390902822067979, 0.4410738672601074, 0.52606599019797, 0.52606599019797, 0.9615909477357609, 0.8940818202655141, 0.777991391687126, 0.1944978479217815], \"Term\": [\"ac\", \"ac\", \"along\", \"also\", \"always\", \"always\", \"anything\", \"apply\", \"arrangements\", \"arrive\", \"arrive\", \"asap\", \"ask\", \"attentive\", \"available\", \"available\", \"average\", \"average\", \"bad\", \"bad\", \"bad\", \"bag\", \"bake\", \"bake\", \"barely\", \"barely\", \"become\", \"best\", \"best\", \"better\", \"box\", \"box\", \"branch\", \"bread\", \"bring\", \"brownie\", \"bt\", \"bubble\", \"burn\", \"burst\", \"burst\", \"buy\", \"cake\", \"cake\", \"call\", \"cancel\", \"cheese\", \"cheese\", \"cheese\", \"cheez\", \"chicken\", \"chicken\", \"choco\", \"chocolate\", \"chocolava\", \"coke\", \"cold\", \"cold\", \"cold\", \"cold\", \"collect\", \"come\", \"communication\", \"compensation\", \"completely\", \"condition\", \"condition\", \"contact\", \"cook\", \"cook\", \"cook\", \"cook\", \"costly\", \"couldnt\", \"coz\", \"crust\", \"crust\", \"customer\", \"customer\", \"definitely\", \"delay\", \"delay\", \"delievered\", \"deliver\", \"deliver\", \"delivery\", \"delivery\", \"delivery\", \"destroy\", \"didnt\", \"dilevery\", \"din\", \"disappoint\", \"disappoint\", \"disappointment\", \"disappointment\", \"dominos\", \"dominos\", \"dont\", \"doubt\", \"dough\", \"dustbin\", \"eat\", \"eat\", \"even\", \"ever\", \"ever\", \"everytime\", \"exact\", \"exactly\", \"expect\", \"expect\", \"expensive\", \"experience\", \"experience\", \"extra\", \"extremely\", \"fast\", \"fill\", \"finally\", \"flat\", \"fond\", \"food\", \"food\", \"food\", \"food\", \"free\", \"free\", \"fresh\", \"fresh\", \"garlic\", \"get\", \"get\", \"give\", \"go\", \"good\", \"good\", \"green\", \"guess\", \"hand\", \"hand\", \"handle\", \"happy\", \"happy\", \"hate\", \"havent\", \"havent\", \"highly\", \"hold\", \"home\", \"hot\", \"hot\", \"hour\", \"hours\", \"hours\", \"hrs\", \"hungry\", \"hv\", \"im\", \"incomplete\", \"items\", \"items\", \"ketchup\", \"ketchup\", \"km\", \"km\", \"late\", \"late\", \"later\", \"lava\", \"layer\", \"less\", \"less\", \"less\", \"like\", \"literal\", \"live\", \"load\", \"load\", \"long\", \"long\", \"low\", \"lower\", \"management\", \"margarita\", \"margarita\", \"mark\", \"mark\", \"melt\", \"menu\", \"mexicana\", \"min\", \"min\", \"min\", \"mins\", \"mins\", \"minutes\", \"minutes\", \"miss\", \"miss\", \"money\", \"money\", \"money\", \"money\", \"nd\", \"need\", \"never\", \"no\", \"no\", \"no\", \"non\", \"non\", \"nonveg\", \"normally\", \"not\", \"not\", \"not\", \"not\", \"not\", \"not\", \"note\", \"nothing\", \"nothing\", \"ok\", \"ok\", \"old\", \"one\", \"option\", \"order\", \"order\", \"order\", \"oregano\", \"outlet\", \"overcook\", \"pack\", \"paneer\", \"paneer\", \"paneer\", \"paneer\", \"paneer\", \"paper\", \"park\", \"pasta\", \"pathetic\", \"pepper\", \"pepperoni\", \"peri\", \"picture\", \"pimple\", \"pizza\", \"pizza\", \"pizza\", \"pizza\", \"pizza\", \"pizza\", \"pizza\", \"pizzas\", \"pizzas\", \"place\", \"place\", \"plaza\", \"plz\", \"poor\", \"poor\", \"prepare\", \"present\", \"problem\", \"promise\", \"properly\", \"properly\", \"properly\", \"properly\", \"quality\", \"quality\", \"quite\", \"rainbow\", \"receive\", \"receive\", \"receive\", \"refund\", \"resolve\", \"respond\", \"restaurant\", \"restaurant\", \"restaurant\", \"rotten\", \"rubbish\", \"rude\", \"rude\", \"rude\", \"rush\", \"saggy\", \"salty\", \"satisfactory\", \"sauce\", \"sauce\", \"saudagar\", \"say\", \"seal\", \"seat\", \"seat\", \"seat\", \"service\", \"service\", \"service\", \"shame\", \"shittiest\", \"short\", \"small\", \"smell\", \"soggy\", \"soggy\", \"sorry\", \"space\", \"space\", \"spicy\", \"staff\", \"staff\", \"staff\", \"stale\", \"stale\", \"standard\", \"status\", \"store\", \"store\", \"store\", \"stuff\", \"stuff\", \"tacos\", \"take\", \"taste\", \"taste\", \"taste\", \"tasteless\", \"tax\", \"terrible\", \"time\", \"time\", \"top\", \"top\", \"toss\", \"totally\", \"totally\", \"track\", \"treat\", \"twice\", \"unbaked\", \"uncooked\", \"uncooked\", \"understand\", \"understand\", \"unprofessional\", \"upset\", \"upto\", \"upto\", \"value\", \"veg\", \"veg\", \"wait\", \"waste\", \"waste\", \"waste\", \"weekend\", \"wheres\", \"whole\", \"whole\", \"work\", \"worst\", \"worst\", \"worth\", \"worth\", \"wrong\", \"yet\", \"zomato\", \"zomato\"]}, \"R\": 30, \"lambda.step\": 0.01, \"plot.opts\": {\"xlab\": \"PC1\", \"ylab\": \"PC2\"}, \"topic.order\": [8, 7, 4, 1, 3, 6, 9, 5, 2, 10]};\n",
              "\n",
              "function LDAvis_load_lib(url, callback){\n",
              "  var s = document.createElement('script');\n",
              "  s.src = url;\n",
              "  s.async = true;\n",
              "  s.onreadystatechange = s.onload = callback;\n",
              "  s.onerror = function(){console.warn(\"failed to load library \" + url);};\n",
              "  document.getElementsByTagName(\"head\")[0].appendChild(s);\n",
              "}\n",
              "\n",
              "if(typeof(LDAvis) !== \"undefined\"){\n",
              "   // already loaded: just create the visualization\n",
              "   !function(LDAvis){\n",
              "       new LDAvis(\"#\" + \"ldavis_el621399552429835045949795874\", ldavis_el621399552429835045949795874_data);\n",
              "   }(LDAvis);\n",
              "}else if(typeof define === \"function\" && define.amd){\n",
              "   // require.js is available: use it to load d3/LDAvis\n",
              "   require.config({paths: {d3: \"https://d3js.org/d3.v5\"}});\n",
              "   require([\"d3\"], function(d3){\n",
              "      window.d3 = d3;\n",
              "      LDAvis_load_lib(\"https://cdn.jsdelivr.net/gh/bmabey/pyLDAvis@3.3.1/pyLDAvis/js/ldavis.v3.0.0.js\", function(){\n",
              "        new LDAvis(\"#\" + \"ldavis_el621399552429835045949795874\", ldavis_el621399552429835045949795874_data);\n",
              "      });\n",
              "    });\n",
              "}else{\n",
              "    // require.js not available: dynamically load d3 & LDAvis\n",
              "    LDAvis_load_lib(\"https://d3js.org/d3.v5.js\", function(){\n",
              "         LDAvis_load_lib(\"https://cdn.jsdelivr.net/gh/bmabey/pyLDAvis@3.3.1/pyLDAvis/js/ldavis.v3.0.0.js\", function(){\n",
              "                 new LDAvis(\"#\" + \"ldavis_el621399552429835045949795874\", ldavis_el621399552429835045949795874_data);\n",
              "            })\n",
              "         });\n",
              "}\n",
              "</script>"
            ]
          },
          "metadata": {},
          "execution_count": 250
        }
      ]
    },
    {
      "cell_type": "markdown",
      "source": [
        "Using BERTopic"
      ],
      "metadata": {
        "id": "mua0_HbEzST7"
      }
    },
    {
      "cell_type": "code",
      "source": [
        "import warnings\n",
        "warnings.filterwarnings(\"ignore\")"
      ],
      "metadata": {
        "id": "TYDcEKzi5O8q"
      },
      "execution_count": 251,
      "outputs": []
    },
    {
      "cell_type": "code",
      "source": [
        "!pip install bertopic[visualization] --quiet"
      ],
      "metadata": {
        "id": "6ssmOJnmJqu8",
        "colab": {
          "base_uri": "https://localhost:8080/"
        },
        "outputId": "0e34e44c-7c41-4db1-eb90-29dd455e7dcf"
      },
      "execution_count": 252,
      "outputs": [
        {
          "output_type": "stream",
          "name": "stdout",
          "text": [
            "\u001b[33mWARNING: bertopic 0.10.0 does not provide the extra 'visualization'\u001b[0m\n"
          ]
        }
      ]
    },
    {
      "cell_type": "code",
      "source": [
        "from bertopic import BERTopic"
      ],
      "metadata": {
        "id": "5c8oB8QkzVdA"
      },
      "execution_count": 253,
      "outputs": []
    },
    {
      "cell_type": "code",
      "source": [
        "corpus=list(corpus_bert.NewReview)\n",
        "print(corpus[0:5])"
      ],
      "metadata": {
        "colab": {
          "base_uri": "https://localhost:8080/"
        },
        "id": "uJ9R1NpFOjcL",
        "outputId": "764d581c-4eed-41f8-a2ec-37272e12a9a5"
      },
      "execution_count": 254,
      "outputs": [
        {
          "output_type": "stream",
          "name": "stdout",
          "text": [
            "['waste money', 'even call personally even give special instructions receive cold pizza base hard taste stale premade think chicken parcel really hot fresh proper quantity really disappoint pizza', 'extremely less toppings spend much dominos kind toppings provide really poor service', 'box not seal properly', 'order deliver lately pizza cold garlic bread also cold didnt enjoy']\n"
          ]
        }
      ]
    },
    {
      "cell_type": "code",
      "source": [
        "corpus=list(corpus_bert.NewReview)\n",
        "print(corpus[0:5])"
      ],
      "metadata": {
        "id": "2IUIYtCuzW09",
        "colab": {
          "base_uri": "https://localhost:8080/"
        },
        "outputId": "97e20e18-5051-4631-b8f2-3bb7eac9ff86"
      },
      "execution_count": 255,
      "outputs": [
        {
          "output_type": "stream",
          "name": "stdout",
          "text": [
            "['waste money', 'even call personally even give special instructions receive cold pizza base hard taste stale premade think chicken parcel really hot fresh proper quantity really disappoint pizza', 'extremely less toppings spend much dominos kind toppings provide really poor service', 'box not seal properly', 'order deliver lately pizza cold garlic bread also cold didnt enjoy']\n"
          ]
        }
      ]
    },
    {
      "cell_type": "code",
      "source": [
        "bert_model=BERTopic(language=\"english\", nr_topics=25)"
      ],
      "metadata": {
        "id": "xlOtn7eKzcwJ"
      },
      "execution_count": 265,
      "outputs": []
    },
    {
      "cell_type": "code",
      "source": [
        "topics,probs=bert_model.fit_transform(corpus)"
      ],
      "metadata": {
        "id": "b1-ZVeaYzd-Q"
      },
      "execution_count": 266,
      "outputs": []
    },
    {
      "cell_type": "code",
      "source": [
        "#Getting most frequent topics\n",
        "bert_model.get_topic_freq()"
      ],
      "metadata": {
        "id": "lKJaLVBOzfYx",
        "colab": {
          "base_uri": "https://localhost:8080/",
          "height": 864
        },
        "outputId": "47c105eb-7e8e-45e4-9874-4c7544693f46"
      },
      "execution_count": 267,
      "outputs": [
        {
          "output_type": "execute_result",
          "data": {
            "text/plain": [
              "    Topic  Count\n",
              "0      -1    405\n",
              "1       0    131\n",
              "2       1     56\n",
              "3       2     53\n",
              "4       3     53\n",
              "5       4     42\n",
              "6       5     35\n",
              "7       6     35\n",
              "8       7     31\n",
              "9       8     30\n",
              "10      9     30\n",
              "11     10     29\n",
              "12     11     29\n",
              "13     12     25\n",
              "14     13     24\n",
              "15     14     24\n",
              "16     15     22\n",
              "17     16     19\n",
              "18     17     19\n",
              "19     18     19\n",
              "20     19     18\n",
              "21     20     17\n",
              "22     21     16\n",
              "23     22     15\n",
              "24     23     13\n",
              "25     24     13"
            ],
            "text/html": [
              "\n",
              "  <div id=\"df-545e8885-16ff-46c2-96d4-477da4fcc64c\">\n",
              "    <div class=\"colab-df-container\">\n",
              "      <div>\n",
              "<style scoped>\n",
              "    .dataframe tbody tr th:only-of-type {\n",
              "        vertical-align: middle;\n",
              "    }\n",
              "\n",
              "    .dataframe tbody tr th {\n",
              "        vertical-align: top;\n",
              "    }\n",
              "\n",
              "    .dataframe thead th {\n",
              "        text-align: right;\n",
              "    }\n",
              "</style>\n",
              "<table border=\"1\" class=\"dataframe\">\n",
              "  <thead>\n",
              "    <tr style=\"text-align: right;\">\n",
              "      <th></th>\n",
              "      <th>Topic</th>\n",
              "      <th>Count</th>\n",
              "    </tr>\n",
              "  </thead>\n",
              "  <tbody>\n",
              "    <tr>\n",
              "      <th>0</th>\n",
              "      <td>-1</td>\n",
              "      <td>405</td>\n",
              "    </tr>\n",
              "    <tr>\n",
              "      <th>1</th>\n",
              "      <td>0</td>\n",
              "      <td>131</td>\n",
              "    </tr>\n",
              "    <tr>\n",
              "      <th>2</th>\n",
              "      <td>1</td>\n",
              "      <td>56</td>\n",
              "    </tr>\n",
              "    <tr>\n",
              "      <th>3</th>\n",
              "      <td>2</td>\n",
              "      <td>53</td>\n",
              "    </tr>\n",
              "    <tr>\n",
              "      <th>4</th>\n",
              "      <td>3</td>\n",
              "      <td>53</td>\n",
              "    </tr>\n",
              "    <tr>\n",
              "      <th>5</th>\n",
              "      <td>4</td>\n",
              "      <td>42</td>\n",
              "    </tr>\n",
              "    <tr>\n",
              "      <th>6</th>\n",
              "      <td>5</td>\n",
              "      <td>35</td>\n",
              "    </tr>\n",
              "    <tr>\n",
              "      <th>7</th>\n",
              "      <td>6</td>\n",
              "      <td>35</td>\n",
              "    </tr>\n",
              "    <tr>\n",
              "      <th>8</th>\n",
              "      <td>7</td>\n",
              "      <td>31</td>\n",
              "    </tr>\n",
              "    <tr>\n",
              "      <th>9</th>\n",
              "      <td>8</td>\n",
              "      <td>30</td>\n",
              "    </tr>\n",
              "    <tr>\n",
              "      <th>10</th>\n",
              "      <td>9</td>\n",
              "      <td>30</td>\n",
              "    </tr>\n",
              "    <tr>\n",
              "      <th>11</th>\n",
              "      <td>10</td>\n",
              "      <td>29</td>\n",
              "    </tr>\n",
              "    <tr>\n",
              "      <th>12</th>\n",
              "      <td>11</td>\n",
              "      <td>29</td>\n",
              "    </tr>\n",
              "    <tr>\n",
              "      <th>13</th>\n",
              "      <td>12</td>\n",
              "      <td>25</td>\n",
              "    </tr>\n",
              "    <tr>\n",
              "      <th>14</th>\n",
              "      <td>13</td>\n",
              "      <td>24</td>\n",
              "    </tr>\n",
              "    <tr>\n",
              "      <th>15</th>\n",
              "      <td>14</td>\n",
              "      <td>24</td>\n",
              "    </tr>\n",
              "    <tr>\n",
              "      <th>16</th>\n",
              "      <td>15</td>\n",
              "      <td>22</td>\n",
              "    </tr>\n",
              "    <tr>\n",
              "      <th>17</th>\n",
              "      <td>16</td>\n",
              "      <td>19</td>\n",
              "    </tr>\n",
              "    <tr>\n",
              "      <th>18</th>\n",
              "      <td>17</td>\n",
              "      <td>19</td>\n",
              "    </tr>\n",
              "    <tr>\n",
              "      <th>19</th>\n",
              "      <td>18</td>\n",
              "      <td>19</td>\n",
              "    </tr>\n",
              "    <tr>\n",
              "      <th>20</th>\n",
              "      <td>19</td>\n",
              "      <td>18</td>\n",
              "    </tr>\n",
              "    <tr>\n",
              "      <th>21</th>\n",
              "      <td>20</td>\n",
              "      <td>17</td>\n",
              "    </tr>\n",
              "    <tr>\n",
              "      <th>22</th>\n",
              "      <td>21</td>\n",
              "      <td>16</td>\n",
              "    </tr>\n",
              "    <tr>\n",
              "      <th>23</th>\n",
              "      <td>22</td>\n",
              "      <td>15</td>\n",
              "    </tr>\n",
              "    <tr>\n",
              "      <th>24</th>\n",
              "      <td>23</td>\n",
              "      <td>13</td>\n",
              "    </tr>\n",
              "    <tr>\n",
              "      <th>25</th>\n",
              "      <td>24</td>\n",
              "      <td>13</td>\n",
              "    </tr>\n",
              "  </tbody>\n",
              "</table>\n",
              "</div>\n",
              "      <button class=\"colab-df-convert\" onclick=\"convertToInteractive('df-545e8885-16ff-46c2-96d4-477da4fcc64c')\"\n",
              "              title=\"Convert this dataframe to an interactive table.\"\n",
              "              style=\"display:none;\">\n",
              "        \n",
              "  <svg xmlns=\"http://www.w3.org/2000/svg\" height=\"24px\"viewBox=\"0 0 24 24\"\n",
              "       width=\"24px\">\n",
              "    <path d=\"M0 0h24v24H0V0z\" fill=\"none\"/>\n",
              "    <path d=\"M18.56 5.44l.94 2.06.94-2.06 2.06-.94-2.06-.94-.94-2.06-.94 2.06-2.06.94zm-11 1L8.5 8.5l.94-2.06 2.06-.94-2.06-.94L8.5 2.5l-.94 2.06-2.06.94zm10 10l.94 2.06.94-2.06 2.06-.94-2.06-.94-.94-2.06-.94 2.06-2.06.94z\"/><path d=\"M17.41 7.96l-1.37-1.37c-.4-.4-.92-.59-1.43-.59-.52 0-1.04.2-1.43.59L10.3 9.45l-7.72 7.72c-.78.78-.78 2.05 0 2.83L4 21.41c.39.39.9.59 1.41.59.51 0 1.02-.2 1.41-.59l7.78-7.78 2.81-2.81c.8-.78.8-2.07 0-2.86zM5.41 20L4 18.59l7.72-7.72 1.47 1.35L5.41 20z\"/>\n",
              "  </svg>\n",
              "      </button>\n",
              "      \n",
              "  <style>\n",
              "    .colab-df-container {\n",
              "      display:flex;\n",
              "      flex-wrap:wrap;\n",
              "      gap: 12px;\n",
              "    }\n",
              "\n",
              "    .colab-df-convert {\n",
              "      background-color: #E8F0FE;\n",
              "      border: none;\n",
              "      border-radius: 50%;\n",
              "      cursor: pointer;\n",
              "      display: none;\n",
              "      fill: #1967D2;\n",
              "      height: 32px;\n",
              "      padding: 0 0 0 0;\n",
              "      width: 32px;\n",
              "    }\n",
              "\n",
              "    .colab-df-convert:hover {\n",
              "      background-color: #E2EBFA;\n",
              "      box-shadow: 0px 1px 2px rgba(60, 64, 67, 0.3), 0px 1px 3px 1px rgba(60, 64, 67, 0.15);\n",
              "      fill: #174EA6;\n",
              "    }\n",
              "\n",
              "    [theme=dark] .colab-df-convert {\n",
              "      background-color: #3B4455;\n",
              "      fill: #D2E3FC;\n",
              "    }\n",
              "\n",
              "    [theme=dark] .colab-df-convert:hover {\n",
              "      background-color: #434B5C;\n",
              "      box-shadow: 0px 1px 3px 1px rgba(0, 0, 0, 0.15);\n",
              "      filter: drop-shadow(0px 1px 2px rgba(0, 0, 0, 0.3));\n",
              "      fill: #FFFFFF;\n",
              "    }\n",
              "  </style>\n",
              "\n",
              "      <script>\n",
              "        const buttonEl =\n",
              "          document.querySelector('#df-545e8885-16ff-46c2-96d4-477da4fcc64c button.colab-df-convert');\n",
              "        buttonEl.style.display =\n",
              "          google.colab.kernel.accessAllowed ? 'block' : 'none';\n",
              "\n",
              "        async function convertToInteractive(key) {\n",
              "          const element = document.querySelector('#df-545e8885-16ff-46c2-96d4-477da4fcc64c');\n",
              "          const dataTable =\n",
              "            await google.colab.kernel.invokeFunction('convertToInteractive',\n",
              "                                                     [key], {});\n",
              "          if (!dataTable) return;\n",
              "\n",
              "          const docLinkHtml = 'Like what you see? Visit the ' +\n",
              "            '<a target=\"_blank\" href=https://colab.research.google.com/notebooks/data_table.ipynb>data table notebook</a>'\n",
              "            + ' to learn more about interactive tables.';\n",
              "          element.innerHTML = '';\n",
              "          dataTable['output_type'] = 'display_data';\n",
              "          await google.colab.output.renderOutput(dataTable, element);\n",
              "          const docLink = document.createElement('div');\n",
              "          docLink.innerHTML = docLinkHtml;\n",
              "          element.appendChild(docLink);\n",
              "        }\n",
              "      </script>\n",
              "    </div>\n",
              "  </div>\n",
              "  "
            ]
          },
          "metadata": {},
          "execution_count": 267
        }
      ]
    },
    {
      "cell_type": "code",
      "source": [
        "bert_model.get_topics()"
      ],
      "metadata": {
        "id": "7Iby7xP9zgsj",
        "colab": {
          "base_uri": "https://localhost:8080/"
        },
        "outputId": "4d69b54b-7b79-4b0d-90d8-ca92909ca060"
      },
      "execution_count": 268,
      "outputs": [
        {
          "output_type": "execute_result",
          "data": {
            "text/plain": [
              "{-1: [('pizza', 0.03208710770350296),\n",
              "  ('cheese', 0.02924134038338432),\n",
              "  ('not', 0.023583148112588458),\n",
              "  ('order', 0.022830182522908242),\n",
              "  ('dominos', 0.01837081089357451),\n",
              "  ('good', 0.017501374140746664),\n",
              "  ('bread', 0.017001783193554193),\n",
              "  ('time', 0.016809390916211447),\n",
              "  ('get', 0.016245575797673707),\n",
              "  ('burst', 0.01623981584105843)],\n",
              " 0: [('order', 0.032954165664097826),\n",
              "  ('call', 0.031154196958297197),\n",
              "  ('dominos', 0.029750148704365025),\n",
              "  ('service', 0.024919606339375445),\n",
              "  ('delivery', 0.02455944333651778),\n",
              "  ('deliver', 0.02288000396890132),\n",
              "  ('get', 0.01965690955349471),\n",
              "  ('not', 0.018425548752984525),\n",
              "  ('time', 0.018315139489420273),\n",
              "  ('say', 0.018247590287756514)],\n",
              " 1: [('food', 0.16777213554143294),\n",
              "  ('good', 0.06474231301607403),\n",
              "  ('quality', 0.06459342059667264),\n",
              "  ('not', 0.055960149791689055),\n",
              "  ('taste', 0.054248127944603264),\n",
              "  ('late', 0.04878914363995011),\n",
              "  ('deliver', 0.04495563608496296),\n",
              "  ('bad', 0.03617288281203853),\n",
              "  ('come', 0.03522820822566657),\n",
              "  ('hand', 0.03315396484088469)],\n",
              " 2: [('receive', 0.15717927865219974),\n",
              "  ('order', 0.1273352621881416),\n",
              "  ('late', 0.07629113506029216),\n",
              "  ('time', 0.07257836408854303),\n",
              "  ('yet', 0.07009531741750859),\n",
              "  ('min', 0.0527692757043096),\n",
              "  ('not', 0.04919690214720448),\n",
              "  ('accept', 0.043789385064243826),\n",
              "  ('havent', 0.039996042669543534),\n",
              "  ('deliver', 0.039654556933534806)],\n",
              " 3: [('cold', 0.11743186369567726),\n",
              "  ('late', 0.07486013749870926),\n",
              "  ('pizza', 0.07251214775474035),\n",
              "  ('deliver', 0.062855833295325),\n",
              "  ('delivery', 0.05977619055094045),\n",
              "  ('hour', 0.04571176707616773),\n",
              "  ('time', 0.0454116543904586),\n",
              "  ('get', 0.03550089691488027),\n",
              "  ('order', 0.028833883098874098),\n",
              "  ('take', 0.02860053944482521)],\n",
              " 4: [('zomato', 0.14218203389171102),\n",
              "  ('order', 0.042730275738362876),\n",
              "  ('dominos', 0.03531183418606284),\n",
              "  ('call', 0.027220184842389767),\n",
              "  ('pick', 0.027209041111069174),\n",
              "  ('deliver', 0.02567834880614407),\n",
              "  ('say', 0.025509386422680025),\n",
              "  ('receive', 0.02487144416573802),\n",
              "  ('never', 0.024454668162823573),\n",
              "  ('app', 0.023889628589232517)],\n",
              " 5: [('outlet', 0.056110375926750014),\n",
              "  ('table', 0.05042173214639861),\n",
              "  ('good', 0.044099121238845136),\n",
              "  ('clean', 0.04156554752742108),\n",
              "  ('place', 0.03949781950060342),\n",
              "  ('seat', 0.035771357538313106),\n",
              "  ('staff', 0.03520569084372439),\n",
              "  ('ambience', 0.0323141186841962),\n",
              "  ('work', 0.03211666400343004),\n",
              "  ('need', 0.030818097766954808)],\n",
              " 6: [('dominos', 0.09165565229948353),\n",
              "  ('taste', 0.06222860483567862),\n",
              "  ('disappoint', 0.04255652195108922),\n",
              "  ('pizza', 0.0366983896852527),\n",
              "  ('pizzas', 0.03266642273360338),\n",
              "  ('not', 0.03184450642861685),\n",
              "  ('serve', 0.030645912256491978),\n",
              "  ('like', 0.028332565630229796),\n",
              "  ('brand', 0.02754975557116139),\n",
              "  ('guess', 0.027544531215314944)],\n",
              " 7: [('less', 0.16528395830893503),\n",
              "  ('cheese', 0.15606767938530014),\n",
              "  ('top', 0.08404310992311594),\n",
              "  ('happy', 0.06156590804392164),\n",
              "  ('pizza', 0.056107760229897455),\n",
              "  ('always', 0.04426357666615468),\n",
              "  ('cheesy', 0.039888148940338465),\n",
              "  ('present', 0.039464853594002564),\n",
              "  ('bubble', 0.039464853594002564),\n",
              "  ('not', 0.03896861340039438)],\n",
              " 8: [('late', 0.7280354031467879),\n",
              "  ('delivery', 0.4517077650499638),\n",
              "  ('claim', 0.05790333105685242),\n",
              "  ('arrive', 0.0567805228308019),\n",
              "  ('deliver', 0.056762665782002675),\n",
              "  ('extremely', 0.0514825731942276),\n",
              "  ('around', 0.0514825731942276),\n",
              "  ('hours', 0.0451808306409996),\n",
              "  ('hot', 0.04061385027145115),\n",
              "  ('expect', 0.039105748758781964)],\n",
              " 9: [('sauce', 0.16525488198573934),\n",
              "  ('taste', 0.1041082541299079),\n",
              "  ('pizza', 0.07731384283647287),\n",
              "  ('bad', 0.054544150066971483),\n",
              "  ('burger', 0.04454318649596469),\n",
              "  ('salt', 0.04272769582027836),\n",
              "  ('good', 0.04271017253840907),\n",
              "  ('pizzas', 0.04147606823459484),\n",
              "  ('quality', 0.040582808544169326),\n",
              "  ('not', 0.03937773270118592)],\n",
              " 10: [('delay', 0.2679581162420184),\n",
              "  ('delivery', 0.15096864296099585),\n",
              "  ('mins', 0.13687537877246872),\n",
              "  ('hour', 0.1183633843414249),\n",
              "  ('deliver', 0.10047644287848749),\n",
              "  ('time', 0.09678871494058335),\n",
              "  ('take', 0.0905135846031633),\n",
              "  ('half', 0.08394816264270716),\n",
              "  ('minutes', 0.05928991335115434),\n",
              "  ('long', 0.048366315825103194)],\n",
              " 11: [('oregano', 0.20180163473258556),\n",
              "  ('flake', 0.13149592114949932),\n",
              "  ('chilli', 0.11785384760390659),\n",
              "  ('tacos', 0.061481500064855636),\n",
              "  ('taco', 0.060968322962103826),\n",
              "  ('season', 0.05991283999069679),\n",
              "  ('fry', 0.04441555658469534),\n",
              "  ('no', 0.03842457083046696),\n",
              "  ('give', 0.036796926452788745),\n",
              "  ('invalid', 0.03644009453493479)],\n",
              " 12: [('burst', 0.2414127441298312),\n",
              "  ('cheese', 0.22078462807247223),\n",
              "  ('no', 0.0525963707185099),\n",
              "  ('less', 0.043206357922963054),\n",
              "  ('kitchen', 0.04126553132452739),\n",
              "  ('shame', 0.03908897717453155),\n",
              "  ('regular', 0.038993602906045574),\n",
              "  ('order', 0.03731790953861301),\n",
              "  ('also', 0.037163480921531544),\n",
              "  ('cheez', 0.036027827901400536)],\n",
              " 13: [('deliver', 0.22074370026334372),\n",
              "  ('wrong', 0.13907927213707671),\n",
              "  ('order', 0.09269354085952154),\n",
              "  ('deny', 0.07896098948390283),\n",
              "  ('not', 0.07739599605911661),\n",
              "  ('delivery', 0.07094128361361611),\n",
              "  ('parcel', 0.06186893860463672),\n",
              "  ('show', 0.05923197447799699),\n",
              "  ('placement', 0.0543507733180846),\n",
              "  ('vanish', 0.0543507733180846)],\n",
              " 14: [('cold', 0.256882201834294),\n",
              "  ('hot', 0.19274369620349702),\n",
              "  ('pizza', 0.1307596107052695),\n",
              "  ('not', 0.060544455848070354),\n",
              "  ('soften', 0.05527197286584874),\n",
              "  ('acs', 0.04941029767448785),\n",
              "  ('sleep', 0.04941029767448785),\n",
              "  ('daughter', 0.04941029767448785),\n",
              "  ('display', 0.04941029767448785),\n",
              "  ('expectations', 0.04941029767448785)],\n",
              " 15: [('staff', 0.11984225019681086),\n",
              "  ('officials', 0.056902588543736886),\n",
              "  ('rude', 0.05175731213756431),\n",
              "  ('water', 0.05109174071846899),\n",
              "  ('attitude', 0.04929401568866251),\n",
              "  ('customer', 0.048440749085040403),\n",
              "  ('table', 0.04577028084138029),\n",
              "  ('interact', 0.04302889391579016),\n",
              "  ('careless', 0.04302889391579016),\n",
              "  ('talk', 0.04174896446485252)],\n",
              " 16: [('refund', 0.216082314939648),\n",
              "  ('money', 0.10644875605672445),\n",
              "  ('receive', 0.09374621262470485),\n",
              "  ('back', 0.08072065389303423),\n",
              "  ('fraud', 0.05426417369175352),\n",
              "  ('not', 0.053581843425542265),\n",
              "  ('deliver', 0.052978488063202496),\n",
              "  ('query', 0.051402004984508996),\n",
              "  ('available', 0.05006853796934762),\n",
              "  ('havent', 0.044528927505425135)],\n",
              " 17: [('bad', 0.37109502099135955),\n",
              "  ('good', 0.33209338239048686),\n",
              "  ('rubbish', 0.2082291116281988),\n",
              "  ('excellent', 0.2082291116281988),\n",
              "  ('exact', 0.2082291116281988),\n",
              "  ('hate', 0.18357858923038925),\n",
              "  ('not', 0.15309098121583503),\n",
              "  ('average', 0.14781415445689053),\n",
              "  ('nothing', 0.14195130707700473),\n",
              "  ('thing', 0.139356166770523)],\n",
              " 18: [('service', 0.38721959188972804),\n",
              "  ('worst', 0.20975666225390427),\n",
              "  ('ever', 0.11265981927748021),\n",
              "  ('bad', 0.10039285592036781),\n",
              "  ('dead', 0.09452308403145147),\n",
              "  ('shittiest', 0.09452308403145147),\n",
              "  ('shit', 0.09452308403145147),\n",
              "  ('hospitality', 0.09452308403145147),\n",
              "  ('mark', 0.09261299315093467),\n",
              "  ('horrible', 0.0874068087202948)],\n",
              " 19: [('properly', 0.13042958654884065),\n",
              "  ('bake', 0.12738059027526233),\n",
              "  ('cook', 0.062033430711044335),\n",
              "  ('not', 0.06145587776406282),\n",
              "  ('taste', 0.047389778761642666),\n",
              "  ('pizza', 0.04524819373378827),\n",
              "  ('corn', 0.04195669537177038),\n",
              "  ('vegetables', 0.03889904924140038),\n",
              "  ('eat', 0.038417931563878314),\n",
              "  ('totally', 0.03589142506763271)],\n",
              " 20: [('late', 0.920155856754968),\n",
              "  ('time', 0.15948140529982482),\n",
              "  ('little', 0.15235056886934828),\n",
              "  ('bite', 0.14422772640317807),\n",
              "  ('hours', 0.13177742270291548),\n",
              "  ('wait', 0.10275893819899365),\n",
              "  ('not', 0.08930307237590378),\n",
              "  ('get', 0.06233788446362905),\n",
              "  ('', 1e-05),\n",
              "  ('', 1e-05)],\n",
              " 21: [('seat', 0.2901017787173085),\n",
              "  ('space', 0.22930595758593075),\n",
              "  ('park', 0.1822176680397758),\n",
              "  ('chair', 0.11212336779979937),\n",
              "  ('place', 0.10510597641146152),\n",
              "  ('congest', 0.10435418017644908),\n",
              "  ('available', 0.09628564994105313),\n",
              "  ('location', 0.08563255289504834),\n",
              "  ('sit', 0.07959223701524876),\n",
              "  ('enough', 0.07503793595335856)],\n",
              " 22: [('delivery', 0.05726957600782622),\n",
              "  ('pizza', 0.05439810548605016),\n",
              "  ('box', 0.0506428483776227),\n",
              "  ('home', 0.04485009556929739),\n",
              "  ('stick', 0.03700464889647519),\n",
              "  ('didnt', 0.03565564486164065),\n",
              "  ('order', 0.03443722880229902),\n",
              "  ('good', 0.034343913968360604),\n",
              "  ('experience', 0.031747978742236296),\n",
              "  ('hot', 0.031501047301956575)],\n",
              " 23: [('experience', 0.46463595916002576),\n",
              "  ('worst', 0.2933758722064742),\n",
              "  ('occur', 0.17627277832892305),\n",
              "  ('dislike', 0.17627277832892305),\n",
              "  ('unexpected', 0.1575787871780964),\n",
              "  ('bad', 0.14041433226700092),\n",
              "  ('ever', 0.14006355910173215),\n",
              "  ('bullshit', 0.13892433779597027),\n",
              "  ('interest', 0.13293297311320137),\n",
              "  ('things', 0.12804484781173434)],\n",
              " 24: [('ac', 0.24526685351612054),\n",
              "  ('work', 0.15237063022198735),\n",
              "  ('air', 0.10828935700649532),\n",
              "  ('summer', 0.09302429775729176),\n",
              "  ('doesnt', 0.07813575287078084),\n",
              "  ('inside', 0.06948399726822291),\n",
              "  ('hot', 0.06498216043432185),\n",
              "  ('fully', 0.06201619850486117),\n",
              "  ('switch', 0.06201619850486117),\n",
              "  ('employees', 0.05621165720215372)]}"
            ]
          },
          "metadata": {},
          "execution_count": 268
        }
      ]
    },
    {
      "cell_type": "markdown",
      "source": [
        "Visualization of BERTopic!"
      ],
      "metadata": {
        "id": "AxQX9li9O9mL"
      }
    },
    {
      "cell_type": "code",
      "source": [
        "import warnings\n",
        "warnings.filterwarnings(\"ignore\")"
      ],
      "metadata": {
        "id": "Bao_QeCAPLxI"
      },
      "execution_count": 269,
      "outputs": []
    },
    {
      "cell_type": "code",
      "source": [
        "topic_list=[i for i in range(len(bert_model.get_topics())-1)]\n",
        "print(topic_list)"
      ],
      "metadata": {
        "id": "AOCHaY7yTYl4",
        "colab": {
          "base_uri": "https://localhost:8080/"
        },
        "outputId": "b5950fc9-bdb5-4a87-edf9-2a244ac955dd"
      },
      "execution_count": 270,
      "outputs": [
        {
          "output_type": "stream",
          "name": "stdout",
          "text": [
            "[0, 1, 2, 3, 4, 5, 6, 7, 8, 9, 10, 11, 12, 13, 14, 15, 16, 17, 18, 19, 20, 21, 22, 23, 24]\n"
          ]
        }
      ]
    },
    {
      "cell_type": "code",
      "source": [
        "bert_model.visualize_barchart(topic_list, n_words=10, height=300)"
      ],
      "metadata": {
        "id": "8KkoO-uYO_ww",
        "colab": {
          "base_uri": "https://localhost:8080/",
          "height": 1000
        },
        "outputId": "7b6b5d9f-d6fa-42eb-f49d-f16baf788d03"
      },
      "execution_count": 271,
      "outputs": [
        {
          "output_type": "display_data",
          "data": {
            "text/html": [
              "<html>\n",
              "<head><meta charset=\"utf-8\" /></head>\n",
              "<body>\n",
              "    <div>            <script src=\"https://cdnjs.cloudflare.com/ajax/libs/mathjax/2.7.5/MathJax.js?config=TeX-AMS-MML_SVG\"></script><script type=\"text/javascript\">if (window.MathJax) {MathJax.Hub.Config({SVG: {font: \"STIX-Web\"}});}</script>                <script type=\"text/javascript\">window.PlotlyConfig = {MathJaxConfig: 'local'};</script>\n",
              "        <script src=\"https://cdn.plot.ly/plotly-2.8.3.min.js\"></script>                <div id=\"0fd59d4a-a525-418d-aec7-9b3e86ed2454\" class=\"plotly-graph-div\" style=\"height:2100px; width:1000px;\"></div>            <script type=\"text/javascript\">                                    window.PLOTLYENV=window.PLOTLYENV || {};                                    if (document.getElementById(\"0fd59d4a-a525-418d-aec7-9b3e86ed2454\")) {                    Plotly.newPlot(                        \"0fd59d4a-a525-418d-aec7-9b3e86ed2454\",                        [{\"marker\":{\"color\":\"#D55E00\"},\"orientation\":\"h\",\"x\":[0.018247590287756514,0.018315139489420273,0.018425548752984525,0.01965690955349471,0.02288000396890132,0.02455944333651778,0.024919606339375445,0.029750148704365025,0.031154196958297197,0.032954165664097826],\"y\":[\"say  \",\"time  \",\"not  \",\"get  \",\"deliver  \",\"delivery  \",\"service  \",\"dominos  \",\"call  \",\"order  \"],\"type\":\"bar\",\"xaxis\":\"x\",\"yaxis\":\"y\"},{\"marker\":{\"color\":\"#0072B2\"},\"orientation\":\"h\",\"x\":[0.03315396484088469,0.03522820822566657,0.03617288281203853,0.04495563608496296,0.04878914363995011,0.054248127944603264,0.055960149791689055,0.06459342059667264,0.06474231301607403,0.16777213554143294],\"y\":[\"hand  \",\"come  \",\"bad  \",\"deliver  \",\"late  \",\"taste  \",\"not  \",\"quality  \",\"good  \",\"food  \"],\"type\":\"bar\",\"xaxis\":\"x2\",\"yaxis\":\"y2\"},{\"marker\":{\"color\":\"#CC79A7\"},\"orientation\":\"h\",\"x\":[0.039654556933534806,0.039996042669543534,0.043789385064243826,0.04919690214720448,0.0527692757043096,0.07009531741750859,0.07257836408854303,0.07629113506029216,0.1273352621881416,0.15717927865219974],\"y\":[\"deliver  \",\"havent  \",\"accept  \",\"not  \",\"min  \",\"yet  \",\"time  \",\"late  \",\"order  \",\"receive  \"],\"type\":\"bar\",\"xaxis\":\"x3\",\"yaxis\":\"y3\"},{\"marker\":{\"color\":\"#E69F00\"},\"orientation\":\"h\",\"x\":[0.02860053944482521,0.028833883098874098,0.03550089691488027,0.0454116543904586,0.04571176707616773,0.05977619055094045,0.062855833295325,0.07251214775474035,0.07486013749870926,0.11743186369567726],\"y\":[\"take  \",\"order  \",\"get  \",\"time  \",\"hour  \",\"delivery  \",\"deliver  \",\"pizza  \",\"late  \",\"cold  \"],\"type\":\"bar\",\"xaxis\":\"x4\",\"yaxis\":\"y4\"},{\"marker\":{\"color\":\"#56B4E9\"},\"orientation\":\"h\",\"x\":[0.023889628589232517,0.024454668162823573,0.02487144416573802,0.025509386422680025,0.02567834880614407,0.027209041111069174,0.027220184842389767,0.03531183418606284,0.042730275738362876,0.14218203389171102],\"y\":[\"app  \",\"never  \",\"receive  \",\"say  \",\"deliver  \",\"pick  \",\"call  \",\"dominos  \",\"order  \",\"zomato  \"],\"type\":\"bar\",\"xaxis\":\"x5\",\"yaxis\":\"y5\"},{\"marker\":{\"color\":\"#009E73\"},\"orientation\":\"h\",\"x\":[0.030818097766954808,0.03211666400343004,0.0323141186841962,0.03520569084372439,0.035771357538313106,0.03949781950060342,0.04156554752742108,0.044099121238845136,0.05042173214639861,0.056110375926750014],\"y\":[\"need  \",\"work  \",\"ambience  \",\"staff  \",\"seat  \",\"place  \",\"clean  \",\"good  \",\"table  \",\"outlet  \"],\"type\":\"bar\",\"xaxis\":\"x6\",\"yaxis\":\"y6\"},{\"marker\":{\"color\":\"#F0E442\"},\"orientation\":\"h\",\"x\":[0.027544531215314944,0.02754975557116139,0.028332565630229796,0.030645912256491978,0.03184450642861685,0.03266642273360338,0.0366983896852527,0.04255652195108922,0.06222860483567862,0.09165565229948353],\"y\":[\"guess  \",\"brand  \",\"like  \",\"serve  \",\"not  \",\"pizzas  \",\"pizza  \",\"disappoint  \",\"taste  \",\"dominos  \"],\"type\":\"bar\",\"xaxis\":\"x7\",\"yaxis\":\"y7\"},{\"marker\":{\"color\":\"#D55E00\"},\"orientation\":\"h\",\"x\":[0.03896861340039438,0.039464853594002564,0.039464853594002564,0.039888148940338465,0.04426357666615468,0.056107760229897455,0.06156590804392164,0.08404310992311594,0.15606767938530014,0.16528395830893503],\"y\":[\"not  \",\"bubble  \",\"present  \",\"cheesy  \",\"always  \",\"pizza  \",\"happy  \",\"top  \",\"cheese  \",\"less  \"],\"type\":\"bar\",\"xaxis\":\"x8\",\"yaxis\":\"y8\"},{\"marker\":{\"color\":\"#0072B2\"},\"orientation\":\"h\",\"x\":[0.039105748758781964,0.04061385027145115,0.0451808306409996,0.0514825731942276,0.0514825731942276,0.056762665782002675,0.0567805228308019,0.05790333105685242,0.4517077650499638,0.7280354031467879],\"y\":[\"expect  \",\"hot  \",\"hours  \",\"around  \",\"extremely  \",\"deliver  \",\"arrive  \",\"claim  \",\"delivery  \",\"late  \"],\"type\":\"bar\",\"xaxis\":\"x9\",\"yaxis\":\"y9\"},{\"marker\":{\"color\":\"#CC79A7\"},\"orientation\":\"h\",\"x\":[0.03937773270118592,0.040582808544169326,0.04147606823459484,0.04271017253840907,0.04272769582027836,0.04454318649596469,0.054544150066971483,0.07731384283647287,0.1041082541299079,0.16525488198573934],\"y\":[\"not  \",\"quality  \",\"pizzas  \",\"good  \",\"salt  \",\"burger  \",\"bad  \",\"pizza  \",\"taste  \",\"sauce  \"],\"type\":\"bar\",\"xaxis\":\"x10\",\"yaxis\":\"y10\"},{\"marker\":{\"color\":\"#E69F00\"},\"orientation\":\"h\",\"x\":[0.048366315825103194,0.05928991335115434,0.08394816264270716,0.0905135846031633,0.09678871494058335,0.10047644287848749,0.1183633843414249,0.13687537877246872,0.15096864296099585,0.2679581162420184],\"y\":[\"long  \",\"minutes  \",\"half  \",\"take  \",\"time  \",\"deliver  \",\"hour  \",\"mins  \",\"delivery  \",\"delay  \"],\"type\":\"bar\",\"xaxis\":\"x11\",\"yaxis\":\"y11\"},{\"marker\":{\"color\":\"#56B4E9\"},\"orientation\":\"h\",\"x\":[0.03644009453493479,0.036796926452788745,0.03842457083046696,0.04441555658469534,0.05991283999069679,0.060968322962103826,0.061481500064855636,0.11785384760390659,0.13149592114949932,0.20180163473258556],\"y\":[\"invalid  \",\"give  \",\"no  \",\"fry  \",\"season  \",\"taco  \",\"tacos  \",\"chilli  \",\"flake  \",\"oregano  \"],\"type\":\"bar\",\"xaxis\":\"x12\",\"yaxis\":\"y12\"},{\"marker\":{\"color\":\"#009E73\"},\"orientation\":\"h\",\"x\":[0.036027827901400536,0.037163480921531544,0.03731790953861301,0.038993602906045574,0.03908897717453155,0.04126553132452739,0.043206357922963054,0.0525963707185099,0.22078462807247223,0.2414127441298312],\"y\":[\"cheez  \",\"also  \",\"order  \",\"regular  \",\"shame  \",\"kitchen  \",\"less  \",\"no  \",\"cheese  \",\"burst  \"],\"type\":\"bar\",\"xaxis\":\"x13\",\"yaxis\":\"y13\"},{\"marker\":{\"color\":\"#F0E442\"},\"orientation\":\"h\",\"x\":[0.0543507733180846,0.0543507733180846,0.05923197447799699,0.06186893860463672,0.07094128361361611,0.07739599605911661,0.07896098948390283,0.09269354085952154,0.13907927213707671,0.22074370026334372],\"y\":[\"vanish  \",\"placement  \",\"show  \",\"parcel  \",\"delivery  \",\"not  \",\"deny  \",\"order  \",\"wrong  \",\"deliver  \"],\"type\":\"bar\",\"xaxis\":\"x14\",\"yaxis\":\"y14\"},{\"marker\":{\"color\":\"#D55E00\"},\"orientation\":\"h\",\"x\":[0.04941029767448785,0.04941029767448785,0.04941029767448785,0.04941029767448785,0.04941029767448785,0.05527197286584874,0.060544455848070354,0.1307596107052695,0.19274369620349702,0.256882201834294],\"y\":[\"expectations  \",\"display  \",\"daughter  \",\"sleep  \",\"acs  \",\"soften  \",\"not  \",\"pizza  \",\"hot  \",\"cold  \"],\"type\":\"bar\",\"xaxis\":\"x15\",\"yaxis\":\"y15\"},{\"marker\":{\"color\":\"#0072B2\"},\"orientation\":\"h\",\"x\":[0.04174896446485252,0.04302889391579016,0.04302889391579016,0.04577028084138029,0.048440749085040403,0.04929401568866251,0.05109174071846899,0.05175731213756431,0.056902588543736886,0.11984225019681086],\"y\":[\"talk  \",\"careless  \",\"interact  \",\"table  \",\"customer  \",\"attitude  \",\"water  \",\"rude  \",\"officials  \",\"staff  \"],\"type\":\"bar\",\"xaxis\":\"x16\",\"yaxis\":\"y16\"},{\"marker\":{\"color\":\"#CC79A7\"},\"orientation\":\"h\",\"x\":[0.044528927505425135,0.05006853796934762,0.051402004984508996,0.052978488063202496,0.053581843425542265,0.05426417369175352,0.08072065389303423,0.09374621262470485,0.10644875605672445,0.216082314939648],\"y\":[\"havent  \",\"available  \",\"query  \",\"deliver  \",\"not  \",\"fraud  \",\"back  \",\"receive  \",\"money  \",\"refund  \"],\"type\":\"bar\",\"xaxis\":\"x17\",\"yaxis\":\"y17\"},{\"marker\":{\"color\":\"#E69F00\"},\"orientation\":\"h\",\"x\":[0.139356166770523,0.14195130707700473,0.14781415445689053,0.15309098121583503,0.18357858923038925,0.2082291116281988,0.2082291116281988,0.2082291116281988,0.33209338239048686,0.37109502099135955],\"y\":[\"thing  \",\"nothing  \",\"average  \",\"not  \",\"hate  \",\"exact  \",\"excellent  \",\"rubbish  \",\"good  \",\"bad  \"],\"type\":\"bar\",\"xaxis\":\"x18\",\"yaxis\":\"y18\"},{\"marker\":{\"color\":\"#56B4E9\"},\"orientation\":\"h\",\"x\":[0.0874068087202948,0.09261299315093467,0.09452308403145147,0.09452308403145147,0.09452308403145147,0.09452308403145147,0.10039285592036781,0.11265981927748021,0.20975666225390427,0.38721959188972804],\"y\":[\"horrible  \",\"mark  \",\"hospitality  \",\"shit  \",\"shittiest  \",\"dead  \",\"bad  \",\"ever  \",\"worst  \",\"service  \"],\"type\":\"bar\",\"xaxis\":\"x19\",\"yaxis\":\"y19\"},{\"marker\":{\"color\":\"#009E73\"},\"orientation\":\"h\",\"x\":[0.03589142506763271,0.038417931563878314,0.03889904924140038,0.04195669537177038,0.04524819373378827,0.047389778761642666,0.06145587776406282,0.062033430711044335,0.12738059027526233,0.13042958654884065],\"y\":[\"totally  \",\"eat  \",\"vegetables  \",\"corn  \",\"pizza  \",\"taste  \",\"not  \",\"cook  \",\"bake  \",\"properly  \"],\"type\":\"bar\",\"xaxis\":\"x20\",\"yaxis\":\"y20\"},{\"marker\":{\"color\":\"#F0E442\"},\"orientation\":\"h\",\"x\":[1e-05,1e-05,0.06233788446362905,0.08930307237590378,0.10275893819899365,0.13177742270291548,0.14422772640317807,0.15235056886934828,0.15948140529982482,0.920155856754968],\"y\":[\"  \",\"  \",\"get  \",\"not  \",\"wait  \",\"hours  \",\"bite  \",\"little  \",\"time  \",\"late  \"],\"type\":\"bar\",\"xaxis\":\"x21\",\"yaxis\":\"y21\"},{\"marker\":{\"color\":\"#D55E00\"},\"orientation\":\"h\",\"x\":[0.07503793595335856,0.07959223701524876,0.08563255289504834,0.09628564994105313,0.10435418017644908,0.10510597641146152,0.11212336779979937,0.1822176680397758,0.22930595758593075,0.2901017787173085],\"y\":[\"enough  \",\"sit  \",\"location  \",\"available  \",\"congest  \",\"place  \",\"chair  \",\"park  \",\"space  \",\"seat  \"],\"type\":\"bar\",\"xaxis\":\"x22\",\"yaxis\":\"y22\"},{\"marker\":{\"color\":\"#0072B2\"},\"orientation\":\"h\",\"x\":[0.031501047301956575,0.031747978742236296,0.034343913968360604,0.03443722880229902,0.03565564486164065,0.03700464889647519,0.04485009556929739,0.0506428483776227,0.05439810548605016,0.05726957600782622],\"y\":[\"hot  \",\"experience  \",\"good  \",\"order  \",\"didnt  \",\"stick  \",\"home  \",\"box  \",\"pizza  \",\"delivery  \"],\"type\":\"bar\",\"xaxis\":\"x23\",\"yaxis\":\"y23\"},{\"marker\":{\"color\":\"#CC79A7\"},\"orientation\":\"h\",\"x\":[0.12804484781173434,0.13293297311320137,0.13892433779597027,0.14006355910173215,0.14041433226700092,0.1575787871780964,0.17627277832892305,0.17627277832892305,0.2933758722064742,0.46463595916002576],\"y\":[\"things  \",\"interest  \",\"bullshit  \",\"ever  \",\"bad  \",\"unexpected  \",\"dislike  \",\"occur  \",\"worst  \",\"experience  \"],\"type\":\"bar\",\"xaxis\":\"x24\",\"yaxis\":\"y24\"},{\"marker\":{\"color\":\"#E69F00\"},\"orientation\":\"h\",\"x\":[0.05621165720215372,0.06201619850486117,0.06201619850486117,0.06498216043432185,0.06948399726822291,0.07813575287078084,0.09302429775729176,0.10828935700649532,0.15237063022198735,0.24526685351612054],\"y\":[\"employees  \",\"switch  \",\"fully  \",\"hot  \",\"inside  \",\"doesnt  \",\"summer  \",\"air  \",\"work  \",\"ac  \"],\"type\":\"bar\",\"xaxis\":\"x25\",\"yaxis\":\"y25\"}],                        {\"template\":{\"data\":{\"barpolar\":[{\"marker\":{\"line\":{\"color\":\"white\",\"width\":0.5},\"pattern\":{\"fillmode\":\"overlay\",\"size\":10,\"solidity\":0.2}},\"type\":\"barpolar\"}],\"bar\":[{\"error_x\":{\"color\":\"#2a3f5f\"},\"error_y\":{\"color\":\"#2a3f5f\"},\"marker\":{\"line\":{\"color\":\"white\",\"width\":0.5},\"pattern\":{\"fillmode\":\"overlay\",\"size\":10,\"solidity\":0.2}},\"type\":\"bar\"}],\"carpet\":[{\"aaxis\":{\"endlinecolor\":\"#2a3f5f\",\"gridcolor\":\"#C8D4E3\",\"linecolor\":\"#C8D4E3\",\"minorgridcolor\":\"#C8D4E3\",\"startlinecolor\":\"#2a3f5f\"},\"baxis\":{\"endlinecolor\":\"#2a3f5f\",\"gridcolor\":\"#C8D4E3\",\"linecolor\":\"#C8D4E3\",\"minorgridcolor\":\"#C8D4E3\",\"startlinecolor\":\"#2a3f5f\"},\"type\":\"carpet\"}],\"choropleth\":[{\"colorbar\":{\"outlinewidth\":0,\"ticks\":\"\"},\"type\":\"choropleth\"}],\"contourcarpet\":[{\"colorbar\":{\"outlinewidth\":0,\"ticks\":\"\"},\"type\":\"contourcarpet\"}],\"contour\":[{\"colorbar\":{\"outlinewidth\":0,\"ticks\":\"\"},\"colorscale\":[[0.0,\"#0d0887\"],[0.1111111111111111,\"#46039f\"],[0.2222222222222222,\"#7201a8\"],[0.3333333333333333,\"#9c179e\"],[0.4444444444444444,\"#bd3786\"],[0.5555555555555556,\"#d8576b\"],[0.6666666666666666,\"#ed7953\"],[0.7777777777777778,\"#fb9f3a\"],[0.8888888888888888,\"#fdca26\"],[1.0,\"#f0f921\"]],\"type\":\"contour\"}],\"heatmapgl\":[{\"colorbar\":{\"outlinewidth\":0,\"ticks\":\"\"},\"colorscale\":[[0.0,\"#0d0887\"],[0.1111111111111111,\"#46039f\"],[0.2222222222222222,\"#7201a8\"],[0.3333333333333333,\"#9c179e\"],[0.4444444444444444,\"#bd3786\"],[0.5555555555555556,\"#d8576b\"],[0.6666666666666666,\"#ed7953\"],[0.7777777777777778,\"#fb9f3a\"],[0.8888888888888888,\"#fdca26\"],[1.0,\"#f0f921\"]],\"type\":\"heatmapgl\"}],\"heatmap\":[{\"colorbar\":{\"outlinewidth\":0,\"ticks\":\"\"},\"colorscale\":[[0.0,\"#0d0887\"],[0.1111111111111111,\"#46039f\"],[0.2222222222222222,\"#7201a8\"],[0.3333333333333333,\"#9c179e\"],[0.4444444444444444,\"#bd3786\"],[0.5555555555555556,\"#d8576b\"],[0.6666666666666666,\"#ed7953\"],[0.7777777777777778,\"#fb9f3a\"],[0.8888888888888888,\"#fdca26\"],[1.0,\"#f0f921\"]],\"type\":\"heatmap\"}],\"histogram2dcontour\":[{\"colorbar\":{\"outlinewidth\":0,\"ticks\":\"\"},\"colorscale\":[[0.0,\"#0d0887\"],[0.1111111111111111,\"#46039f\"],[0.2222222222222222,\"#7201a8\"],[0.3333333333333333,\"#9c179e\"],[0.4444444444444444,\"#bd3786\"],[0.5555555555555556,\"#d8576b\"],[0.6666666666666666,\"#ed7953\"],[0.7777777777777778,\"#fb9f3a\"],[0.8888888888888888,\"#fdca26\"],[1.0,\"#f0f921\"]],\"type\":\"histogram2dcontour\"}],\"histogram2d\":[{\"colorbar\":{\"outlinewidth\":0,\"ticks\":\"\"},\"colorscale\":[[0.0,\"#0d0887\"],[0.1111111111111111,\"#46039f\"],[0.2222222222222222,\"#7201a8\"],[0.3333333333333333,\"#9c179e\"],[0.4444444444444444,\"#bd3786\"],[0.5555555555555556,\"#d8576b\"],[0.6666666666666666,\"#ed7953\"],[0.7777777777777778,\"#fb9f3a\"],[0.8888888888888888,\"#fdca26\"],[1.0,\"#f0f921\"]],\"type\":\"histogram2d\"}],\"histogram\":[{\"marker\":{\"pattern\":{\"fillmode\":\"overlay\",\"size\":10,\"solidity\":0.2}},\"type\":\"histogram\"}],\"mesh3d\":[{\"colorbar\":{\"outlinewidth\":0,\"ticks\":\"\"},\"type\":\"mesh3d\"}],\"parcoords\":[{\"line\":{\"colorbar\":{\"outlinewidth\":0,\"ticks\":\"\"}},\"type\":\"parcoords\"}],\"pie\":[{\"automargin\":true,\"type\":\"pie\"}],\"scatter3d\":[{\"line\":{\"colorbar\":{\"outlinewidth\":0,\"ticks\":\"\"}},\"marker\":{\"colorbar\":{\"outlinewidth\":0,\"ticks\":\"\"}},\"type\":\"scatter3d\"}],\"scattercarpet\":[{\"marker\":{\"colorbar\":{\"outlinewidth\":0,\"ticks\":\"\"}},\"type\":\"scattercarpet\"}],\"scattergeo\":[{\"marker\":{\"colorbar\":{\"outlinewidth\":0,\"ticks\":\"\"}},\"type\":\"scattergeo\"}],\"scattergl\":[{\"marker\":{\"colorbar\":{\"outlinewidth\":0,\"ticks\":\"\"}},\"type\":\"scattergl\"}],\"scattermapbox\":[{\"marker\":{\"colorbar\":{\"outlinewidth\":0,\"ticks\":\"\"}},\"type\":\"scattermapbox\"}],\"scatterpolargl\":[{\"marker\":{\"colorbar\":{\"outlinewidth\":0,\"ticks\":\"\"}},\"type\":\"scatterpolargl\"}],\"scatterpolar\":[{\"marker\":{\"colorbar\":{\"outlinewidth\":0,\"ticks\":\"\"}},\"type\":\"scatterpolar\"}],\"scatter\":[{\"marker\":{\"colorbar\":{\"outlinewidth\":0,\"ticks\":\"\"}},\"type\":\"scatter\"}],\"scatterternary\":[{\"marker\":{\"colorbar\":{\"outlinewidth\":0,\"ticks\":\"\"}},\"type\":\"scatterternary\"}],\"surface\":[{\"colorbar\":{\"outlinewidth\":0,\"ticks\":\"\"},\"colorscale\":[[0.0,\"#0d0887\"],[0.1111111111111111,\"#46039f\"],[0.2222222222222222,\"#7201a8\"],[0.3333333333333333,\"#9c179e\"],[0.4444444444444444,\"#bd3786\"],[0.5555555555555556,\"#d8576b\"],[0.6666666666666666,\"#ed7953\"],[0.7777777777777778,\"#fb9f3a\"],[0.8888888888888888,\"#fdca26\"],[1.0,\"#f0f921\"]],\"type\":\"surface\"}],\"table\":[{\"cells\":{\"fill\":{\"color\":\"#EBF0F8\"},\"line\":{\"color\":\"white\"}},\"header\":{\"fill\":{\"color\":\"#C8D4E3\"},\"line\":{\"color\":\"white\"}},\"type\":\"table\"}]},\"layout\":{\"annotationdefaults\":{\"arrowcolor\":\"#2a3f5f\",\"arrowhead\":0,\"arrowwidth\":1},\"autotypenumbers\":\"strict\",\"coloraxis\":{\"colorbar\":{\"outlinewidth\":0,\"ticks\":\"\"}},\"colorscale\":{\"diverging\":[[0,\"#8e0152\"],[0.1,\"#c51b7d\"],[0.2,\"#de77ae\"],[0.3,\"#f1b6da\"],[0.4,\"#fde0ef\"],[0.5,\"#f7f7f7\"],[0.6,\"#e6f5d0\"],[0.7,\"#b8e186\"],[0.8,\"#7fbc41\"],[0.9,\"#4d9221\"],[1,\"#276419\"]],\"sequential\":[[0.0,\"#0d0887\"],[0.1111111111111111,\"#46039f\"],[0.2222222222222222,\"#7201a8\"],[0.3333333333333333,\"#9c179e\"],[0.4444444444444444,\"#bd3786\"],[0.5555555555555556,\"#d8576b\"],[0.6666666666666666,\"#ed7953\"],[0.7777777777777778,\"#fb9f3a\"],[0.8888888888888888,\"#fdca26\"],[1.0,\"#f0f921\"]],\"sequentialminus\":[[0.0,\"#0d0887\"],[0.1111111111111111,\"#46039f\"],[0.2222222222222222,\"#7201a8\"],[0.3333333333333333,\"#9c179e\"],[0.4444444444444444,\"#bd3786\"],[0.5555555555555556,\"#d8576b\"],[0.6666666666666666,\"#ed7953\"],[0.7777777777777778,\"#fb9f3a\"],[0.8888888888888888,\"#fdca26\"],[1.0,\"#f0f921\"]]},\"colorway\":[\"#636efa\",\"#EF553B\",\"#00cc96\",\"#ab63fa\",\"#FFA15A\",\"#19d3f3\",\"#FF6692\",\"#B6E880\",\"#FF97FF\",\"#FECB52\"],\"font\":{\"color\":\"#2a3f5f\"},\"geo\":{\"bgcolor\":\"white\",\"lakecolor\":\"white\",\"landcolor\":\"white\",\"showlakes\":true,\"showland\":true,\"subunitcolor\":\"#C8D4E3\"},\"hoverlabel\":{\"align\":\"left\"},\"hovermode\":\"closest\",\"mapbox\":{\"style\":\"light\"},\"paper_bgcolor\":\"white\",\"plot_bgcolor\":\"white\",\"polar\":{\"angularaxis\":{\"gridcolor\":\"#EBF0F8\",\"linecolor\":\"#EBF0F8\",\"ticks\":\"\"},\"bgcolor\":\"white\",\"radialaxis\":{\"gridcolor\":\"#EBF0F8\",\"linecolor\":\"#EBF0F8\",\"ticks\":\"\"}},\"scene\":{\"xaxis\":{\"backgroundcolor\":\"white\",\"gridcolor\":\"#DFE8F3\",\"gridwidth\":2,\"linecolor\":\"#EBF0F8\",\"showbackground\":true,\"ticks\":\"\",\"zerolinecolor\":\"#EBF0F8\"},\"yaxis\":{\"backgroundcolor\":\"white\",\"gridcolor\":\"#DFE8F3\",\"gridwidth\":2,\"linecolor\":\"#EBF0F8\",\"showbackground\":true,\"ticks\":\"\",\"zerolinecolor\":\"#EBF0F8\"},\"zaxis\":{\"backgroundcolor\":\"white\",\"gridcolor\":\"#DFE8F3\",\"gridwidth\":2,\"linecolor\":\"#EBF0F8\",\"showbackground\":true,\"ticks\":\"\",\"zerolinecolor\":\"#EBF0F8\"}},\"shapedefaults\":{\"line\":{\"color\":\"#2a3f5f\"}},\"ternary\":{\"aaxis\":{\"gridcolor\":\"#DFE8F3\",\"linecolor\":\"#A2B1C6\",\"ticks\":\"\"},\"baxis\":{\"gridcolor\":\"#DFE8F3\",\"linecolor\":\"#A2B1C6\",\"ticks\":\"\"},\"bgcolor\":\"white\",\"caxis\":{\"gridcolor\":\"#DFE8F3\",\"linecolor\":\"#A2B1C6\",\"ticks\":\"\"}},\"title\":{\"x\":0.05},\"xaxis\":{\"automargin\":true,\"gridcolor\":\"#EBF0F8\",\"linecolor\":\"#EBF0F8\",\"ticks\":\"\",\"title\":{\"standoff\":15},\"zerolinecolor\":\"#EBF0F8\",\"zerolinewidth\":2},\"yaxis\":{\"automargin\":true,\"gridcolor\":\"#EBF0F8\",\"linecolor\":\"#EBF0F8\",\"ticks\":\"\",\"title\":{\"standoff\":15},\"zerolinecolor\":\"#EBF0F8\",\"zerolinewidth\":2}}},\"xaxis\":{\"anchor\":\"y\",\"domain\":[0.0,0.175],\"showgrid\":true},\"yaxis\":{\"anchor\":\"x\",\"domain\":[0.9061224489795918,1.0],\"showgrid\":true},\"xaxis2\":{\"anchor\":\"y2\",\"domain\":[0.275,0.45],\"showgrid\":true},\"yaxis2\":{\"anchor\":\"x2\",\"domain\":[0.9061224489795918,1.0],\"showgrid\":true},\"xaxis3\":{\"anchor\":\"y3\",\"domain\":[0.55,0.7250000000000001],\"showgrid\":true},\"yaxis3\":{\"anchor\":\"x3\",\"domain\":[0.9061224489795918,1.0],\"showgrid\":true},\"xaxis4\":{\"anchor\":\"y4\",\"domain\":[0.825,1.0],\"showgrid\":true},\"yaxis4\":{\"anchor\":\"x4\",\"domain\":[0.9061224489795918,1.0],\"showgrid\":true},\"xaxis5\":{\"anchor\":\"y5\",\"domain\":[0.0,0.175],\"showgrid\":true},\"yaxis5\":{\"anchor\":\"x5\",\"domain\":[0.7551020408163266,0.8489795918367348],\"showgrid\":true},\"xaxis6\":{\"anchor\":\"y6\",\"domain\":[0.275,0.45],\"showgrid\":true},\"yaxis6\":{\"anchor\":\"x6\",\"domain\":[0.7551020408163266,0.8489795918367348],\"showgrid\":true},\"xaxis7\":{\"anchor\":\"y7\",\"domain\":[0.55,0.7250000000000001],\"showgrid\":true},\"yaxis7\":{\"anchor\":\"x7\",\"domain\":[0.7551020408163266,0.8489795918367348],\"showgrid\":true},\"xaxis8\":{\"anchor\":\"y8\",\"domain\":[0.825,1.0],\"showgrid\":true},\"yaxis8\":{\"anchor\":\"x8\",\"domain\":[0.7551020408163266,0.8489795918367348],\"showgrid\":true},\"xaxis9\":{\"anchor\":\"y9\",\"domain\":[0.0,0.175],\"showgrid\":true},\"yaxis9\":{\"anchor\":\"x9\",\"domain\":[0.6040816326530613,0.6979591836734694],\"showgrid\":true},\"xaxis10\":{\"anchor\":\"y10\",\"domain\":[0.275,0.45],\"showgrid\":true},\"yaxis10\":{\"anchor\":\"x10\",\"domain\":[0.6040816326530613,0.6979591836734694],\"showgrid\":true},\"xaxis11\":{\"anchor\":\"y11\",\"domain\":[0.55,0.7250000000000001],\"showgrid\":true},\"yaxis11\":{\"anchor\":\"x11\",\"domain\":[0.6040816326530613,0.6979591836734694],\"showgrid\":true},\"xaxis12\":{\"anchor\":\"y12\",\"domain\":[0.825,1.0],\"showgrid\":true},\"yaxis12\":{\"anchor\":\"x12\",\"domain\":[0.6040816326530613,0.6979591836734694],\"showgrid\":true},\"xaxis13\":{\"anchor\":\"y13\",\"domain\":[0.0,0.175],\"showgrid\":true},\"yaxis13\":{\"anchor\":\"x13\",\"domain\":[0.4530612244897959,0.5469387755102041],\"showgrid\":true},\"xaxis14\":{\"anchor\":\"y14\",\"domain\":[0.275,0.45],\"showgrid\":true},\"yaxis14\":{\"anchor\":\"x14\",\"domain\":[0.4530612244897959,0.5469387755102041],\"showgrid\":true},\"xaxis15\":{\"anchor\":\"y15\",\"domain\":[0.55,0.7250000000000001],\"showgrid\":true},\"yaxis15\":{\"anchor\":\"x15\",\"domain\":[0.4530612244897959,0.5469387755102041],\"showgrid\":true},\"xaxis16\":{\"anchor\":\"y16\",\"domain\":[0.825,1.0],\"showgrid\":true},\"yaxis16\":{\"anchor\":\"x16\",\"domain\":[0.4530612244897959,0.5469387755102041],\"showgrid\":true},\"xaxis17\":{\"anchor\":\"y17\",\"domain\":[0.0,0.175],\"showgrid\":true},\"yaxis17\":{\"anchor\":\"x17\",\"domain\":[0.3020408163265306,0.3959183673469388],\"showgrid\":true},\"xaxis18\":{\"anchor\":\"y18\",\"domain\":[0.275,0.45],\"showgrid\":true},\"yaxis18\":{\"anchor\":\"x18\",\"domain\":[0.3020408163265306,0.3959183673469388],\"showgrid\":true},\"xaxis19\":{\"anchor\":\"y19\",\"domain\":[0.55,0.7250000000000001],\"showgrid\":true},\"yaxis19\":{\"anchor\":\"x19\",\"domain\":[0.3020408163265306,0.3959183673469388],\"showgrid\":true},\"xaxis20\":{\"anchor\":\"y20\",\"domain\":[0.825,1.0],\"showgrid\":true},\"yaxis20\":{\"anchor\":\"x20\",\"domain\":[0.3020408163265306,0.3959183673469388],\"showgrid\":true},\"xaxis21\":{\"anchor\":\"y21\",\"domain\":[0.0,0.175],\"showgrid\":true},\"yaxis21\":{\"anchor\":\"x21\",\"domain\":[0.1510204081632653,0.24489795918367346],\"showgrid\":true},\"xaxis22\":{\"anchor\":\"y22\",\"domain\":[0.275,0.45],\"showgrid\":true},\"yaxis22\":{\"anchor\":\"x22\",\"domain\":[0.1510204081632653,0.24489795918367346],\"showgrid\":true},\"xaxis23\":{\"anchor\":\"y23\",\"domain\":[0.55,0.7250000000000001],\"showgrid\":true},\"yaxis23\":{\"anchor\":\"x23\",\"domain\":[0.1510204081632653,0.24489795918367346],\"showgrid\":true},\"xaxis24\":{\"anchor\":\"y24\",\"domain\":[0.825,1.0],\"showgrid\":true},\"yaxis24\":{\"anchor\":\"x24\",\"domain\":[0.1510204081632653,0.24489795918367346],\"showgrid\":true},\"xaxis25\":{\"anchor\":\"y25\",\"domain\":[0.0,0.175],\"showgrid\":true},\"yaxis25\":{\"anchor\":\"x25\",\"domain\":[0.0,0.09387755102040816],\"showgrid\":true},\"xaxis26\":{\"anchor\":\"y26\",\"domain\":[0.275,0.45],\"showgrid\":true},\"yaxis26\":{\"anchor\":\"x26\",\"domain\":[0.0,0.09387755102040816],\"showgrid\":true},\"xaxis27\":{\"anchor\":\"y27\",\"domain\":[0.55,0.7250000000000001],\"showgrid\":true},\"yaxis27\":{\"anchor\":\"x27\",\"domain\":[0.0,0.09387755102040816],\"showgrid\":true},\"xaxis28\":{\"anchor\":\"y28\",\"domain\":[0.825,1.0],\"showgrid\":true},\"yaxis28\":{\"anchor\":\"x28\",\"domain\":[0.0,0.09387755102040816],\"showgrid\":true},\"annotations\":[{\"font\":{\"size\":16},\"showarrow\":false,\"text\":\"Topic 0\",\"x\":0.0875,\"xanchor\":\"center\",\"xref\":\"paper\",\"y\":1.0,\"yanchor\":\"bottom\",\"yref\":\"paper\"},{\"font\":{\"size\":16},\"showarrow\":false,\"text\":\"Topic 1\",\"x\":0.36250000000000004,\"xanchor\":\"center\",\"xref\":\"paper\",\"y\":1.0,\"yanchor\":\"bottom\",\"yref\":\"paper\"},{\"font\":{\"size\":16},\"showarrow\":false,\"text\":\"Topic 2\",\"x\":0.6375000000000001,\"xanchor\":\"center\",\"xref\":\"paper\",\"y\":1.0,\"yanchor\":\"bottom\",\"yref\":\"paper\"},{\"font\":{\"size\":16},\"showarrow\":false,\"text\":\"Topic 3\",\"x\":0.9125,\"xanchor\":\"center\",\"xref\":\"paper\",\"y\":1.0,\"yanchor\":\"bottom\",\"yref\":\"paper\"},{\"font\":{\"size\":16},\"showarrow\":false,\"text\":\"Topic 4\",\"x\":0.0875,\"xanchor\":\"center\",\"xref\":\"paper\",\"y\":0.8489795918367348,\"yanchor\":\"bottom\",\"yref\":\"paper\"},{\"font\":{\"size\":16},\"showarrow\":false,\"text\":\"Topic 5\",\"x\":0.36250000000000004,\"xanchor\":\"center\",\"xref\":\"paper\",\"y\":0.8489795918367348,\"yanchor\":\"bottom\",\"yref\":\"paper\"},{\"font\":{\"size\":16},\"showarrow\":false,\"text\":\"Topic 6\",\"x\":0.6375000000000001,\"xanchor\":\"center\",\"xref\":\"paper\",\"y\":0.8489795918367348,\"yanchor\":\"bottom\",\"yref\":\"paper\"},{\"font\":{\"size\":16},\"showarrow\":false,\"text\":\"Topic 7\",\"x\":0.9125,\"xanchor\":\"center\",\"xref\":\"paper\",\"y\":0.8489795918367348,\"yanchor\":\"bottom\",\"yref\":\"paper\"},{\"font\":{\"size\":16},\"showarrow\":false,\"text\":\"Topic 8\",\"x\":0.0875,\"xanchor\":\"center\",\"xref\":\"paper\",\"y\":0.6979591836734694,\"yanchor\":\"bottom\",\"yref\":\"paper\"},{\"font\":{\"size\":16},\"showarrow\":false,\"text\":\"Topic 9\",\"x\":0.36250000000000004,\"xanchor\":\"center\",\"xref\":\"paper\",\"y\":0.6979591836734694,\"yanchor\":\"bottom\",\"yref\":\"paper\"},{\"font\":{\"size\":16},\"showarrow\":false,\"text\":\"Topic 10\",\"x\":0.6375000000000001,\"xanchor\":\"center\",\"xref\":\"paper\",\"y\":0.6979591836734694,\"yanchor\":\"bottom\",\"yref\":\"paper\"},{\"font\":{\"size\":16},\"showarrow\":false,\"text\":\"Topic 11\",\"x\":0.9125,\"xanchor\":\"center\",\"xref\":\"paper\",\"y\":0.6979591836734694,\"yanchor\":\"bottom\",\"yref\":\"paper\"},{\"font\":{\"size\":16},\"showarrow\":false,\"text\":\"Topic 12\",\"x\":0.0875,\"xanchor\":\"center\",\"xref\":\"paper\",\"y\":0.5469387755102041,\"yanchor\":\"bottom\",\"yref\":\"paper\"},{\"font\":{\"size\":16},\"showarrow\":false,\"text\":\"Topic 13\",\"x\":0.36250000000000004,\"xanchor\":\"center\",\"xref\":\"paper\",\"y\":0.5469387755102041,\"yanchor\":\"bottom\",\"yref\":\"paper\"},{\"font\":{\"size\":16},\"showarrow\":false,\"text\":\"Topic 14\",\"x\":0.6375000000000001,\"xanchor\":\"center\",\"xref\":\"paper\",\"y\":0.5469387755102041,\"yanchor\":\"bottom\",\"yref\":\"paper\"},{\"font\":{\"size\":16},\"showarrow\":false,\"text\":\"Topic 15\",\"x\":0.9125,\"xanchor\":\"center\",\"xref\":\"paper\",\"y\":0.5469387755102041,\"yanchor\":\"bottom\",\"yref\":\"paper\"},{\"font\":{\"size\":16},\"showarrow\":false,\"text\":\"Topic 16\",\"x\":0.0875,\"xanchor\":\"center\",\"xref\":\"paper\",\"y\":0.3959183673469388,\"yanchor\":\"bottom\",\"yref\":\"paper\"},{\"font\":{\"size\":16},\"showarrow\":false,\"text\":\"Topic 17\",\"x\":0.36250000000000004,\"xanchor\":\"center\",\"xref\":\"paper\",\"y\":0.3959183673469388,\"yanchor\":\"bottom\",\"yref\":\"paper\"},{\"font\":{\"size\":16},\"showarrow\":false,\"text\":\"Topic 18\",\"x\":0.6375000000000001,\"xanchor\":\"center\",\"xref\":\"paper\",\"y\":0.3959183673469388,\"yanchor\":\"bottom\",\"yref\":\"paper\"},{\"font\":{\"size\":16},\"showarrow\":false,\"text\":\"Topic 19\",\"x\":0.9125,\"xanchor\":\"center\",\"xref\":\"paper\",\"y\":0.3959183673469388,\"yanchor\":\"bottom\",\"yref\":\"paper\"},{\"font\":{\"size\":16},\"showarrow\":false,\"text\":\"Topic 20\",\"x\":0.0875,\"xanchor\":\"center\",\"xref\":\"paper\",\"y\":0.24489795918367346,\"yanchor\":\"bottom\",\"yref\":\"paper\"},{\"font\":{\"size\":16},\"showarrow\":false,\"text\":\"Topic 21\",\"x\":0.36250000000000004,\"xanchor\":\"center\",\"xref\":\"paper\",\"y\":0.24489795918367346,\"yanchor\":\"bottom\",\"yref\":\"paper\"},{\"font\":{\"size\":16},\"showarrow\":false,\"text\":\"Topic 22\",\"x\":0.6375000000000001,\"xanchor\":\"center\",\"xref\":\"paper\",\"y\":0.24489795918367346,\"yanchor\":\"bottom\",\"yref\":\"paper\"},{\"font\":{\"size\":16},\"showarrow\":false,\"text\":\"Topic 23\",\"x\":0.9125,\"xanchor\":\"center\",\"xref\":\"paper\",\"y\":0.24489795918367346,\"yanchor\":\"bottom\",\"yref\":\"paper\"},{\"font\":{\"size\":16},\"showarrow\":false,\"text\":\"Topic 24\",\"x\":0.0875,\"xanchor\":\"center\",\"xref\":\"paper\",\"y\":0.09387755102040816,\"yanchor\":\"bottom\",\"yref\":\"paper\"}],\"title\":{\"font\":{\"size\":22,\"color\":\"Black\"},\"text\":\"<b>Topic Word Scores\",\"x\":0.5,\"xanchor\":\"center\",\"yanchor\":\"top\"},\"hoverlabel\":{\"font\":{\"size\":16,\"family\":\"Rockwell\"},\"bgcolor\":\"white\"},\"showlegend\":false,\"width\":1000,\"height\":2100},                        {\"responsive\": true}                    ).then(function(){\n",
              "                            \n",
              "var gd = document.getElementById('0fd59d4a-a525-418d-aec7-9b3e86ed2454');\n",
              "var x = new MutationObserver(function (mutations, observer) {{\n",
              "        var display = window.getComputedStyle(gd).display;\n",
              "        if (!display || display === 'none') {{\n",
              "            console.log([gd, 'removed!']);\n",
              "            Plotly.purge(gd);\n",
              "            observer.disconnect();\n",
              "        }}\n",
              "}});\n",
              "\n",
              "// Listen for the removal of the full notebook cells\n",
              "var notebookContainer = gd.closest('#notebook-container');\n",
              "if (notebookContainer) {{\n",
              "    x.observe(notebookContainer, {childList: true});\n",
              "}}\n",
              "\n",
              "// Listen for the clearing of the current output cell\n",
              "var outputEl = gd.closest('.output');\n",
              "if (outputEl) {{\n",
              "    x.observe(outputEl, {childList: true});\n",
              "}}\n",
              "\n",
              "                        })                };                            </script>        </div>\n",
              "</body>\n",
              "</html>"
            ]
          },
          "metadata": {}
        }
      ]
    },
    {
      "cell_type": "markdown",
      "source": [
        "If you want to see the complaints (reviews) wrt to the topic"
      ],
      "metadata": {
        "id": "n2aTKohzSsPD"
      }
    },
    {
      "cell_type": "code",
      "source": [
        "df_tpc = pd.DataFrame({'topic': topics, 'document': corpus})"
      ],
      "metadata": {
        "id": "p_9DaadbMwUB"
      },
      "execution_count": 272,
      "outputs": []
    },
    {
      "cell_type": "code",
      "source": [
        "df_tpc[df_tpc['topic']==15].document"
      ],
      "metadata": {
        "id": "gjtMf-u7M_2X",
        "colab": {
          "base_uri": "https://localhost:8080/"
        },
        "outputId": "015d9eba-d70a-43e5-bb80-d7b13f8943fc"
      },
      "execution_count": 274,
      "outputs": [
        {
          "output_type": "execute_result",
          "data": {
            "text/plain": [
              "29                                                                                                                                                                                                                                                                                                                                                                                                          guy no tissue no spoon chil flack\n",
              "160                                                                                                                                                                                                                                                                                                                                                                                                     short staff cleanliness not well look\n",
              "331                                                                                                                                                                                                                                                                                                                                                                                                                               rude behave\n",
              "560                                                                                                                                                                                                                                                                                                                                                                                                             dont know find staff arrogant\n",
              "586                                                                                                                                                                                                                                                                                                                                                                                                         idiot staff no manner talk behave\n",
              "588                                                                                                                                                                                                                                                                                                                                                                                              shameless call centre guy no manners abusive\n",
              "624                                                                                                                                                                                                                                                                   wish could give lower rat suck bad manager bad behaviour unprofessional staff no sense talk give wrong food say come show outlet complain cut phone right face bad food\n",
              "813                                                                                                                                                                                                                                                                                                                                                                                                             table use messy staff okayish\n",
              "822     officials not enough number interact customers although person cater everyones need counter observe officials busy chat phone pizza take minutes arrive order place reach respective table home delivery time dicey sometimes come soon otherwise take long tkme also less no table place crowd one often wait someone else finish food leave occupy table officials casual approach interact customers little seriousness appreciate\n",
              "824                                                                                                                                                                                                                                                                                                                                                      careless staff spend ask little help water front desk deny go look least glass water\n",
              "825                                                                                                                                                                                                                                                                                                                                                      careless staff spend ask little help water front desk deny go look least glass water\n",
              "843                                                                                                                                                                                                                                                                                                                                                                                       customer service bad speak customer attitude rudely\n",
              "844                                                                                                                                                                                                                                                                                                                                                                                       customer service bad speak customer attitude rudely\n",
              "901                                                                                                                                                                                              worst staff ever not first time visit outlet every time get rude behaviour counter girlthis time know name poonam thakur time didnt even get oregano chilli flake sachet didnt even get delivery no feedback link message totally spoil mood\n",
              "908                                                                                                                                                                                                                                                                                                                                                                                                                      staff unprofessional\n",
              "910                                                                                                                                                                                                                                                                                                                                                                                                                                staff slow\n",
              "940                                                                                                                                                                                                                                          nice term taste staff professional quick thing didnt like place theres much noise people talk loudly music play staff take order communicate close env like chaos need struggle hear order ready\n",
              "944                                                                                                                                                                                                                                                                                                                                                                                                    crowd staff doesnt take customer quick\n",
              "957                                                                                                                                                                                                                                                                                                                                                                                                                       non attentive staff\n",
              "964                                                                                                                                                                                                                                                                                                                                                                                    kind attitude rgm dont know pathetic get position fire\n",
              "1106                                                                                                                                                                                                                                                                                                                                                                                                    extremely bad experience manager rude\n",
              "1183                                                                                                                                                                                                                                                                                                                                                                                                                               rude staff\n",
              "Name: document, dtype: object"
            ]
          },
          "metadata": {},
          "execution_count": 274
        }
      ]
    }
  ]
}